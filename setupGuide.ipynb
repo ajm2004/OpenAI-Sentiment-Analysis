{
 "cells": [
  {
   "cell_type": "markdown",
   "metadata": {},
   "source": [
    "# Setup Guide"
   ]
  },
  {
   "cell_type": "markdown",
   "metadata": {},
   "source": [
    "## Required Libraries"
   ]
  },
  {
   "cell_type": "markdown",
   "metadata": {},
   "source": [
    "### The code depends on the following libraries:\n",
    "\n",
    "1. asyncpraw: For interacting with Reddit's API asynchronously.\n",
    "2. dotenv: For managing environment variables securely.\n",
    "3. csv: For saving data in CSV format (comes with Python).\n",
    "4. json: For saving hierarchical data in JSON format (comes with Python).\n",
    "5. os: For managing folders and files (comes with Python).\n",
    "6. tkinter: For building the GUI (comes with Python).\n",
    "7. Run the following command to install the required libraries:"
   ]
  },
  {
   "cell_type": "code",
   "execution_count": null,
   "metadata": {},
   "outputs": [],
   "source": [
    "%pip install asyncpraw python-dotenv "
   ]
  },
  {
   "cell_type": "markdown",
   "metadata": {},
   "source": [
    "## Running the Application\n",
    "\n",
    "1. Open a terminal or command prompt.\n",
    "2. Navigate to the directory containing \"fetchPostComments.py\"\n",
    "3. python3 fetchPostComments.py\n",
    "4. A GUI will appear asking for:\n",
    "    - Subreddit Name: Enter the subreddit you want to fetch posts from.\n",
    "    - Number of Posts: Specify the number of posts to fetch.\n",
    "    - Sort By: Select the sorting option (e.g., \"Top (All Time)\", \"Hot\").\n",
    "5. Click Fetch Posts to start fetching data."
   ]
  },
  {
   "cell_type": "markdown",
   "metadata": {},
   "source": [
    "## fetchPostComment Output"
   ]
  },
  {
   "cell_type": "code",
   "execution_count": null,
   "metadata": {},
   "outputs": [],
   "source": [
    "/reddit_data_dubai/\n",
    "  ├── dubai_posts.csv          # All post details in CSV\n",
    "  ├── dubai_posts.json         # All post details in JSON\n",
    "  ├── <post_id>/               # Folder for each post\n",
    "      ├── comments.csv         # Comments for this post in CSV\n",
    "      ├── post.json            # Post details and comments in JSON"
   ]
  }
 ],
 "metadata": {
  "kernelspec": {
   "display_name": "Python 3",
   "language": "python",
   "name": "python3"
  },
  "language_info": {
   "name": "python",
   "version": "3.12.8"
  }
 },
 "nbformat": 4,
 "nbformat_minor": 2
}
