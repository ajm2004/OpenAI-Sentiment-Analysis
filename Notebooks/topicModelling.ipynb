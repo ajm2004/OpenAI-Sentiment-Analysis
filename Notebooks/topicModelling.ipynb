{
 "cells": [
  {
   "cell_type": "code",
   "execution_count": null,
   "metadata": {
    "colab": {
     "base_uri": "https://localhost:8080/"
    },
    "executionInfo": {
     "elapsed": 5590,
     "status": "ok",
     "timestamp": 1739954490904,
     "user": {
      "displayName": "Anson George",
      "userId": "15855563631802224888"
     },
     "user_tz": -240
    },
    "id": "AQ8oJGrxTB7o",
    "outputId": "8fb50a67-1ebd-4f1e-febd-f5f927bbad18"
   },
   "outputs": [
    {
     "name": "stdout",
     "output_type": "stream",
     "text": [
      "Requirement already satisfied: contractions in /usr/local/lib/python3.11/dist-packages (0.1.73)\n",
      "Requirement already satisfied: textsearch>=0.0.21 in /usr/local/lib/python3.11/dist-packages (from contractions) (0.0.24)\n",
      "Requirement already satisfied: anyascii in /usr/local/lib/python3.11/dist-packages (from textsearch>=0.0.21->contractions) (0.3.2)\n",
      "Requirement already satisfied: pyahocorasick in /usr/local/lib/python3.11/dist-packages (from textsearch>=0.0.21->contractions) (2.1.0)\n",
      "Requirement already satisfied: emoji in /usr/local/lib/python3.11/dist-packages (2.14.1)\n",
      "Requirement already satisfied: mglearn in /usr/local/lib/python3.11/dist-packages (0.2.0)\n",
      "Requirement already satisfied: numpy in /usr/local/lib/python3.11/dist-packages (from mglearn) (1.26.4)\n",
      "Requirement already satisfied: matplotlib in /usr/local/lib/python3.11/dist-packages (from mglearn) (3.10.0)\n",
      "Requirement already satisfied: scikit-learn in /usr/local/lib/python3.11/dist-packages (from mglearn) (1.6.1)\n",
      "Requirement already satisfied: pandas in /usr/local/lib/python3.11/dist-packages (from mglearn) (2.2.2)\n",
      "Requirement already satisfied: pillow in /usr/local/lib/python3.11/dist-packages (from mglearn) (11.1.0)\n",
      "Requirement already satisfied: cycler in /usr/local/lib/python3.11/dist-packages (from mglearn) (0.12.1)\n",
      "Requirement already satisfied: imageio in /usr/local/lib/python3.11/dist-packages (from mglearn) (2.37.0)\n",
      "Requirement already satisfied: joblib in /usr/local/lib/python3.11/dist-packages (from mglearn) (1.4.2)\n",
      "Requirement already satisfied: contourpy>=1.0.1 in /usr/local/lib/python3.11/dist-packages (from matplotlib->mglearn) (1.3.1)\n",
      "Requirement already satisfied: fonttools>=4.22.0 in /usr/local/lib/python3.11/dist-packages (from matplotlib->mglearn) (4.56.0)\n",
      "Requirement already satisfied: kiwisolver>=1.3.1 in /usr/local/lib/python3.11/dist-packages (from matplotlib->mglearn) (1.4.8)\n",
      "Requirement already satisfied: packaging>=20.0 in /usr/local/lib/python3.11/dist-packages (from matplotlib->mglearn) (24.2)\n",
      "Requirement already satisfied: pyparsing>=2.3.1 in /usr/local/lib/python3.11/dist-packages (from matplotlib->mglearn) (3.2.1)\n",
      "Requirement already satisfied: python-dateutil>=2.7 in /usr/local/lib/python3.11/dist-packages (from matplotlib->mglearn) (2.9.0.post0)\n",
      "Requirement already satisfied: pytz>=2020.1 in /usr/local/lib/python3.11/dist-packages (from pandas->mglearn) (2025.1)\n",
      "Requirement already satisfied: tzdata>=2022.7 in /usr/local/lib/python3.11/dist-packages (from pandas->mglearn) (2025.1)\n",
      "Requirement already satisfied: scipy>=1.6.0 in /usr/local/lib/python3.11/dist-packages (from scikit-learn->mglearn) (1.13.1)\n",
      "Requirement already satisfied: threadpoolctl>=3.1.0 in /usr/local/lib/python3.11/dist-packages (from scikit-learn->mglearn) (3.5.0)\n",
      "Requirement already satisfied: six>=1.5 in /usr/local/lib/python3.11/dist-packages (from python-dateutil>=2.7->matplotlib->mglearn) (1.17.0)\n",
      "Requirement already satisfied: pyLDAvis in /usr/local/lib/python3.11/dist-packages (3.4.1)\n",
      "Requirement already satisfied: numpy>=1.24.2 in /usr/local/lib/python3.11/dist-packages (from pyLDAvis) (1.26.4)\n",
      "Requirement already satisfied: scipy in /usr/local/lib/python3.11/dist-packages (from pyLDAvis) (1.13.1)\n",
      "Requirement already satisfied: pandas>=2.0.0 in /usr/local/lib/python3.11/dist-packages (from pyLDAvis) (2.2.2)\n",
      "Requirement already satisfied: joblib>=1.2.0 in /usr/local/lib/python3.11/dist-packages (from pyLDAvis) (1.4.2)\n",
      "Requirement already satisfied: jinja2 in /usr/local/lib/python3.11/dist-packages (from pyLDAvis) (3.1.5)\n",
      "Requirement already satisfied: numexpr in /usr/local/lib/python3.11/dist-packages (from pyLDAvis) (2.10.2)\n",
      "Requirement already satisfied: funcy in /usr/local/lib/python3.11/dist-packages (from pyLDAvis) (2.0)\n",
      "Requirement already satisfied: scikit-learn>=1.0.0 in /usr/local/lib/python3.11/dist-packages (from pyLDAvis) (1.6.1)\n",
      "Requirement already satisfied: gensim in /usr/local/lib/python3.11/dist-packages (from pyLDAvis) (4.3.3)\n",
      "Requirement already satisfied: setuptools in /usr/local/lib/python3.11/dist-packages (from pyLDAvis) (75.1.0)\n",
      "Requirement already satisfied: python-dateutil>=2.8.2 in /usr/local/lib/python3.11/dist-packages (from pandas>=2.0.0->pyLDAvis) (2.9.0.post0)\n",
      "Requirement already satisfied: pytz>=2020.1 in /usr/local/lib/python3.11/dist-packages (from pandas>=2.0.0->pyLDAvis) (2025.1)\n",
      "Requirement already satisfied: tzdata>=2022.7 in /usr/local/lib/python3.11/dist-packages (from pandas>=2.0.0->pyLDAvis) (2025.1)\n",
      "Requirement already satisfied: threadpoolctl>=3.1.0 in /usr/local/lib/python3.11/dist-packages (from scikit-learn>=1.0.0->pyLDAvis) (3.5.0)\n",
      "Requirement already satisfied: smart-open>=1.8.1 in /usr/local/lib/python3.11/dist-packages (from gensim->pyLDAvis) (7.1.0)\n",
      "Requirement already satisfied: MarkupSafe>=2.0 in /usr/local/lib/python3.11/dist-packages (from jinja2->pyLDAvis) (3.0.2)\n",
      "Requirement already satisfied: six>=1.5 in /usr/local/lib/python3.11/dist-packages (from python-dateutil>=2.8.2->pandas>=2.0.0->pyLDAvis) (1.17.0)\n",
      "Requirement already satisfied: wrapt in /usr/local/lib/python3.11/dist-packages (from smart-open>=1.8.1->gensim->pyLDAvis) (1.17.2)\n"
     ]
    }
   ],
   "source": [
    "%pip install contractions\n",
    "%pip install emoji\n",
    "%pip install mglearn\n",
    "%matplotlib inline\n",
    "%pip install pyLDAvis"
   ]
  },
  {
   "cell_type": "code",
   "execution_count": null,
   "metadata": {
    "id": "R3lMftVLSmy_"
   },
   "outputs": [],
   "source": [
    "import pandas as pd\n",
    "# !pip install --upgrade pandas==1.5.3\n",
    "import numpy as np\n",
    "from sklearn.base import BaseEstimator, TransformerMixin\n",
    "import re\n",
    "import string\n",
    "import contractions\n",
    "import emoji\n",
    "from sklearn.feature_extraction.text import CountVectorizer\n",
    "from sklearn.decomposition import LatentDirichletAllocation\n",
    "from sklearn.decomposition import TruncatedSVD\n",
    "from sklearn.decomposition import NMF\n",
    "import mglearn as mglearn\n",
    "import matplotlib as plt\n",
    "from __future__ import print_function\n",
    "import pyLDAvis\n",
    "import pyLDAvis.lda_model\n",
    "pyLDAvis.enable_notebook()"
   ]
  },
  {
   "cell_type": "markdown",
   "metadata": {
    "id": "Svy-IpLAZs-m"
   },
   "source": [
    "### Loading Data"
   ]
  },
  {
   "cell_type": "code",
   "execution_count": null,
   "metadata": {
    "colab": {
     "base_uri": "https://localhost:8080/",
     "height": 206
    },
    "executionInfo": {
     "elapsed": 135,
     "status": "ok",
     "timestamp": 1739954492105,
     "user": {
      "displayName": "Anson George",
      "userId": "15855563631802224888"
     },
     "user_tz": -240
    },
    "id": "Sir9aTV8QI2r",
    "outputId": "143a3ddd-46a9-49e2-aa9f-63d76a3b3fae"
   },
   "outputs": [
    {
     "data": {
      "application/vnd.google.colaboratory.intrinsic+json": {
       "summary": "{\n  \"name\": \"df\",\n  \"rows\": 5543,\n  \"fields\": [\n    {\n      \"column\": \"text\",\n      \"properties\": {\n        \"dtype\": \"string\",\n        \"num_unique_values\": 5543,\n        \"samples\": [\n          \"Microsoft introduces AI-powered cyber security assistant \",\n          \"I implemented Azure OpenAI in one of my projects.  Left: OpenAI, 45 seconds   Right: Azure OpenAI, 20 seconds \\ud83d\\udd25\",\n          \"Oh no, the pace of advancement is so rapid that if there are months between announcement and release the product is old news. Guess it's all empty hype!  > Will o3 be available to the public for free or at a reasonable price, or will it end up being another exclusive tool for corporations or the highest bidder and locked away behind a pricy paywalls?  No, the cutting edge model will not be available to the public for free. Yes, there will be versions available at a reasonable price with most of the performance of the top tier version running flat out.\"\n        ],\n        \"semantic_type\": \"\",\n        \"description\": \"\"\n      }\n    },\n    {\n      \"column\": \"label\",\n      \"properties\": {\n        \"dtype\": \"number\",\n        \"std\": 0,\n        \"min\": -1,\n        \"max\": 1,\n        \"num_unique_values\": 3,\n        \"samples\": [\n          0,\n          -1,\n          1\n        ],\n        \"semantic_type\": \"\",\n        \"description\": \"\"\n      }\n    }\n  ]\n}",
       "type": "dataframe",
       "variable_name": "df"
      },
      "text/html": [
       "\n",
       "  <div id=\"df-561458ef-d80c-4001-a4b0-3e773b76a836\" class=\"colab-df-container\">\n",
       "    <div>\n",
       "<style scoped>\n",
       "    .dataframe tbody tr th:only-of-type {\n",
       "        vertical-align: middle;\n",
       "    }\n",
       "\n",
       "    .dataframe tbody tr th {\n",
       "        vertical-align: top;\n",
       "    }\n",
       "\n",
       "    .dataframe thead th {\n",
       "        text-align: right;\n",
       "    }\n",
       "</style>\n",
       "<table border=\"1\" class=\"dataframe\">\n",
       "  <thead>\n",
       "    <tr style=\"text-align: right;\">\n",
       "      <th></th>\n",
       "      <th>text</th>\n",
       "      <th>label</th>\n",
       "    </tr>\n",
       "  </thead>\n",
       "  <tbody>\n",
       "    <tr>\n",
       "      <th>0</th>\n",
       "      <td>naw dude if anything that gives you a solid co...</td>\n",
       "      <td>0</td>\n",
       "    </tr>\n",
       "    <tr>\n",
       "      <th>1</th>\n",
       "      <td>OpenAI’s employees must be seriously regrettin...</td>\n",
       "      <td>-1</td>\n",
       "    </tr>\n",
       "    <tr>\n",
       "      <th>2</th>\n",
       "      <td>Opinions: What AI product lived up to the hype...</td>\n",
       "      <td>0</td>\n",
       "    </tr>\n",
       "    <tr>\n",
       "      <th>3</th>\n",
       "      <td>You don’t need OpenAI to do this, in fact I’d ...</td>\n",
       "      <td>-1</td>\n",
       "    </tr>\n",
       "    <tr>\n",
       "      <th>4</th>\n",
       "      <td>So for some reason I can't respond to any of t...</td>\n",
       "      <td>-1</td>\n",
       "    </tr>\n",
       "  </tbody>\n",
       "</table>\n",
       "</div>\n",
       "    <div class=\"colab-df-buttons\">\n",
       "\n",
       "  <div class=\"colab-df-container\">\n",
       "    <button class=\"colab-df-convert\" onclick=\"convertToInteractive('df-561458ef-d80c-4001-a4b0-3e773b76a836')\"\n",
       "            title=\"Convert this dataframe to an interactive table.\"\n",
       "            style=\"display:none;\">\n",
       "\n",
       "  <svg xmlns=\"http://www.w3.org/2000/svg\" height=\"24px\" viewBox=\"0 -960 960 960\">\n",
       "    <path d=\"M120-120v-720h720v720H120Zm60-500h600v-160H180v160Zm220 220h160v-160H400v160Zm0 220h160v-160H400v160ZM180-400h160v-160H180v160Zm440 0h160v-160H620v160ZM180-180h160v-160H180v160Zm440 0h160v-160H620v160Z\"/>\n",
       "  </svg>\n",
       "    </button>\n",
       "\n",
       "  <style>\n",
       "    .colab-df-container {\n",
       "      display:flex;\n",
       "      gap: 12px;\n",
       "    }\n",
       "\n",
       "    .colab-df-convert {\n",
       "      background-color: #E8F0FE;\n",
       "      border: none;\n",
       "      border-radius: 50%;\n",
       "      cursor: pointer;\n",
       "      display: none;\n",
       "      fill: #1967D2;\n",
       "      height: 32px;\n",
       "      padding: 0 0 0 0;\n",
       "      width: 32px;\n",
       "    }\n",
       "\n",
       "    .colab-df-convert:hover {\n",
       "      background-color: #E2EBFA;\n",
       "      box-shadow: 0px 1px 2px rgba(60, 64, 67, 0.3), 0px 1px 3px 1px rgba(60, 64, 67, 0.15);\n",
       "      fill: #174EA6;\n",
       "    }\n",
       "\n",
       "    .colab-df-buttons div {\n",
       "      margin-bottom: 4px;\n",
       "    }\n",
       "\n",
       "    [theme=dark] .colab-df-convert {\n",
       "      background-color: #3B4455;\n",
       "      fill: #D2E3FC;\n",
       "    }\n",
       "\n",
       "    [theme=dark] .colab-df-convert:hover {\n",
       "      background-color: #434B5C;\n",
       "      box-shadow: 0px 1px 3px 1px rgba(0, 0, 0, 0.15);\n",
       "      filter: drop-shadow(0px 1px 2px rgba(0, 0, 0, 0.3));\n",
       "      fill: #FFFFFF;\n",
       "    }\n",
       "  </style>\n",
       "\n",
       "    <script>\n",
       "      const buttonEl =\n",
       "        document.querySelector('#df-561458ef-d80c-4001-a4b0-3e773b76a836 button.colab-df-convert');\n",
       "      buttonEl.style.display =\n",
       "        google.colab.kernel.accessAllowed ? 'block' : 'none';\n",
       "\n",
       "      async function convertToInteractive(key) {\n",
       "        const element = document.querySelector('#df-561458ef-d80c-4001-a4b0-3e773b76a836');\n",
       "        const dataTable =\n",
       "          await google.colab.kernel.invokeFunction('convertToInteractive',\n",
       "                                                    [key], {});\n",
       "        if (!dataTable) return;\n",
       "\n",
       "        const docLinkHtml = 'Like what you see? Visit the ' +\n",
       "          '<a target=\"_blank\" href=https://colab.research.google.com/notebooks/data_table.ipynb>data table notebook</a>'\n",
       "          + ' to learn more about interactive tables.';\n",
       "        element.innerHTML = '';\n",
       "        dataTable['output_type'] = 'display_data';\n",
       "        await google.colab.output.renderOutput(dataTable, element);\n",
       "        const docLink = document.createElement('div');\n",
       "        docLink.innerHTML = docLinkHtml;\n",
       "        element.appendChild(docLink);\n",
       "      }\n",
       "    </script>\n",
       "  </div>\n",
       "\n",
       "\n",
       "<div id=\"df-1c0cff06-bd34-49eb-92ee-39c88e870118\">\n",
       "  <button class=\"colab-df-quickchart\" onclick=\"quickchart('df-1c0cff06-bd34-49eb-92ee-39c88e870118')\"\n",
       "            title=\"Suggest charts\"\n",
       "            style=\"display:none;\">\n",
       "\n",
       "<svg xmlns=\"http://www.w3.org/2000/svg\" height=\"24px\"viewBox=\"0 0 24 24\"\n",
       "     width=\"24px\">\n",
       "    <g>\n",
       "        <path d=\"M19 3H5c-1.1 0-2 .9-2 2v14c0 1.1.9 2 2 2h14c1.1 0 2-.9 2-2V5c0-1.1-.9-2-2-2zM9 17H7v-7h2v7zm4 0h-2V7h2v10zm4 0h-2v-4h2v4z\"/>\n",
       "    </g>\n",
       "</svg>\n",
       "  </button>\n",
       "\n",
       "<style>\n",
       "  .colab-df-quickchart {\n",
       "      --bg-color: #E8F0FE;\n",
       "      --fill-color: #1967D2;\n",
       "      --hover-bg-color: #E2EBFA;\n",
       "      --hover-fill-color: #174EA6;\n",
       "      --disabled-fill-color: #AAA;\n",
       "      --disabled-bg-color: #DDD;\n",
       "  }\n",
       "\n",
       "  [theme=dark] .colab-df-quickchart {\n",
       "      --bg-color: #3B4455;\n",
       "      --fill-color: #D2E3FC;\n",
       "      --hover-bg-color: #434B5C;\n",
       "      --hover-fill-color: #FFFFFF;\n",
       "      --disabled-bg-color: #3B4455;\n",
       "      --disabled-fill-color: #666;\n",
       "  }\n",
       "\n",
       "  .colab-df-quickchart {\n",
       "    background-color: var(--bg-color);\n",
       "    border: none;\n",
       "    border-radius: 50%;\n",
       "    cursor: pointer;\n",
       "    display: none;\n",
       "    fill: var(--fill-color);\n",
       "    height: 32px;\n",
       "    padding: 0;\n",
       "    width: 32px;\n",
       "  }\n",
       "\n",
       "  .colab-df-quickchart:hover {\n",
       "    background-color: var(--hover-bg-color);\n",
       "    box-shadow: 0 1px 2px rgba(60, 64, 67, 0.3), 0 1px 3px 1px rgba(60, 64, 67, 0.15);\n",
       "    fill: var(--button-hover-fill-color);\n",
       "  }\n",
       "\n",
       "  .colab-df-quickchart-complete:disabled,\n",
       "  .colab-df-quickchart-complete:disabled:hover {\n",
       "    background-color: var(--disabled-bg-color);\n",
       "    fill: var(--disabled-fill-color);\n",
       "    box-shadow: none;\n",
       "  }\n",
       "\n",
       "  .colab-df-spinner {\n",
       "    border: 2px solid var(--fill-color);\n",
       "    border-color: transparent;\n",
       "    border-bottom-color: var(--fill-color);\n",
       "    animation:\n",
       "      spin 1s steps(1) infinite;\n",
       "  }\n",
       "\n",
       "  @keyframes spin {\n",
       "    0% {\n",
       "      border-color: transparent;\n",
       "      border-bottom-color: var(--fill-color);\n",
       "      border-left-color: var(--fill-color);\n",
       "    }\n",
       "    20% {\n",
       "      border-color: transparent;\n",
       "      border-left-color: var(--fill-color);\n",
       "      border-top-color: var(--fill-color);\n",
       "    }\n",
       "    30% {\n",
       "      border-color: transparent;\n",
       "      border-left-color: var(--fill-color);\n",
       "      border-top-color: var(--fill-color);\n",
       "      border-right-color: var(--fill-color);\n",
       "    }\n",
       "    40% {\n",
       "      border-color: transparent;\n",
       "      border-right-color: var(--fill-color);\n",
       "      border-top-color: var(--fill-color);\n",
       "    }\n",
       "    60% {\n",
       "      border-color: transparent;\n",
       "      border-right-color: var(--fill-color);\n",
       "    }\n",
       "    80% {\n",
       "      border-color: transparent;\n",
       "      border-right-color: var(--fill-color);\n",
       "      border-bottom-color: var(--fill-color);\n",
       "    }\n",
       "    90% {\n",
       "      border-color: transparent;\n",
       "      border-bottom-color: var(--fill-color);\n",
       "    }\n",
       "  }\n",
       "</style>\n",
       "\n",
       "  <script>\n",
       "    async function quickchart(key) {\n",
       "      const quickchartButtonEl =\n",
       "        document.querySelector('#' + key + ' button');\n",
       "      quickchartButtonEl.disabled = true;  // To prevent multiple clicks.\n",
       "      quickchartButtonEl.classList.add('colab-df-spinner');\n",
       "      try {\n",
       "        const charts = await google.colab.kernel.invokeFunction(\n",
       "            'suggestCharts', [key], {});\n",
       "      } catch (error) {\n",
       "        console.error('Error during call to suggestCharts:', error);\n",
       "      }\n",
       "      quickchartButtonEl.classList.remove('colab-df-spinner');\n",
       "      quickchartButtonEl.classList.add('colab-df-quickchart-complete');\n",
       "    }\n",
       "    (() => {\n",
       "      let quickchartButtonEl =\n",
       "        document.querySelector('#df-1c0cff06-bd34-49eb-92ee-39c88e870118 button');\n",
       "      quickchartButtonEl.style.display =\n",
       "        google.colab.kernel.accessAllowed ? 'block' : 'none';\n",
       "    })();\n",
       "  </script>\n",
       "</div>\n",
       "\n",
       "    </div>\n",
       "  </div>\n"
      ],
      "text/plain": [
       "                                                text  label\n",
       "0  naw dude if anything that gives you a solid co...      0\n",
       "1  OpenAI’s employees must be seriously regrettin...     -1\n",
       "2  Opinions: What AI product lived up to the hype...      0\n",
       "3  You don’t need OpenAI to do this, in fact I’d ...     -1\n",
       "4  So for some reason I can't respond to any of t...     -1"
      ]
     },
     "execution_count": 3,
     "metadata": {},
     "output_type": "execute_result"
    }
   ],
   "source": [
    "df = pd.read_csv(\"labelled_data.csv\")\n",
    "df = df[['text', 'label']].dropna()\n",
    "df.head()"
   ]
  },
  {
   "cell_type": "markdown",
   "metadata": {
    "id": "zjYx_zbSZzfY"
   },
   "source": [
    "### Cleaning Text"
   ]
  },
  {
   "cell_type": "code",
   "execution_count": null,
   "metadata": {
    "colab": {
     "base_uri": "https://localhost:8080/",
     "height": 206
    },
    "executionInfo": {
     "elapsed": 959,
     "status": "ok",
     "timestamp": 1739954501107,
     "user": {
      "displayName": "Anson George",
      "userId": "15855563631802224888"
     },
     "user_tz": -240
    },
    "id": "21Z6hAn5Rihf",
    "outputId": "d4ea3acc-c589-47fe-e875-54880fbf7bb5"
   },
   "outputs": [
    {
     "data": {
      "application/vnd.google.colaboratory.intrinsic+json": {
       "summary": "{\n  \"name\": \"df[['Cleaned_Text','text']]\",\n  \"rows\": 5,\n  \"fields\": [\n    {\n      \"column\": \"Cleaned_Text\",\n      \"properties\": {\n        \"dtype\": \"string\",\n        \"num_unique_values\": 5,\n        \"samples\": [\n          \"openais employees must be seriously regretting throwing fits to bring sam back \",\n          \"so for some reason i cannot respond to any of the posts but ultimately i had to reach out to by bank and dispute this transaction  if anyone finds this message i would not even bother getting in contact with openai just go straight to your bank\",\n          \"opinions  what ai product lived up to the hype for you  what ai product or service were you super hyped up for and it actually delivered on that for you   this is all subjective of course    i easily fall for a bunch of hype so had the idea that advanced voice mode would change my life  i wanted it so badly but now it is here i rarely use it   i was not particularly excited about searchgpt but the new search built in to chatgpt has surprised me by how useful it is   what (if anything  has delivered on the hype for you \"\n        ],\n        \"semantic_type\": \"\",\n        \"description\": \"\"\n      }\n    },\n    {\n      \"column\": \"text\",\n      \"properties\": {\n        \"dtype\": \"string\",\n        \"num_unique_values\": 5,\n        \"samples\": [\n          \"OpenAI\\u2019s employees must be seriously regretting throwing fits to bring Sam back.\",\n          \"So for some reason I can't respond to any of the posts but ultimately I had to reach out to by bank and dispute this transaction. If anyone finds this message I wouldn't even bother getting in contact with OpenAI just go straight to your bank\",\n          \"Opinions: What AI product lived up to the hype for you? What AI product or service were you super hyped up for and it actually delivered on that for you?  This is all subjective of course.   I easily fall for a bunch of hype so had the idea that advanced voice mode would change my life. I wanted it so badly but now it's here I rarely use it.  I wasn't particularly excited about searchGPT but the new search built in to ChatGPT has surprised me by how useful it is.  What (if anything) has delivered on the hype for you?\"\n        ],\n        \"semantic_type\": \"\",\n        \"description\": \"\"\n      }\n    }\n  ]\n}",
       "type": "dataframe"
      },
      "text/html": [
       "\n",
       "  <div id=\"df-8dc61737-3187-4323-87df-79de6983d9fe\" class=\"colab-df-container\">\n",
       "    <div>\n",
       "<style scoped>\n",
       "    .dataframe tbody tr th:only-of-type {\n",
       "        vertical-align: middle;\n",
       "    }\n",
       "\n",
       "    .dataframe tbody tr th {\n",
       "        vertical-align: top;\n",
       "    }\n",
       "\n",
       "    .dataframe thead th {\n",
       "        text-align: right;\n",
       "    }\n",
       "</style>\n",
       "<table border=\"1\" class=\"dataframe\">\n",
       "  <thead>\n",
       "    <tr style=\"text-align: right;\">\n",
       "      <th></th>\n",
       "      <th>Cleaned_Text</th>\n",
       "      <th>text</th>\n",
       "    </tr>\n",
       "  </thead>\n",
       "  <tbody>\n",
       "    <tr>\n",
       "      <th>0</th>\n",
       "      <td>naw dude if anything that gives you a solid co...</td>\n",
       "      <td>naw dude if anything that gives you a solid co...</td>\n",
       "    </tr>\n",
       "    <tr>\n",
       "      <th>1</th>\n",
       "      <td>openais employees must be seriously regretting...</td>\n",
       "      <td>OpenAI’s employees must be seriously regrettin...</td>\n",
       "    </tr>\n",
       "    <tr>\n",
       "      <th>2</th>\n",
       "      <td>opinions  what ai product lived up to the hype...</td>\n",
       "      <td>Opinions: What AI product lived up to the hype...</td>\n",
       "    </tr>\n",
       "    <tr>\n",
       "      <th>3</th>\n",
       "      <td>you do not need openai to do this  in fact i w...</td>\n",
       "      <td>You don’t need OpenAI to do this, in fact I’d ...</td>\n",
       "    </tr>\n",
       "    <tr>\n",
       "      <th>4</th>\n",
       "      <td>so for some reason i cannot respond to any of ...</td>\n",
       "      <td>So for some reason I can't respond to any of t...</td>\n",
       "    </tr>\n",
       "  </tbody>\n",
       "</table>\n",
       "</div>\n",
       "    <div class=\"colab-df-buttons\">\n",
       "\n",
       "  <div class=\"colab-df-container\">\n",
       "    <button class=\"colab-df-convert\" onclick=\"convertToInteractive('df-8dc61737-3187-4323-87df-79de6983d9fe')\"\n",
       "            title=\"Convert this dataframe to an interactive table.\"\n",
       "            style=\"display:none;\">\n",
       "\n",
       "  <svg xmlns=\"http://www.w3.org/2000/svg\" height=\"24px\" viewBox=\"0 -960 960 960\">\n",
       "    <path d=\"M120-120v-720h720v720H120Zm60-500h600v-160H180v160Zm220 220h160v-160H400v160Zm0 220h160v-160H400v160ZM180-400h160v-160H180v160Zm440 0h160v-160H620v160ZM180-180h160v-160H180v160Zm440 0h160v-160H620v160Z\"/>\n",
       "  </svg>\n",
       "    </button>\n",
       "\n",
       "  <style>\n",
       "    .colab-df-container {\n",
       "      display:flex;\n",
       "      gap: 12px;\n",
       "    }\n",
       "\n",
       "    .colab-df-convert {\n",
       "      background-color: #E8F0FE;\n",
       "      border: none;\n",
       "      border-radius: 50%;\n",
       "      cursor: pointer;\n",
       "      display: none;\n",
       "      fill: #1967D2;\n",
       "      height: 32px;\n",
       "      padding: 0 0 0 0;\n",
       "      width: 32px;\n",
       "    }\n",
       "\n",
       "    .colab-df-convert:hover {\n",
       "      background-color: #E2EBFA;\n",
       "      box-shadow: 0px 1px 2px rgba(60, 64, 67, 0.3), 0px 1px 3px 1px rgba(60, 64, 67, 0.15);\n",
       "      fill: #174EA6;\n",
       "    }\n",
       "\n",
       "    .colab-df-buttons div {\n",
       "      margin-bottom: 4px;\n",
       "    }\n",
       "\n",
       "    [theme=dark] .colab-df-convert {\n",
       "      background-color: #3B4455;\n",
       "      fill: #D2E3FC;\n",
       "    }\n",
       "\n",
       "    [theme=dark] .colab-df-convert:hover {\n",
       "      background-color: #434B5C;\n",
       "      box-shadow: 0px 1px 3px 1px rgba(0, 0, 0, 0.15);\n",
       "      filter: drop-shadow(0px 1px 2px rgba(0, 0, 0, 0.3));\n",
       "      fill: #FFFFFF;\n",
       "    }\n",
       "  </style>\n",
       "\n",
       "    <script>\n",
       "      const buttonEl =\n",
       "        document.querySelector('#df-8dc61737-3187-4323-87df-79de6983d9fe button.colab-df-convert');\n",
       "      buttonEl.style.display =\n",
       "        google.colab.kernel.accessAllowed ? 'block' : 'none';\n",
       "\n",
       "      async function convertToInteractive(key) {\n",
       "        const element = document.querySelector('#df-8dc61737-3187-4323-87df-79de6983d9fe');\n",
       "        const dataTable =\n",
       "          await google.colab.kernel.invokeFunction('convertToInteractive',\n",
       "                                                    [key], {});\n",
       "        if (!dataTable) return;\n",
       "\n",
       "        const docLinkHtml = 'Like what you see? Visit the ' +\n",
       "          '<a target=\"_blank\" href=https://colab.research.google.com/notebooks/data_table.ipynb>data table notebook</a>'\n",
       "          + ' to learn more about interactive tables.';\n",
       "        element.innerHTML = '';\n",
       "        dataTable['output_type'] = 'display_data';\n",
       "        await google.colab.output.renderOutput(dataTable, element);\n",
       "        const docLink = document.createElement('div');\n",
       "        docLink.innerHTML = docLinkHtml;\n",
       "        element.appendChild(docLink);\n",
       "      }\n",
       "    </script>\n",
       "  </div>\n",
       "\n",
       "\n",
       "<div id=\"df-1bdfa38c-bdad-4922-bb99-46bbe64a2e23\">\n",
       "  <button class=\"colab-df-quickchart\" onclick=\"quickchart('df-1bdfa38c-bdad-4922-bb99-46bbe64a2e23')\"\n",
       "            title=\"Suggest charts\"\n",
       "            style=\"display:none;\">\n",
       "\n",
       "<svg xmlns=\"http://www.w3.org/2000/svg\" height=\"24px\"viewBox=\"0 0 24 24\"\n",
       "     width=\"24px\">\n",
       "    <g>\n",
       "        <path d=\"M19 3H5c-1.1 0-2 .9-2 2v14c0 1.1.9 2 2 2h14c1.1 0 2-.9 2-2V5c0-1.1-.9-2-2-2zM9 17H7v-7h2v7zm4 0h-2V7h2v10zm4 0h-2v-4h2v4z\"/>\n",
       "    </g>\n",
       "</svg>\n",
       "  </button>\n",
       "\n",
       "<style>\n",
       "  .colab-df-quickchart {\n",
       "      --bg-color: #E8F0FE;\n",
       "      --fill-color: #1967D2;\n",
       "      --hover-bg-color: #E2EBFA;\n",
       "      --hover-fill-color: #174EA6;\n",
       "      --disabled-fill-color: #AAA;\n",
       "      --disabled-bg-color: #DDD;\n",
       "  }\n",
       "\n",
       "  [theme=dark] .colab-df-quickchart {\n",
       "      --bg-color: #3B4455;\n",
       "      --fill-color: #D2E3FC;\n",
       "      --hover-bg-color: #434B5C;\n",
       "      --hover-fill-color: #FFFFFF;\n",
       "      --disabled-bg-color: #3B4455;\n",
       "      --disabled-fill-color: #666;\n",
       "  }\n",
       "\n",
       "  .colab-df-quickchart {\n",
       "    background-color: var(--bg-color);\n",
       "    border: none;\n",
       "    border-radius: 50%;\n",
       "    cursor: pointer;\n",
       "    display: none;\n",
       "    fill: var(--fill-color);\n",
       "    height: 32px;\n",
       "    padding: 0;\n",
       "    width: 32px;\n",
       "  }\n",
       "\n",
       "  .colab-df-quickchart:hover {\n",
       "    background-color: var(--hover-bg-color);\n",
       "    box-shadow: 0 1px 2px rgba(60, 64, 67, 0.3), 0 1px 3px 1px rgba(60, 64, 67, 0.15);\n",
       "    fill: var(--button-hover-fill-color);\n",
       "  }\n",
       "\n",
       "  .colab-df-quickchart-complete:disabled,\n",
       "  .colab-df-quickchart-complete:disabled:hover {\n",
       "    background-color: var(--disabled-bg-color);\n",
       "    fill: var(--disabled-fill-color);\n",
       "    box-shadow: none;\n",
       "  }\n",
       "\n",
       "  .colab-df-spinner {\n",
       "    border: 2px solid var(--fill-color);\n",
       "    border-color: transparent;\n",
       "    border-bottom-color: var(--fill-color);\n",
       "    animation:\n",
       "      spin 1s steps(1) infinite;\n",
       "  }\n",
       "\n",
       "  @keyframes spin {\n",
       "    0% {\n",
       "      border-color: transparent;\n",
       "      border-bottom-color: var(--fill-color);\n",
       "      border-left-color: var(--fill-color);\n",
       "    }\n",
       "    20% {\n",
       "      border-color: transparent;\n",
       "      border-left-color: var(--fill-color);\n",
       "      border-top-color: var(--fill-color);\n",
       "    }\n",
       "    30% {\n",
       "      border-color: transparent;\n",
       "      border-left-color: var(--fill-color);\n",
       "      border-top-color: var(--fill-color);\n",
       "      border-right-color: var(--fill-color);\n",
       "    }\n",
       "    40% {\n",
       "      border-color: transparent;\n",
       "      border-right-color: var(--fill-color);\n",
       "      border-top-color: var(--fill-color);\n",
       "    }\n",
       "    60% {\n",
       "      border-color: transparent;\n",
       "      border-right-color: var(--fill-color);\n",
       "    }\n",
       "    80% {\n",
       "      border-color: transparent;\n",
       "      border-right-color: var(--fill-color);\n",
       "      border-bottom-color: var(--fill-color);\n",
       "    }\n",
       "    90% {\n",
       "      border-color: transparent;\n",
       "      border-bottom-color: var(--fill-color);\n",
       "    }\n",
       "  }\n",
       "</style>\n",
       "\n",
       "  <script>\n",
       "    async function quickchart(key) {\n",
       "      const quickchartButtonEl =\n",
       "        document.querySelector('#' + key + ' button');\n",
       "      quickchartButtonEl.disabled = true;  // To prevent multiple clicks.\n",
       "      quickchartButtonEl.classList.add('colab-df-spinner');\n",
       "      try {\n",
       "        const charts = await google.colab.kernel.invokeFunction(\n",
       "            'suggestCharts', [key], {});\n",
       "      } catch (error) {\n",
       "        console.error('Error during call to suggestCharts:', error);\n",
       "      }\n",
       "      quickchartButtonEl.classList.remove('colab-df-spinner');\n",
       "      quickchartButtonEl.classList.add('colab-df-quickchart-complete');\n",
       "    }\n",
       "    (() => {\n",
       "      let quickchartButtonEl =\n",
       "        document.querySelector('#df-1bdfa38c-bdad-4922-bb99-46bbe64a2e23 button');\n",
       "      quickchartButtonEl.style.display =\n",
       "        google.colab.kernel.accessAllowed ? 'block' : 'none';\n",
       "    })();\n",
       "  </script>\n",
       "</div>\n",
       "\n",
       "    </div>\n",
       "  </div>\n"
      ],
      "text/plain": [
       "                                        Cleaned_Text  \\\n",
       "0  naw dude if anything that gives you a solid co...   \n",
       "1  openais employees must be seriously regretting...   \n",
       "2  opinions  what ai product lived up to the hype...   \n",
       "3  you do not need openai to do this  in fact i w...   \n",
       "4  so for some reason i cannot respond to any of ...   \n",
       "\n",
       "                                                text  \n",
       "0  naw dude if anything that gives you a solid co...  \n",
       "1  OpenAI’s employees must be seriously regrettin...  \n",
       "2  Opinions: What AI product lived up to the hype...  \n",
       "3  You don’t need OpenAI to do this, in fact I’d ...  \n",
       "4  So for some reason I can't respond to any of t...  "
      ]
     },
     "execution_count": 4,
     "metadata": {},
     "output_type": "execute_result"
    }
   ],
   "source": [
    "class TextPreprocessor(BaseEstimator, TransformerMixin):\n",
    "    def __init__(self, do_emoji_conversion=True, use_spacy_tokenizer=True):\n",
    "        self.do_emoji_conversion = do_emoji_conversion\n",
    "        self.use_spacy_tokenizer = use_spacy_tokenizer\n",
    "\n",
    "    def remove_links(self, text):\n",
    "        return re.sub(r'http[s]?://\\S+|www\\.\\S+', '', text)\n",
    "\n",
    "    def remove_user_mentions(self, text):\n",
    "        return re.sub(r'u/\\S+', '', text)\n",
    "\n",
    "    def expand_contractions(self, text):\n",
    "        return contractions.fix(text)\n",
    "\n",
    "    def remove_non_ascii(self, text):\n",
    "        return text.encode(\"ascii\", \"ignore\").decode()\n",
    "\n",
    "    def remove_punctuations(self, text):\n",
    "        text = re.sub(r'[-]', ' ', text)\n",
    "        text = re.sub(r'(\\S)[' + re.escape(string.punctuation) + r']+', r'\\1 ', text)\n",
    "        text = re.sub(r'(\\S)[' + re.escape(string.punctuation) + r'](\\S)', r'\\1 \\2', text)\n",
    "        return text\n",
    "\n",
    "    def remove_numbers(self, text):\n",
    "        return re.sub(r'[0-9]+', '', text)\n",
    "\n",
    "    def emoji_to_text(self, text):\n",
    "        return emoji.demojize(text)\n",
    "\n",
    "    def normalize(self, text):\n",
    "        return text.lower()\n",
    "\n",
    "    def preprocess(self, text):\n",
    "        text = self.normalize(text)\n",
    "        text = self.remove_links(text)\n",
    "        text = self.remove_user_mentions(text)\n",
    "        text = self.expand_contractions(text)\n",
    "        text = self.remove_non_ascii(text)\n",
    "        text = self.remove_punctuations(text)\n",
    "        text = self.remove_numbers(text)\n",
    "        if self.do_emoji_conversion:\n",
    "            text = self.emoji_to_text(text)\n",
    "        text = self.normalize(text)\n",
    "        return text\n",
    "\n",
    "    def fit(self, X, y=None):\n",
    "        return self\n",
    "\n",
    "    def transform(self, X, y=None):\n",
    "        return X.apply(self.preprocess)\n",
    "\n",
    "preprocessor = TextPreprocessor()\n",
    "\n",
    "df['Cleaned_Text'] = preprocessor.fit_transform(df['text'])\n",
    "df[['Cleaned_Text','text']].head()"
   ]
  },
  {
   "cell_type": "code",
   "execution_count": null,
   "metadata": {
    "colab": {
     "base_uri": "https://localhost:8080/"
    },
    "executionInfo": {
     "elapsed": 8,
     "status": "ok",
     "timestamp": 1739954505506,
     "user": {
      "displayName": "Anson George",
      "userId": "15855563631802224888"
     },
     "user_tz": -240
    },
    "id": "Kf-WzG3GSUct",
    "outputId": "b1dd604d-d9c0-4193-80dc-30fdaf1c2da9"
   },
   "outputs": [
    {
     "name": "stdout",
     "output_type": "stream",
     "text": [
      "Samples per class:\n",
      "\n",
      "label\n",
      " 0    3923\n",
      "-1    1170\n",
      " 1     450\n",
      "Name: count, dtype: int64\n"
     ]
    }
   ],
   "source": [
    "print(\"Samples per class:\\n\")\n",
    "print(df['label'].value_counts())"
   ]
  },
  {
   "cell_type": "markdown",
   "metadata": {
    "id": "HrlnkCyBZ4OE"
   },
   "source": [
    "### Splitting Positive and Negative Data"
   ]
  },
  {
   "cell_type": "code",
   "execution_count": null,
   "metadata": {
    "id": "4fgrxoxLQaoG"
   },
   "outputs": [],
   "source": [
    "positive_df = df[df['label'] == 1]\n",
    "negative_df = df[df['label'] == -1]"
   ]
  },
  {
   "cell_type": "markdown",
   "metadata": {
    "id": "3X1jhvtRZ9kA"
   },
   "source": [
    "###LDA for Positive Reviews"
   ]
  },
  {
   "cell_type": "code",
   "execution_count": null,
   "metadata": {
    "id": "RjgxS0-aUGWY"
   },
   "outputs": [],
   "source": [
    "pos_vect = CountVectorizer(max_features=10000, max_df=0.2, stop_words=\"english\")\n",
    "pos_X = pos_vect.fit_transform(positive_df['Cleaned_Text'])"
   ]
  },
  {
   "cell_type": "code",
   "execution_count": null,
   "metadata": {
    "id": "g2r3TmCcUPQK"
   },
   "outputs": [],
   "source": [
    "pos_lda = LatentDirichletAllocation(n_components=10, learning_method=\"batch\", max_iter=25, random_state=0)\n",
    "pos_document_topics = pos_lda.fit_transform(pos_X)"
   ]
  },
  {
   "cell_type": "code",
   "execution_count": null,
   "metadata": {
    "colab": {
     "base_uri": "https://localhost:8080/"
    },
    "executionInfo": {
     "elapsed": 9,
     "status": "ok",
     "timestamp": 1739954515498,
     "user": {
      "displayName": "Anson George",
      "userId": "15855563631802224888"
     },
     "user_tz": -240
    },
    "id": "oK9wJ5AQVxIH",
    "outputId": "3d8509f0-392b-43be-eea4-69484c984880"
   },
   "outputs": [
    {
     "name": "stdout",
     "output_type": "stream",
     "text": [
      "topic 0       topic 1       topic 2       topic 3       topic 4       topic 5       topic 6       topic 7       topic 8       topic 9       \n",
      "--------      --------      --------      --------      --------      --------      --------      --------      --------      --------      \n",
      "better        gpt           open          gpt           like          free          thanks        thank         make          gpt           \n",
      "like          impressive    really        model         really        good          just          good          agi           did           \n",
      "new           experience    model         great         use           think         open          gpt           like          good          \n",
      "model         new           source        did           api           search        gpt           like          using         way           \n",
      "just          bing          best          actually      using         models        model         open          use           use           \n",
      "people        unique        good          text          models        tried         ask           api           week          google        \n",
      "api           great         models        prompts       good          just          best          just          just          far           \n",
      "free          games         amazing       got           access        love          use           search        open          know          \n",
      "really        model         deepseek      just          great         basically     models        making        forward       work          \n",
      "amazing       google        just          thanks        pretty        try           source        capabilities  makes         better        \n",
      "results       user          free          use           available     use           new           access        human         build         \n",
      "output        images        api           code          voice         users         plan          learning      want          stuff         \n",
      "app           actually      better        free          internet      better        release       fine          does          like          \n",
      "going         job           company       awesome       code          mini          set           model         huge          just          \n",
      "best          game          new           open          free          available     users         better        hope          siri          \n",
      "gpt           research      love          create        mini          thing         posting       really        things        really        \n",
      "models        let           whisper       impressive    just          best          insanely      nice          really        works         \n",
      "useful        thanks        released      people        assistant     able          great         got           sense         making        \n",
      "wow           good          like          images        lot           thank         time          free          people        best          \n",
      "feel          microsoft     reasoning     content       search        results       good          feel          better        data          \n",
      "\n",
      "\n"
     ]
    }
   ],
   "source": [
    "pos_sorting = np.argsort(pos_lda.components_, axis=1)[:, ::-1]\n",
    "pos_feature_names = np.array(pos_vect.get_feature_names_out())\n",
    "\n",
    "mglearn.tools.print_topics(topics=range(10), feature_names=pos_feature_names, sorting=pos_sorting, topics_per_chunk=10, n_words=20)"
   ]
  },
  {
   "cell_type": "markdown",
   "metadata": {
    "id": "fI8FtqjFO_0I"
   },
   "source": [
    "The above keywords show that some relevant topics are performance improvements, capabilities, accessibility, general appreciation, API usage, community collaboration, learning, AGI advancements, and comparison with other models."
   ]
  },
  {
   "cell_type": "code",
   "execution_count": null,
   "metadata": {
    "colab": {
     "base_uri": "https://localhost:8080/",
     "height": 861
    },
    "executionInfo": {
     "elapsed": 1550,
     "status": "ok",
     "timestamp": 1739954520422,
     "user": {
      "displayName": "Anson George",
      "userId": "15855563631802224888"
     },
     "user_tz": -240
    },
    "id": "4gtY1-Redwsd",
    "outputId": "62c31933-dcbc-4833-a9b0-e28906db8215"
   },
   "outputs": [
    {
     "data": {
      "text/html": [
       "\n",
       "<link rel=\"stylesheet\" type=\"text/css\" href=\"https://cdn.jsdelivr.net/gh/bmabey/pyLDAvis@3.4.0/pyLDAvis/js/ldavis.v1.0.0.css\">\n",
       "\n",
       "\n",
       "<div id=\"ldavis_el97491350046931359848046022266\" style=\"background-color:white;\"></div>\n",
       "<script type=\"text/javascript\">\n",
       "\n",
       "var ldavis_el97491350046931359848046022266_data = {\"mdsDat\": {\"x\": [-0.08046256099816383, -0.04337862325670559, -0.06879399290327155, 0.08721947280251403, -0.03398666266027479, -0.019031655674177448, 0.09620107757511386, 0.036837409903339814, -0.05459802332630317, 0.07999355853792862], \"y\": [0.06470829461674975, 0.0664542628991797, -0.037959200201282135, 0.051471382022430144, -0.14424267811659958, 0.04440492644010171, -0.0201391267912161, -0.05535614800457367, 0.011475404633620264, 0.019182882501589813], \"topics\": [1, 2, 3, 4, 5, 6, 7, 8, 9, 10], \"cluster\": [1, 1, 1, 1, 1, 1, 1, 1, 1, 1], \"Freq\": [14.861931624442306, 12.582996930000176, 11.977311895309835, 11.684738150206675, 10.50101960400886, 9.399021099264539, 8.476239509933126, 7.555787369506533, 7.331627315656767, 5.629326501671196]}, \"tinfo\": {\"Term\": [\"thank\", \"open\", \"really\", \"thanks\", \"make\", \"model\", \"did\", \"source\", \"new\", \"models\", \"search\", \"gpt\", \"good\", \"deepseek\", \"ask\", \"tried\", \"bing\", \"unique\", \"love\", \"competition\", \"think\", \"users\", \"best\", \"company\", \"agi\", \"experience\", \"fine\", \"prompts\", \"voice\", \"games\", \"pay\", \"podcast\", \"searches\", \"npc\", \"cases\", \"comparable\", \"paying\", \"messages\", \"child\", \"server\", \"lol\", \"absolutely\", \"generally\", \"plug\", \"email\", \"talking\", \"technology\", \"natural\", \"testing\", \"lines\", \"ready\", \"runs\", \"cutting\", \"instances\", \"launched\", \"updated\", \"upgrades\", \"uptime\", \"actions\", \"arguably\", \"like\", \"use\", \"really\", \"using\", \"api\", \"voice\", \"internet\", \"access\", \"pretty\", \"models\", \"available\", \"mode\", \"assistant\", \"service\", \"ui\", \"great\", \"cost\", \"whisper\", \"cool\", \"day\", \"azure\", \"perplexity\", \"future\", \"good\", \"code\", \"free\", \"mini\", \"just\", \"lot\", \"search\", \"open\", \"model\", \"used\", \"gpt\", \"web\", \"chain\", \"splunk\", \"providing\", \"greatly\", \"max\", \"gets\", \"puzzle\", \"proofreading\", \"interactive\", \"benefit\", \"hiding\", \"utopiapp\", \"satisfying\", \"rolling\", \"docs\", \"reason\", \"hearing\", \"thinking\", \"thought\", \"continuing\", \"cut\", \"follows\", \"haiku\", \"hitting\", \"looped\", \"prompted\", \"stopped\", \"told\", \"translate\", \"keeps\", \"new\", \"better\", \"people\", \"like\", \"output\", \"model\", \"app\", \"times\", \"just\", \"wow\", \"significantly\", \"price\", \"going\", \"amazing\", \"api\", \"free\", \"really\", \"results\", \"best\", \"gpt\", \"models\", \"useful\", \"feel\", \"mini\", \"agi\", \"text\", \"things\", \"search\", \"helpful\", \"looks\", \"tool\", \"engine\", \"thank\", \"received\", \"exploration\", \"scroll\", \"places\", \"tone\", \"promised\", \"beginners\", \"learning\", \"tuning\", \"notion\", \"fine\", \"begun\", \"broader\", \"initial\", \"manageable\", \"range\", \"startup\", \"wondering\", \"written\", \"brought\", \"cooler\", \"crawled\", \"exceeded\", \"half\", \"lightning\", \"modal\", \"saw\", \"caricatures\", \"good\", \"capabilities\", \"api\", \"interesting\", \"gpt\", \"incredible\", \"search\", \"nice\", \"making\", \"open\", \"like\", \"access\", \"true\", \"overall\", \"just\", \"got\", \"feel\", \"model\", \"better\", \"really\", \"free\", \"using\", \"make\", \"available\", \"mini\", \"things\", \"data\", \"loop\", \"asked\", \"spent\", \"songs\", \"menu\", \"capability\", \"graphic\", \"nuanced\", \"hour\", \"input\", \"suddenly\", \"arena\", \"creation\", \"android\", \"congrats\", \"prompts\", \"test\", \"apply\", \"automated\", \"codebase\", \"diffs\", \"languages\", \"rewrite\", \"unlike\", \"batch\", \"crucial\", \"ea\", \"scope\", \"adapt\", \"apparent\", \"gpt\", \"model\", \"awesome\", \"did\", \"text\", \"surprisingly\", \"got\", \"actually\", \"based\", \"inspiring\", \"generate\", \"created\", \"images\", \"great\", \"just\", \"thanks\", \"use\", \"code\", \"free\", \"open\", \"create\", \"impressive\", \"people\", \"content\", \"used\", \"coding\", \"better\", \"google\", \"work\", \"idea\", \"come\", \"sense\", \"represents\", \"security\", \"slide\", \"infrastructure\", \"field\", \"improving\", \"hope\", \"buildings\", \"codes\", \"discovered\", \"doors\", \"emergency\", \"involves\", \"matter\", \"memorize\", \"mishaps\", \"numbers\", \"occurs\", \"particularly\", \"position\", \"protocols\", \"quantities\", \"reference\", \"risk\", \"safety\", \"threats\", \"transitioned\", \"anyways\", \"bag\", \"make\", \"agi\", \"week\", \"costs\", \"significant\", \"human\", \"forward\", \"want\", \"progress\", \"things\", \"powerful\", \"integrated\", \"fantastic\", \"takes\", \"makes\", \"art\", \"sourcing\", \"industry\", \"researchers\", \"shows\", \"chance\", \"leap\", \"like\", \"using\", \"use\", \"just\", \"open\", \"does\", \"huge\", \"really\", \"people\", \"better\", \"making\", \"data\", \"need\", \"best\", \"performance\", \"years\", \"free\", \"work\", \"insight\", \"sourced\", \"group\", \"invited\", \"locally\", \"god\", \"consistent\", \"honest\", \"alternatives\", \"premium\", \"repo\", \"transcribe\", \"transcription\", \"approaches\", \"deeper\", \"emphasis\", \"focusing\", \"guardrails\", \"inner\", \"instance\", \"lead\", \"overlook\", \"safer\", \"workings\", \"generous\", \"sota\", \"tiers\", \"names\", \"params\", \"qwen\", \"open\", \"source\", \"really\", \"deepseek\", \"model\", \"company\", \"amazing\", \"best\", \"competition\", \"whisper\", \"love\", \"world\", \"sharing\", \"models\", \"reasoning\", \"released\", \"brand\", \"truly\", \"details\", \"slack\", \"feedback\", \"interpreter\", \"good\", \"just\", \"free\", \"api\", \"better\", \"new\", \"like\", \"used\", \"great\", \"thanks\", \"impressive\", \"chat\", \"going\", \"google\", \"moment\", \"study\", \"focused\", \"tip\", \"device\", \"employees\", \"xai\", \"posting\", \"rag\", \"ask\", \"insanely\", \"set\", \"asks\", \"clarifies\", \"classes\", \"doubts\", \"syllabus\", \"tells\", \"tuitor\", \"uni\", \"advance\", \"atleast\", \"barely\", \"codellama\", \"delivering\", \"gameboy\", \"house\", \"outperforms\", \"potato\", \"discord\", \"thanks\", \"plan\", \"release\", \"added\", \"today\", \"just\", \"open\", \"difficult\", \"personal\", \"memory\", \"apple\", \"intelligence\", \"best\", \"users\", \"answers\", \"employee\", \"learn\", \"soon\", \"gpt\", \"model\", \"use\", \"models\", \"source\", \"new\", \"great\", \"time\", \"good\", \"right\", \"code\", \"chatgtp\", \"expect\", \"standpoint\", \"productivity\", \"knowledge\", \"siri\", \"blast\", \"closes\", \"elite\", \"homework\", \"responds\", \"seriously\", \"suspect\", \"youtube\", \"earlier\", \"interruptions\", \"monthly\", \"sailing\", \"smooth\", \"steps\", \"stop\", \"sustainable\", \"usable\", \"usd\", \"waste\", \"atari\", \"functionally\", \"html\", \"program\", \"translated\", \"build\", \"did\", \"dream\", \"problem\", \"way\", \"stuff\", \"bard\", \"yes\", \"question\", \"weird\", \"integration\", \"announced\", \"far\", \"gpt\", \"know\", \"actual\", \"basic\", \"innovation\", \"work\", \"gave\", \"programming\", \"write\", \"works\", \"perfect\", \"good\", \"use\", \"google\", \"better\", \"like\", \"just\", \"really\", \"making\", \"best\", \"data\", \"released\", \"using\", \"code\", \"used\", \"subscription\", \"obstacles\", \"cooking\", \"realtime\", \"chinese\", \"bottle\", \"peasy\", \"coolest\", \"recreated\", \"complete\", \"envisioned\", \"experimenting\", \"helping\", \"novice\", \"overcome\", \"articulate\", \"credits\", \"cuts\", \"drastically\", \"final\", \"axis\", \"deceptively\", \"degrade\", \"drops\", \"afloat\", \"destroy\", \"letting\", \"loss\", \"startups\", \"survive\", \"tried\", \"think\", \"try\", \"free\", \"love\", \"basically\", \"ago\", \"commands\", \"solid\", \"accuracy\", \"clearly\", \"search\", \"version\", \"users\", \"competition\", \"openais\", \"easy\", \"based\", \"wanted\", \"astra\", \"offering\", \"good\", \"advanced\", \"models\", \"just\", \"use\", \"better\", \"mini\", \"available\", \"thing\", \"best\", \"able\", \"thank\", \"results\", \"project\", \"help\", \"voice\", \"really\", \"gizmo\", \"intriguing\", \"giants\", \"games\", \"amassing\", \"approximately\", \"board\", \"collection\", \"developed\", \"enhances\", \"gaming\", \"introduces\", \"meticulously\", \"multiplayer\", \"nearing\", \"potentially\", \"researched\", \"rival\", \"traditional\", \"adaptability\", \"affect\", \"capacity\", \"customisation\", \"demonstrated\", \"evolving\", \"innovations\", \"interactions\", \"nature\", \"ongoing\", \"opportunities\", \"unique\", \"bing\", \"let\", \"experience\", \"wait\", \"agent\", \"reviews\", \"gpts\", \"research\", \"improves\", \"news\", \"user\", \"impressive\", \"images\", \"game\", \"gpt\", \"new\", \"great\", \"model\", \"google\", \"actually\", \"job\", \"thanks\", \"good\", \"microsoft\", \"awesome\", \"video\", \"dall\", \"trying\", \"reasoning\", \"plus\", \"level\", \"does\"], \"Freq\": [17.0, 42.0, 40.0, 19.0, 18.0, 47.0, 15.0, 17.0, 26.0, 28.0, 17.0, 46.0, 42.0, 8.0, 7.0, 7.0, 5.0, 5.0, 8.0, 7.0, 13.0, 12.0, 25.0, 8.0, 14.0, 10.0, 7.0, 6.0, 12.0, 3.0, 2.4610769094183933, 2.461076909314179, 2.4610769086655098, 1.6671811320919565, 1.6671811320088217, 1.667181131994655, 1.6671811319942351, 1.667181131955077, 1.6671811318079235, 1.6671811318008312, 1.6671811316377765, 1.6671811312438383, 1.6671811304165052, 1.6671724853719627, 1.6671442132678809, 3.2550083083514836, 2.461079246421722, 3.2549859435142494, 4.048874215966128, 0.8732853548062793, 0.8732853548062793, 0.8732853548062793, 0.8732853547073878, 0.8732853547073878, 0.8732853547073878, 0.8732853547073878, 0.8732853547073878, 0.8732853547073878, 0.8732853547072242, 0.8732853547072242, 13.575611572969821, 11.987872789654942, 11.98797225606714, 8.812280339679184, 9.606164640337528, 5.63666824708866, 4.842785493693671, 6.430564011842961, 5.636702730308976, 8.018381129475753, 5.636673839677739, 3.254992119432055, 4.048886084880496, 3.2550228943805273, 3.2549966812070097, 6.430544074760922, 3.2549775367378655, 3.2549898708635503, 3.978634401885087, 3.254975701052656, 3.2549700800056702, 2.461083552601626, 3.2549789810143275, 7.224437924095877, 4.8427792317170395, 4.414464379096422, 4.362640310026611, 4.194575534821528, 4.048883653620654, 4.0488763520512405, 4.048866695737849, 4.048851074105277, 4.048833165857419, 3.353242136780671, 3.255027460009647, 3.1830386644326256, 2.406690436636612, 2.406690436465342, 2.406687141788517, 1.6303386828502875, 1.6303386828135737, 1.6303386826837247, 1.6303386826671957, 1.6303386825991852, 1.630338682590208, 1.6303386825543718, 1.6303386823821342, 1.6303386822963402, 1.630338682113911, 1.630338682002499, 1.6303386818538514, 1.6303333768324815, 2.4067012662761558, 2.289043708277469, 0.853986928967713, 0.853986928967713, 0.853986928967713, 0.853986928967713, 0.853986928967713, 0.853986928967713, 0.853986928967713, 0.853986928967713, 0.853986928967713, 0.853986928967713, 0.8539869288946156, 9.39396560546104, 10.321152635199205, 7.662922119344399, 10.170223978806314, 3.959416178820661, 9.363732913227489, 3.959407861472472, 3.1830556209825263, 7.841208798633317, 3.1830678382674793, 2.4066907257609733, 2.406696325869275, 3.9593996128055675, 4.681242877338837, 5.512114832598375, 4.735797412368512, 4.735679939127313, 3.959430636354037, 3.9593975265881958, 3.9593595658094123, 3.860607262999945, 3.183096596985064, 3.183065154147459, 3.1830635746168774, 3.183049595538021, 3.1830486696717726, 2.925940176049722, 2.777426661127362, 2.4067667651743188, 2.40672023391606, 2.4067196038813634, 3.1336149037813756, 13.069449542263483, 1.6050222677898054, 1.6050222677640553, 1.6050222677640553, 1.6050222677161543, 1.6050222674498273, 1.6050222669448537, 1.605022266323873, 4.662212451894415, 3.1336152869521072, 2.3693241984468094, 4.662211078125394, 0.8407259496604318, 0.8407259496604318, 0.8407259496604318, 0.8407259496604318, 0.8407259496604318, 0.8407259496604318, 0.8407259496604318, 0.8407259496604315, 0.8407259496555924, 0.8407259496555924, 0.8407259496555924, 0.8407259496555924, 0.8407259496555924, 0.8407259496555924, 0.8407259496555924, 0.8407259496555924, 0.8407259496284747, 11.045662935184751, 4.66222908159654, 7.686673903275352, 3.1336055756574845, 8.359001910584093, 3.133621814409758, 5.061561901467406, 3.8979293993155677, 4.662299501226497, 7.719407646110802, 7.719447767701453, 4.662221638581463, 2.3693169550964908, 2.369320623054621, 6.814715193910884, 3.8979135493340253, 3.133647342811189, 4.662192311904124, 4.177563522406843, 3.966082154607027, 3.65454151508511, 3.133630640853192, 3.1335920723019273, 3.0019179957322057, 2.684414270758757, 2.62243646910677, 2.3693397073565485, 1.6146666165787438, 1.614666616572924, 1.614666616572924, 1.6146666165599743, 1.6146666165373589, 1.6146666165231558, 1.61466661649289, 1.61466661649108, 1.6146666164902752, 1.6146666164352528, 1.6146666164241583, 1.614666616117855, 1.6146666160277603, 1.6146666158635752, 1.6146666153496096, 4.690228055529635, 3.152446003256766, 0.8457777513776948, 0.8457777513776948, 0.8457777513776948, 0.8457777513776948, 0.8457777513776948, 0.8457777513776948, 0.8457777513776948, 0.8457777513776287, 0.8457777513776287, 0.8457777513776287, 0.8457777513776287, 0.8457777513775994, 0.8457777513775994, 10.841405657860031, 10.072516083059835, 3.921299009640741, 5.459147173712529, 4.690259605992657, 3.1524537114598905, 4.69022354510389, 4.690264775181563, 3.1524624268289396, 2.383558271397537, 2.3835599147690703, 2.3835668726405213, 3.1524814824894567, 5.459147300417544, 4.690186009317154, 3.9213496552513805, 3.9213356113074482, 3.9213303634374292, 3.921308188052483, 3.9212719270656793, 3.1525043040928864, 3.152485192305961, 3.1524849572720917, 3.152472756735902, 3.1524695825100917, 3.1524675398529682, 3.1524545030281352, 3.1524506592216643, 3.152442494962239, 2.3835960003915853, 2.383586459472398, 3.1051039081066127, 2.3477614915322915, 1.5904190747963471, 1.5904190747786298, 1.5904190746826101, 1.5904190745690714, 2.3477528485752845, 3.1051184404149925, 0.8330766581784437, 0.8330766581784437, 0.8330766581784437, 0.8330766581784437, 0.8330766581784437, 0.8330766581784437, 0.8330766581784437, 0.8330766581784437, 0.8330766581784437, 0.8330766581784437, 0.8330766581784437, 0.8330766581784437, 0.8330766581784437, 0.8330766581784437, 0.8330766581784437, 0.8330766581784437, 0.8330766581784437, 0.8330766581784437, 0.8330766581784437, 0.8330766581784437, 0.8330766581103953, 0.8330766581103953, 8.406569730441241, 5.377178784686062, 3.8624746660997364, 2.347764552670182, 2.3477716964318924, 3.1051394105061503, 3.105163341121357, 3.1051294302037844, 2.3477312853446968, 3.105116191583117, 2.34776944867583, 1.5904186364325261, 1.590422481159705, 1.5904196263823065, 3.105155412262767, 1.5904261268234943, 1.5904256685402343, 1.5904200395728516, 1.5903842407326874, 1.5904215277577762, 1.590421310505751, 1.5904256932812868, 5.377172595743476, 4.619820197565599, 3.862482945723484, 3.8624535551468875, 3.8624490654971377, 3.1051278992366984, 3.1051253381410575, 3.105111923571596, 2.5216295461190428, 2.4813738175296582, 2.3478097907581374, 2.347784985476389, 2.347776071080685, 2.347775557786054, 2.3477720634829327, 2.347770175140913, 2.3477666657657323, 2.347765378152924, 2.240891949496262, 2.2408919492721413, 1.518023578739312, 1.518023578739312, 1.518023578421053, 1.5180235783982905, 1.5180235778639841, 1.5180235763757413, 0.7951552078455488, 0.7951552078455488, 0.7951552078455488, 0.7951552078455488, 0.7951552078455488, 0.7951552078397938, 0.7951552078397938, 0.7951552078397938, 0.7951552078397938, 0.7951552078397938, 0.7951552078397938, 0.7951552078397938, 0.7951552078397938, 0.7951552078397938, 0.7951552078397938, 0.7951552078397938, 0.7951552078271658, 0.7951552078271658, 0.7951552078271658, 0.7951552078132214, 0.7951552078132214, 0.7951552078132214, 12.003974262431218, 6.9766873425897495, 10.127925533615038, 4.409528702066546, 9.111922311303859, 3.686652142811895, 5.103359753338248, 5.855184697763893, 2.9637640029681322, 2.9637979096054234, 2.9637993029426335, 2.240906829920837, 2.240910173681811, 5.132383251428274, 2.96377402373252, 2.9637820047351817, 1.5180243030986647, 1.5180270962728373, 1.5180233851800866, 1.5180341126703603, 1.518025217099645, 1.5180245270245618, 5.600933897472603, 4.409527373354705, 3.686669656268609, 3.68666252540194, 3.6866606429803217, 3.670885971176125, 2.9637775090480045, 2.963763569596326, 2.9637282736503403, 2.9636892728384336, 2.240937512904074, 2.2409207467417676, 2.2409197419284905, 2.2409180651344873, 2.2040279923898396, 1.4930512206031916, 1.4930512205899946, 1.4930512205411124, 1.4930512205210063, 1.4930512204940167, 1.4930512204691213, 2.9150101134713773, 2.2040318203023723, 4.336999117632466, 2.204064028563986, 2.915017473314167, 0.7820744487718191, 0.7820744487718191, 0.7820744487718191, 0.7820744487718191, 0.7820744487718191, 0.7820744487718191, 0.7820744487718191, 0.7820744487718191, 0.7820744487716521, 0.7820744487716521, 0.7820744487716521, 0.7820744487716521, 0.7820744487716521, 0.7820744487716521, 0.7820744487716521, 0.7820744487716521, 0.7820744487716521, 0.7820744487610692, 6.47001462605589, 2.915040451399332, 2.915036159116289, 2.204041705322953, 2.2040347834752567, 6.469961667932545, 6.110237616045679, 1.4930515895751475, 1.4930540462096045, 1.4930553270181846, 2.204040644554645, 2.204038067519721, 4.336983099379615, 2.9150173187572213, 2.2040365463913276, 1.4930525430626582, 2.20403948294423, 1.493056159232252, 5.047985108900252, 4.6888164824845, 4.336965497643698, 3.626008370909805, 3.234025512031165, 2.9305379517071053, 2.2040551713189633, 2.204050533903962, 2.204042779256083, 2.2040386926737012, 2.204029041621244, 1.455641082497593, 1.4556410824306232, 1.4556410823636539, 1.4556410822624237, 2.148806243418445, 2.841969413353851, 0.7624786621701777, 0.7624786621701777, 0.7624786621701777, 0.7624786621701777, 0.7624786621701777, 0.7624786621701777, 0.7624786621701777, 0.7624786621701777, 0.7624786621701652, 0.7624786621701652, 0.7624786621701652, 0.7624786621701652, 0.7624786621701652, 0.7624786621701652, 0.7624786621701652, 0.7624786621701652, 0.7624786621701652, 0.7624786621701652, 0.7624786621701652, 0.7624786621249942, 0.7624786621249942, 0.7624786621249942, 0.7624786621249942, 0.7624786621249942, 2.841983023955424, 4.174497139353236, 2.148809478257477, 2.1488052359532994, 3.535154262780782, 2.8419828976847623, 2.148811129261792, 2.148816523931804, 2.148806780335094, 1.4556421784371019, 1.4556403503667585, 1.4556428089193851, 2.842013289482565, 5.61467955961674, 2.8420119101489782, 1.4556495094623254, 1.4556431820548796, 1.4556461263059586, 2.8420002285596553, 1.4556438717477564, 1.455654257111045, 1.4556488879055982, 2.1488398921282847, 1.4556479349765878, 3.535225702199952, 3.535149785191386, 3.1101483202216453, 2.8419888362477255, 2.8419805406742094, 2.841979961643485, 2.841961041649234, 2.1488337958262647, 2.148828447760817, 2.148820837176046, 2.1488196094230085, 2.148818720637616, 2.1488163295593536, 2.148815022281985, 2.116109711073299, 1.4334936753077718, 1.4334936751873102, 1.4334936751072902, 1.4334936748840659, 1.4334936745722755, 1.4334906235048053, 0.7508776393296199, 0.7508776393296199, 0.7508776393233554, 0.7508776393233554, 0.7508776393233554, 0.7508776393233554, 0.7508776393233554, 0.7508776393233554, 0.7508776393089237, 0.7508776393089237, 0.7508776393089237, 0.7508776393089237, 0.7508776393089237, 0.7508776392625537, 0.7508776392625537, 0.7508776392625537, 0.7508776392625537, 0.7508776392624378, 0.7508776392624378, 0.7508776392624378, 0.7508776392624378, 0.7508776392624378, 0.7508776392624378, 3.4813607530415136, 4.846649604358358, 2.798747924041386, 5.432158733352591, 2.798799265984422, 2.798754323941585, 2.1161162268816867, 1.4334934079255333, 1.4334894849193447, 1.4334963198981558, 1.4334982021950413, 3.481367518909144, 2.116131193344156, 2.798723723222514, 2.11609970893164, 2.116100400510052, 2.014263383608653, 2.116125312001466, 1.4334977672901874, 1.4334954563798536, 1.4334954721523985, 4.846665048074372, 2.1161158843735013, 3.4813629235225134, 3.481331982217541, 2.7987433827731714, 2.2958332842963354, 2.2475256085693007, 2.2337561752979327, 2.1161707273029684, 2.116152794324405, 2.1161502986333063, 2.1161451045238637, 2.1161431148447165, 2.116141662891534, 2.1161348902093398, 2.1161129609680542, 2.1161103479402406, 1.331527898917334, 1.331527898917334, 1.3315278988795274, 2.5996593035268263, 0.6974669946305907, 0.6974669946305907, 0.6974669946305907, 0.6974669946305907, 0.6974669946305907, 0.6974669946305907, 0.6974669946305907, 0.6974669946305907, 0.6974669946305907, 0.6974669946305907, 0.6974669946305907, 0.6974669946305907, 0.6974669946305907, 0.6974669946305907, 0.6974669946305907, 0.6974669945843462, 0.6974669945843462, 0.6974669945843462, 0.6974669945843462, 0.6974669945843462, 0.6974669945843462, 0.6974669945843462, 0.6974669945843462, 0.6974669945843462, 0.6974669945843462, 0.6974669945843462, 2.599669262216456, 2.5996938832051177, 1.9656031024975424, 2.599725382549072, 1.3315187949668745, 1.331530371961976, 1.3315300394404537, 1.3315317734072287, 1.9656069743101234, 1.3315443579706967, 1.3315541768233736, 1.965670681318426, 2.5997442344627717, 1.9656292907845265, 1.9656110837762406, 3.233739791660362, 2.5997184647594445, 2.5996644459472646, 2.599644208137794, 2.2687585713497915, 1.965619271742082, 1.9656191426434573, 1.9655687131480082, 1.965429474011914, 1.33161631111578, 1.3316160003462887, 1.3315696290511618, 1.3315637435942935, 1.331541975907957, 1.331541334644857, 1.3315413301170946, 1.3315409238074973, 1.3315405257550252], \"Total\": [17.0, 42.0, 40.0, 19.0, 18.0, 47.0, 15.0, 17.0, 26.0, 28.0, 17.0, 46.0, 42.0, 8.0, 7.0, 7.0, 5.0, 5.0, 8.0, 7.0, 13.0, 12.0, 25.0, 8.0, 14.0, 10.0, 7.0, 6.0, 12.0, 3.0, 3.112133295476536, 3.1121332954661214, 3.112133295401248, 2.3182375181222414, 2.3182375181139316, 2.3182375181125114, 2.318237518112467, 2.318237518108555, 2.3182375180938424, 2.318237518093135, 2.3182375180768378, 2.3182375180374666, 2.3182375179547177, 2.318236615014114, 2.3182361415183514, 4.663373129428894, 3.8694758197454404, 5.364997659338738, 6.9513864895603055, 1.5243417407719813, 1.5243417407719813, 1.5243417407719813, 1.524341740762091, 1.524341740762091, 1.524341740762091, 1.524341740762091, 1.524341740762091, 1.524341740762091, 1.5243417407620823, 1.5243417407620823, 48.60710399422924, 38.06797514358216, 40.629979120036836, 27.30169980678759, 34.29353232135766, 12.050921360647136, 9.102212651073804, 18.22398497754826, 14.204958809509067, 28.888189779769412, 16.60989626651743, 6.03555678399681, 9.942703654895615, 6.761844477686372, 6.926889722140656, 27.444661891429543, 7.528372862021428, 7.573851908987864, 11.339317900319568, 7.7423049675732125, 7.7516210570410005, 4.5711014770845, 8.077350253258825, 42.0454913206865, 18.78667465079681, 29.741539514597225, 16.576235659705688, 45.30337804567205, 12.658924431982895, 17.289648693118224, 42.235083841894685, 47.741999740577846, 15.758112060554465, 46.45823979361093, 9.154747415967636, 3.8358529239973915, 3.0595012249259375, 3.059501224912433, 3.059501144219658, 2.2831494710956246, 2.2831494710927283, 2.28314947108249, 2.283149471081187, 2.2831494710758187, 2.2831494710751095, 2.2831494710722864, 2.2831494710587066, 2.283149471051931, 2.283149471037531, 2.2831494710287696, 2.283149471017035, 2.283149341118147, 3.8283901940674805, 3.821970687352045, 1.5067977172576845, 1.5067977172576845, 1.5067977172576845, 1.5067977172576845, 1.5067977172576845, 1.5067977172576845, 1.5067977172576845, 1.5067977172576845, 1.5067977172576845, 1.5067977172576845, 1.506797717251918, 26.628023861932277, 32.98047127685476, 21.84994614294651, 48.60710399422924, 7.525916629869233, 47.741999740577846, 9.19073667011523, 7.190730481569393, 45.30337804567205, 7.47025260504678, 4.457858260404422, 4.58114009859235, 12.641552903933764, 18.78802531987554, 34.29353232135766, 29.741539514597225, 40.629979120036836, 16.303405276784858, 25.769136534961582, 46.45823979361093, 28.888189779769412, 9.786776513634425, 10.007061646549388, 16.576235659705688, 14.368857775928438, 12.004153187235966, 10.641177410161688, 17.289648693118224, 5.328675064461843, 11.252205689114584, 9.790111506686475, 3.7876312357574515, 17.162729284722918, 2.2590385996000792, 2.2590385995984503, 2.2590385995984503, 2.2590385995954234, 2.259038599578604, 2.259038599546681, 2.259038599507484, 6.709817119823114, 4.510499858546772, 3.7059515534831866, 7.396022273430933, 1.4947422815129199, 1.4947422815129199, 1.4947422815129199, 1.4947422815129199, 1.4947422815129199, 1.4947422815129199, 1.4947422815129199, 1.4947422815129197, 1.4947422815126175, 1.4947422815126175, 1.4947422815126175, 1.4947422815126175, 1.4947422815126175, 1.4947422815126175, 1.4947422815126175, 1.4947422815126175, 1.4947422815108984, 42.0454913206865, 10.26970757650836, 34.29353232135766, 6.055738295740651, 46.45823979361093, 6.550045673867925, 17.289648693118224, 10.627898355093402, 15.376460872839203, 42.235083841894685, 48.60710399422924, 18.22398497754826, 5.226068798042848, 5.24899675348095, 45.30337804567205, 14.917493085252941, 10.007061646549388, 47.741999740577846, 32.98047127685476, 40.629979120036836, 29.741539514597225, 27.30169980678759, 18.817321275542223, 16.60989626651743, 16.576235659705688, 10.641177410161688, 11.16202380068244, 2.268223693719699, 2.2682236937192957, 2.2682236937192957, 2.2682236937183933, 2.2682236937168248, 2.268223693715835, 2.2682236937137357, 2.2682236937136033, 2.268223693713551, 2.2682236937097313, 2.2682236937089737, 2.2682236936876743, 2.268223693681413, 2.2682236936700257, 2.268223693634277, 6.660457374710004, 4.516978320564522, 1.4993348285697492, 1.4993348285697492, 1.4993348285697492, 1.4993348285697492, 1.4993348285697492, 1.4993348285697492, 1.4993348285697492, 1.4993348285697494, 1.4993348285697494, 1.4993348285697494, 1.4993348285697494, 1.4993348285697468, 1.4993348285697468, 46.45823979361093, 47.741999740577846, 7.311317368847383, 15.438204864610872, 12.004153187235966, 6.57334253798426, 14.917493085252941, 15.361804356619492, 7.424094359943146, 4.4945719470950545, 4.496080680074262, 4.513624052993561, 8.795185140397232, 27.444661891429543, 45.30337804567205, 19.600993459050578, 38.06797514358216, 18.78667465079681, 29.741539514597225, 42.235083841894685, 10.529767626152742, 15.268806983565822, 21.84994614294651, 9.84202482397676, 15.758112060554465, 11.255006179216902, 32.98047127685476, 20.356857233336697, 16.430120324316963, 7.545190161280581, 6.758185689302536, 3.759815630243148, 3.0024732135450956, 2.2451307968382523, 2.2451307968372887, 2.2451307968320617, 2.245130796825886, 3.76676975052524, 5.1355954350368345, 1.4877883801377887, 1.4877883801377887, 1.4877883801377887, 1.4877883801377887, 1.4877883801377887, 1.4877883801377887, 1.4877883801377887, 1.4877883801377887, 1.4877883801377887, 1.4877883801377887, 1.4877883801377887, 1.4877883801377887, 1.4877883801377887, 1.4877883801377887, 1.4877883801377887, 1.4877883801377887, 1.4877883801377887, 1.4877883801377887, 1.4877883801377887, 1.4877883801377887, 1.4877883801340899, 1.4877883801340899, 18.817321275542223, 14.368857775928438, 10.608198643096344, 4.449385692202078, 4.45397867535144, 8.170298645508012, 8.339757725421777, 8.969225532840689, 5.916183986025553, 10.641177410161688, 6.093850312439484, 2.8791916298368836, 2.927747168923982, 2.9277468872162045, 11.301031240218792, 2.967999488803684, 2.96799946794106, 3.009427106031292, 3.0094280281396224, 3.0140196245513713, 3.014019627862619, 3.0214823844212284, 48.60710399422924, 27.30169980678759, 38.06797514358216, 45.30337804567205, 42.235083841894685, 16.353856653731953, 12.951966723946422, 40.629979120036836, 21.84994614294651, 32.98047127685476, 15.376460872839203, 11.16202380068244, 10.434141248962177, 25.769136534961582, 8.056701834836904, 7.513687838035918, 29.741539514597225, 16.430120324316963, 2.899051076358233, 2.8990510763572304, 2.1761827053868066, 2.1761827053868066, 2.1761827053853984, 2.1761827053852945, 2.17618270538289, 2.1761827053763603, 1.4533143344147466, 1.4533143344147466, 1.4533143344147466, 1.4533143344147466, 1.4533143344147466, 1.4533143344147217, 1.4533143344147217, 1.4533143344147217, 1.4533143344147217, 1.4533143344147217, 1.4533143344147217, 1.4533143344147217, 1.4533143344147217, 1.4533143344147217, 1.4533143344147217, 1.4533143344147217, 1.4533143344146617, 1.4533143344146617, 1.4533143344146617, 1.453314334414603, 1.453314334414603, 1.453314334414603, 42.235083841894685, 17.75731164008868, 40.629979120036836, 8.984500245942836, 47.741999740577846, 8.548385557064982, 18.78802531987554, 25.769136534961582, 7.056092797375088, 7.573851908987864, 8.537683262707912, 5.2039944785204595, 5.238186488643792, 28.888189779769412, 9.969455616532406, 10.212371718944299, 2.8587987816833134, 2.940478821825324, 2.9404790345234826, 2.945070899777534, 2.9450714662029553, 2.945071510143456, 42.0454913206865, 45.30337804567205, 29.741539514597225, 34.29353232135766, 32.98047127685476, 26.628023861932277, 48.60710399422924, 15.758112060554465, 27.444661891429543, 19.600993459050578, 15.268806983565822, 10.310584991940159, 12.641552903933764, 20.356857233336697, 2.863376278823403, 2.1523995070307773, 2.1523995070309634, 2.1523995070316633, 2.152399507031943, 2.152399507032327, 2.152399507032681, 4.368248129051385, 3.586244585769405, 7.070324034432339, 3.657267853004241, 5.0545634051348385, 1.4414227352387596, 1.4414227352387596, 1.4414227352387596, 1.4414227352387596, 1.4414227352387596, 1.4414227352387596, 1.4414227352387596, 1.4414227352387596, 1.4414227352387625, 1.4414227352387625, 1.4414227352387625, 1.4414227352387625, 1.4414227352387625, 1.4414227352387625, 1.4414227352387625, 1.4414227352387625, 1.4414227352387625, 1.4414227352389153, 19.600993459050578, 6.486909592624196, 8.04201462459991, 5.091232214864178, 5.195048675049784, 45.30337804567205, 42.235083841894685, 2.909741899653931, 2.9287510010023245, 2.946294805195277, 6.596298211635873, 6.620334724980492, 25.769136534961582, 12.326839157983951, 7.404361727596364, 3.6901771295717425, 8.05524412829368, 3.7036371802798187, 46.45823979361093, 47.741999740577846, 38.06797514358216, 28.888189779769412, 17.75731164008868, 26.628023861932277, 27.444661891429543, 13.916601571747302, 42.0454913206865, 8.154695293239762, 18.78667465079681, 2.1167708040429924, 2.11677080404593, 2.1167708040488677, 2.1167708040533193, 3.5742292611488833, 4.925049098526334, 1.4236083837472817, 1.4236083837472817, 1.4236083837472817, 1.4236083837472817, 1.4236083837472817, 1.4236083837472817, 1.4236083837472817, 1.4236083837472817, 1.4236083837472822, 1.4236083837472822, 1.4236083837472822, 1.4236083837472822, 1.4236083837472822, 1.4236083837472822, 1.4236083837472822, 1.4236083837472822, 1.4236083837472822, 1.4236083837472822, 1.4236083837472822, 1.423608383749267, 1.423608383749267, 1.423608383749267, 1.423608383749267, 1.423608383749267, 6.478826218750633, 15.438204864610872, 4.336163923680478, 4.355173716828931, 13.305121647929978, 8.822884203728025, 5.058687587345174, 5.707508960433127, 5.818735439851303, 2.827747547677951, 2.827747594671219, 2.8856594805359888, 11.00528221454565, 46.45823979361093, 12.494899001808296, 3.593281178675312, 3.65454830492556, 4.27246932764416, 16.430120324316963, 4.332619511260837, 4.372823923145622, 4.372987907798594, 9.548161067668417, 4.436896966939372, 42.0454913206865, 38.06797514358216, 20.356857233336697, 32.98047127685476, 48.60710399422924, 45.30337804567205, 40.629979120036836, 15.376460872839203, 25.769136534961582, 11.16202380068244, 10.212371718944299, 27.30169980678759, 18.78667465079681, 15.758112060554465, 2.7782940712938666, 2.0956780353399296, 2.095678035347427, 2.0956780353524134, 2.095678035366287, 2.0956780353857027, 2.095678532757677, 1.4130619993992075, 1.4130619993992075, 1.4130619993995939, 1.4130619993995939, 1.4130619993995939, 1.4130619993995939, 1.4130619993995939, 1.4130619993995939, 1.4130619994004907, 1.4130619994004907, 1.4130619994004907, 1.4130619994004907, 1.4130619994004907, 1.4130619994033764, 1.4130619994033764, 1.4130619994033764, 1.4130619994033764, 1.41306199940338, 1.41306199940338, 1.41306199940338, 1.41306199940338, 1.41306199940338, 1.41306199940338, 7.087631123711101, 13.742271772691726, 6.3686968696633715, 29.741539514597225, 8.537683262707912, 8.786168800620056, 5.745487083280901, 2.7297389206580682, 2.78884097064047, 2.8530201625177, 2.872029167483592, 17.289648693118224, 6.433376854077867, 12.326839157983951, 7.056092797375088, 7.077909231937196, 6.545347652879908, 7.424094359943146, 3.6288627237485387, 3.6334555405075135, 3.648381296220398, 42.0454913206865, 8.25046171930999, 28.888189779769412, 45.30337804567205, 38.06797514358216, 32.98047127685476, 16.576235659705688, 16.60989626651743, 9.494872565958804, 25.769136534961582, 10.272412690658138, 17.162729284722918, 16.303405276784858, 10.369156925082448, 9.534281235756424, 12.050921360647136, 40.629979120036836, 1.9985677720703476, 1.9985677720703476, 1.998567772076346, 3.989556607628617, 1.3645068677637355, 1.3645068677637355, 1.3645068677637355, 1.3645068677637355, 1.3645068677637355, 1.3645068677637355, 1.3645068677637355, 1.3645068677637355, 1.3645068677637355, 1.3645068677637355, 1.3645068677637355, 1.3645068677637355, 1.3645068677637355, 1.3645068677637355, 1.3645068677637355, 1.3645068677710654, 1.3645068677710654, 1.3645068677710654, 1.3645068677710654, 1.3645068677710654, 1.3645068677710654, 1.3645068677710654, 1.3645068677710654, 1.3645068677710654, 1.3645068677710654, 1.3645068677710654, 5.504240057299594, 5.630821736526326, 4.95511369030847, 10.165346178453222, 2.681184668332076, 2.709544243878775, 2.7095442842203257, 2.7214356003838605, 6.499397132702587, 3.456024630262778, 3.5202010937805355, 8.686823354446075, 15.268806983565822, 8.795185140397232, 10.336351639352147, 46.45823979361093, 26.628023861932277, 27.444661891429543, 47.741999740577846, 20.356857233336697, 15.361804356619492, 13.166202004068865, 19.600993459050578, 42.0454913206865, 7.317293016200814, 7.311317368847383, 9.388127085136425, 5.114045469672002, 5.8142133631457815, 9.969455616532406, 10.927990020129986, 6.577107537167966, 16.353856653731953], \"Category\": [\"Default\", \"Default\", \"Default\", \"Default\", \"Default\", \"Default\", \"Default\", \"Default\", \"Default\", \"Default\", \"Default\", \"Default\", \"Default\", \"Default\", \"Default\", \"Default\", \"Default\", \"Default\", \"Default\", \"Default\", \"Default\", \"Default\", \"Default\", \"Default\", \"Default\", \"Default\", \"Default\", \"Default\", \"Default\", \"Default\", \"Topic1\", \"Topic1\", \"Topic1\", \"Topic1\", \"Topic1\", \"Topic1\", \"Topic1\", \"Topic1\", \"Topic1\", \"Topic1\", \"Topic1\", \"Topic1\", \"Topic1\", \"Topic1\", \"Topic1\", \"Topic1\", \"Topic1\", \"Topic1\", \"Topic1\", \"Topic1\", \"Topic1\", \"Topic1\", \"Topic1\", \"Topic1\", \"Topic1\", \"Topic1\", \"Topic1\", \"Topic1\", \"Topic1\", \"Topic1\", \"Topic1\", \"Topic1\", \"Topic1\", \"Topic1\", \"Topic1\", \"Topic1\", \"Topic1\", \"Topic1\", \"Topic1\", \"Topic1\", \"Topic1\", \"Topic1\", \"Topic1\", \"Topic1\", \"Topic1\", \"Topic1\", \"Topic1\", \"Topic1\", \"Topic1\", \"Topic1\", \"Topic1\", \"Topic1\", \"Topic1\", \"Topic1\", \"Topic1\", \"Topic1\", \"Topic1\", \"Topic1\", \"Topic1\", \"Topic1\", \"Topic1\", \"Topic1\", \"Topic1\", \"Topic1\", \"Topic1\", \"Topic2\", \"Topic2\", \"Topic2\", \"Topic2\", \"Topic2\", \"Topic2\", \"Topic2\", \"Topic2\", \"Topic2\", \"Topic2\", \"Topic2\", \"Topic2\", \"Topic2\", \"Topic2\", \"Topic2\", \"Topic2\", \"Topic2\", \"Topic2\", \"Topic2\", \"Topic2\", \"Topic2\", \"Topic2\", \"Topic2\", \"Topic2\", \"Topic2\", \"Topic2\", \"Topic2\", \"Topic2\", \"Topic2\", \"Topic2\", \"Topic2\", \"Topic2\", \"Topic2\", \"Topic2\", \"Topic2\", \"Topic2\", \"Topic2\", \"Topic2\", \"Topic2\", \"Topic2\", \"Topic2\", \"Topic2\", \"Topic2\", \"Topic2\", \"Topic2\", \"Topic2\", \"Topic2\", \"Topic2\", \"Topic2\", \"Topic2\", \"Topic2\", \"Topic2\", \"Topic2\", \"Topic2\", \"Topic2\", \"Topic2\", \"Topic2\", \"Topic2\", \"Topic2\", \"Topic2\", \"Topic2\", \"Topic3\", \"Topic3\", \"Topic3\", \"Topic3\", \"Topic3\", \"Topic3\", \"Topic3\", \"Topic3\", \"Topic3\", \"Topic3\", \"Topic3\", \"Topic3\", \"Topic3\", \"Topic3\", \"Topic3\", \"Topic3\", \"Topic3\", \"Topic3\", \"Topic3\", \"Topic3\", \"Topic3\", \"Topic3\", \"Topic3\", \"Topic3\", \"Topic3\", \"Topic3\", \"Topic3\", \"Topic3\", \"Topic3\", \"Topic3\", \"Topic3\", \"Topic3\", \"Topic3\", \"Topic3\", \"Topic3\", \"Topic3\", \"Topic3\", \"Topic3\", \"Topic3\", \"Topic3\", \"Topic3\", \"Topic3\", \"Topic3\", \"Topic3\", \"Topic3\", \"Topic3\", \"Topic3\", \"Topic3\", \"Topic3\", \"Topic3\", \"Topic3\", \"Topic3\", \"Topic3\", \"Topic3\", \"Topic3\", \"Topic3\", \"Topic3\", \"Topic4\", \"Topic4\", \"Topic4\", \"Topic4\", \"Topic4\", \"Topic4\", \"Topic4\", \"Topic4\", \"Topic4\", \"Topic4\", \"Topic4\", \"Topic4\", \"Topic4\", \"Topic4\", \"Topic4\", \"Topic4\", \"Topic4\", \"Topic4\", \"Topic4\", \"Topic4\", \"Topic4\", \"Topic4\", \"Topic4\", \"Topic4\", \"Topic4\", \"Topic4\", \"Topic4\", \"Topic4\", \"Topic4\", \"Topic4\", \"Topic4\", \"Topic4\", \"Topic4\", \"Topic4\", \"Topic4\", \"Topic4\", \"Topic4\", \"Topic4\", \"Topic4\", \"Topic4\", \"Topic4\", \"Topic4\", \"Topic4\", \"Topic4\", \"Topic4\", \"Topic4\", \"Topic4\", \"Topic4\", \"Topic4\", \"Topic4\", \"Topic4\", \"Topic4\", \"Topic4\", \"Topic4\", \"Topic4\", \"Topic4\", \"Topic4\", \"Topic4\", \"Topic4\", \"Topic4\", \"Topic4\", \"Topic5\", \"Topic5\", \"Topic5\", \"Topic5\", \"Topic5\", \"Topic5\", \"Topic5\", \"Topic5\", \"Topic5\", \"Topic5\", \"Topic5\", \"Topic5\", \"Topic5\", \"Topic5\", \"Topic5\", \"Topic5\", \"Topic5\", \"Topic5\", \"Topic5\", \"Topic5\", \"Topic5\", \"Topic5\", \"Topic5\", \"Topic5\", \"Topic5\", \"Topic5\", \"Topic5\", \"Topic5\", \"Topic5\", \"Topic5\", \"Topic5\", \"Topic5\", \"Topic5\", \"Topic5\", \"Topic5\", \"Topic5\", \"Topic5\", \"Topic5\", \"Topic5\", \"Topic5\", \"Topic5\", \"Topic5\", \"Topic5\", \"Topic5\", \"Topic5\", \"Topic5\", \"Topic5\", \"Topic5\", \"Topic5\", \"Topic5\", \"Topic5\", \"Topic5\", \"Topic5\", \"Topic5\", \"Topic5\", \"Topic5\", \"Topic5\", \"Topic5\", \"Topic5\", \"Topic5\", \"Topic5\", \"Topic5\", \"Topic5\", \"Topic5\", \"Topic5\", \"Topic5\", \"Topic5\", \"Topic5\", \"Topic5\", \"Topic5\", \"Topic6\", \"Topic6\", \"Topic6\", \"Topic6\", \"Topic6\", \"Topic6\", \"Topic6\", \"Topic6\", \"Topic6\", \"Topic6\", \"Topic6\", \"Topic6\", \"Topic6\", \"Topic6\", \"Topic6\", \"Topic6\", \"Topic6\", \"Topic6\", \"Topic6\", \"Topic6\", \"Topic6\", \"Topic6\", \"Topic6\", \"Topic6\", \"Topic6\", \"Topic6\", \"Topic6\", \"Topic6\", \"Topic6\", \"Topic6\", \"Topic6\", \"Topic6\", \"Topic6\", \"Topic6\", \"Topic6\", \"Topic6\", \"Topic6\", \"Topic6\", \"Topic6\", \"Topic6\", \"Topic6\", \"Topic6\", \"Topic6\", \"Topic6\", \"Topic6\", \"Topic6\", \"Topic6\", \"Topic6\", \"Topic6\", \"Topic6\", \"Topic6\", \"Topic6\", \"Topic6\", \"Topic6\", \"Topic6\", \"Topic6\", \"Topic6\", \"Topic6\", \"Topic6\", \"Topic6\", \"Topic6\", \"Topic6\", \"Topic6\", \"Topic6\", \"Topic6\", \"Topic6\", \"Topic7\", \"Topic7\", \"Topic7\", \"Topic7\", \"Topic7\", \"Topic7\", \"Topic7\", \"Topic7\", \"Topic7\", \"Topic7\", \"Topic7\", \"Topic7\", \"Topic7\", \"Topic7\", \"Topic7\", \"Topic7\", \"Topic7\", \"Topic7\", \"Topic7\", \"Topic7\", \"Topic7\", \"Topic7\", \"Topic7\", \"Topic7\", \"Topic7\", \"Topic7\", \"Topic7\", \"Topic7\", \"Topic7\", \"Topic7\", \"Topic7\", \"Topic7\", \"Topic7\", \"Topic7\", \"Topic7\", \"Topic7\", \"Topic7\", \"Topic7\", \"Topic7\", \"Topic7\", \"Topic7\", \"Topic7\", \"Topic7\", \"Topic7\", \"Topic7\", \"Topic7\", \"Topic7\", \"Topic7\", \"Topic7\", \"Topic7\", \"Topic7\", \"Topic7\", \"Topic7\", \"Topic7\", \"Topic7\", \"Topic7\", \"Topic7\", \"Topic7\", \"Topic7\", \"Topic8\", \"Topic8\", \"Topic8\", \"Topic8\", \"Topic8\", \"Topic8\", \"Topic8\", \"Topic8\", \"Topic8\", \"Topic8\", \"Topic8\", \"Topic8\", \"Topic8\", \"Topic8\", \"Topic8\", \"Topic8\", \"Topic8\", \"Topic8\", \"Topic8\", \"Topic8\", \"Topic8\", \"Topic8\", \"Topic8\", \"Topic8\", \"Topic8\", \"Topic8\", \"Topic8\", \"Topic8\", \"Topic8\", \"Topic8\", \"Topic8\", \"Topic8\", \"Topic8\", \"Topic8\", \"Topic8\", \"Topic8\", \"Topic8\", \"Topic8\", \"Topic8\", \"Topic8\", \"Topic8\", \"Topic8\", \"Topic8\", \"Topic8\", \"Topic8\", \"Topic8\", \"Topic8\", \"Topic8\", \"Topic8\", \"Topic8\", \"Topic8\", \"Topic8\", \"Topic8\", \"Topic8\", \"Topic8\", \"Topic8\", \"Topic8\", \"Topic8\", \"Topic8\", \"Topic8\", \"Topic8\", \"Topic8\", \"Topic8\", \"Topic8\", \"Topic8\", \"Topic8\", \"Topic8\", \"Topic8\", \"Topic9\", \"Topic9\", \"Topic9\", \"Topic9\", \"Topic9\", \"Topic9\", \"Topic9\", \"Topic9\", \"Topic9\", \"Topic9\", \"Topic9\", \"Topic9\", \"Topic9\", \"Topic9\", \"Topic9\", \"Topic9\", \"Topic9\", \"Topic9\", \"Topic9\", \"Topic9\", \"Topic9\", \"Topic9\", \"Topic9\", \"Topic9\", \"Topic9\", \"Topic9\", \"Topic9\", \"Topic9\", \"Topic9\", \"Topic9\", \"Topic9\", \"Topic9\", \"Topic9\", \"Topic9\", \"Topic9\", \"Topic9\", \"Topic9\", \"Topic9\", \"Topic9\", \"Topic9\", \"Topic9\", \"Topic9\", \"Topic9\", \"Topic9\", \"Topic9\", \"Topic9\", \"Topic9\", \"Topic9\", \"Topic9\", \"Topic9\", \"Topic9\", \"Topic9\", \"Topic9\", \"Topic9\", \"Topic9\", \"Topic9\", \"Topic9\", \"Topic9\", \"Topic9\", \"Topic9\", \"Topic9\", \"Topic9\", \"Topic9\", \"Topic9\", \"Topic9\", \"Topic9\", \"Topic9\", \"Topic9\", \"Topic10\", \"Topic10\", \"Topic10\", \"Topic10\", \"Topic10\", \"Topic10\", \"Topic10\", \"Topic10\", \"Topic10\", \"Topic10\", \"Topic10\", \"Topic10\", \"Topic10\", \"Topic10\", \"Topic10\", \"Topic10\", \"Topic10\", \"Topic10\", \"Topic10\", \"Topic10\", \"Topic10\", \"Topic10\", \"Topic10\", \"Topic10\", \"Topic10\", \"Topic10\", \"Topic10\", \"Topic10\", \"Topic10\", \"Topic10\", \"Topic10\", \"Topic10\", \"Topic10\", \"Topic10\", \"Topic10\", \"Topic10\", \"Topic10\", \"Topic10\", \"Topic10\", \"Topic10\", \"Topic10\", \"Topic10\", \"Topic10\", \"Topic10\", \"Topic10\", \"Topic10\", \"Topic10\", \"Topic10\", \"Topic10\", \"Topic10\", \"Topic10\", \"Topic10\", \"Topic10\", \"Topic10\", \"Topic10\", \"Topic10\", \"Topic10\", \"Topic10\", \"Topic10\", \"Topic10\", \"Topic10\", \"Topic10\", \"Topic10\"], \"logprob\": [30.0, 29.0, 28.0, 27.0, 26.0, 25.0, 24.0, 23.0, 22.0, 21.0, 20.0, 19.0, 18.0, 17.0, 16.0, 15.0, 14.0, 13.0, 12.0, 11.0, 10.0, 9.0, 8.0, 7.0, 6.0, 5.0, 4.0, 3.0, 2.0, 1.0, -5.9297, -5.9297, -5.9297, -6.3191, -6.3191, -6.3191, -6.3191, -6.3191, -6.3191, -6.3191, -6.3191, -6.3191, -6.3191, -6.3192, -6.3192, -5.6501, -5.9297, -5.6501, -5.4318, -6.9658, -6.9658, -6.9658, -6.9658, -6.9658, -6.9658, -6.9658, -6.9658, -6.9658, -6.9658, -6.9658, -4.222, -4.3464, -4.3464, -4.6541, -4.5679, -5.101, -5.2528, -4.9692, -5.101, -4.7485, -5.101, -5.6501, -5.4318, -5.6501, -5.6501, -4.9692, -5.6501, -5.6501, -5.4493, -5.6501, -5.6501, -5.9297, -5.6501, -4.8528, -5.2528, -5.3454, -5.3572, -5.3965, -5.4318, -5.4318, -5.4318, -5.4318, -5.4319, -5.6204, -5.6501, -5.506, -5.7856, -5.7856, -5.7856, -6.175, -6.175, -6.175, -6.175, -6.175, -6.175, -6.175, -6.175, -6.175, -6.175, -6.175, -6.175, -6.175, -5.7856, -5.8357, -6.8217, -6.8217, -6.8217, -6.8217, -6.8217, -6.8217, -6.8217, -6.8217, -6.8217, -6.8217, -6.8217, -4.4238, -4.3296, -4.6274, -4.3444, -5.2877, -4.427, -5.2877, -5.506, -4.6044, -5.506, -5.7856, -5.7856, -5.2877, -5.1203, -4.9569, -5.1087, -5.1087, -5.2877, -5.2877, -5.2877, -5.313, -5.506, -5.506, -5.506, -5.506, -5.506, -5.5902, -5.6423, -5.7855, -5.7856, -5.7856, -5.4723, -4.0442, -6.1414, -6.1414, -6.1414, -6.1414, -6.1414, -6.1414, -6.1414, -5.075, -5.4723, -5.7519, -5.075, -6.788, -6.788, -6.788, -6.788, -6.788, -6.788, -6.788, -6.788, -6.788, -6.788, -6.788, -6.788, -6.788, -6.788, -6.788, -6.788, -6.788, -4.2125, -5.075, -4.575, -5.4723, -4.4912, -5.4723, -4.9928, -5.254, -5.075, -4.5708, -4.5708, -5.075, -5.7519, -5.7519, -4.6954, -5.2541, -5.4723, -5.075, -5.1848, -5.2367, -5.3185, -5.4723, -5.4723, -5.5152, -5.627, -5.6504, -5.7519, -6.1106, -6.1106, -6.1106, -6.1106, -6.1106, -6.1106, -6.1106, -6.1106, -6.1106, -6.1106, -6.1106, -6.1106, -6.1106, -6.1106, -6.1106, -5.0443, -5.4416, -6.7573, -6.7573, -6.7573, -6.7573, -6.7573, -6.7573, -6.7573, -6.7573, -6.7573, -6.7573, -6.7573, -6.7573, -6.7573, -4.2064, -4.28, -5.2233, -4.8925, -5.0443, -5.4416, -5.0443, -5.0443, -5.4416, -5.7212, -5.7212, -5.7212, -5.4416, -4.8925, -5.0443, -5.2233, -5.2233, -5.2233, -5.2233, -5.2233, -5.4416, -5.4416, -5.4416, -5.4416, -5.4416, -5.4416, -5.4416, -5.4416, -5.4416, -5.7212, -5.7212, -5.3499, -5.6295, -6.019, -6.019, -6.019, -6.019, -5.6295, -5.3499, -6.6656, -6.6656, -6.6656, -6.6656, -6.6656, -6.6656, -6.6656, -6.6656, -6.6656, -6.6656, -6.6656, -6.6656, -6.6656, -6.6656, -6.6656, -6.6656, -6.6656, -6.6656, -6.6656, -6.6656, -6.6656, -6.6656, -4.3539, -4.8008, -5.1316, -5.6295, -5.6295, -5.3499, -5.3499, -5.3499, -5.6295, -5.3499, -5.6295, -6.019, -6.019, -6.019, -5.3499, -6.019, -6.019, -6.019, -6.019, -6.019, -6.019, -6.019, -4.8008, -4.9526, -5.1316, -5.1316, -5.1317, -5.3499, -5.3499, -5.3499, -5.558, -5.5741, -5.6295, -5.6295, -5.6295, -5.6295, -5.6295, -5.6295, -5.6295, -5.6295, -5.5652, -5.5652, -5.9547, -5.9547, -5.9547, -5.9547, -5.9547, -5.9547, -6.6013, -6.6013, -6.6013, -6.6013, -6.6013, -6.6013, -6.6013, -6.6013, -6.6013, -6.6013, -6.6013, -6.6013, -6.6013, -6.6013, -6.6013, -6.6013, -6.6013, -6.6013, -6.6013, -6.6013, -6.6013, -6.6013, -3.8868, -4.4295, -4.0568, -4.8883, -4.1625, -5.0674, -4.7422, -4.6048, -5.2856, -5.2856, -5.2856, -5.5652, -5.5652, -4.7365, -5.2856, -5.2856, -5.9547, -5.9547, -5.9547, -5.9547, -5.9547, -5.9547, -4.6492, -4.8883, -5.0674, -5.0674, -5.0674, -5.0717, -5.2856, -5.2856, -5.2856, -5.2857, -5.5652, -5.5652, -5.5652, -5.5652, -5.4785, -5.8679, -5.8679, -5.8679, -5.8679, -5.8679, -5.8679, -5.1989, -5.4785, -4.8016, -5.4784, -5.1989, -6.5146, -6.5146, -6.5146, -6.5146, -6.5146, -6.5146, -6.5146, -6.5146, -6.5146, -6.5146, -6.5146, -6.5146, -6.5146, -6.5146, -6.5146, -6.5146, -6.5146, -6.5146, -4.4016, -5.1989, -5.1989, -5.4785, -5.4785, -4.4016, -4.4588, -5.8679, -5.8679, -5.8679, -5.4785, -5.4785, -4.8016, -5.1989, -5.4785, -5.8679, -5.4785, -5.8679, -4.6498, -4.7236, -4.8016, -4.9806, -5.095, -5.1936, -5.4784, -5.4784, -5.4785, -5.4785, -5.4785, -5.7783, -5.7783, -5.7783, -5.7783, -5.3889, -5.1093, -6.425, -6.425, -6.425, -6.425, -6.425, -6.425, -6.425, -6.425, -6.425, -6.425, -6.425, -6.425, -6.425, -6.425, -6.425, -6.425, -6.425, -6.425, -6.425, -6.425, -6.425, -6.425, -6.425, -6.425, -5.1093, -4.7248, -5.3889, -5.3889, -4.891, -5.1093, -5.3889, -5.3889, -5.3889, -5.7783, -5.7783, -5.7783, -5.1093, -4.4284, -5.1093, -5.7783, -5.7783, -5.7783, -5.1093, -5.7783, -5.7783, -5.7783, -5.3889, -5.7783, -4.891, -4.891, -5.0191, -5.1093, -5.1093, -5.1093, -5.1093, -5.3889, -5.3889, -5.3889, -5.3889, -5.3889, -5.3889, -5.3889, -5.3741, -5.7636, -5.7636, -5.7636, -5.7636, -5.7636, -5.7636, -6.4102, -6.4102, -6.4102, -6.4102, -6.4102, -6.4102, -6.4102, -6.4102, -6.4102, -6.4102, -6.4102, -6.4102, -6.4102, -6.4102, -6.4102, -6.4102, -6.4102, -6.4102, -6.4102, -6.4102, -6.4102, -6.4102, -6.4102, -4.8763, -4.5454, -5.0945, -4.4313, -5.0945, -5.0945, -5.3741, -5.7636, -5.7636, -5.7636, -5.7636, -4.8763, -5.3741, -5.0945, -5.3741, -5.3741, -5.4234, -5.3741, -5.7636, -5.7636, -5.7636, -4.5454, -5.3741, -4.8763, -4.8763, -5.0945, -5.2926, -5.3138, -5.32, -5.3741, -5.3741, -5.3741, -5.3741, -5.3741, -5.3741, -5.3741, -5.3741, -5.3741, -5.5731, -5.5731, -5.5731, -4.9041, -6.2198, -6.2198, -6.2198, -6.2198, -6.2198, -6.2198, -6.2198, -6.2198, -6.2198, -6.2198, -6.2198, -6.2198, -6.2198, -6.2198, -6.2198, -6.2198, -6.2198, -6.2198, -6.2198, -6.2198, -6.2198, -6.2198, -6.2198, -6.2198, -6.2198, -6.2198, -4.9041, -4.9041, -5.1837, -4.9041, -5.5731, -5.5731, -5.5731, -5.5731, -5.1837, -5.5731, -5.5731, -5.1836, -4.9041, -5.1837, -5.1837, -4.6858, -4.9041, -4.9041, -4.9041, -5.0402, -5.1837, -5.1837, -5.1837, -5.1838, -5.5731, -5.5731, -5.5731, -5.5731, -5.5731, -5.5731, -5.5731, -5.5731, -5.5731], \"loglift\": [30.0, 29.0, 28.0, 27.0, 26.0, 25.0, 24.0, 23.0, 22.0, 21.0, 20.0, 19.0, 18.0, 17.0, 16.0, 15.0, 14.0, 13.0, 12.0, 11.0, 10.0, 9.0, 8.0, 7.0, 6.0, 5.0, 4.0, 3.0, 2.0, 1.0, 1.6717, 1.6717, 1.6717, 1.5767, 1.5767, 1.5767, 1.5767, 1.5767, 1.5767, 1.5767, 1.5767, 1.5767, 1.5767, 1.5767, 1.5767, 1.5468, 1.4538, 1.4067, 1.3659, 1.3493, 1.3493, 1.3493, 1.3493, 1.3493, 1.3493, 1.3493, 1.3493, 1.3493, 1.3493, 1.3493, 0.6309, 0.7509, 0.6858, 0.7756, 0.6338, 1.1465, 1.2753, 0.8647, 0.9821, 0.6247, 0.8257, 1.2889, 1.008, 1.1753, 1.1511, 0.4553, 1.0679, 1.0619, 0.859, 1.0399, 1.0386, 1.2872, 0.9975, 0.1451, 0.5507, -0.0013, 0.5715, -0.4732, 0.7664, 0.4547, -0.4384, -0.561, 0.5474, -0.7223, 0.8723, 1.8863, 1.8328, 1.8328, 1.8328, 1.7361, 1.7361, 1.7361, 1.7361, 1.7361, 1.7361, 1.7361, 1.7361, 1.7361, 1.7361, 1.7361, 1.7361, 1.7361, 1.6086, 1.5602, 1.505, 1.505, 1.505, 1.505, 1.505, 1.505, 1.505, 1.505, 1.505, 1.505, 1.505, 1.0309, 0.9111, 1.025, 0.5085, 1.4306, 0.4439, 1.2307, 1.2579, 0.3188, 1.2197, 1.4564, 1.4291, 0.9119, 0.6832, 0.2448, 0.2354, -0.0766, 0.6575, 0.1997, -0.3896, 0.0602, 0.9496, 0.9274, 0.4227, 0.5656, 0.7454, 0.7817, 0.2442, 1.278, 0.5305, 0.6697, 1.9326, 1.8497, 1.7804, 1.7804, 1.7804, 1.7804, 1.7804, 1.7804, 1.7804, 1.7581, 1.7579, 1.6748, 1.6607, 1.5467, 1.5467, 1.5467, 1.5467, 1.5467, 1.5467, 1.5467, 1.5467, 1.5467, 1.5467, 1.5467, 1.5467, 1.5467, 1.5467, 1.5467, 1.5467, 1.5467, 0.7854, 1.3325, 0.6267, 1.4633, 0.4069, 1.3849, 0.8937, 1.1191, 0.9288, 0.4226, 0.2821, 0.7589, 1.3311, 1.3267, 0.2279, 0.7801, 0.9611, -0.2042, 0.056, -0.2046, 0.0256, -0.0426, 0.3296, 0.4114, 0.3016, 0.7215, 0.5723, 1.807, 1.807, 1.807, 1.807, 1.807, 1.807, 1.807, 1.807, 1.807, 1.807, 1.807, 1.807, 1.807, 1.807, 1.807, 1.7962, 1.7872, 1.5744, 1.5744, 1.5744, 1.5744, 1.5744, 1.5744, 1.5744, 1.5744, 1.5744, 1.5744, 1.5744, 1.5744, 1.5744, 0.6917, 0.5909, 1.5239, 1.1073, 1.2071, 1.412, 0.9898, 0.9605, 1.2903, 1.5126, 1.5123, 1.5084, 1.1209, 0.532, -0.121, 0.5377, -0.1261, 0.5802, 0.1208, -0.2299, 0.9409, 0.5693, 0.2109, 1.0084, 0.5377, 0.8743, -0.2008, 0.2816, 0.4959, 0.9946, 1.1047, 2.0624, 2.0077, 1.9089, 1.9089, 1.9089, 1.9089, 1.7809, 1.7506, 1.6738, 1.6738, 1.6738, 1.6738, 1.6738, 1.6738, 1.6738, 1.6738, 1.6738, 1.6738, 1.6738, 1.6738, 1.6738, 1.6738, 1.6738, 1.6738, 1.6738, 1.6738, 1.6738, 1.6738, 1.6738, 1.6738, 1.4479, 1.2708, 1.2434, 1.6144, 1.6134, 1.2863, 1.2657, 1.193, 1.3295, 1.022, 1.2999, 1.6602, 1.6435, 1.6435, 0.9619, 1.6298, 1.6298, 1.6159, 1.6159, 1.6144, 1.6144, 1.612, 0.0521, 0.4771, -0.0344, -0.2084, -0.1383, 0.5923, 0.8255, -0.3178, 0.0944, -0.3334, 0.3743, 0.6947, 0.7621, -0.142, 1.0207, 1.0904, -0.2854, 0.308, 2.1071, 2.1071, 2.0044, 2.0044, 2.0044, 2.0044, 2.0044, 2.0044, 1.7615, 1.7615, 1.7615, 1.7615, 1.7615, 1.7615, 1.7615, 1.7615, 1.7615, 1.7615, 1.7615, 1.7615, 1.7615, 1.7615, 1.7615, 1.7615, 1.7615, 1.7615, 1.7615, 1.7615, 1.7615, 1.7615, 1.1066, 1.4303, 0.9754, 1.6528, 0.7083, 1.5235, 1.0612, 0.8827, 1.4971, 1.4263, 1.3065, 1.522, 1.5155, 0.6367, 1.1515, 1.1274, 1.7316, 1.7034, 1.7034, 1.7018, 1.7018, 1.7018, 0.3487, 0.035, 0.2767, 0.1343, 0.1734, 0.383, -0.4327, 0.6937, 0.1388, 0.4754, 0.4456, 0.8383, 0.6345, 0.158, 2.2062, 2.1021, 2.1021, 2.1021, 2.1021, 2.1021, 2.1021, 2.0634, 1.9811, 1.9792, 1.9615, 1.9175, 1.8565, 1.8565, 1.8565, 1.8565, 1.8565, 1.8565, 1.8565, 1.8565, 1.8565, 1.8565, 1.8565, 1.8565, 1.8565, 1.8565, 1.8565, 1.8565, 1.8565, 1.8565, 1.3595, 1.668, 1.4531, 1.6307, 1.6105, 0.5217, 0.5346, 1.8007, 1.7942, 1.7882, 1.3717, 1.368, 0.6859, 1.026, 1.2561, 1.5631, 1.1719, 1.5594, 0.2483, 0.1473, 0.2957, 0.3926, 0.7648, 0.2611, -0.054, 0.6251, -0.4806, 1.1596, 0.325, 2.2084, 2.2084, 2.2084, 2.2084, 2.074, 2.033, 1.9585, 1.9585, 1.9585, 1.9585, 1.9585, 1.9585, 1.9585, 1.9585, 1.9585, 1.9585, 1.9585, 1.9585, 1.9585, 1.9585, 1.9585, 1.9585, 1.9585, 1.9585, 1.9585, 1.9585, 1.9585, 1.9585, 1.9585, 1.9585, 1.7588, 1.275, 1.8808, 1.8764, 1.2575, 1.45, 1.7267, 1.606, 1.5867, 1.9188, 1.9188, 1.8986, 1.229, 0.4697, 1.102, 1.6792, 1.6623, 1.5061, 0.8282, 1.4921, 1.4829, 1.4829, 1.0914, 1.4684, 0.1069, 0.2062, 0.7041, 0.1314, -0.2564, -0.186, -0.0772, 0.6149, 0.0986, 0.9353, 1.0242, 0.0408, 0.4146, 0.5904, 2.3407, 2.2332, 2.2332, 2.2332, 2.2332, 2.2332, 2.2332, 1.9807, 1.9807, 1.9807, 1.9807, 1.9807, 1.9807, 1.9807, 1.9807, 1.9807, 1.9807, 1.9807, 1.9807, 1.9807, 1.9807, 1.9807, 1.9807, 1.9807, 1.9807, 1.9807, 1.9807, 1.9807, 1.9807, 1.9807, 1.902, 1.5708, 1.7907, 0.9128, 1.4977, 1.469, 1.6141, 1.9689, 1.9475, 1.9247, 1.9181, 1.0103, 1.5011, 1.1304, 1.4087, 1.4056, 1.4345, 1.3578, 1.6842, 1.6829, 1.6788, 0.4525, 1.2523, 0.497, 0.047, 0.0028, -0.0518, 0.6148, 0.6067, 1.1118, 0.1134, 1.0331, 0.5198, 0.5712, 1.0237, 1.1077, 0.8734, -0.342, 2.4711, 2.4711, 2.4711, 2.4489, 2.2061, 2.2061, 2.2061, 2.2061, 2.2061, 2.2061, 2.2061, 2.2061, 2.2061, 2.2061, 2.2061, 2.2061, 2.2061, 2.2061, 2.2061, 2.2061, 2.2061, 2.2061, 2.2061, 2.2061, 2.2061, 2.2061, 2.2061, 2.2061, 2.2061, 2.2061, 2.127, 2.1043, 1.9526, 1.5136, 2.1772, 2.1667, 2.1667, 2.1624, 1.6813, 1.9234, 1.905, 1.3912, 1.1068, 1.3788, 1.2173, 0.2123, 0.5506, 0.5204, -0.0333, 0.683, 0.8211, 0.9753, 0.5774, -0.1859, 1.1733, 1.1742, 0.9241, 1.5315, 1.4032, 0.864, 0.7722, 1.2799, 0.3691]}, \"token.table\": {\"Topic\": [1, 2, 3, 4, 6, 7, 8, 9, 1, 1, 3, 4, 5, 6, 8, 9, 5, 9, 1, 1, 8, 9, 1, 3, 4, 5, 6, 7, 8, 10, 4, 10, 2, 4, 7, 9, 7, 1, 2, 4, 9, 10, 9, 7, 10, 1, 2, 3, 5, 6, 7, 2, 4, 7, 9, 6, 10, 1, 2, 3, 4, 5, 6, 7, 8, 4, 4, 8, 2, 4, 5, 7, 8, 5, 1, 2, 3, 4, 5, 6, 7, 8, 9, 1, 2, 4, 10, 4, 1, 2, 7, 8, 4, 6, 10, 4, 1, 5, 6, 9, 5, 7, 9, 10, 4, 7, 1, 2, 3, 5, 7, 8, 4, 9, 8, 7, 4, 1, 2, 3, 5, 6, 7, 9, 4, 5, 7, 10, 9, 1, 2, 3, 5, 4, 7, 8, 7, 1, 2, 4, 9, 4, 8, 2, 3, 4, 5, 7, 9, 4, 3, 3, 2, 1, 2, 3, 4, 5, 6, 7, 8, 9, 1, 2, 3, 4, 5, 6, 8, 9, 10, 1, 2, 10, 8, 10, 9, 6, 9, 3, 3, 1, 2, 6, 8, 9, 5, 1, 2, 3, 7, 8, 10, 4, 10, 3, 1, 2, 4, 5, 2, 3, 4, 5, 6, 7, 9, 10, 8, 1, 9, 7, 7, 2, 9, 8, 1, 2, 4, 5, 6, 7, 8, 4, 7, 5, 1, 2, 3, 4, 7, 8, 9, 10, 1, 2, 4, 6, 10, 9, 10, 1, 2, 6, 9, 10, 1, 6, 8, 9, 9, 4, 6, 1, 2, 3, 4, 5, 9, 2, 9, 1, 2, 3, 4, 7, 9, 10, 3, 9, 1, 4, 5, 8, 10, 3, 5, 9, 3, 1, 2, 3, 4, 5, 6, 7, 8, 1, 4, 9, 4, 9, 4, 10, 2, 9, 1, 1, 2, 4, 10, 1, 3, 5, 6, 8, 9, 1, 2, 4, 5, 9, 6, 1, 2, 6, 9, 7, 10, 9, 3, 6, 10, 7, 1, 2, 3, 4, 8, 9, 5, 7, 4, 7, 5, 2, 1, 2, 3, 4, 5, 7, 8, 9, 10, 5, 7, 9, 4, 5, 8, 9, 4, 8, 1, 3, 9, 10, 8, 1, 5, 6, 4, 7, 7, 3, 10, 9, 10, 3, 8, 1, 3, 4, 5, 6, 10, 9, 3, 5, 9, 1, 2, 3, 4, 6, 8, 9, 4, 6, 1, 2, 3, 4, 5, 5, 9, 3, 6, 10, 7, 6, 2, 1, 2, 3, 4, 5, 9, 1, 2, 3, 4, 5, 6, 7, 9, 10, 8, 1, 5, 7, 8, 9, 10, 1, 2, 4, 5, 6, 10, 7, 6, 10, 10, 1, 7, 8, 1, 2, 4, 9, 6, 2, 10, 10, 6, 1, 2, 3, 4, 6, 7, 8, 9, 1, 2, 3, 4, 5, 6, 7, 8, 9, 10, 1, 2, 3, 4, 5, 6, 7, 8, 9, 10, 3, 4, 5, 6, 8, 9, 1, 2, 3, 4, 5, 6, 7, 8, 9, 10, 6, 10, 4, 1, 2, 3, 4, 5, 6, 7, 9, 10, 2, 6, 6, 2, 3, 2, 1, 2, 4, 5, 6, 9, 10, 1, 2, 3, 7, 9, 2, 2, 8, 6, 5, 8, 9, 4, 7, 8, 3, 5, 6, 7, 8, 9, 10, 1, 3, 5, 8, 9, 1, 2, 4, 5, 7, 8, 1, 2, 4, 6, 10, 1, 3, 4, 5, 6, 7, 8, 10, 3, 8, 10, 3, 5, 3, 6, 9, 10, 3, 5, 5, 3, 6, 3, 5, 8, 10, 10, 4, 1, 7, 6, 3, 4, 8, 6, 1, 5, 10, 7, 8, 2, 3, 5, 7, 9, 10, 2, 2, 3, 4, 6, 1, 3, 6, 10, 4, 6, 8, 10, 10, 6, 5, 1, 2, 3, 4, 5, 6, 7, 9, 10, 1, 2, 3, 4, 5, 6, 7, 8, 9, 10, 2, 1, 2, 3, 4, 5, 7, 8, 9, 3, 8, 4, 1, 6, 2, 5, 1, 2, 3, 7, 9, 10, 3, 7, 9, 1, 3, 10, 9, 1, 3, 4, 6, 10, 3, 1, 2, 3, 4, 5, 6, 7, 8, 9, 10, 1, 6, 1, 1, 2, 3, 4, 6, 7, 8, 10, 4, 2, 9, 1, 2, 5, 6, 7, 8, 9, 1, 5, 6, 9, 10, 1, 3, 4, 5, 7, 8, 1, 2, 3, 4, 5, 6, 8, 9, 2, 3, 5, 6, 7, 8, 9, 10, 3, 5, 2, 5, 1, 7, 4, 1, 10, 1, 2, 3, 5, 8, 10, 1, 2, 3, 4, 5, 8, 9, 5, 3, 1, 3, 9, 1, 2, 3, 4, 5, 6, 7, 9, 10, 1, 2, 3, 5, 6, 7, 9, 10, 7, 8, 10, 6, 1, 2, 9, 10, 10, 1, 2, 3, 5, 6, 7, 9, 10, 1, 2, 3, 4, 5, 6, 7, 8, 10, 3, 5, 10, 1, 2, 3, 9, 3, 9, 9, 1, 4, 5, 9, 5, 2, 9, 10, 1, 2, 3, 4, 5, 6, 7, 8, 10, 2, 4, 5, 7, 9, 10, 10, 7, 2, 4, 6, 7, 3, 5, 7, 9, 6, 6, 5, 1, 1, 9, 1, 2, 3, 4, 5, 6, 7, 8, 9, 1, 4, 5, 8, 2, 3, 5, 7, 10, 1, 2, 9, 2, 7, 3, 4, 5, 7, 8, 1, 1, 2, 5, 7, 8, 9, 10, 1, 5, 1, 7, 7, 10, 1, 3, 4, 5, 6, 1, 2, 3, 4, 6, 8, 9, 10, 2, 3, 5, 2, 4, 8, 8, 8, 3, 4, 6, 8, 4, 5, 6, 7, 1, 4, 5, 6, 7, 9, 3, 2, 4, 9, 10, 2, 5, 2, 2, 5, 3, 5, 6, 8, 6, 6, 7, 3, 1, 1, 2, 3, 4, 5, 6, 8, 9, 9, 2, 2, 5, 6, 7, 8, 9, 10, 3, 9, 5, 1, 2, 3, 5, 7, 8, 9, 1, 4, 5, 6, 7, 8, 6, 5, 1, 3, 5, 10, 10, 3, 5, 8, 1, 2, 3, 4, 5, 6, 7, 9, 10, 7, 10, 4, 1, 2, 6, 7, 10, 5, 10, 2, 1, 6, 5, 8, 2, 3, 4, 3, 1, 2, 3, 4, 6, 9, 1, 5, 5, 8, 1, 1, 3, 8, 10, 5, 6, 7, 1, 2, 4, 6, 4, 5, 4, 5, 9, 2, 3, 10, 7, 8, 4, 6, 5, 8, 8, 9, 4, 1, 5, 7, 6, 1, 2, 3, 4, 5, 6, 7, 6, 5, 6, 4, 2, 8, 3, 9, 8, 8, 2, 7, 1, 2, 5, 7, 8, 9, 4, 2, 4, 6, 10, 9, 8, 8, 7, 5, 9, 1, 5, 1, 5, 7, 4, 7, 1, 3, 6, 1, 2, 4, 6, 7, 8, 10, 3, 5, 9, 10, 1, 2, 4, 6, 7, 8, 10, 1, 2, 3, 4, 6, 7, 9, 10, 1, 2, 3, 5, 8, 1, 2, 3, 4, 5, 7, 8, 9, 10, 2, 4, 2, 3, 5, 6, 1, 2, 3, 4, 6, 7, 8, 9, 10, 2, 7, 8, 9, 10, 7, 1, 4, 7, 2, 3, 1, 2, 3, 4, 5, 8, 9, 10, 6, 6, 5, 2, 8, 2, 5, 9, 10, 3, 4, 6, 7, 3, 6, 4, 6, 8, 9, 1, 2, 4, 9, 10, 7, 3, 6, 1, 2, 3, 5, 6, 7, 5, 6, 10, 4, 1, 1, 1, 8, 8, 1, 2, 3, 4, 5, 6, 7, 8, 9, 10, 1, 2, 4, 6, 8, 9, 1, 2, 4, 5, 7, 9, 1, 2, 3, 5, 7, 8, 10, 2, 3, 4, 7, 9, 10, 1, 2, 3, 4, 5, 6, 7, 8, 9, 2, 2, 5, 7, 9, 10, 1, 2, 3, 4, 6, 7, 8, 9, 10, 1, 2, 3, 9, 10, 9, 10, 1, 2, 3, 5, 9, 10, 3, 4, 9, 8, 1, 2, 3, 4, 5, 6, 7, 8, 1, 2, 3, 4, 5, 6, 9, 1, 2, 3, 5, 7, 7, 8, 1, 2, 6, 3, 1, 2, 3, 4, 5, 6, 7, 8, 9, 6, 1, 2, 3, 6, 8, 9, 10, 2, 3, 6, 1, 2, 3, 7, 9, 2, 4, 7, 8, 3, 7, 1, 3, 5, 9, 2, 3, 6, 8, 10, 8], \"Freq\": [0.0973481138378925, 0.194696227675785, 0.0973481138378925, 0.0973481138378925, 0.0973481138378925, 0.0973481138378925, 0.0973481138378925, 0.194696227675785, 0.8627243690254506, 0.3292364434777537, 0.2743637028981281, 0.10974548115925123, 0.10974548115925123, 0.10974548115925123, 0.054872740579625615, 0.054872740579625615, 0.35050575987431215, 0.35050575987431215, 0.6560208733115568, 0.27829717472003035, 0.27829717472003035, 0.27829717472003035, 0.1301930394093444, 0.1301930394093444, 0.325482598523361, 0.0650965197046722, 0.0650965197046722, 0.1301930394093444, 0.0650965197046722, 0.1301930394093444, 0.6669624295688009, 0.7328654942085482, 0.1964161047458091, 0.1964161047458091, 0.3928322094916182, 0.1964161047458091, 0.6937590032075888, 0.24241067567395072, 0.24241067567395072, 0.24241067567395072, 0.24241067567395072, 0.7328654942085482, 0.7076830318996745, 0.36906575792557533, 0.36906575792557533, 0.06959495428197914, 0.2087848628459374, 0.13918990856395827, 0.34797477140989563, 0.06959495428197914, 0.06959495428197914, 0.17404964722833566, 0.17404964722833566, 0.17404964722833566, 0.3480992944566713, 0.6880823895559405, 0.732865494212485, 0.1596761739950579, 0.26612695665842984, 0.05322539133168597, 0.05322539133168597, 0.10645078266337193, 0.26612695665842984, 0.05322539133168597, 0.05322539133168597, 0.8817472481137717, 0.3465412349395632, 0.3465412349395632, 0.27011106069357965, 0.27011106069357965, 0.13505553034678983, 0.27011106069357965, 0.13505553034678983, 0.6721386007261819, 0.2916001742337899, 0.17496010454027397, 0.23328013938703193, 0.05832003484675798, 0.05832003484675798, 0.11664006969351597, 0.02916001742337899, 0.02916001742337899, 0.02916001742337899, 0.32641561908251115, 0.4352208254433482, 0.10880520636083706, 0.10880520636083706, 0.6669624295688009, 0.15160018057340094, 0.3032003611468019, 0.3032003611468019, 0.15160018057340094, 0.6669624295687999, 0.6880823895559522, 0.732865494212485, 0.8817472481069111, 0.6560208733115568, 0.6738545635013378, 0.3369272817506689, 0.7076830319011215, 0.1414362333508365, 0.565744933403346, 0.1414362333508365, 0.1414362333508365, 0.8817472480946186, 0.6937590032075901, 0.40230506096100627, 0.20115253048050313, 0.20115253048050313, 0.10057626524025157, 0.10057626524025157, 0.10057626524025157, 0.5504402015390132, 0.2752201007695066, 0.7024403701292932, 0.6937590032075888, 0.6669624295687999, 0.361230431769458, 0.12041014392315266, 0.180615215884729, 0.06020507196157633, 0.06020507196157633, 0.06020507196157633, 0.12041014392315266, 0.5470970275539542, 0.13677425688848854, 0.13677425688848854, 0.13677425688848854, 0.7076830318996763, 0.3870158226162283, 0.2580105484108189, 0.2580105484108189, 0.6721386007261819, 0.39535946141509215, 0.19767973070754608, 0.39535946141509215, 0.6937590032075888, 0.13469656385235626, 0.13469656385235626, 0.4040896915570688, 0.2693931277047125, 0.5472632547514619, 0.27363162737573093, 0.2276305003221491, 0.11381525016107455, 0.11381525016107455, 0.11381525016107455, 0.11381525016107455, 0.3414457504832237, 0.6669624295687998, 0.8853323712290885, 0.6690116499466644, 0.8759829460741448, 0.11641833617241426, 0.15522444822988568, 0.03880611205747142, 0.03880611205747142, 0.07761222411494284, 0.23283667234482852, 0.15522444822988568, 0.07761222411494284, 0.07761222411494284, 0.09096292089996176, 0.30320973633320586, 0.12128389453328234, 0.09096292089996176, 0.06064194726664117, 0.12128389453328234, 0.09096292089996176, 0.06064194726664117, 0.030320973633320585, 0.35518794477656596, 0.17759397238828298, 0.5327819171648489, 0.7024403701302728, 0.732865494212485, 0.47717253467131615, 0.6995945334852715, 0.3497972667426357, 0.6690116499466644, 0.6690116499467997, 0.15434894628071047, 0.15434894628071047, 0.15434894628071047, 0.4630468388421314, 0.15434894628071047, 0.6721386007245109, 0.09737375602470602, 0.09737375602470602, 0.48686878012353013, 0.09737375602470602, 0.09737375602470602, 0.09737375602470602, 0.8817472480959639, 0.7328654942085482, 0.6690116499475691, 0.8627243689969943, 0.7820946369533015, 0.3317828426715145, 0.663565685343029, 0.19397541473770993, 0.19397541473770993, 0.09698770736885497, 0.09698770736885497, 0.19397541473770993, 0.09698770736885497, 0.09698770736885497, 0.09698770736885497, 0.4724177025165024, 0.8627243690044706, 0.47717253467573695, 0.6937590032075901, 0.6937590032075901, 0.3481858789324824, 0.3481858789324824, 0.7024403701302728, 0.2661460898716278, 0.10645843594865112, 0.21291687189730224, 0.10645843594865112, 0.10645843594865112, 0.10645843594865112, 0.10645843594865112, 0.6669624295687999, 0.6937590032075888, 0.6721386007245109, 0.17769870297300497, 0.17769870297300497, 0.17769870297300497, 0.26654805445950747, 0.08884935148650248, 0.08884935148650248, 0.08884935148650248, 0.732865494212485, 0.29593741455872985, 0.14796870727936492, 0.29593741455872985, 0.14796870727936492, 0.14796870727936492, 0.3663354002216909, 0.3663354002216909, 0.11698115314575748, 0.11698115314575748, 0.4679246125830299, 0.11698115314575748, 0.11698115314575748, 0.8627243689975229, 0.4251644764530335, 0.14172149215101118, 0.28344298430202236, 0.7076830319015707, 0.8817472481276687, 0.919040480862616, 0.20321021697970906, 0.10160510848985453, 0.10160510848985453, 0.3048153254695636, 0.20321021697970906, 0.10160510848985453, 0.6636590887726872, 0.4771725346800313, 0.35275490423346106, 0.17637745211673053, 0.17637745211673053, 0.17637745211673053, 0.08818872605836527, 0.08818872605836527, 0.08818872605836527, 0.6690116499467997, 0.7076830319017642, 0.3984924836991238, 0.26566165579941586, 0.13283082789970793, 0.13283082789970793, 0.13283082789970793, 0.22475012713610867, 0.44950025427221735, 0.22475012713610867, 0.6690116499467997, 0.18993771477279403, 0.09496885738639702, 0.09496885738639702, 0.2849065721591911, 0.09496885738639702, 0.09496885738639702, 0.09496885738639702, 0.09496885738639702, 0.2215514602588074, 0.4431029205176148, 0.2215514602588074, 0.881747248109345, 0.7076830319011215, 0.6669624295687998, 0.7328654942085482, 0.6636590887726872, 0.7076830319011215, 0.6560208733115531, 0.19553991178419006, 0.3910798235683801, 0.19553991178419006, 0.19553991178419006, 0.1791789764753701, 0.1791789764753701, 0.1791789764753701, 0.08958948823768505, 0.1791789764753701, 0.08958948823768505, 0.3874815074535013, 0.2583210049690009, 0.12916050248450045, 0.2583210049690009, 0.7076830318996763, 0.6880823895559522, 0.22260559243716949, 0.22260559243716949, 0.44521118487433897, 0.7076830318996763, 0.6937590032075888, 0.7328654942085482, 0.7076830318996745, 0.34008064273175626, 0.6801612854635125, 0.732865494212485, 0.46459776483546616, 0.06477437038630757, 0.12954874077261513, 0.06477437038630757, 0.32387185193153784, 0.25909748154523027, 0.12954874077261513, 0.3436730935204029, 0.3436730935204029, 0.6669624295687999, 0.6937590032075153, 0.6721386007245109, 0.8759829460919242, 0.12229531188556675, 0.12229531188556675, 0.12229531188556675, 0.12229531188556675, 0.18344296782835012, 0.061147655942783374, 0.061147655942783374, 0.061147655942783374, 0.061147655942783374, 0.6721386007245109, 0.6937590032075901, 0.7076830319011215, 0.230618587673506, 0.230618587673506, 0.461237175347012, 0.7076830318996763, 0.6669624295687998, 0.7024403701302726, 0.30556054560677365, 0.30556054560677365, 0.30556054560677365, 0.15278027280338682, 0.7024403701302728, 0.8627248812927575, 0.6721386007245109, 0.6880823895559522, 0.5419794036369486, 0.2709897018184743, 0.46459776483538323, 0.7920517635608894, 0.732865494212485, 0.7076830319015707, 0.7328654942085482, 0.6690116499467997, 0.4724177025158468, 0.19674686576235456, 0.19674686576235456, 0.19674686576235456, 0.09837343288117728, 0.09837343288117728, 0.29512029864353184, 0.7076830319015707, 0.8853323711934382, 0.6831190962213614, 0.3415595481106807, 0.18173091439278183, 0.09086545719639091, 0.09086545719639091, 0.09086545719639091, 0.18173091439278183, 0.27259637158917277, 0.09086545719639091, 0.3395503339989531, 0.6791006679979062, 0.1998588667323375, 0.2997883000985062, 0.2997883000985062, 0.09992943336616875, 0.09992943336616875, 0.89081669666086, 0.7076830319011215, 0.6760390673729753, 0.2704156269491901, 0.13520781347459504, 0.46459776483567766, 0.6880823895559522, 0.6636590887726872, 0.23981512003681757, 0.11990756001840878, 0.11990756001840878, 0.11990756001840878, 0.35972268005522634, 0.11990756001840878, 0.13449202917141495, 0.16811503646426867, 0.13449202917141495, 0.13449202917141495, 0.06724601458570748, 0.13449202917141495, 0.03362300729285374, 0.16811503646426867, 0.03362300729285374, 0.7024403701292932, 0.3714089281679525, 0.12380297605598418, 0.12380297605598418, 0.12380297605598418, 0.12380297605598418, 0.12380297605598418, 0.19349186925739634, 0.19349186925739634, 0.19349186925739634, 0.09674593462869817, 0.09674593462869817, 0.19349186925739634, 0.6937590032075888, 0.2506544206160287, 0.7519632618480862, 0.732865494212485, 0.23080725122548082, 0.23080725122548082, 0.23080725122548082, 0.8627243690562453, 0.22241593760356698, 0.44483187520713396, 0.22241593760356698, 0.6880823895559807, 0.875982946067385, 0.5003583135742667, 0.5003583135757684, 0.9190404808616006, 0.0791042055987301, 0.3164168223949204, 0.1582084111974602, 0.0791042055987301, 0.1582084111974602, 0.0791042055987301, 0.0791042055987301, 0.0791042055987301, 0.16648634086851496, 0.04756752596243285, 0.26162139279338065, 0.04756752596243285, 0.023783762981216424, 0.14270257788729854, 0.04756752596243285, 0.0951350519248657, 0.11891881490608211, 0.04756752596243285, 0.14737048875536418, 0.09824699250357613, 0.049123496251788065, 0.14737048875536418, 0.09824699250357613, 0.09824699250357613, 0.09824699250357613, 0.14737048875536418, 0.049123496251788065, 0.09824699250357613, 0.26814156890438245, 0.33517696113047807, 0.13407078445219123, 0.13407078445219123, 0.06703539222609561, 0.06703539222609561, 0.06457412104563998, 0.0860988280608533, 0.1721976561217066, 0.23677177716734657, 0.04304941403042665, 0.04304941403042665, 0.10762353507606662, 0.12914824209127995, 0.021524707015213324, 0.06457412104563998, 0.3674531191768599, 0.3674531191768599, 0.88174724809678, 0.21862174960419856, 0.07287391653473285, 0.07287391653473285, 0.18218479133683213, 0.07287391653473285, 0.10931087480209928, 0.07287391653473285, 0.07287391653473285, 0.10931087480209928, 0.6537013407491666, 0.919040480860962, 0.6880823895559522, 0.6636590887726872, 0.6690116499467997, 0.8759829959351333, 0.10488467617775937, 0.20976935235551875, 0.20976935235551875, 0.20976935235551875, 0.10488467617775937, 0.20976935235551875, 0.10488467617775937, 0.18766391042854716, 0.3753278208570943, 0.18766391042854716, 0.18766391042854716, 0.7076830319015707, 0.875982946075228, 0.6636590887726872, 0.7024403701302728, 0.9190404808653737, 0.5841581639264158, 0.19471938797547195, 0.19471938797547195, 0.8817472480968518, 0.6937590032075888, 0.7024403701292932, 0.15441670308666502, 0.23162505462999752, 0.15441670308666502, 0.07720835154333251, 0.07720835154333251, 0.07720835154333251, 0.07720835154333251, 0.24478909361527312, 0.12239454680763656, 0.3671836404229097, 0.12239454680763656, 0.12239454680763656, 0.13253476434983297, 0.26506952869966594, 0.26506952869966594, 0.13253476434983297, 0.13253476434983297, 0.13253476434983297, 0.2273971460604945, 0.11369857303024725, 0.3410957190907417, 0.11369857303024725, 0.2273971460604945, 0.13098600317317832, 0.06549300158658916, 0.19647900475976748, 0.13098600317317832, 0.13098600317317832, 0.06549300158658916, 0.06549300158658916, 0.19647900475976748, 0.289349789710256, 0.289349789710256, 0.289349789710256, 0.2654794601821785, 0.530958920364357, 0.45801207340718336, 0.3053413822714556, 0.1526706911357278, 0.1526706911357278, 0.332289158290582, 0.664578316581164, 0.8908166966584096, 0.6690116499466644, 0.6880823895559522, 0.23405668322290804, 0.23405668322290804, 0.23405668322290804, 0.23405668322290804, 0.7328654942085482, 0.8817472480983366, 0.2734281546205471, 0.5468563092410942, 0.6898809118300825, 0.2224905979414398, 0.4449811958828796, 0.2224905979414398, 0.6880823895559522, 0.6560208733115531, 0.6946394186736737, 0.34731970933683687, 0.3536383522647005, 0.3536383522647005, 0.30209952866180695, 0.15104976433090347, 0.15104976433090347, 0.30209952866180695, 0.15104976433090347, 0.7328654942085482, 0.8759829460738727, 0.16513263142552864, 0.4953978942765859, 0.16513263142552864, 0.16513263142552864, 0.5493169838665701, 0.21972679354662808, 0.21972679354662808, 0.10986339677331404, 0.33955032893285825, 0.6791006578657165, 0.7024403701302726, 0.5003583135757684, 0.732865494212485, 0.919040480860962, 0.6721386007245109, 0.15190409499884042, 0.07595204749942021, 0.15190409499884042, 0.07595204749942021, 0.15190409499884042, 0.07595204749942021, 0.07595204749942021, 0.07595204749942021, 0.15190409499884042, 0.08829363664597922, 0.17658727329195845, 0.15451386413046364, 0.11036704580747403, 0.08829363664597922, 0.08829363664597922, 0.13244045496896883, 0.06622022748448442, 0.06622022748448442, 0.022073409161494806, 0.663659088775227, 0.08003265971619916, 0.08003265971619916, 0.16006531943239832, 0.16006531943239832, 0.16006531943239832, 0.08003265971619916, 0.2400979791485975, 0.08003265971619916, 0.2797805979794829, 0.5595611959589658, 0.6669624295687999, 0.6560208733115531, 0.6880823895559522, 0.33096337253395974, 0.6619267450679195, 0.12414273038448895, 0.2482854607689779, 0.2482854607689779, 0.2482854607689779, 0.12414273038448895, 0.12414273038448895, 0.7451767925579187, 0.14903535851158373, 0.14903535851158373, 0.2018117166425191, 0.4036234332850382, 0.4036234332850382, 0.7076830318996745, 0.1520425193519931, 0.3040850387039862, 0.1520425193519931, 0.1520425193519931, 0.1520425193519931, 0.6690116499467997, 0.2880237424073262, 0.2057312445766616, 0.16458499566132925, 0.04114624891533231, 0.1028656222883308, 0.06171937337299847, 0.020573124457666157, 0.06171937337299847, 0.020573124457666157, 0.020573124457666157, 0.6560208733072966, 0.9190404808615568, 0.8627243690107987, 0.26661439391409353, 0.17774292927606236, 0.08887146463803118, 0.08887146463803118, 0.17774292927606236, 0.08887146463803118, 0.08887146463803118, 0.08887146463803118, 0.8817472480944618, 0.6636590887726872, 0.7076830318996745, 0.31598261143687384, 0.15799130571843692, 0.07899565285921846, 0.15799130571843692, 0.07899565285921846, 0.07899565285921846, 0.07899565285921846, 0.11712779324666915, 0.11712779324666915, 0.35138337974000744, 0.35138337974000744, 0.11712779324666915, 0.10628505357983636, 0.15942758036975455, 0.10628505357983636, 0.42514021431934546, 0.05314252678991818, 0.10628505357983636, 0.17697499966925842, 0.17697499966925842, 0.08848749983462921, 0.17697499966925842, 0.2654624995038877, 0.08848749983462921, 0.08848749983462921, 0.08848749983462921, 0.13006894216683998, 0.32517235541709993, 0.13006894216683998, 0.13006894216683998, 0.06503447108341999, 0.13006894216683998, 0.06503447108341999, 0.06503447108341999, 0.6690116499466644, 0.6721386007245109, 0.8759829460662738, 0.6721386007245109, 0.3394093483912996, 0.3394093483912996, 0.8817472480955791, 0.8627243689989953, 0.732865494212485, 0.1366625605652193, 0.2733251211304386, 0.1366625605652193, 0.2733251211304386, 0.1366625605652193, 0.1366625605652193, 0.2413093106369978, 0.18098198297774834, 0.18098198297774834, 0.06032732765924945, 0.1206546553184989, 0.06032732765924945, 0.1206546553184989, 0.6721386007245109, 0.6690116499467997, 0.497054390732344, 0.16568479691078133, 0.16568479691078133, 0.083783671017874, 0.1885132597902165, 0.1047295887723425, 0.209459177544685, 0.041891835508937, 0.1885132597902165, 0.1047295887723425, 0.0209459177544685, 0.0628377532634055, 0.2769297786046273, 0.13846488930231365, 0.06923244465115683, 0.06923244465115683, 0.17308111162789205, 0.13846488930231365, 0.10384866697673523, 0.034616222325578413, 0.6984761362980295, 0.7024403701302726, 0.732865494212485, 0.6880823895560085, 0.5591801134857838, 0.18639337116192795, 0.18639337116192795, 0.7328654942085482, 0.732865494212485, 0.1916784479220011, 0.1916784479220011, 0.09583922396100054, 0.1916784479220011, 0.09583922396100054, 0.09583922396100054, 0.09583922396100054, 0.09583922396100054, 0.07510884060980667, 0.33798978274413, 0.07510884060980667, 0.03755442030490334, 0.03755442030490334, 0.15021768121961335, 0.11266326091471, 0.03755442030490334, 0.11266326091471, 0.2840746802126709, 0.2840746802126709, 0.2840746802126709, 0.18818396009983512, 0.18818396009983512, 0.37636792019967025, 0.09409198004991756, 0.5396724622911544, 0.2698362311455772, 0.7076830319015707, 0.8627243689939019, 0.8817472480968315, 0.6721386007245109, 0.4771725346817384, 0.6721386007245109, 0.5481883163012412, 0.2740941581506206, 0.7328654942085482, 0.09470799241156563, 0.04735399620578282, 0.18941598482313127, 0.09470799241156563, 0.09470799241156563, 0.2841239772346969, 0.14206198861734845, 0.02367699810289141, 0.02367699810289141, 0.14128466009252622, 0.14128466009252622, 0.14128466009252622, 0.14128466009252622, 0.28256932018505243, 0.14128466009252622, 0.7328654942085482, 0.6937590032075888, 0.5314967194992037, 0.13287417987480094, 0.13287417987480094, 0.13287417987480094, 0.3810251927996851, 0.3810251927996851, 0.19051259639984255, 0.7076830319015707, 0.6880823895559522, 0.6880823895560085, 0.6721386007245109, 0.6426459955641958, 0.8627243689975395, 0.47717242142291383, 0.09153340639448806, 0.36613362557795226, 0.09153340639448806, 0.1373001095917321, 0.1373001095917321, 0.04576670319724403, 0.04576670319724403, 0.04576670319724403, 0.04576670319724403, 0.2253827410127607, 0.2253827410127607, 0.2253827410127607, 0.2253827410127607, 0.12412026912502012, 0.24824053825004025, 0.24824053825004025, 0.12412026912502012, 0.12412026912502012, 0.43753130619091446, 0.21876565309545723, 0.21876565309545723, 0.3414424782638619, 0.3414424782638619, 0.8853323711946245, 0.15415661120620966, 0.15415661120620966, 0.462469833618629, 0.15415661120620966, 0.8627247050827137, 0.18301627255477768, 0.18301627255477768, 0.18301627255477768, 0.09150813627738884, 0.09150813627738884, 0.09150813627738884, 0.09150813627738884, 0.6426459955663464, 0.6721386007245109, 0.22892472461658478, 0.6867741738497544, 0.6937590032075888, 0.732865494212485, 0.16409986276799127, 0.32819972553598253, 0.16409986276799127, 0.32819972553598253, 0.6880823895559405, 0.42238770843766804, 0.14079590281255602, 0.07039795140627801, 0.07039795140627801, 0.14079590281255602, 0.07039795140627801, 0.07039795140627801, 0.07039795140627801, 0.43657254678033997, 0.21828627339016998, 0.21828627339016998, 0.22961196613946214, 0.22961196613946214, 0.4592239322789243, 0.4724177025141977, 0.7024403701292932, 0.22868517406039138, 0.22868517406039138, 0.22868517406039138, 0.22868517406039138, 0.16902787377168646, 0.3380557475433729, 0.16902787377168646, 0.16902787377168646, 0.19287971186568742, 0.19287971186568742, 0.19287971186568742, 0.19287971186568742, 0.09643985593284371, 0.19287971186568742, 0.8853323712137269, 0.6636590887726872, 0.7506991965724725, 0.1501398393144945, 0.1501398393144945, 0.8759829460718132, 0.6721386007245109, 0.6537013235081292, 0.8759829460713132, 0.6721386007245109, 0.34371729401931866, 0.17185864700965933, 0.17185864700965933, 0.34371729401931866, 0.6880823895560085, 0.2788432233451407, 0.5576864466902814, 0.6690116499466644, 0.6560208733072966, 0.29534841660999406, 0.1230618402541642, 0.09844947220333136, 0.04922473610166568, 0.07383710415249851, 0.2461236805083284, 0.07383710415249851, 0.04922473610166568, 0.477172534678896, 0.8759829460964265, 0.20061275930487002, 0.10030637965243501, 0.30091913895730504, 0.10030637965243501, 0.10030637965243501, 0.10030637965243501, 0.10030637965243501, 0.8853323711927998, 0.7076830319017642, 0.6721386007245109, 0.12434695119069744, 0.12434695119069744, 0.12434695119069744, 0.12434695119069744, 0.3730408535720923, 0.12434695119069744, 0.12434695119069744, 0.09792044664267026, 0.19584089328534052, 0.09792044664267026, 0.2937613399280108, 0.09792044664267026, 0.19584089328534052, 0.6880823895559405, 0.6661175163786224, 0.30772084843634684, 0.15386042421817342, 0.30772084843634684, 0.30772084843634684, 0.732865494212485, 0.33228905647502166, 0.6645781129500433, 0.7024403701302728, 0.18401063759801353, 0.24534751679735137, 0.12267375839867568, 0.06133687919933784, 0.06133687919933784, 0.06133687919933784, 0.06133687919933784, 0.12267375839867568, 0.06133687919933784, 0.3690657524306716, 0.3690657524306716, 0.6669624295687999, 0.245257477818699, 0.245257477818699, 0.1226287389093495, 0.245257477818699, 0.1226287389093495, 0.6721386007245109, 0.732865494212485, 0.8759829460885626, 0.6560208733072966, 0.6880823895559522, 0.6721386007245109, 0.7024403701302726, 0.8759829460830377, 0.6690116499467997, 0.6669624295687998, 0.8853323711934382, 0.2313523005005946, 0.17351422537544595, 0.28919037562574323, 0.05783807512514865, 0.05783807512514865, 0.17351422537544595, 0.6426459955797426, 0.8908166966559532, 0.7979114656231134, 0.7024403701302728, 0.8627243690047338, 0.4436659272332862, 0.2957772848221908, 0.1478886424110954, 0.1478886424110954, 0.19784102401092016, 0.19784102401092016, 0.5935230720327606, 0.19090576522389296, 0.19090576522389296, 0.19090576522389296, 0.38181153044778593, 0.3317828430360162, 0.6635656860720324, 0.22451836276946147, 0.44903672553892293, 0.22451836276946147, 0.448645937840688, 0.224322968920344, 0.224322968920344, 0.20304366108740288, 0.6091309832622086, 0.33955039930466135, 0.6791007986093227, 0.8908166966563356, 0.7024403701302726, 0.35857189797751193, 0.35857189797751193, 0.8817472480949694, 0.2700048496447073, 0.2700048496447073, 0.2700048496447073, 0.6880823895559807, 0.11262966154656122, 0.11262966154656122, 0.11262966154656122, 0.05631483077328061, 0.05631483077328061, 0.3942038154129643, 0.16894449231984182, 0.6898809118303211, 0.6738545682379876, 0.3369272841189938, 0.8817472480946186, 0.6537013235052438, 0.47241770251519116, 0.6690116499466644, 0.7076830318996745, 0.7024403701302726, 0.7024403701302726, 0.6636590887726872, 0.4645977648357178, 0.22668324255631953, 0.22668324255631953, 0.11334162127815976, 0.11334162127815976, 0.34002486383447933, 0.7198662015891605, 0.8817472480986311, 0.15212960441685025, 0.4563888132505508, 0.15212960441685025, 0.15212960441685025, 0.7076830318996745, 0.7024403701302728, 0.7024403701302726, 0.6937590032075901, 0.6831191619510742, 0.3415595809755371, 0.6433111648450482, 0.21443705494834941, 0.5168658736137478, 0.2584329368068739, 0.6937590032075901, 0.6641608143970605, 0.22138693813235352, 0.5754247740371304, 0.2877123870185652, 0.1438561935092826, 0.08330450173389169, 0.24991350520167507, 0.41652250866945845, 0.08330450173389169, 0.08330450173389169, 0.08330450173389169, 0.08330450173389169, 0.7574552848987548, 0.05826579114605806, 0.11653158229211612, 0.05826579114605806, 0.10203564447783224, 0.10203564447783224, 0.20407128895566448, 0.15305346671674835, 0.3061069334334967, 0.05101782223891612, 0.10203564447783224, 0.10532000224892105, 0.2106400044978421, 0.10532000224892105, 0.2106400044978421, 0.10532000224892105, 0.10532000224892105, 0.2106400044978421, 0.10532000224892105, 0.09397456328893265, 0.28192368986679794, 0.28192368986679794, 0.28192368986679794, 0.09397456328893265, 0.14553634457836487, 0.14553634457836487, 0.14553634457836487, 0.07276817228918243, 0.07276817228918243, 0.07276817228918243, 0.07276817228918243, 0.36384086144591216, 0.07276817228918243, 0.5224127893492215, 0.26120639467461076, 0.5232902509217435, 0.26164512546087176, 0.6721386007245109, 0.6880823895559807, 0.14371324706602845, 0.07185662353301422, 0.14371324706602845, 0.14371324706602845, 0.07185662353301422, 0.14371324706602845, 0.07185662353301422, 0.07185662353301422, 0.07185662353301422, 0.4172037886400164, 0.13906792954667213, 0.13906792954667213, 0.13906792954667213, 0.13906792954667213, 0.46459776483552656, 0.19249097795804906, 0.38498195591609813, 0.38498195591609813, 0.6636590887726872, 0.8853323712012161, 0.2042877651223926, 0.2042877651223926, 0.1021438825611963, 0.1021438825611963, 0.1021438825611963, 0.1021438825611963, 0.1021438825611963, 0.732865494212485, 0.6880823895559405, 0.6880823895559405, 0.6721386007245109, 0.6636590887726872, 0.7024403701292932, 0.2821817282941208, 0.1410908641470604, 0.4232725924411812, 0.1410908641470604, 0.3826968371998845, 0.19134841859994225, 0.19134841859994225, 0.19134841859994225, 0.3400806673313303, 0.6801613346626606, 0.15701799292150276, 0.3140359858430055, 0.15701799292150276, 0.4710539787645083, 0.34398462441665534, 0.17199231220832767, 0.17199231220832767, 0.17199231220832767, 0.17199231220832767, 0.6937590032075901, 0.6651147531499011, 0.2217049177166337, 0.43309481171773195, 0.14436493723924398, 0.14436493723924398, 0.14436493723924398, 0.14436493723924398, 0.6937590032075901, 0.36335624521820176, 0.18167812260910088, 0.5450343678273026, 0.6669624295687999, 0.6560208733115531, 0.6560208733115531, 0.6560208733115531, 0.7024403701302726, 0.7024403701302726, 0.31522559197696304, 0.052537598662827166, 0.052537598662827166, 0.10507519732565433, 0.10507519732565433, 0.052537598662827166, 0.10507519732565433, 0.10507519732565433, 0.07880639799424076, 0.026268799331413583, 0.2538375145848059, 0.12691875729240296, 0.19037813593860445, 0.19037813593860445, 0.12691875729240296, 0.06345937864620148, 0.10217868964381197, 0.30653606893143587, 0.20435737928762393, 0.20435737928762393, 0.10217868964381197, 0.10217868964381197, 0.23023375961436623, 0.11511687980718312, 0.23023375961436623, 0.11511687980718312, 0.11511687980718312, 0.11511687980718312, 0.23023375961436623, 0.16224759440497957, 0.16224759440497957, 0.16224759440497957, 0.24337139160746937, 0.24337139160746937, 0.08112379720248979, 0.3296498043598909, 0.07325551207997576, 0.10988326811996363, 0.07325551207997576, 0.1831387801999394, 0.07325551207997576, 0.03662775603998788, 0.07325551207997576, 0.03662775603998788, 0.8759829460804383, 0.3108787259574694, 0.1554393629787347, 0.1554393629787347, 0.3108787259574694, 0.1554393629787347, 0.21303503689958164, 0.10651751844979082, 0.10651751844979082, 0.10651751844979082, 0.10651751844979082, 0.10651751844979082, 0.10651751844979082, 0.10651751844979082, 0.10651751844979082, 0.49788724201564283, 0.16596241400521428, 0.16596241400521428, 0.16596241400521428, 0.08298120700260714, 0.37296946078021725, 0.37296946078021725, 0.2229846927894754, 0.1114923463947377, 0.2229846927894754, 0.3344770391842131, 0.1114923463947377, 0.1114923463947377, 0.27556842904407836, 0.27556842904407836, 0.27556842904407836, 0.7024403701302726, 0.15031805442464044, 0.07515902721232022, 0.15031805442464044, 0.15031805442464044, 0.07515902721232022, 0.15031805442464044, 0.07515902721232022, 0.3006361088492809, 0.32769882812576834, 0.21846588541717887, 0.10923294270858944, 0.10923294270858944, 0.10923294270858944, 0.10923294270858944, 0.10923294270858944, 0.1885334228070446, 0.1885334228070446, 0.1885334228070446, 0.3770668456140892, 0.0942667114035223, 0.35363835814168265, 0.35363835814168265, 0.39609963807714677, 0.13203321269238225, 0.39609963807714677, 0.6690116499466644, 0.12172765387724843, 0.12172765387724843, 0.12172765387724843, 0.18259148081587265, 0.12172765387724843, 0.060863826938624216, 0.060863826938624216, 0.18259148081587265, 0.060863826938624216, 0.6880823895559522, 0.20946441789428083, 0.20946441789428083, 0.10473220894714041, 0.10473220894714041, 0.20946441789428083, 0.10473220894714041, 0.10473220894714041, 0.1921600809008369, 0.3843201618016738, 0.3843201618016738, 0.1338642818215299, 0.4015928454645897, 0.1338642818215299, 0.1338642818215299, 0.1338642818215299, 0.22867659849153577, 0.22867659849153577, 0.22867659849153577, 0.22867659849153577, 0.6690116499466645, 0.46459776483530685, 0.26618087457341066, 0.13309043728670533, 0.26618087457341066, 0.13309043728670533, 0.17520778450501334, 0.17520778450501334, 0.17520778450501334, 0.3504155690100267, 0.17520778450501334, 0.7024403701302728], \"Term\": [\"able\", \"able\", \"able\", \"able\", \"able\", \"able\", \"able\", \"able\", \"absolutely\", \"access\", \"access\", \"access\", \"access\", \"access\", \"access\", \"access\", \"accuracy\", \"accuracy\", \"actions\", \"actual\", \"actual\", \"actual\", \"actually\", \"actually\", \"actually\", \"actually\", \"actually\", \"actually\", \"actually\", \"actually\", \"adapt\", \"adaptability\", \"added\", \"added\", \"added\", \"added\", \"advance\", \"advanced\", \"advanced\", \"advanced\", \"advanced\", \"affect\", \"afloat\", \"agent\", \"agent\", \"agi\", \"agi\", \"agi\", \"agi\", \"agi\", \"agi\", \"ago\", \"ago\", \"ago\", \"ago\", \"alternatives\", \"amassing\", \"amazing\", \"amazing\", \"amazing\", \"amazing\", \"amazing\", \"amazing\", \"amazing\", \"amazing\", \"android\", \"announced\", \"announced\", \"answers\", \"answers\", \"answers\", \"answers\", \"answers\", \"anyways\", \"api\", \"api\", \"api\", \"api\", \"api\", \"api\", \"api\", \"api\", \"api\", \"app\", \"app\", \"app\", \"app\", \"apparent\", \"apple\", \"apple\", \"apple\", \"apple\", \"apply\", \"approaches\", \"approximately\", \"arena\", \"arguably\", \"art\", \"art\", \"articulate\", \"ask\", \"ask\", \"ask\", \"ask\", \"asked\", \"asks\", \"assistant\", \"assistant\", \"assistant\", \"assistant\", \"assistant\", \"assistant\", \"astra\", \"astra\", \"atari\", \"atleast\", \"automated\", \"available\", \"available\", \"available\", \"available\", \"available\", \"available\", \"available\", \"awesome\", \"awesome\", \"awesome\", \"awesome\", \"axis\", \"azure\", \"azure\", \"azure\", \"bag\", \"bard\", \"bard\", \"bard\", \"barely\", \"based\", \"based\", \"based\", \"based\", \"basic\", \"basic\", \"basically\", \"basically\", \"basically\", \"basically\", \"basically\", \"basically\", \"batch\", \"beginners\", \"begun\", \"benefit\", \"best\", \"best\", \"best\", \"best\", \"best\", \"best\", \"best\", \"best\", \"best\", \"better\", \"better\", \"better\", \"better\", \"better\", \"better\", \"better\", \"better\", \"better\", \"bing\", \"bing\", \"bing\", \"blast\", \"board\", \"bottle\", \"brand\", \"brand\", \"broader\", \"brought\", \"build\", \"build\", \"build\", \"build\", \"build\", \"buildings\", \"capabilities\", \"capabilities\", \"capabilities\", \"capabilities\", \"capabilities\", \"capabilities\", \"capability\", \"capacity\", \"caricatures\", \"cases\", \"chain\", \"chance\", \"chance\", \"chat\", \"chat\", \"chat\", \"chat\", \"chat\", \"chat\", \"chat\", \"chat\", \"chatgtp\", \"child\", \"chinese\", \"clarifies\", \"classes\", \"clearly\", \"clearly\", \"closes\", \"code\", \"code\", \"code\", \"code\", \"code\", \"code\", \"code\", \"codebase\", \"codellama\", \"codes\", \"coding\", \"coding\", \"coding\", \"coding\", \"coding\", \"coding\", \"coding\", \"collection\", \"come\", \"come\", \"come\", \"come\", \"come\", \"commands\", \"commands\", \"company\", \"company\", \"company\", \"company\", \"company\", \"comparable\", \"competition\", \"competition\", \"competition\", \"complete\", \"congrats\", \"consistent\", \"content\", \"content\", \"content\", \"content\", \"content\", \"content\", \"continuing\", \"cooking\", \"cool\", \"cool\", \"cool\", \"cool\", \"cool\", \"cool\", \"cool\", \"cooler\", \"coolest\", \"cost\", \"cost\", \"cost\", \"cost\", \"cost\", \"costs\", \"costs\", \"costs\", \"crawled\", \"create\", \"create\", \"create\", \"create\", \"create\", \"create\", \"create\", \"create\", \"created\", \"created\", \"created\", \"creation\", \"credits\", \"crucial\", \"customisation\", \"cut\", \"cuts\", \"cutting\", \"dall\", \"dall\", \"dall\", \"dall\", \"data\", \"data\", \"data\", \"data\", \"data\", \"data\", \"day\", \"day\", \"day\", \"day\", \"deceptively\", \"deeper\", \"deepseek\", \"deepseek\", \"deepseek\", \"degrade\", \"delivering\", \"demonstrated\", \"destroy\", \"details\", \"details\", \"developed\", \"device\", \"did\", \"did\", \"did\", \"did\", \"did\", \"did\", \"difficult\", \"difficult\", \"diffs\", \"discord\", \"discovered\", \"docs\", \"does\", \"does\", \"does\", \"does\", \"does\", \"does\", \"does\", \"does\", \"does\", \"doors\", \"doubts\", \"drastically\", \"dream\", \"dream\", \"dream\", \"drops\", \"ea\", \"earlier\", \"easy\", \"easy\", \"easy\", \"easy\", \"elite\", \"email\", \"emergency\", \"emphasis\", \"employee\", \"employee\", \"employees\", \"engine\", \"enhances\", \"envisioned\", \"evolving\", \"exceeded\", \"expect\", \"experience\", \"experience\", \"experience\", \"experience\", \"experience\", \"experience\", \"experimenting\", \"exploration\", \"fantastic\", \"fantastic\", \"far\", \"far\", \"far\", \"far\", \"far\", \"far\", \"far\", \"feedback\", \"feedback\", \"feel\", \"feel\", \"feel\", \"feel\", \"feel\", \"field\", \"final\", \"fine\", \"fine\", \"fine\", \"focused\", \"focusing\", \"follows\", \"forward\", \"forward\", \"forward\", \"forward\", \"forward\", \"forward\", \"free\", \"free\", \"free\", \"free\", \"free\", \"free\", \"free\", \"free\", \"free\", \"functionally\", \"future\", \"future\", \"future\", \"future\", \"future\", \"future\", \"game\", \"game\", \"game\", \"game\", \"game\", \"game\", \"gameboy\", \"games\", \"games\", \"gaming\", \"gave\", \"gave\", \"gave\", \"generally\", \"generate\", \"generate\", \"generate\", \"generous\", \"gets\", \"giants\", \"gizmo\", \"god\", \"going\", \"going\", \"going\", \"going\", \"going\", \"going\", \"going\", \"going\", \"good\", \"good\", \"good\", \"good\", \"good\", \"good\", \"good\", \"good\", \"good\", \"good\", \"google\", \"google\", \"google\", \"google\", \"google\", \"google\", \"google\", \"google\", \"google\", \"google\", \"got\", \"got\", \"got\", \"got\", \"got\", \"got\", \"gpt\", \"gpt\", \"gpt\", \"gpt\", \"gpt\", \"gpt\", \"gpt\", \"gpt\", \"gpt\", \"gpt\", \"gpts\", \"gpts\", \"graphic\", \"great\", \"great\", \"great\", \"great\", \"great\", \"great\", \"great\", \"great\", \"great\", \"greatly\", \"group\", \"guardrails\", \"haiku\", \"half\", \"hearing\", \"help\", \"help\", \"help\", \"help\", \"help\", \"help\", \"help\", \"helpful\", \"helpful\", \"helpful\", \"helpful\", \"helping\", \"hiding\", \"hitting\", \"homework\", \"honest\", \"hope\", \"hope\", \"hope\", \"hour\", \"house\", \"html\", \"huge\", \"huge\", \"huge\", \"huge\", \"huge\", \"huge\", \"huge\", \"human\", \"human\", \"human\", \"human\", \"human\", \"idea\", \"idea\", \"idea\", \"idea\", \"idea\", \"idea\", \"images\", \"images\", \"images\", \"images\", \"images\", \"impressive\", \"impressive\", \"impressive\", \"impressive\", \"impressive\", \"impressive\", \"impressive\", \"impressive\", \"improves\", \"improves\", \"improves\", \"improving\", \"improving\", \"incredible\", \"incredible\", \"incredible\", \"incredible\", \"industry\", \"industry\", \"infrastructure\", \"initial\", \"inner\", \"innovation\", \"innovation\", \"innovation\", \"innovation\", \"innovations\", \"input\", \"insanely\", \"insanely\", \"insight\", \"inspiring\", \"inspiring\", \"inspiring\", \"instance\", \"instances\", \"integrated\", \"integrated\", \"integration\", \"integration\", \"intelligence\", \"intelligence\", \"intelligence\", \"intelligence\", \"intelligence\", \"interactions\", \"interactive\", \"interesting\", \"interesting\", \"interesting\", \"interesting\", \"internet\", \"internet\", \"internet\", \"internet\", \"interpreter\", \"interpreter\", \"interruptions\", \"intriguing\", \"introduces\", \"invited\", \"involves\", \"job\", \"job\", \"job\", \"job\", \"job\", \"job\", \"job\", \"job\", \"job\", \"just\", \"just\", \"just\", \"just\", \"just\", \"just\", \"just\", \"just\", \"just\", \"just\", \"keeps\", \"know\", \"know\", \"know\", \"know\", \"know\", \"know\", \"know\", \"know\", \"knowledge\", \"knowledge\", \"languages\", \"launched\", \"lead\", \"leap\", \"leap\", \"learn\", \"learn\", \"learn\", \"learn\", \"learn\", \"learn\", \"learning\", \"learning\", \"learning\", \"let\", \"let\", \"let\", \"letting\", \"level\", \"level\", \"level\", \"level\", \"level\", \"lightning\", \"like\", \"like\", \"like\", \"like\", \"like\", \"like\", \"like\", \"like\", \"like\", \"like\", \"lines\", \"locally\", \"lol\", \"looks\", \"looks\", \"looks\", \"looks\", \"looks\", \"looks\", \"looks\", \"looks\", \"loop\", \"looped\", \"loss\", \"lot\", \"lot\", \"lot\", \"lot\", \"lot\", \"lot\", \"lot\", \"love\", \"love\", \"love\", \"love\", \"love\", \"make\", \"make\", \"make\", \"make\", \"make\", \"make\", \"makes\", \"makes\", \"makes\", \"makes\", \"makes\", \"makes\", \"makes\", \"makes\", \"making\", \"making\", \"making\", \"making\", \"making\", \"making\", \"making\", \"making\", \"manageable\", \"matter\", \"max\", \"memorize\", \"memory\", \"memory\", \"menu\", \"messages\", \"meticulously\", \"microsoft\", \"microsoft\", \"microsoft\", \"microsoft\", \"microsoft\", \"microsoft\", \"mini\", \"mini\", \"mini\", \"mini\", \"mini\", \"mini\", \"mini\", \"mishaps\", \"modal\", \"mode\", \"mode\", \"mode\", \"model\", \"model\", \"model\", \"model\", \"model\", \"model\", \"model\", \"model\", \"model\", \"models\", \"models\", \"models\", \"models\", \"models\", \"models\", \"models\", \"models\", \"moment\", \"monthly\", \"multiplayer\", \"names\", \"natural\", \"natural\", \"natural\", \"nature\", \"nearing\", \"need\", \"need\", \"need\", \"need\", \"need\", \"need\", \"need\", \"need\", \"new\", \"new\", \"new\", \"new\", \"new\", \"new\", \"new\", \"new\", \"new\", \"news\", \"news\", \"news\", \"nice\", \"nice\", \"nice\", \"nice\", \"notion\", \"notion\", \"novice\", \"npc\", \"nuanced\", \"numbers\", \"obstacles\", \"occurs\", \"offering\", \"offering\", \"ongoing\", \"open\", \"open\", \"open\", \"open\", \"open\", \"open\", \"open\", \"open\", \"open\", \"openais\", \"openais\", \"openais\", \"openais\", \"openais\", \"openais\", \"opportunities\", \"outperforms\", \"output\", \"output\", \"output\", \"output\", \"overall\", \"overall\", \"overall\", \"overcome\", \"overlook\", \"params\", \"particularly\", \"pay\", \"paying\", \"peasy\", \"people\", \"people\", \"people\", \"people\", \"people\", \"people\", \"people\", \"people\", \"people\", \"perfect\", \"perfect\", \"perfect\", \"perfect\", \"performance\", \"performance\", \"performance\", \"performance\", \"performance\", \"perplexity\", \"perplexity\", \"perplexity\", \"personal\", \"personal\", \"places\", \"plan\", \"plan\", \"plan\", \"plan\", \"plug\", \"plus\", \"plus\", \"plus\", \"plus\", \"plus\", \"plus\", \"plus\", \"podcast\", \"position\", \"posting\", \"posting\", \"potato\", \"potentially\", \"powerful\", \"powerful\", \"powerful\", \"powerful\", \"premium\", \"pretty\", \"pretty\", \"pretty\", \"pretty\", \"pretty\", \"pretty\", \"pretty\", \"pretty\", \"price\", \"price\", \"price\", \"problem\", \"problem\", \"problem\", \"productivity\", \"program\", \"programming\", \"programming\", \"programming\", \"programming\", \"progress\", \"progress\", \"progress\", \"progress\", \"project\", \"project\", \"project\", \"project\", \"project\", \"project\", \"promised\", \"prompted\", \"prompts\", \"prompts\", \"prompts\", \"proofreading\", \"protocols\", \"providing\", \"puzzle\", \"quantities\", \"question\", \"question\", \"question\", \"question\", \"qwen\", \"rag\", \"rag\", \"range\", \"ready\", \"really\", \"really\", \"really\", \"really\", \"really\", \"really\", \"really\", \"really\", \"realtime\", \"reason\", \"reasoning\", \"reasoning\", \"reasoning\", \"reasoning\", \"reasoning\", \"reasoning\", \"reasoning\", \"received\", \"recreated\", \"reference\", \"release\", \"release\", \"release\", \"release\", \"release\", \"release\", \"release\", \"released\", \"released\", \"released\", \"released\", \"released\", \"released\", \"repo\", \"represents\", \"research\", \"research\", \"research\", \"research\", \"researched\", \"researchers\", \"researchers\", \"responds\", \"results\", \"results\", \"results\", \"results\", \"results\", \"results\", \"results\", \"results\", \"results\", \"reviews\", \"reviews\", \"rewrite\", \"right\", \"right\", \"right\", \"right\", \"right\", \"risk\", \"rival\", \"rolling\", \"runs\", \"safer\", \"safety\", \"sailing\", \"satisfying\", \"saw\", \"scope\", \"scroll\", \"search\", \"search\", \"search\", \"search\", \"search\", \"search\", \"searches\", \"security\", \"sense\", \"seriously\", \"server\", \"service\", \"service\", \"service\", \"service\", \"set\", \"set\", \"set\", \"sharing\", \"sharing\", \"sharing\", \"sharing\", \"shows\", \"shows\", \"significant\", \"significant\", \"significant\", \"significantly\", \"significantly\", \"significantly\", \"siri\", \"siri\", \"slack\", \"slack\", \"slide\", \"smooth\", \"solid\", \"solid\", \"songs\", \"soon\", \"soon\", \"soon\", \"sota\", \"source\", \"source\", \"source\", \"source\", \"source\", \"source\", \"source\", \"sourced\", \"sourcing\", \"sourcing\", \"spent\", \"splunk\", \"standpoint\", \"startup\", \"startups\", \"steps\", \"stop\", \"stopped\", \"study\", \"stuff\", \"stuff\", \"stuff\", \"stuff\", \"stuff\", \"subscription\", \"suddenly\", \"surprisingly\", \"surprisingly\", \"surprisingly\", \"surprisingly\", \"survive\", \"suspect\", \"sustainable\", \"syllabus\", \"takes\", \"takes\", \"talking\", \"talking\", \"technology\", \"technology\", \"tells\", \"test\", \"test\", \"testing\", \"testing\", \"testing\", \"text\", \"text\", \"text\", \"text\", \"text\", \"text\", \"text\", \"thank\", \"thank\", \"thank\", \"thank\", \"thanks\", \"thanks\", \"thanks\", \"thanks\", \"thanks\", \"thanks\", \"thanks\", \"thing\", \"thing\", \"thing\", \"thing\", \"thing\", \"thing\", \"thing\", \"thing\", \"things\", \"things\", \"things\", \"things\", \"things\", \"think\", \"think\", \"think\", \"think\", \"think\", \"think\", \"think\", \"think\", \"think\", \"thinking\", \"thinking\", \"thought\", \"thought\", \"threats\", \"tiers\", \"time\", \"time\", \"time\", \"time\", \"time\", \"time\", \"time\", \"time\", \"time\", \"times\", \"times\", \"times\", \"times\", \"times\", \"tip\", \"today\", \"today\", \"today\", \"told\", \"tone\", \"tool\", \"tool\", \"tool\", \"tool\", \"tool\", \"tool\", \"tool\", \"traditional\", \"transcribe\", \"transcription\", \"transitioned\", \"translate\", \"translated\", \"tried\", \"tried\", \"tried\", \"tried\", \"true\", \"true\", \"true\", \"true\", \"truly\", \"truly\", \"try\", \"try\", \"try\", \"try\", \"trying\", \"trying\", \"trying\", \"trying\", \"trying\", \"tuitor\", \"tuning\", \"tuning\", \"ui\", \"ui\", \"ui\", \"ui\", \"ui\", \"uni\", \"unique\", \"unique\", \"unique\", \"unlike\", \"updated\", \"upgrades\", \"uptime\", \"usable\", \"usd\", \"use\", \"use\", \"use\", \"use\", \"use\", \"use\", \"use\", \"use\", \"use\", \"use\", \"used\", \"used\", \"used\", \"used\", \"used\", \"used\", \"useful\", \"useful\", \"useful\", \"useful\", \"useful\", \"useful\", \"user\", \"user\", \"user\", \"user\", \"user\", \"user\", \"user\", \"users\", \"users\", \"users\", \"users\", \"users\", \"users\", \"using\", \"using\", \"using\", \"using\", \"using\", \"using\", \"using\", \"using\", \"using\", \"utopiapp\", \"version\", \"version\", \"version\", \"version\", \"version\", \"video\", \"video\", \"video\", \"video\", \"video\", \"video\", \"video\", \"video\", \"video\", \"voice\", \"voice\", \"voice\", \"voice\", \"voice\", \"wait\", \"wait\", \"want\", \"want\", \"want\", \"want\", \"want\", \"want\", \"wanted\", \"wanted\", \"wanted\", \"waste\", \"way\", \"way\", \"way\", \"way\", \"way\", \"way\", \"way\", \"way\", \"web\", \"web\", \"web\", \"web\", \"web\", \"web\", \"web\", \"week\", \"week\", \"week\", \"week\", \"week\", \"weird\", \"weird\", \"whisper\", \"whisper\", \"whisper\", \"wondering\", \"work\", \"work\", \"work\", \"work\", \"work\", \"work\", \"work\", \"work\", \"work\", \"workings\", \"works\", \"works\", \"works\", \"works\", \"works\", \"works\", \"works\", \"world\", \"world\", \"world\", \"wow\", \"wow\", \"wow\", \"wow\", \"wow\", \"write\", \"write\", \"write\", \"write\", \"written\", \"xai\", \"years\", \"years\", \"years\", \"years\", \"yes\", \"yes\", \"yes\", \"yes\", \"yes\", \"youtube\"]}, \"R\": 30, \"lambda.step\": 0.5, \"plot.opts\": {\"xlab\": \"PC1\", \"ylab\": \"PC2\"}, \"topic.order\": [5, 1, 8, 4, 9, 3, 7, 10, 6, 2]};\n",
       "\n",
       "function LDAvis_load_lib(url, callback){\n",
       "  var s = document.createElement('script');\n",
       "  s.src = url;\n",
       "  s.async = true;\n",
       "  s.onreadystatechange = s.onload = callback;\n",
       "  s.onerror = function(){console.warn(\"failed to load library \" + url);};\n",
       "  document.getElementsByTagName(\"head\")[0].appendChild(s);\n",
       "}\n",
       "\n",
       "if(typeof(LDAvis) !== \"undefined\"){\n",
       "   // already loaded: just create the visualization\n",
       "   !function(LDAvis){\n",
       "       new LDAvis(\"#\" + \"ldavis_el97491350046931359848046022266\", ldavis_el97491350046931359848046022266_data);\n",
       "   }(LDAvis);\n",
       "}else if(typeof define === \"function\" && define.amd){\n",
       "   // require.js is available: use it to load d3/LDAvis\n",
       "   require.config({paths: {d3: \"https://d3js.org/d3.v5\"}});\n",
       "   require([\"d3\"], function(d3){\n",
       "      window.d3 = d3;\n",
       "      LDAvis_load_lib(\"https://cdn.jsdelivr.net/gh/bmabey/pyLDAvis@3.4.0/pyLDAvis/js/ldavis.v3.0.0.js\", function(){\n",
       "        new LDAvis(\"#\" + \"ldavis_el97491350046931359848046022266\", ldavis_el97491350046931359848046022266_data);\n",
       "      });\n",
       "    });\n",
       "}else{\n",
       "    // require.js not available: dynamically load d3 & LDAvis\n",
       "    LDAvis_load_lib(\"https://d3js.org/d3.v5.js\", function(){\n",
       "         LDAvis_load_lib(\"https://cdn.jsdelivr.net/gh/bmabey/pyLDAvis@3.4.0/pyLDAvis/js/ldavis.v3.0.0.js\", function(){\n",
       "                 new LDAvis(\"#\" + \"ldavis_el97491350046931359848046022266\", ldavis_el97491350046931359848046022266_data);\n",
       "            })\n",
       "         });\n",
       "}\n",
       "</script>"
      ],
      "text/plain": [
       "PreparedData(topic_coordinates=              x         y  topics  cluster       Freq\n",
       "topic                                                \n",
       "4     -0.080463  0.064708       1        1  14.861932\n",
       "0     -0.043379  0.066454       2        1  12.582997\n",
       "7     -0.068794 -0.037959       3        1  11.977312\n",
       "3      0.087219  0.051471       4        1  11.684738\n",
       "8     -0.033987 -0.144243       5        1  10.501020\n",
       "2     -0.019032  0.044405       6        1   9.399021\n",
       "6      0.096201 -0.020139       7        1   8.476240\n",
       "9      0.036837 -0.055356       8        1   7.555787\n",
       "5     -0.054598  0.011475       9        1   7.331627\n",
       "1      0.079994  0.019183      10        1   5.629327, topic_info=           Term       Freq      Total Category  logprob  loglift\n",
       "1944      thank  17.000000  17.000000  Default  30.0000  30.0000\n",
       "1325       open  42.000000  42.000000  Default  29.0000  29.0000\n",
       "1576     really  40.000000  40.000000  Default  28.0000  28.0000\n",
       "1946     thanks  19.000000  19.000000  Default  27.0000  27.0000\n",
       "1175       make  18.000000  18.000000  Default  26.0000  26.0000\n",
       "...         ...        ...        ...      ...      ...      ...\n",
       "2009     trying   1.331542   5.814213  Topic10  -5.5731   1.4032\n",
       "1579  reasoning   1.331541   9.969456  Topic10  -5.5731   0.8640\n",
       "1441       plus   1.331541  10.927990  Topic10  -5.5731   0.7722\n",
       "1104      level   1.331541   6.577108  Topic10  -5.5731   1.2799\n",
       "551        does   1.331541  16.353857  Topic10  -5.5731   0.3691\n",
       "\n",
       "[668 rows x 6 columns], token_table=      Topic      Freq     Term\n",
       "term                          \n",
       "2         1  0.097348     able\n",
       "2         2  0.194696     able\n",
       "2         3  0.097348     able\n",
       "2         4  0.097348     able\n",
       "2         6  0.097348     able\n",
       "...     ...       ...      ...\n",
       "2177      3  0.175208      yes\n",
       "2177      6  0.175208      yes\n",
       "2177      8  0.350416      yes\n",
       "2177     10  0.175208      yes\n",
       "2181      8  0.702440  youtube\n",
       "\n",
       "[1362 rows x 3 columns], R=30, lambda_step=0.5, plot_opts={'xlab': 'PC1', 'ylab': 'PC2'}, topic_order=[5, 1, 8, 4, 9, 3, 7, 10, 6, 2])"
      ]
     },
     "execution_count": 10,
     "metadata": {},
     "output_type": "execute_result"
    }
   ],
   "source": [
    "pyLDAvis.lda_model.prepare(pos_lda, pos_X, pos_vect, lambda_step=0.5)"
   ]
  },
  {
   "cell_type": "markdown",
   "metadata": {},
   "source": [
    "The scatter plot (left) shows a 2D representation of the topics. The distance between the points indicates the similarity or dissimilarity between topics. For example, from above, it is visible that topic 5 is far different from the other topics. It is also evident that topic 1 and 6 have some overlapping themes with topic 2. \n",
    "\n",
    "The bar chart (right) shows the top keywords that best represent that topic."
   ]
  },
  {
   "cell_type": "markdown",
   "metadata": {
    "id": "t68bf8WqX6r9"
   },
   "source": [
    "### LSA for Positive Reviews"
   ]
  },
  {
   "cell_type": "code",
   "execution_count": null,
   "metadata": {
    "id": "TpLSMBwdWofs"
   },
   "outputs": [],
   "source": [
    "pos_lsa_model = TruncatedSVD(n_components=10, random_state=42)\n",
    "pos_lsa_document_topics = pos_lsa_model.fit_transform(pos_X)"
   ]
  },
  {
   "cell_type": "code",
   "execution_count": null,
   "metadata": {
    "colab": {
     "base_uri": "https://localhost:8080/"
    },
    "executionInfo": {
     "elapsed": 8,
     "status": "ok",
     "timestamp": 1739954555732,
     "user": {
      "displayName": "Anson George",
      "userId": "15855563631802224888"
     },
     "user_tz": -240
    },
    "id": "YFeQopAHXF9A",
    "outputId": "fb061f49-3961-474c-e8c2-12f329972888"
   },
   "outputs": [
    {
     "name": "stdout",
     "output_type": "stream",
     "text": [
      "topic 0       topic 1       topic 2       topic 3       topic 4       topic 5       topic 6       topic 7       topic 8       topic 9       \n",
      "--------      --------      --------      --------      --------      --------      --------      --------      --------      --------      \n",
      "model         like          gpt           model         api           really        models        better        just          google        \n",
      "gpt           gpt           better        new           use           good          access        just          new           models        \n",
      "like          just          time          really        free          code          free          models        using         week          \n",
      "just          people        access        using         whisper       access        really        good          access        agi           \n",
      "open          things        fine          just          just          better        fine          mini          games         use           \n",
      "really        models        capabilities  reasoning     tokens        mini          good          output        unique        making        \n",
      "use           feel          model         actually      really        pretty        mini          prompt        game          people        \n",
      "api           great         api           good          available     does          model         tokens        released      just          \n",
      "better        results       tuning        going         mini          did           rate          json          whisper       best          \n",
      "free          price         results       does          text          use           tuning        max           users         bard          \n",
      "using         work          released      capabilities  cost          gpt           just          whisper       work          released      \n",
      "good          getting       received      voice         account       langchain     results       cheaper       code          new           \n",
      "models        think         experiences   rate          costs         llm           api           new           ask           want          \n",
      "new           search        whisper       right         need          especially    received      did           learn         years         \n",
      "people        make          users         know          models        way           run           huge          people        useful        \n",
      "access        voice         available     best          know          using         people        switched      plan          better        \n",
      "google        mini          tasks         game          faster        siri          testing       app           api           using         \n",
      "source        best          getting       created       better        make          source        used          got           fine          \n",
      "best          chain         quite         amazing       giving        prompt        post          task          source        humans        \n",
      "great         fine          moment        able          think         new           expensive     getting       week          used          \n",
      "\n",
      "\n"
     ]
    }
   ],
   "source": [
    "pos_lsa_sorting = np.argsort(pos_lsa_model.components_, axis=1)[:, ::-1]\n",
    "pos_lsa_feature_names = np.array(pos_vect.get_feature_names_out())\n",
    "\n",
    "mglearn.tools.print_topics(topics=range(10), feature_names=pos_lsa_feature_names, sorting=pos_lsa_sorting, topics_per_chunk=10, n_words=20)"
   ]
  },
  {
   "cell_type": "markdown",
   "metadata": {
    "id": "XXc0y6WzUELL"
   },
   "source": [
    "The above keywords show that some relevant topics are usability, API, general sentiment, model performance, accessibility, cost-efficiency, and comparison with other models."
   ]
  },
  {
   "cell_type": "markdown",
   "metadata": {
    "id": "F3QuuwLJclJ1"
   },
   "source": [
    "### NNMF for Positive Reviews"
   ]
  },
  {
   "cell_type": "code",
   "execution_count": null,
   "metadata": {
    "id": "73MMh0iActca"
   },
   "outputs": [],
   "source": [
    "pos_nmf_model = NMF(n_components=10, init='nndsvd', max_iter=80, random_state=42)\n",
    "pos_nfm_document_topics = pos_nmf_model.fit_transform(pos_X)"
   ]
  },
  {
   "cell_type": "code",
   "execution_count": null,
   "metadata": {
    "colab": {
     "base_uri": "https://localhost:8080/"
    },
    "executionInfo": {
     "elapsed": 8,
     "status": "ok",
     "timestamp": 1739954595326,
     "user": {
      "displayName": "Anson George",
      "userId": "15855563631802224888"
     },
     "user_tz": -240
    },
    "id": "oaPLQwvDdMxt",
    "outputId": "8d9239eb-8be5-4164-8295-c564cdb7ea5f"
   },
   "outputs": [
    {
     "name": "stdout",
     "output_type": "stream",
     "text": [
      "topic 0       topic 1       topic 2       topic 3       topic 4       topic 5       topic 6       topic 7       topic 8       topic 9       \n",
      "--------      --------      --------      --------      --------      --------      --------      --------      --------      --------      \n",
      "like          model         gpt           open          api           really        ask           better        games         week          \n",
      "just          new           access        source        free          good          learn         output        unique        agi           \n",
      "people        whisper       fine          google        use           code          plan          tokens        game          years         \n",
      "models        going         time          meta          whisper       just          python        prompt        experience    making        \n",
      "things        using         results       free          available     access        set           siri          new           want          \n",
      "great         reasoning     released      employees     text          does          study         just          voice         companies     \n",
      "feel          capabilities  tuning        models        cost          using         use           json          app           best          \n",
      "price         amazing       received      future        tokens        use           best          max           quality       useful        \n",
      "search        actually      people        apple         costs         models        code          did           gpts          year          \n",
      "voice         text          users         llama         account       mini          basically     new           features      sora          \n",
      "think         google        capabilities  deepseek      large         way           questions     tool          significantly profit        \n",
      "make          given         getting       surprisingly  addition      free          learning      mini          times         oh            \n",
      "does          time          work          goes          intelligence  far           wrong         use           improves      gemini        \n",
      "work          best          chat          chat          faster        pretty        gives         good          prompts       chance        \n",
      "best          rate          experiences   community     videos        langchain     idea          outputs       commands      claude        \n",
      "ago           large         tasks         local         function      llm           design        recently      market        humans        \n",
      "amazing       loop          moment        developers    speech        natural       months        used          mobile        compete       \n",
      "huge          real          details       released      reduced       make          daily         especially    utilizing     grok          \n",
      "company       huge          just          tools         chunks        actually      personal      limit         character     safe          \n",
      "complaining   extremely     coding        amazon        giving        got           according     answers       hours         anyways       \n",
      "\n",
      "\n"
     ]
    }
   ],
   "source": [
    "pos_nfm_sorting = np.argsort(pos_nmf_model.components_, axis=1)[:, ::-1]\n",
    "pos_nfm_feature_names = np.array(pos_vect.get_feature_names_out())\n",
    "\n",
    "mglearn.tools.print_topics(topics=range(10), feature_names=pos_nfm_feature_names, sorting=pos_nfm_sorting, topics_per_chunk=10, n_words=20)"
   ]
  },
  {
   "cell_type": "markdown",
   "metadata": {
    "id": "fPNHdUfIZvM_"
   },
   "source": [
    "The above keywords show that some relevant topics are usability, model capabilities, accessibility, API usage, reasoning, search functionality, learning resources, Advancements, gaming experience, and comparisons with other models.\n",
    "\n",
    "Overall, all three methods converge on key areas like model performance, accessibility, and comparisons with other models, but NNMF brings out a stronger focus on gaming and learning, while LDA and LSA emphasize the general appreciation and community aspects more strongly."
   ]
  },
  {
   "cell_type": "markdown",
   "metadata": {
    "id": "WmwzwHRlc2zI"
   },
   "source": [
    "### LDA for Negative Reviews"
   ]
  },
  {
   "cell_type": "code",
   "execution_count": null,
   "metadata": {
    "id": "rCbHUyRQcTP6"
   },
   "outputs": [],
   "source": [
    "neg_vect = CountVectorizer(max_features=10000, max_df=0.2, stop_words=\"english\")\n",
    "neg_X = neg_vect.fit_transform(negative_df['Cleaned_Text'])"
   ]
  },
  {
   "cell_type": "code",
   "execution_count": null,
   "metadata": {
    "id": "nFs-W-HLcYaQ"
   },
   "outputs": [],
   "source": [
    "neg_lda = LatentDirichletAllocation(n_components=10, learning_method=\"batch\", max_iter=25, random_state=0)\n",
    "neg_document_topics = neg_lda.fit_transform(neg_X)"
   ]
  },
  {
   "cell_type": "code",
   "execution_count": null,
   "metadata": {
    "colab": {
     "base_uri": "https://localhost:8080/"
    },
    "executionInfo": {
     "elapsed": 16,
     "status": "ok",
     "timestamp": 1739954604042,
     "user": {
      "displayName": "Anson George",
      "userId": "15855563631802224888"
     },
     "user_tz": -240
    },
    "id": "qI8YBnVgchqx",
    "outputId": "f4dcdc74-4b12-40f4-926f-c602d7ae3aac"
   },
   "outputs": [
    {
     "name": "stdout",
     "output_type": "stream",
     "text": [
      "topic 0       topic 1       topic 2       topic 3       topic 4       topic 5       topic 6       topic 7       topic 8       topic 9       \n",
      "--------      --------      --------      --------      --------      --------      --------      --------      --------      --------      \n",
      "like          chatgpt       chatgpt       chatgpt       like          profit        like          chatgpt       access        open          \n",
      "just          just          model         gpt           open          google        gpt           api           chatgpt       source        \n",
      "chatgpt       open          really        did           does          non           data          just          like          chatgpt       \n",
      "open          use           just          google        gpt           model         chatgpt       gpt           models        just          \n",
      "better        model         good          api           source        just          just          google        google        does          \n",
      "gpt           people        data          message       use           time          deepseek      does          just          like          \n",
      "model         source        like          used          chatgpt       open          free          version       users         model         \n",
      "source        google        way           support       really        make          code          model         got           code          \n",
      "does          using         models        access        free          business      companies     people        good          api           \n",
      "use           models        better        issue         people        bad           open          web           mode          deepseek      \n",
      "bad           like          going         model         account       like          using         altman        companies     use           \n",
      "microsoft     api           does          think         model         release       big           like          microsoft     microsoft     \n",
      "using         content       worse         help          code          using         know          better        free          free          \n",
      "api           bad           use           gemini        just          does          internet      new           use           response      \n",
      "preview       users         open          preview       actually      models        shit          using         people        people        \n",
      "think         new           need          better        work          research      think         answer        data          product       \n",
      "right         data          benchmarks    understand    access        chatgpt       release       time          musk          work          \n",
      "worse         going         using         fix           know          released      models        search        really        going         \n",
      "really        deepseek      make          use           bad           data          money         copyright     version       gpt           \n",
      "make          censorship    gpt           just          going         actors        sure          real          open          china         \n",
      "\n",
      "\n"
     ]
    }
   ],
   "source": [
    "neg_sorting = np.argsort(neg_lda.components_, axis=1)[:, ::-1]\n",
    "neg_feature_names = np.array(neg_vect.get_feature_names_out())\n",
    "\n",
    "mglearn.tools.print_topics(topics=range(10), feature_names=neg_feature_names, sorting=neg_sorting, topics_per_chunk=10, n_words=20)"
   ]
  },
  {
   "cell_type": "markdown",
   "metadata": {
    "id": "Qfhmek0laxQn"
   },
   "source": [
    "The above keywords show distinct topics related to user dissatisfaction, with themes about issues with models, APIs, data handling, and comparisons with other models"
   ]
  },
  {
   "cell_type": "code",
   "execution_count": null,
   "metadata": {
    "colab": {
     "base_uri": "https://localhost:8080/",
     "height": 861
    },
    "executionInfo": {
     "elapsed": 1045,
     "status": "ok",
     "timestamp": 1739954654659,
     "user": {
      "displayName": "Anson George",
      "userId": "15855563631802224888"
     },
     "user_tz": -240
    },
    "id": "KFn1EXrgfI74",
    "outputId": "f42ce17d-1549-46e4-b0dd-ba9ac24a3609"
   },
   "outputs": [
    {
     "data": {
      "text/html": [
       "\n",
       "<link rel=\"stylesheet\" type=\"text/css\" href=\"https://cdn.jsdelivr.net/gh/bmabey/pyLDAvis@3.4.0/pyLDAvis/js/ldavis.v1.0.0.css\">\n",
       "\n",
       "\n",
       "<div id=\"ldavis_el97491350046525542725389688885\" style=\"background-color:white;\"></div>\n",
       "<script type=\"text/javascript\">\n",
       "\n",
       "var ldavis_el97491350046525542725389688885_data = {\"mdsDat\": {\"x\": [0.07333903229466748, 0.027609419901680175, 0.03841294997641692, 0.05767382887285318, 0.05704199776182367, -0.05008021583300799, 0.04204858257603178, -0.07937909888602536, -0.07366427583189783, -0.09300222083254198], \"y\": [0.012389423838928966, 0.03705788692839306, 0.004449044218450585, -0.017289908158807255, 0.0490333582131526, 0.08954221227759512, -0.09944409631092907, -0.009546030386279328, -0.11120276949144117, 0.04501087887093643], \"topics\": [1, 2, 3, 4, 5, 6, 7, 8, 9, 10], \"cluster\": [1, 1, 1, 1, 1, 1, 1, 1, 1, 1], \"Freq\": [15.123146435796667, 12.954782390998698, 12.216763052574933, 11.407694325513377, 11.34324978965048, 11.049096428755401, 8.236037536367041, 6.114488985237627, 6.017032825564951, 5.5377082295408275]}, \"tinfo\": {\"Term\": [\"profit\", \"google\", \"access\", \"api\", \"open\", \"companies\", \"non\", \"gpt\", \"data\", \"like\", \"chatgpt\", \"deepseek\", \"bad\", \"source\", \"preview\", \"mode\", \"big\", \"microsoft\", \"business\", \"better\", \"got\", \"coding\", \"version\", \"content\", \"release\", \"code\", \"message\", \"benchmarks\", \"musk\", \"shit\", \"schema\", \"assistants\", \"iam\", \"excuse\", \"crimes\", \"hundreds\", \"violating\", \"strings\", \"pasted\", \"background\", \"impressed\", \"marble\", \"packages\", \"recover\", \"size\", \"ancient\", \"commit\", \"alternatives\", \"reporting\", \"appeal\", \"gems\", \"brave\", \"timeline\", \"glorifying\", \"wild\", \"nerds\", \"dollars\", \"groups\", \"loses\", \"disinformation\", \"account\", \"open\", \"like\", \"does\", \"return\", \"source\", \"really\", \"free\", \"use\", \"actually\", \"gpt\", \"people\", \"custom\", \"code\", \"access\", \"work\", \"law\", \"ridiculous\", \"quality\", \"extremely\", \"tried\", \"suicide\", \"browsing\", \"generation\", \"try\", \"know\", \"month\", \"says\", \"run\", \"chatgpt\", \"model\", \"just\", \"bad\", \"going\", \"models\", \"lot\", \"users\", \"time\", \"company\", \"using\", \"make\", \"want\", \"reach\", \"accessible\", \"ios\", \"minors\", \"regulator\", \"unlawful\", \"aider\", \"filing\", \"universal\", \"slower\", \"davinci\", \"wider\", \"program\", \"institutions\", \"improving\", \"agents\", \"agentic\", \"monopolistic\", \"anxious\", \"fancy\", \"laziness\", \"whistleblowers\", \"grab\", \"opus\", \"distilled\", \"ending\", \"provider\", \"aside\", \"overload\", \"caring\", \"benchmarks\", \"really\", \"model\", \"good\", \"quite\", \"way\", \"data\", \"compute\", \"worse\", \"hype\", \"chatgpt\", \"outputs\", \"based\", \"going\", \"lack\", \"result\", \"story\", \"models\", \"better\", \"need\", \"far\", \"reviews\", \"output\", \"just\", \"lot\", \"safety\", \"proprietary\", \"like\", \"does\", \"use\", \"open\", \"using\", \"make\", \"gpt\", \"want\", \"agi\", \"did\", \"people\", \"free\", \"np\", \"compete\", \"inside\", \"papers\", \"western\", \"generating\", \"cancelled\", \"refusal\", \"passwords\", \"confirmation\", \"comprehensive\", \"guide\", \"shared\", \"ea\", \"foreign\", \"minders\", \"cookies\", \"editing\", \"oversight\", \"warn\", \"revoke\", \"threatens\", \"thoroughly\", \"laughably\", \"illustrations\", \"spamming\", \"operator\", \"rewrite\", \"clips\", \"objectively\", \"just\", \"content\", \"chatgpt\", \"use\", \"solve\", \"open\", \"google\", \"people\", \"coding\", \"using\", \"censorship\", \"bad\", \"gets\", \"damn\", \"models\", \"new\", \"close\", \"users\", \"ais\", \"complaining\", \"exact\", \"source\", \"sent\", \"versus\", \"model\", \"deepseek\", \"api\", \"works\", \"banned\", \"like\", \"data\", \"going\", \"want\", \"know\", \"lot\", \"way\", \"free\", \"good\", \"pay\", \"pro\", \"tts\", \"subtitles\", \"helen\", \"persona\", \"late\", \"perspective\", \"redis\", \"blame\", \"mandated\", \"blowing\", \"cultural\", \"wind\", \"understood\", \"realistic\", \"false\", \"interview\", \"advance\", \"cake\", \"industries\", \"select\", \"versions\", \"freedom\", \"clients\", \"speak\", \"lowering\", \"freelance\", \"explains\", \"leak\", \"areas\", \"invalid\", \"open\", \"response\", \"source\", \"team\", \"china\", \"anthropic\", \"deepseek\", \"code\", \"big\", \"allowed\", \"product\", \"single\", \"does\", \"language\", \"putting\", \"microsoft\", \"innovation\", \"customer\", \"fine\", \"published\", \"nvidia\", \"chatgpt\", \"just\", \"like\", \"model\", \"api\", \"use\", \"free\", \"people\", \"work\", \"going\", \"gpt\", \"good\", \"better\", \"bad\", \"actually\", \"did\", \"models\", \"far\", \"variants\", \"markdown\", \"instruction\", \"contract\", \"assignment\", \"defendants\", \"plaintiffs\", \"representations\", \"noted\", \"parameters\", \"filtering\", \"rendered\", \"quotes\", \"trick\", \"yada\", \"reflection\", \"clue\", \"llama\", \"brings\", \"inclusion\", \"exam\", \"th\", \"replying\", \"sword\", \"meltdown\", \"weights\", \"combat\", \"haiku\", \"conduct\", \"devs\", \"better\", \"like\", \"just\", \"preview\", \"comments\", \"copyrighted\", \"right\", \"chatgpt\", \"open\", \"similar\", \"microsoft\", \"coding\", \"train\", \"gpt\", \"bad\", \"court\", \"source\", \"generator\", \"model\", \"happens\", \"does\", \"legal\", \"ux\", \"say\", \"worse\", \"rate\", \"mini\", \"thing\", \"use\", \"using\", \"api\", \"think\", \"really\", \"make\", \"way\", \"need\", \"did\", \"models\", \"content\", \"processing\", \"repeated\", \"york\", \"realize\", \"adverts\", \"nagging\", \"uk\", \"timing\", \"scaling\", \"map\", \"openstreet\", \"operational\", \"worked\", \"native\", \"levels\", \"deception\", \"apartment\", \"francisco\", \"san\", \"returns\", \"ukraine\", \"helps\", \"plugin\", \"attempts\", \"application\", \"lines\", \"scale\", \"stealing\", \"posted\", \"lawsuit\", \"api\", \"chatgpt\", \"web\", \"answer\", \"version\", \"altman\", \"search\", \"copyright\", \"google\", \"times\", \"demo\", \"real\", \"country\", \"just\", \"claims\", \"weird\", \"available\", \"dead\", \"gpt\", \"current\", \"test\", \"try\", \"does\", \"model\", \"people\", \"like\", \"better\", \"new\", \"using\", \"time\", \"data\", \"going\", \"models\", \"work\", \"need\", \"use\", \"results\", \"scarjo\", \"replacement\", \"alive\", \"concerted\", \"transparency\", \"uploading\", \"blocks\", \"lmfao\", \"maintenance\", \"abusing\", \"opensource\", \"act\", \"machine\", \"uber\", \"stole\", \"folks\", \"audio\", \"furthering\", \"johanssen\", \"promote\", \"staged\", \"stifle\", \"surveillance\", \"weaponizing\", \"addressing\", \"conservative\", \"contend\", \"experimentation\", \"questionable\", \"resulting\", \"like\", \"data\", \"gpt\", \"internet\", \"wait\", \"companies\", \"big\", \"deepseek\", \"shit\", \"agree\", \"exist\", \"code\", \"release\", \"closed\", \"failed\", \"just\", \"sure\", \"effort\", \"feel\", \"feels\", \"chatgpt\", \"free\", \"open\", \"using\", \"know\", \"think\", \"models\", \"money\", \"company\", \"better\", \"profit\", \"model\", \"help\", \"make\", \"problem\", \"card\", \"alex\", \"skynet\", \"regulating\", \"offer\", \"guilty\", \"verification\", \"chips\", \"forgot\", \"roll\", \"info\", \"charged\", \"invoices\", \"successfully\", \"gigantic\", \"gptsearch\", \"paypouts\", \"returned\", \"sky\", \"chatted\", \"disclose\", \"fran\", \"infiltrated\", \"jim\", \"slack\", \"adapting\", \"groundbreaking\", \"palm\", \"sge\", \"locking\", \"access\", \"mode\", \"musk\", \"got\", \"phone\", \"accurate\", \"companies\", \"users\", \"step\", \"elon\", \"office\", \"left\", \"pick\", \"billing\", \"charges\", \"tariffs\", \"disaster\", \"good\", \"number\", \"chatgpt\", \"like\", \"models\", \"google\", \"just\", \"microsoft\", \"free\", \"use\", \"people\", \"data\", \"really\", \"version\", \"open\", \"way\", \"problem\", \"going\", \"model\", \"api\", \"best\", \"pro\", \"gemini\", \"spokesperson\", \"vps\", \"elons\", \"scumbags\", \"scenes\", \"frontend\", \"insanely\", \"drops\", \"capped\", \"dodge\", \"empower\", \"subsidiary\", \"giant\", \"attempting\", \"global\", \"practices\", \"affairs\", \"amended\", \"anna\", \"maintains\", \"makanju\", \"military\", \"president\", \"terrifying\", \"vice\", \"weapons\", \"butthurt\", \"crucify\", \"lesbian\", \"managed\", \"profit\", \"non\", \"google\", \"actors\", \"research\", \"tax\", \"business\", \"time\", \"stock\", \"place\", \"asi\", \"crap\", \"capabilities\", \"incredibly\", \"model\", \"just\", \"open\", \"make\", \"bad\", \"like\", \"release\", \"using\", \"does\", \"models\", \"chatgpt\", \"released\", \"data\", \"problem\", \"gpt\", \"companies\", \"better\", \"month\", \"sam\", \"want\", \"really\", \"going\", \"mention\", \"scam\", \"entered\", \"proper\", \"beating\", \"center\", \"button\", \"sh\", \"buggy\", \"gaslighted\", \"links\", \"avm\", \"bard\", \"grounds\", \"address\", \"cards\", \"chatgtp\", \"unverified\", \"aced\", \"dataset\", \"elliot\", \"eyes\", \"glaser\", \"hid\", \"independently\", \"mathematician\", \"rolled\", \"sutskever\", \"verified\", \"consistenly\", \"message\", \"understand\", \"email\", \"fix\", \"support\", \"sales\", \"studio\", \"did\", \"contact\", \"answers\", \"bug\", \"chatgpt\", \"gpt\", \"fake\", \"reports\", \"doubt\", \"private\", \"google\", \"api\", \"used\", \"access\", \"issue\", \"model\", \"think\", \"help\", \"gemini\", \"preview\", \"better\", \"use\", \"just\", \"like\", \"account\", \"getting\", \"got\", \"models\", \"going\", \"chinese\", \"having\", \"wrong\"], \"Freq\": [35.0, 60.0, 40.0, 80.0, 139.0, 31.0, 23.0, 107.0, 66.0, 151.0, 194.0, 40.0, 51.0, 85.0, 25.0, 11.0, 22.0, 46.0, 21.0, 68.0, 34.0, 18.0, 28.0, 29.0, 26.0, 51.0, 11.0, 15.0, 11.0, 20.0, 3.4659997696977696, 2.6206339720839993, 2.6206339720761966, 2.620633971981751, 2.6206339718350193, 2.620633971452527, 2.620601689092077, 1.7752681745705383, 1.7752681745704733, 1.7752681745694963, 1.7752681745608905, 1.7752681745512493, 1.7752681745441932, 1.7752681745440753, 1.775268174539333, 1.7752681745224002, 1.7752681744484757, 1.775268174436301, 1.7752681743687118, 1.775268174367201, 1.7752681743579273, 1.7752681742830565, 1.7752681742644632, 1.775268174243959, 1.7752681742006304, 1.7752681741890517, 1.7752681741637606, 1.7752681738341405, 1.7752681737059717, 1.7752681734216897, 16.525286022602742, 32.42644702638857, 32.79615357963431, 21.778526458208614, 6.847477760120988, 20.189125173268327, 17.484955610804686, 16.991943026514253, 19.728303395154036, 12.69818587525909, 21.139967128882212, 16.897794532191725, 5.156746608780824, 13.33080368019105, 11.32944398818531, 11.769645313714669, 4.311367994715736, 5.156752573500193, 6.847474257006953, 4.311355881032073, 7.489914118315846, 3.466004368854362, 3.4660096202617305, 4.238050987490524, 6.8474636307830385, 10.57095625578364, 6.002112160394443, 8.538255502937714, 6.8475102507686385, 18.108767905781807, 14.544835991928503, 13.247778682296074, 10.462765796727286, 9.244680176805112, 9.082384664680736, 8.737236615269042, 8.53820884210205, 8.076199534206683, 8.020596909113797, 7.8077436832095835, 7.591878619400215, 7.4470343372633385, 3.3751121327717097, 3.375104333354154, 2.551910201408322, 1.7287159705301933, 1.7287159705301933, 1.7287159705301933, 1.7287159705223651, 1.728715970484206, 1.72871597042963, 1.728715970418713, 1.7287159703919777, 1.7287159703450747, 1.7287159702969752, 1.7287159702740085, 1.7287159702709463, 1.7287159700599837, 1.7287159700597536, 1.7287159698493313, 1.7287159696630536, 1.7287159696628194, 1.7287159691873666, 1.7287159690068543, 1.7287159688743041, 1.7287124061781325, 1.7287022098885985, 1.7287025745498104, 1.7287025744689015, 1.7287025743756315, 1.7287005239963271, 1.728667288533863, 9.960723584127134, 19.763343455466824, 24.369115066457073, 16.92743650241284, 7.491138006293781, 14.076739551654857, 15.292181948604062, 7.427409702957383, 10.66230042828835, 7.491132545655599, 24.762018188978683, 5.021508651627849, 5.844771978402055, 13.090425951400336, 5.844720016292167, 4.198313178614557, 4.198341516629697, 13.98526567135717, 13.19359957542722, 9.960788892740966, 8.314376809795894, 3.375117311180906, 6.1182587050839405, 18.839194497319273, 8.927693781559118, 6.667961988372021, 3.3751277076396833, 14.157839481333584, 12.691532512443976, 10.545949211993175, 10.35801594165524, 9.858430463228437, 9.428023955452211, 9.25997503833314, 8.751558082596327, 8.38685088620189, 7.971883544560703, 7.82047700054987, 7.359974237568521, 3.3380756582628175, 2.5239108635490854, 2.523910863476834, 2.523910863455566, 2.523910863424269, 2.5239108633824983, 2.523910863324727, 2.523867689743875, 1.7097460686983355, 1.709746068686641, 1.7097460686612873, 1.7097460686612873, 1.70974606861461, 1.7097460685554384, 1.7097460684849175, 1.709746068323056, 1.7097460682726742, 1.709746068187398, 1.7097460681295076, 1.7097460676385592, 1.7097460674966538, 1.7097460674966538, 1.70974606736736, 1.7097460673127185, 1.70974606720349, 1.709744771149319, 1.7097365801888786, 1.7097292663510333, 1.7097058725119207, 1.7096949466151998, 32.78412772424391, 12.94326473344455, 32.83179356747311, 21.54824488884083, 6.594819732198495, 22.510394464752206, 13.92226591703744, 14.82715316877577, 7.408922862397756, 13.912673843968744, 9.013829575491789, 11.751233234798729, 6.488031046876838, 4.966451204203765, 13.88067442532397, 10.370250937277218, 4.966442594372915, 10.652007453542923, 4.152274913610951, 4.152263788942611, 4.15225124109315, 14.217161666689597, 3.3380817326400622, 3.3380797233179837, 15.75273835506072, 9.330157941994083, 13.014641831901354, 5.809994746381297, 4.966422053603364, 13.355204243892615, 10.338945515235322, 9.836604192623064, 8.604823243526432, 8.316386352690781, 7.408898419187154, 7.2974267724791435, 6.925083836900474, 6.80492163583943, 6.594801371252852, 6.594773353834071, 3.3102659802922636, 3.3102659802460583, 3.3102659802170784, 3.3102659801975545, 3.3102589135432705, 3.310249784086356, 2.5028840338242313, 2.5028840337268465, 2.502884033548558, 1.6955020874170044, 1.6955020874170044, 1.6955020874170044, 1.6955020873245317, 1.6955020873243227, 1.6955020873193725, 1.6955020873175948, 1.695502087290361, 1.6955020872515136, 1.6955020872515136, 1.6955020872277347, 1.6955020872141242, 1.695502087149783, 1.6955020871042115, 1.6955020870719149, 1.6955020870392201, 1.6955020869940467, 1.6955020869935657, 1.695502086913665, 1.6955020867202109, 1.695502086673065, 33.14196786531609, 8.908077275794636, 20.354839483667224, 6.539842876615727, 7.347272495275353, 7.276734259415381, 10.5767137079174, 11.33183087759284, 7.347211440954718, 3.9286346622786037, 8.154615337828515, 4.925080429167478, 13.81712285481123, 4.925045979240202, 4.117654730990097, 9.769374228627377, 3.3102467276455, 4.117643987760052, 5.561744462209892, 3.710314358187544, 3.3102770032836393, 16.862181832249803, 14.0191940358944, 13.492892257593232, 13.000470653977127, 10.69764085953481, 10.490622790640336, 9.337657957118644, 8.896195370387037, 7.870976632405121, 7.8654172742512305, 7.576332050273916, 7.34721346519487, 7.347114227897218, 7.276308446718686, 6.539837294921765, 6.136715583921646, 6.0990214932714935, 5.732406601935499, 2.4995004657788154, 2.4995004657505615, 2.4995004656955224, 2.499500465017183, 2.49949488460949, 1.6932099929024127, 1.6932099929024127, 1.6932099928987367, 1.6932099928798814, 1.6932099928601458, 1.6932099928516162, 1.6932099928326179, 1.6932099928102713, 1.693209992797898, 1.6932099927631783, 1.6932099927342805, 1.6932099926418729, 1.6932099926410469, 1.6932099926313575, 1.693209992596298, 1.693209992540396, 1.6932099921217993, 1.6932099921212238, 1.6932099919654635, 1.693209991852828, 1.6932099913320309, 1.6932066794141516, 1.6932024948024835, 1.6931948652038387, 1.6931943378373266, 20.180474349919095, 27.72580752326717, 25.69807084014817, 9.756126863575581, 7.33727365913175, 5.680558563925534, 8.900786863476256, 24.883695765927015, 20.408158461018523, 5.724678300893566, 11.692081864646557, 7.337284905788959, 6.531001781531324, 17.435267380473363, 11.842967907426857, 4.918346460047217, 14.953321839753707, 4.039878794117263, 17.05203518465331, 4.816599651764125, 14.250981401963964, 4.918343040711175, 3.305782895161385, 8.071778349961026, 8.760296338986159, 4.918390648023397, 5.724635311056204, 7.868492399095537, 11.909993034858775, 11.368722680852075, 9.76162556700713, 9.321600358943599, 8.590796795929974, 8.174327852782994, 7.9321634938511645, 7.045761637821733, 6.827532452498403, 6.615998107083172, 6.530977716437501, 2.486026373644383, 2.486026373498405, 2.4860263723700564, 4.089911535390129, 1.6840823819996127, 1.68408238198086, 1.6840823819701634, 1.684082381906046, 1.684082381905357, 1.6840823818528792, 1.6840823818528792, 1.6840823817482626, 1.6840823816825212, 1.6840823816619157, 1.684082381419349, 1.684082381132937, 1.684082380863096, 1.684082380863096, 1.684082380863096, 1.68408238083047, 1.6840823801681328, 1.6840748289629701, 1.684068511192413, 1.6840643817140521, 3.287974857149693, 3.2879735018644354, 4.089921888390197, 2.4860287000886863, 2.4859173804251045, 6.495745665358152, 24.814977226010722, 38.29963954085179, 8.901675775905863, 7.297738504678095, 9.703611753264182, 8.855441507869617, 7.238245932431526, 7.132715447850613, 12.090591935848476, 5.6938187843091175, 4.089933032372213, 6.861470154662681, 4.089919684218435, 18.338327627068214, 4.089921442330737, 4.797081650218739, 6.4958275942107795, 3.287981492938398, 14.087477720760605, 4.055853175988768, 4.089926528990235, 5.660094844502216, 10.52260896059649, 9.70348675211364, 9.382725189869445, 8.700850843043265, 8.099693815506477, 8.099654244639504, 8.099645326951778, 7.268697934435707, 6.495718873785897, 6.139874496946361, 5.9766952379098, 5.975580010599791, 5.8846343353177195, 5.790613887137081, 5.6938400857715905, 1.6065830102158027, 1.6065830100830394, 1.6065830100561913, 1.6065830100536618, 1.6065830100511338, 1.6065830099929268, 1.6065830096886529, 1.6065830096209048, 1.6065760379427076, 1.6065731596588324, 3.1366965619672906, 3.1366648172519755, 3.009474426911261, 2.352357469204165, 4.666818153052823, 3.1366877097578483, 3.901704919100118, 0.8415434814726913, 0.8415434814726913, 0.8415434814726913, 0.8415434814726913, 0.8415434814726913, 0.8415434814726913, 0.8415434814726913, 0.8415434814599949, 0.8415434814599949, 0.8415434814599949, 0.8415434814599949, 0.8415434814599949, 0.8415434814599949, 25.41134599793371, 14.443556504426258, 17.372392889472593, 6.704133669500922, 5.402537205631697, 8.271346023906979, 6.961841303385825, 8.951259982276316, 6.19693196017481, 4.168063236070136, 3.1366801889318103, 8.53922100407997, 5.9058228216194735, 4.666806362809311, 2.37163394512834, 13.706357573084006, 5.431865411779049, 2.371635042100437, 5.363677569768027, 4.610277230724317, 14.362180595487946, 8.59053371827103, 7.693666804393735, 6.961907376296759, 6.7672746072703385, 5.911419765540965, 5.888905133899814, 5.431877040551643, 5.431832706309897, 5.4257338858429085, 5.383712297928152, 5.15128205075451, 5.0871988643458375, 4.816249495924415, 4.66681507546438, 1.503281313043249, 1.5032813130067337, 1.5032813130067035, 1.503281313006674, 1.5032813129705782, 1.5032813128123148, 1.5032813125853837, 1.5032810360808777, 1.503274250927587, 2.2191337328695075, 3.650842448686915, 0.7874330686611066, 0.7874330686611066, 0.7874330686611066, 0.7874330686417796, 0.7874330686417796, 0.7874330686417796, 0.7874330686417796, 0.7874330686417796, 0.7874330686417119, 0.7874330686417119, 0.7874330686417119, 0.7874330686417119, 0.7874330686417119, 0.7874330686417119, 0.787433068629737, 0.787433068629737, 0.787433068629737, 0.787433068629737, 0.7874330686205977, 11.869022877089984, 5.79839082973116, 4.849531953360011, 6.431251099980723, 2.9350053233126627, 2.2191562292845646, 5.733303099538855, 6.479499042705161, 2.219141302838626, 3.3647010841043477, 1.5032861476949468, 1.5032979043345496, 1.503287205357001, 1.5032870558465967, 1.5032851225486443, 1.4907626304115325, 1.5032822051138848, 6.357113243787101, 2.183586227379428, 8.133077300642718, 7.901911548928228, 6.593847270344926, 6.514272807180405, 6.4846324863017735, 5.727303051736073, 5.19662070187353, 5.082501357805587, 5.068553922630925, 4.851160275779464, 4.432701794954979, 4.366733255204241, 4.341661255062539, 3.8385745294371243, 3.650904820482139, 3.6508426914537386, 3.6507889906025133, 3.650770800419915, 2.935036456639783, 2.9350290367629275, 2.9350119631960934, 1.5028017809108425, 1.502801780873897, 1.502801780849419, 1.5028017807759875, 1.502801780732231, 1.5028017806271834, 1.5028017806271834, 1.5028017805803542, 1.50279994280658, 1.50279994280658, 1.5027992638170442, 1.5027966133184163, 1.5027892677305588, 1.502783883672073, 2.218428461319748, 2.9340518027509845, 0.7871818851765475, 0.7871818851765475, 0.7871818851765475, 0.7871818851765475, 0.7871818851765475, 0.7871818851765475, 0.7871818851765475, 0.7871818851765475, 0.7871818851765475, 0.7871818851765475, 0.7871818851736055, 0.7871818851736055, 0.7871818851736055, 0.7871818851736055, 16.308073737081425, 8.77180939018027, 10.805964552401273, 3.601920848466611, 4.047629416456042, 2.781061942957242, 4.9392505389197385, 6.713884045396317, 2.218431268159801, 2.218431802903203, 2.2184321936281894, 2.2184606546646166, 2.873102623598947, 2.2184573298393633, 7.943516290310845, 7.870965905602441, 5.434304973339669, 5.150223043579684, 4.643452298582216, 4.508469172277158, 4.365351152810085, 4.365350456526402, 4.365239921866955, 4.172338356045543, 3.675197805371006, 3.6496855548088187, 3.649676963835335, 3.229445383946458, 3.00533897934256, 2.93408317067405, 2.9340810809196385, 2.9340786420047102, 2.9340766123659696, 2.9340729375731103, 2.9340568550362476, 2.9340434100120807, 2.8531568841228445, 2.157271675519592, 1.4613784429323706, 1.4613784429050847, 1.4613784428660046, 1.4613784428046641, 1.4613784428013266, 1.4613784424683176, 1.4613738986693108, 1.4613573986972839, 1.4613573986849206, 1.4613549434551947, 2.157284780077374, 0.7654839462261923, 0.7654839462115551, 0.7654839462115551, 0.7654839462115551, 0.7654839462115551, 0.7654839462073012, 0.7654839462073012, 0.7654839462073012, 0.7654839462073012, 0.7654839462073012, 0.7654839462073012, 0.7654839462073012, 0.7654839462073012, 0.7654839462073012, 0.7654839462073012, 0.7654839462073012, 0.7654839461932829, 4.940894130544212, 3.5490971762778725, 2.853221952488336, 3.5490902778543973, 4.169510578549054, 2.1572734908644198, 2.1572703399083233, 6.7408161789365275, 2.1572887213935106, 2.1573055835763095, 2.8062854887094235, 12.802410917985533, 9.467407725175095, 2.157261882484894, 2.157322913499723, 2.157277886885794, 1.4613775686714798, 5.636789753762708, 4.94089635339656, 4.245050328459176, 4.168605604650448, 4.063760738231608, 3.8685469942965978, 3.8174583646851845, 3.6986454288384834, 3.5491060298757047, 3.5491001437574505, 3.5490975096351374, 3.549080361911737, 3.5490140648922908, 3.548927306835017, 3.5091801080542764, 3.4090355150030685, 3.3072000300924533, 2.969314901307581, 2.967487001655423, 2.853274307240581, 2.853224266968113, 2.8532214657984105], \"Total\": [35.0, 60.0, 40.0, 80.0, 139.0, 31.0, 23.0, 107.0, 66.0, 151.0, 194.0, 40.0, 51.0, 85.0, 25.0, 11.0, 22.0, 46.0, 21.0, 68.0, 34.0, 18.0, 28.0, 29.0, 26.0, 51.0, 11.0, 15.0, 11.0, 20.0, 4.160537915183842, 3.3151721176278257, 3.3151721176270255, 3.3151721176173874, 3.3151721176024114, 3.315172117563364, 3.3151709260770184, 2.4698063200820366, 2.4698063200820246, 2.469806320081923, 2.469806320081044, 2.469806320080061, 2.4698063200793396, 2.4698063200793303, 2.469806320078844, 2.469806320077118, 2.4698063200695657, 2.4698063200683293, 2.4698063200614264, 2.4698063200612648, 2.469806320060339, 2.469806320052684, 2.46980632005078, 2.4698063200486935, 2.469806320044259, 2.4698063200430798, 2.469806320040506, 2.469806320006846, 2.4698063199937645, 2.4698063199647327, 33.71782152243824, 139.46289275159984, 151.5994019547383, 84.91943356768088, 9.8594424702259, 85.79067450113551, 68.43375028295144, 66.59492854089774, 90.94017610116441, 37.872585467490794, 107.67353605805582, 73.26395154708302, 7.4395077271105965, 51.97748815402273, 40.94345014633879, 47.055182481573844, 6.609791827168678, 9.731078931168048, 17.837806638280643, 7.211854260644477, 22.67273435350644, 4.856433225163821, 4.962482412631828, 7.457759667602212, 19.611831582972634, 47.17781580176438, 15.224999427062395, 31.37994959391661, 20.228991030044252, 194.72096342074943, 115.0368163301548, 154.53766343685058, 51.188869770633914, 56.665405777908596, 75.26444526122421, 36.49784915157525, 45.316577011800746, 40.22271596984366, 40.90868226476223, 67.21756058728897, 52.750818504928844, 43.43926160805603, 4.071867050178629, 4.071866900281816, 3.2486684657777363, 2.425470887601458, 2.425470887601458, 2.425470887601458, 2.42547088760086, 2.4254708875979336, 2.4254708875937414, 2.425470887592905, 2.425470887590849, 2.425470887587253, 2.42547088758356, 2.4254708875817927, 2.42547088758156, 2.4254708875653623, 2.4254708875653552, 2.425470887549205, 2.425470887534891, 2.425470887534889, 2.425470887498369, 2.4254708874845043, 2.4254708874743596, 2.425470422831728, 2.4254699154122576, 2.4254707405826625, 2.425470740576458, 2.425470740569309, 2.425471303269034, 2.4254696306575037, 15.526690743076495, 68.43375028295144, 115.0368163301548, 55.88861875951309, 12.136514665671044, 53.112197791190646, 66.33909313675603, 16.15434595120977, 35.29574000376309, 17.61909018698006, 194.72096342074943, 8.210938720427283, 11.262585125892196, 56.665405777908596, 11.419632908464742, 6.398341617436935, 6.474270447714629, 75.26444526122421, 68.92265188225466, 39.380578455888354, 29.64998055493307, 4.886029973475662, 16.123284161550696, 154.53766343685058, 36.49784915157525, 21.077824541341887, 5.594868160093068, 151.5994019547383, 84.91943356768088, 90.94017610116441, 139.46289275159984, 67.21756058728897, 52.750818504928844, 107.67353605805582, 43.43926160805603, 35.25139637096185, 50.29613363535393, 73.26395154708302, 66.59492854089774, 4.035733904116547, 3.2215691093393053, 3.221569109334539, 3.221569109333145, 3.2215691093310856, 3.2215691093283296, 3.221569109324517, 3.22156742912777, 2.407404314553005, 2.4074043145522297, 2.4074043145505675, 2.4074043145505675, 2.407404314547495, 2.4074043145436126, 2.4074043145389603, 2.407404314528301, 2.4074043145249675, 2.407404314519359, 2.407404314515533, 2.407404314483209, 2.4074043144737978, 2.4074043144737978, 2.4074043144653237, 2.407404314461731, 2.407404314454566, 2.4074042950471215, 2.4074037420287357, 2.4074045009287137, 2.4074018891819464, 2.4074012299324696, 154.53766343685058, 29.996348578897404, 194.72096342074943, 90.94017610116441, 10.24165809184341, 139.46289275159984, 60.748143239883944, 73.26395154708302, 18.548392033681484, 67.21756058728897, 29.316618150143395, 51.188869770633914, 15.988829988419697, 9.611672860471424, 75.26444526122421, 42.03646064669564, 9.666826192851282, 45.316577011800746, 7.173981293649878, 7.190661863299838, 7.308936756370056, 85.79067450113551, 4.800773799405109, 4.843115884422695, 115.0368163301548, 40.42254708913319, 80.51111955394055, 16.181547691676954, 11.897461902040222, 151.5994019547383, 66.33909313675603, 56.665405777908596, 43.43926160805603, 47.17781580176438, 36.49784915157525, 53.112197791190646, 66.59492854089774, 55.88861875951309, 25.644913083614117, 24.489031323841097, 4.008602510868232, 4.008602510865573, 4.008602510863903, 4.008602510862773, 4.008602501275461, 4.00860327280659, 3.2012205644009692, 3.201220564395357, 3.20122056438509, 2.3938386179371873, 2.3938386179371873, 2.3938386179371873, 2.393838617931857, 2.39383861793185, 2.393838617931559, 2.3938386179314586, 2.39383861792989, 2.393838617927649, 2.393838617927649, 2.3938386179262805, 2.393838617925501, 2.393838617921793, 2.39383861791917, 2.3938386179173095, 2.3938386179154096, 2.3938386179128255, 2.3938386179128086, 2.3938386179081874, 2.3938386178970377, 2.393838617894308, 139.46289275159984, 13.559443451402583, 85.79067450113551, 12.684561419064668, 16.84235837056683, 17.419530767434573, 40.42254708913319, 51.97748815402273, 22.09785401196092, 6.418591304519554, 27.929653651993995, 10.523541429749322, 84.91943356768088, 11.186430520136955, 7.961878327782651, 46.383077228568105, 5.510786388976823, 8.721374328403556, 15.992172554406741, 7.202426200822804, 6.246360217594563, 194.72096342074943, 154.53766343685058, 151.5994019547383, 115.0368163301548, 80.51111955394055, 90.94017610116441, 66.59492854089774, 73.26395154708302, 47.055182481573844, 56.665405777908596, 107.67353605805582, 55.88861875951309, 68.92265188225466, 51.188869770633914, 37.872585467490794, 50.29613363535393, 75.26444526122421, 29.64998055493307, 3.197946143701319, 3.1979461436997294, 3.1979461436966266, 3.197946143658433, 3.1979464141702243, 2.391655670802299, 2.391655670802299, 2.3916556708020993, 2.391655670801036, 2.3916556707999286, 2.391655670799448, 2.3916556707983783, 2.391655670797123, 2.391655670796425, 2.3916556707944707, 2.391655670792847, 2.39165567078765, 2.391655670787604, 2.3916556707870607, 2.3916556707850787, 2.3916556707819345, 2.3916556707583867, 2.3916556707583663, 2.391655670749604, 2.391655670743253, 2.391655670714015, 2.391655831298376, 2.3916557440049417, 2.3916559879786594, 2.391655586391296, 68.92265188225466, 151.5994019547383, 154.53766343685058, 25.502300407991886, 15.463190626375646, 9.671800408794821, 24.306086616521668, 194.72096342074943, 139.46289275159984, 11.102859667605264, 46.383077228568105, 18.548392033681484, 14.963154749248826, 107.67353605805582, 51.188869770633914, 8.872541456656357, 85.79067450113551, 6.3412442350938605, 115.0368163301548, 9.475210521250968, 84.91943356768088, 10.264940190380704, 4.700131864338175, 29.8338030720161, 35.29574000376309, 11.182066826758287, 16.276212739145986, 31.085847115418865, 90.94017610116441, 67.21756058728897, 80.51111955394055, 46.68400213015415, 68.43375028295144, 52.750818504928844, 53.112197791190646, 39.380578455888354, 50.29613363535393, 75.26444526122421, 29.996348578897404, 3.184906699700217, 3.184906699692811, 3.1849066996355284, 5.484690702379995, 2.3829627081299902, 2.3829627081290345, 2.382962708128491, 2.382962708125241, 2.38296270812519, 2.382962708122541, 2.382962708122541, 2.3829627081172315, 2.3829627081138884, 2.3829627081128484, 2.382962708100553, 2.3829627080860205, 2.382962708072301, 2.382962708072301, 2.382962708072301, 2.3829627080706257, 2.3829627080370357, 2.3829623605443624, 2.382962783275791, 2.382962940645826, 4.751890426754741, 4.832216318930481, 6.410341348761662, 4.008104719244599, 4.030274273051797, 10.864714810048767, 80.51111955394055, 194.72096342074943, 16.037765253884885, 15.974720981738368, 28.35743412274358, 27.533819321020424, 19.054114906635757, 18.510732450705422, 60.748143239883944, 13.547556696884856, 7.156299633786512, 20.14484837752447, 7.619453830219898, 154.53766343685058, 7.880088599015595, 11.131912505133021, 21.443268181632458, 5.67758168361716, 107.67353605805582, 9.723437648540235, 10.204598262319625, 19.611831582972634, 84.91943356768088, 115.0368163301548, 73.26395154708302, 151.5994019547383, 68.92265188225466, 42.03646064669564, 67.21756058728897, 40.22271596984366, 66.33909313675603, 56.665405777908596, 75.26444526122421, 47.055182481573844, 39.380578455888354, 90.94017610116441, 23.852865921421404, 2.309153782567041, 2.3091537825669763, 2.3091537825669586, 2.309153782566958, 2.3091537825669715, 2.3091537825669373, 2.3091537825667827, 2.3091537825667485, 2.3091541585105038, 2.3091542576687307, 4.641175167618488, 4.645523164757924, 4.652381272681416, 3.898855929441822, 7.822907359889706, 5.4607781432002005, 7.062214908038096, 1.5441142537895702, 1.5441142537895702, 1.5441142537895702, 1.5441142537895702, 1.5441142537895702, 1.5441142537895702, 1.5441142537895702, 1.5441142537895685, 1.5441142537895685, 1.5441142537895685, 1.5441142537895685, 1.5441142537895685, 1.5441142537895685, 151.5994019547383, 66.33909313675603, 107.67353605805582, 19.027248357655015, 12.640847429647877, 31.10968516307134, 22.09785401196092, 40.42254708913319, 20.764959769854986, 9.493387748362883, 6.164175683181515, 51.97748815402273, 26.450907844311043, 16.800629563445863, 4.596331730672815, 154.53766343685058, 24.428989681766726, 4.702522097954788, 24.18542682647408, 18.22928647272692, 194.72096342074943, 66.59492854089774, 139.46289275159984, 67.21756058728897, 47.17781580176438, 46.68400213015415, 75.26444526122421, 31.093222306242367, 40.90868226476223, 68.92265188225466, 35.855554354053304, 115.0368163301548, 24.825976808050108, 52.750818504928844, 32.9038172691971, 2.210771213734128, 2.2107712137370177, 2.21077121373702, 2.2107712137370226, 2.2107712137398834, 2.2107712137523965, 2.2107712137703337, 2.2107712327680824, 2.210772491341759, 3.73400087062116, 6.642446510883903, 1.4949229693794048, 1.4949229693794048, 1.4949229693794048, 1.4949229693809385, 1.4949229693809385, 1.4949229693809385, 1.4949229693809385, 1.4949229693809385, 1.4949229693809427, 1.4949229693809427, 1.4949229693809427, 1.4949229693809427, 1.4949229693809427, 1.4949229693809427, 1.4949229693818864, 1.4949229693818864, 1.4949229693818864, 1.4949229693818864, 1.4949229693826165, 40.94345014633879, 11.280618722422668, 11.929489080468665, 34.77164382431285, 7.635060687189392, 4.551757814145005, 31.10968516307134, 45.316577011800746, 5.316800570498405, 14.570468532832635, 3.012714623797811, 3.017051302979537, 3.0170609421413976, 3.0170609610397134, 3.0170612053084245, 2.97666913172269, 3.033969253259916, 55.88861875951309, 6.670397229911367, 194.72096342074943, 151.5994019547383, 75.26444526122421, 60.748143239883944, 154.53766343685058, 46.383077228568105, 66.59492854089774, 90.94017610116441, 73.26395154708302, 66.33909313675603, 68.43375028295144, 28.35743412274358, 139.46289275159984, 53.112197791190646, 32.9038172691971, 56.665405777908596, 115.0368163301548, 80.51111955394055, 23.786321807074984, 24.489031323841097, 18.35357839297797, 2.210314516492339, 2.210314516495283, 2.2103145164972346, 2.210314516503079, 2.210314516506569, 2.2103145165149427, 2.2103145165149427, 2.210314516518663, 2.210314752187442, 2.210314752187442, 2.210314972814253, 2.2103154533406517, 2.2103145205580823, 2.210317761340357, 3.7322240254654178, 5.220757414914254, 1.4946946207575493, 1.4946946207575493, 1.4946946207575493, 1.4946946207575493, 1.4946946207575493, 1.4946946207575493, 1.4946946207575493, 1.4946946207575493, 1.4946946207575493, 1.4946946207575493, 1.494694620757781, 1.494694620757781, 1.494694620757781, 1.494694620757781, 35.855554354053304, 23.168499600952412, 60.748143239883944, 7.578702240137708, 10.852866439822446, 6.01249537792227, 21.687847975477577, 40.22271596984366, 4.448071887000134, 4.5510751767952895, 4.5775889589322665, 4.58545815640636, 8.523994629395991, 6.069615275906094, 115.0368163301548, 154.53766343685058, 139.46289275159984, 52.750818504928844, 51.188869770633914, 151.5994019547383, 26.450907844311043, 67.21756058728897, 84.91943356768088, 75.26444526122421, 194.72096342074943, 19.618856044717514, 66.33909313675603, 32.9038172691971, 107.67353605805582, 31.10968516307134, 68.92265188225466, 15.224999427062395, 22.496125931115824, 43.43926160805603, 68.43375028295144, 56.665405777908596, 3.5626549782798316, 2.8667584156173884, 2.1708637184100215, 2.170863718413185, 2.170863718417714, 2.1708637184248283, 2.1708637184252133, 2.1708637184638184, 2.17086449071427, 2.1708658093974087, 2.1708658093988396, 2.1708687658397645, 3.6687004022302796, 1.4749692217198205, 1.4749692217215147, 1.4749692217215147, 1.4749692217215147, 1.4749692217215147, 1.474969221722008, 1.474969221722008, 1.474969221722008, 1.474969221722008, 1.474969221722008, 1.474969221722008, 1.474969221722008, 1.474969221722008, 1.474969221722008, 1.474969221722008, 1.474969221722008, 1.4749692217236368, 11.286932551283531, 9.678049758789477, 6.745175344060973, 10.70019301298099, 15.435111436800558, 4.481522019702201, 4.482868140882664, 50.29613363535393, 5.207745482689778, 5.310405765410257, 9.218200824201052, 194.72096342074943, 107.67353605805582, 5.828243239654999, 5.985002139711009, 6.204798940204612, 2.886483638976485, 60.748143239883944, 80.51111955394055, 31.820189126281246, 40.94345014633879, 23.0694634046155, 115.0368163301548, 46.68400213015415, 24.825976808050108, 18.35357839297797, 25.502300407991886, 68.92265188225466, 90.94017610116441, 154.53766343685058, 151.5994019547383, 33.71782152243824, 25.971388573611808, 34.77164382431285, 75.26444526122421, 56.665405777908596, 18.100909414492385, 12.289464689118162, 20.5878132141881], \"Category\": [\"Default\", \"Default\", \"Default\", \"Default\", \"Default\", \"Default\", \"Default\", \"Default\", \"Default\", \"Default\", \"Default\", \"Default\", \"Default\", \"Default\", \"Default\", \"Default\", \"Default\", \"Default\", \"Default\", \"Default\", \"Default\", \"Default\", \"Default\", \"Default\", \"Default\", \"Default\", \"Default\", \"Default\", \"Default\", \"Default\", \"Topic1\", \"Topic1\", \"Topic1\", \"Topic1\", \"Topic1\", \"Topic1\", \"Topic1\", \"Topic1\", \"Topic1\", \"Topic1\", \"Topic1\", \"Topic1\", \"Topic1\", \"Topic1\", \"Topic1\", \"Topic1\", \"Topic1\", \"Topic1\", \"Topic1\", \"Topic1\", \"Topic1\", \"Topic1\", \"Topic1\", \"Topic1\", \"Topic1\", \"Topic1\", \"Topic1\", \"Topic1\", \"Topic1\", \"Topic1\", \"Topic1\", \"Topic1\", \"Topic1\", \"Topic1\", \"Topic1\", \"Topic1\", \"Topic1\", \"Topic1\", \"Topic1\", \"Topic1\", \"Topic1\", \"Topic1\", \"Topic1\", \"Topic1\", \"Topic1\", \"Topic1\", \"Topic1\", \"Topic1\", \"Topic1\", \"Topic1\", \"Topic1\", \"Topic1\", \"Topic1\", \"Topic1\", \"Topic1\", \"Topic1\", \"Topic1\", \"Topic1\", \"Topic1\", \"Topic1\", \"Topic1\", \"Topic1\", \"Topic1\", \"Topic1\", \"Topic1\", \"Topic1\", \"Topic1\", \"Topic1\", \"Topic1\", \"Topic1\", \"Topic1\", \"Topic1\", \"Topic2\", \"Topic2\", \"Topic2\", \"Topic2\", \"Topic2\", \"Topic2\", \"Topic2\", \"Topic2\", \"Topic2\", \"Topic2\", \"Topic2\", \"Topic2\", \"Topic2\", \"Topic2\", \"Topic2\", \"Topic2\", \"Topic2\", \"Topic2\", \"Topic2\", \"Topic2\", \"Topic2\", \"Topic2\", \"Topic2\", \"Topic2\", \"Topic2\", \"Topic2\", \"Topic2\", \"Topic2\", \"Topic2\", \"Topic2\", \"Topic2\", \"Topic2\", \"Topic2\", \"Topic2\", \"Topic2\", \"Topic2\", \"Topic2\", \"Topic2\", \"Topic2\", \"Topic2\", \"Topic2\", \"Topic2\", \"Topic2\", \"Topic2\", \"Topic2\", \"Topic2\", \"Topic2\", \"Topic2\", \"Topic2\", \"Topic2\", \"Topic2\", \"Topic2\", \"Topic2\", \"Topic2\", \"Topic2\", \"Topic2\", \"Topic2\", \"Topic2\", \"Topic2\", \"Topic2\", \"Topic2\", \"Topic2\", \"Topic2\", \"Topic2\", \"Topic2\", \"Topic2\", \"Topic2\", \"Topic2\", \"Topic2\", \"Topic3\", \"Topic3\", \"Topic3\", \"Topic3\", \"Topic3\", \"Topic3\", \"Topic3\", \"Topic3\", \"Topic3\", \"Topic3\", \"Topic3\", \"Topic3\", \"Topic3\", \"Topic3\", \"Topic3\", \"Topic3\", \"Topic3\", \"Topic3\", \"Topic3\", \"Topic3\", \"Topic3\", \"Topic3\", \"Topic3\", \"Topic3\", \"Topic3\", \"Topic3\", \"Topic3\", \"Topic3\", \"Topic3\", \"Topic3\", \"Topic3\", \"Topic3\", \"Topic3\", \"Topic3\", \"Topic3\", \"Topic3\", \"Topic3\", \"Topic3\", \"Topic3\", \"Topic3\", \"Topic3\", \"Topic3\", \"Topic3\", \"Topic3\", \"Topic3\", \"Topic3\", \"Topic3\", \"Topic3\", \"Topic3\", \"Topic3\", \"Topic3\", \"Topic3\", \"Topic3\", \"Topic3\", \"Topic3\", \"Topic3\", \"Topic3\", \"Topic3\", \"Topic3\", \"Topic3\", \"Topic3\", \"Topic3\", \"Topic3\", \"Topic3\", \"Topic3\", \"Topic3\", \"Topic3\", \"Topic3\", \"Topic3\", \"Topic3\", \"Topic4\", \"Topic4\", \"Topic4\", \"Topic4\", \"Topic4\", \"Topic4\", \"Topic4\", \"Topic4\", \"Topic4\", \"Topic4\", \"Topic4\", \"Topic4\", \"Topic4\", \"Topic4\", \"Topic4\", \"Topic4\", \"Topic4\", \"Topic4\", \"Topic4\", \"Topic4\", \"Topic4\", \"Topic4\", \"Topic4\", \"Topic4\", \"Topic4\", \"Topic4\", \"Topic4\", \"Topic4\", \"Topic4\", \"Topic4\", \"Topic4\", \"Topic4\", \"Topic4\", \"Topic4\", \"Topic4\", \"Topic4\", \"Topic4\", \"Topic4\", \"Topic4\", \"Topic4\", \"Topic4\", \"Topic4\", \"Topic4\", \"Topic4\", \"Topic4\", \"Topic4\", \"Topic4\", \"Topic4\", \"Topic4\", \"Topic4\", \"Topic4\", \"Topic4\", \"Topic4\", \"Topic4\", \"Topic4\", \"Topic4\", \"Topic4\", \"Topic4\", \"Topic4\", \"Topic4\", \"Topic4\", \"Topic4\", \"Topic4\", \"Topic4\", \"Topic4\", \"Topic4\", \"Topic4\", \"Topic4\", \"Topic4\", \"Topic5\", \"Topic5\", \"Topic5\", \"Topic5\", \"Topic5\", \"Topic5\", \"Topic5\", \"Topic5\", \"Topic5\", \"Topic5\", \"Topic5\", \"Topic5\", \"Topic5\", \"Topic5\", \"Topic5\", \"Topic5\", \"Topic5\", \"Topic5\", \"Topic5\", \"Topic5\", \"Topic5\", \"Topic5\", \"Topic5\", \"Topic5\", \"Topic5\", \"Topic5\", \"Topic5\", \"Topic5\", \"Topic5\", \"Topic5\", \"Topic5\", \"Topic5\", \"Topic5\", \"Topic5\", \"Topic5\", \"Topic5\", \"Topic5\", \"Topic5\", \"Topic5\", \"Topic5\", \"Topic5\", \"Topic5\", \"Topic5\", \"Topic5\", \"Topic5\", \"Topic5\", \"Topic5\", \"Topic5\", \"Topic5\", \"Topic5\", \"Topic5\", \"Topic5\", \"Topic5\", \"Topic5\", \"Topic5\", \"Topic5\", \"Topic5\", \"Topic5\", \"Topic5\", \"Topic5\", \"Topic5\", \"Topic5\", \"Topic5\", \"Topic5\", \"Topic5\", \"Topic5\", \"Topic5\", \"Topic5\", \"Topic5\", \"Topic6\", \"Topic6\", \"Topic6\", \"Topic6\", \"Topic6\", \"Topic6\", \"Topic6\", \"Topic6\", \"Topic6\", \"Topic6\", \"Topic6\", \"Topic6\", \"Topic6\", \"Topic6\", \"Topic6\", \"Topic6\", \"Topic6\", \"Topic6\", \"Topic6\", \"Topic6\", \"Topic6\", \"Topic6\", \"Topic6\", \"Topic6\", \"Topic6\", \"Topic6\", \"Topic6\", \"Topic6\", \"Topic6\", \"Topic6\", \"Topic6\", \"Topic6\", \"Topic6\", \"Topic6\", \"Topic6\", \"Topic6\", \"Topic6\", \"Topic6\", \"Topic6\", \"Topic6\", \"Topic6\", \"Topic6\", \"Topic6\", \"Topic6\", \"Topic6\", \"Topic6\", \"Topic6\", \"Topic6\", \"Topic6\", \"Topic6\", \"Topic6\", \"Topic6\", \"Topic6\", \"Topic6\", \"Topic6\", \"Topic6\", \"Topic6\", \"Topic6\", \"Topic6\", \"Topic6\", \"Topic6\", \"Topic6\", \"Topic6\", \"Topic6\", \"Topic6\", \"Topic6\", \"Topic6\", \"Topic7\", \"Topic7\", \"Topic7\", \"Topic7\", \"Topic7\", \"Topic7\", \"Topic7\", \"Topic7\", \"Topic7\", \"Topic7\", \"Topic7\", \"Topic7\", \"Topic7\", \"Topic7\", \"Topic7\", \"Topic7\", \"Topic7\", \"Topic7\", \"Topic7\", \"Topic7\", \"Topic7\", \"Topic7\", \"Topic7\", \"Topic7\", \"Topic7\", \"Topic7\", \"Topic7\", \"Topic7\", \"Topic7\", \"Topic7\", \"Topic7\", \"Topic7\", \"Topic7\", \"Topic7\", \"Topic7\", \"Topic7\", \"Topic7\", \"Topic7\", \"Topic7\", \"Topic7\", \"Topic7\", \"Topic7\", \"Topic7\", \"Topic7\", \"Topic7\", \"Topic7\", \"Topic7\", \"Topic7\", \"Topic7\", \"Topic7\", \"Topic7\", \"Topic7\", \"Topic7\", \"Topic7\", \"Topic7\", \"Topic7\", \"Topic7\", \"Topic7\", \"Topic7\", \"Topic7\", \"Topic7\", \"Topic7\", \"Topic7\", \"Topic7\", \"Topic7\", \"Topic8\", \"Topic8\", \"Topic8\", \"Topic8\", \"Topic8\", \"Topic8\", \"Topic8\", \"Topic8\", \"Topic8\", \"Topic8\", \"Topic8\", \"Topic8\", \"Topic8\", \"Topic8\", \"Topic8\", \"Topic8\", \"Topic8\", \"Topic8\", \"Topic8\", \"Topic8\", \"Topic8\", \"Topic8\", \"Topic8\", \"Topic8\", \"Topic8\", \"Topic8\", \"Topic8\", \"Topic8\", \"Topic8\", \"Topic8\", \"Topic8\", \"Topic8\", \"Topic8\", \"Topic8\", \"Topic8\", \"Topic8\", \"Topic8\", \"Topic8\", \"Topic8\", \"Topic8\", \"Topic8\", \"Topic8\", \"Topic8\", \"Topic8\", \"Topic8\", \"Topic8\", \"Topic8\", \"Topic8\", \"Topic8\", \"Topic8\", \"Topic8\", \"Topic8\", \"Topic8\", \"Topic8\", \"Topic8\", \"Topic8\", \"Topic8\", \"Topic8\", \"Topic8\", \"Topic8\", \"Topic8\", \"Topic8\", \"Topic8\", \"Topic8\", \"Topic8\", \"Topic8\", \"Topic8\", \"Topic8\", \"Topic8\", \"Topic8\", \"Topic9\", \"Topic9\", \"Topic9\", \"Topic9\", \"Topic9\", \"Topic9\", \"Topic9\", \"Topic9\", \"Topic9\", \"Topic9\", \"Topic9\", \"Topic9\", \"Topic9\", \"Topic9\", \"Topic9\", \"Topic9\", \"Topic9\", \"Topic9\", \"Topic9\", \"Topic9\", \"Topic9\", \"Topic9\", \"Topic9\", \"Topic9\", \"Topic9\", \"Topic9\", \"Topic9\", \"Topic9\", \"Topic9\", \"Topic9\", \"Topic9\", \"Topic9\", \"Topic9\", \"Topic9\", \"Topic9\", \"Topic9\", \"Topic9\", \"Topic9\", \"Topic9\", \"Topic9\", \"Topic9\", \"Topic9\", \"Topic9\", \"Topic9\", \"Topic9\", \"Topic9\", \"Topic9\", \"Topic9\", \"Topic9\", \"Topic9\", \"Topic9\", \"Topic9\", \"Topic9\", \"Topic9\", \"Topic9\", \"Topic9\", \"Topic9\", \"Topic9\", \"Topic9\", \"Topic9\", \"Topic9\", \"Topic9\", \"Topic9\", \"Topic9\", \"Topic9\", \"Topic9\", \"Topic10\", \"Topic10\", \"Topic10\", \"Topic10\", \"Topic10\", \"Topic10\", \"Topic10\", \"Topic10\", \"Topic10\", \"Topic10\", \"Topic10\", \"Topic10\", \"Topic10\", \"Topic10\", \"Topic10\", \"Topic10\", \"Topic10\", \"Topic10\", \"Topic10\", \"Topic10\", \"Topic10\", \"Topic10\", \"Topic10\", \"Topic10\", \"Topic10\", \"Topic10\", \"Topic10\", \"Topic10\", \"Topic10\", \"Topic10\", \"Topic10\", \"Topic10\", \"Topic10\", \"Topic10\", \"Topic10\", \"Topic10\", \"Topic10\", \"Topic10\", \"Topic10\", \"Topic10\", \"Topic10\", \"Topic10\", \"Topic10\", \"Topic10\", \"Topic10\", \"Topic10\", \"Topic10\", \"Topic10\", \"Topic10\", \"Topic10\", \"Topic10\", \"Topic10\", \"Topic10\", \"Topic10\", \"Topic10\", \"Topic10\", \"Topic10\", \"Topic10\", \"Topic10\", \"Topic10\", \"Topic10\", \"Topic10\", \"Topic10\", \"Topic10\", \"Topic10\", \"Topic10\", \"Topic10\", \"Topic10\", \"Topic10\"], \"logprob\": [30.0, 29.0, 28.0, 27.0, 26.0, 25.0, 24.0, 23.0, 22.0, 21.0, 20.0, 19.0, 18.0, 17.0, 16.0, 15.0, 14.0, 13.0, 12.0, 11.0, 10.0, 9.0, 8.0, 7.0, 6.0, 5.0, 4.0, 3.0, 2.0, 1.0, -6.6899, -6.9695, -6.9695, -6.9695, -6.9695, -6.9695, -6.9695, -7.3589, -7.3589, -7.3589, -7.3589, -7.3589, -7.3589, -7.3589, -7.3589, -7.3589, -7.3589, -7.3589, -7.3589, -7.3589, -7.3589, -7.3589, -7.3589, -7.3589, -7.3589, -7.3589, -7.3589, -7.3589, -7.3589, -7.3589, -5.128, -4.4539, -4.4426, -4.852, -6.009, -4.9278, -5.0716, -5.1002, -4.9508, -5.3914, -4.8817, -5.1057, -6.2926, -5.3428, -5.5055, -5.4674, -6.4716, -6.2926, -6.009, -6.4716, -5.9193, -6.6899, -6.6899, -6.4888, -6.009, -5.5748, -6.1408, -5.7883, -6.009, -5.0365, -5.2557, -5.3491, -5.5851, -5.7089, -5.7266, -5.7653, -5.7883, -5.844, -5.8509, -5.8778, -5.9058, -5.9251, -6.5617, -6.5617, -6.8413, -7.2308, -7.2308, -7.2308, -7.2308, -7.2308, -7.2308, -7.2308, -7.2308, -7.2308, -7.2308, -7.2308, -7.2308, -7.2308, -7.2308, -7.2308, -7.2308, -7.2308, -7.2308, -7.2308, -7.2308, -7.2308, -7.2308, -7.2308, -7.2308, -7.2308, -7.2308, -7.2308, -5.4795, -4.7943, -4.5848, -4.9492, -5.7644, -5.1336, -5.0508, -5.773, -5.4114, -5.7644, -4.5688, -6.1644, -6.0126, -5.2063, -6.0126, -6.3435, -6.3434, -5.1401, -5.1984, -5.4795, -5.6602, -6.5617, -5.9669, -4.8422, -5.589, -5.8808, -6.5617, -5.1279, -5.2372, -5.4224, -5.4404, -5.4898, -5.5345, -5.5524, -5.6089, -5.6515, -5.7022, -5.7214, -5.7821, -6.5141, -6.7937, -6.7937, -6.7937, -6.7937, -6.7937, -6.7937, -6.7937, -7.1831, -7.1831, -7.1831, -7.1831, -7.1831, -7.1831, -7.1831, -7.1831, -7.1831, -7.1831, -7.1831, -7.1831, -7.1831, -7.1831, -7.1831, -7.1831, -7.1831, -7.1831, -7.1831, -7.1831, -7.1832, -7.1832, -4.2295, -5.1589, -4.2281, -4.6492, -5.8332, -4.6055, -5.086, -5.023, -5.7168, -5.0867, -5.5207, -5.2555, -5.8495, -6.1168, -5.089, -5.3805, -6.1168, -5.3537, -6.2958, -6.2958, -6.2958, -5.065, -6.5141, -6.5141, -4.9625, -5.4862, -5.1534, -5.9599, -6.1168, -5.1276, -5.3836, -5.4334, -5.5672, -5.6013, -5.7168, -5.732, -5.7843, -5.8018, -5.8332, -5.8332, -6.4539, -6.4539, -6.4539, -6.4539, -6.4539, -6.4539, -6.7335, -6.7335, -6.7335, -7.123, -7.123, -7.123, -7.123, -7.123, -7.123, -7.123, -7.123, -7.123, -7.123, -7.123, -7.123, -7.123, -7.123, -7.123, -7.123, -7.123, -7.123, -7.123, -7.123, -7.123, -4.1502, -5.464, -4.6376, -5.773, -5.6566, -5.6663, -5.2923, -5.2233, -5.6566, -6.2827, -5.5524, -6.0566, -5.0251, -6.0566, -6.2357, -5.3717, -6.4539, -6.2357, -5.935, -6.3398, -6.4539, -4.8259, -5.0105, -5.0488, -5.086, -5.2809, -5.3005, -5.4169, -5.4653, -5.5878, -5.5885, -5.6259, -5.6566, -5.6567, -5.6663, -5.773, -5.8367, -5.8428, -5.9048, -6.7292, -6.7292, -6.7292, -6.7292, -6.7292, -7.1187, -7.1187, -7.1187, -7.1187, -7.1187, -7.1187, -7.1187, -7.1187, -7.1187, -7.1187, -7.1187, -7.1187, -7.1187, -7.1187, -7.1187, -7.1187, -7.1187, -7.1187, -7.1187, -7.1187, -7.1187, -7.1187, -7.1187, -7.1187, -7.1187, -4.6406, -4.3229, -4.3989, -5.3674, -5.6523, -5.9082, -5.4592, -4.4311, -4.6294, -5.9005, -5.1864, -5.6523, -5.7687, -4.7868, -5.1736, -6.0523, -4.9404, -6.2491, -4.809, -6.0732, -4.9885, -6.0523, -6.4496, -5.5569, -5.4751, -6.0523, -5.9005, -5.5824, -5.1679, -5.2144, -5.3668, -5.413, -5.4946, -5.5443, -5.5744, -5.6929, -5.7243, -5.7558, -5.7687, -6.7083, -6.7083, -6.7083, -6.2105, -7.0978, -7.0978, -7.0978, -7.0978, -7.0978, -7.0978, -7.0978, -7.0978, -7.0978, -7.0978, -7.0978, -7.0978, -7.0978, -7.0978, -7.0978, -7.0978, -7.0978, -7.0978, -7.0978, -7.0978, -6.4288, -6.4288, -6.2105, -6.7083, -6.7084, -5.7479, -4.4076, -3.9736, -5.4328, -5.6315, -5.3465, -5.438, -5.6396, -5.6543, -5.1266, -5.8796, -6.2105, -5.6931, -6.2105, -4.71, -6.2105, -6.051, -5.7479, -6.4287, -4.9737, -6.2189, -6.2105, -5.8856, -5.2655, -5.3465, -5.3802, -5.4556, -5.5272, -5.5272, -5.5272, -5.6354, -5.7479, -5.8042, -5.8312, -5.8313, -5.8467, -5.8628, -5.8796, -6.8511, -6.8511, -6.8511, -6.8511, -6.8511, -6.8511, -6.8511, -6.8511, -6.8511, -6.8511, -6.182, -6.182, -6.2234, -6.4698, -5.7847, -6.182, -5.9638, -7.4977, -7.4977, -7.4977, -7.4977, -7.4977, -7.4977, -7.4977, -7.4977, -7.4977, -7.4977, -7.4977, -7.4977, -7.4977, -4.09, -4.6549, -4.4703, -5.4225, -5.6383, -5.2124, -5.3847, -5.1334, -5.5011, -5.8977, -6.182, -5.1805, -5.5493, -5.7847, -6.4616, -4.7073, -5.6329, -6.4616, -5.6455, -5.7969, -4.6606, -5.1745, -5.2848, -5.3847, -5.4131, -5.5483, -5.5521, -5.6329, -5.6329, -5.634, -5.6418, -5.6859, -5.6985, -5.7532, -5.7847, -6.6197, -6.6197, -6.6197, -6.6197, -6.6197, -6.6197, -6.6197, -6.6197, -6.6197, -6.2302, -5.7324, -7.2663, -7.2663, -7.2663, -7.2663, -7.2663, -7.2663, -7.2663, -7.2663, -7.2663, -7.2663, -7.2663, -7.2663, -7.2663, -7.2663, -7.2663, -7.2663, -7.2663, -7.2663, -7.2663, -4.5534, -5.2698, -5.4485, -5.1662, -5.9506, -6.2302, -5.281, -5.1587, -6.2302, -5.814, -6.6197, -6.6197, -6.6197, -6.6197, -6.6197, -6.628, -6.6197, -5.1778, -6.2464, -4.9314, -4.9602, -5.1412, -5.1533, -5.1579, -5.2821, -5.3793, -5.4015, -5.4043, -5.4481, -5.5383, -5.5533, -5.5591, -5.6822, -5.7324, -5.7324, -5.7324, -5.7324, -5.9506, -5.9506, -5.9506, -6.6039, -6.6039, -6.6039, -6.6039, -6.6039, -6.6039, -6.6039, -6.6039, -6.6039, -6.6039, -6.6039, -6.6039, -6.6039, -6.6039, -6.2145, -5.9349, -7.2506, -7.2506, -7.2506, -7.2506, -7.2506, -7.2506, -7.2506, -7.2506, -7.2506, -7.2506, -7.2506, -7.2506, -7.2506, -7.2506, -4.2196, -4.8397, -4.6312, -5.7298, -5.6131, -5.9884, -5.4141, -5.1071, -6.2145, -6.2145, -6.2145, -6.2145, -5.9559, -6.2145, -4.9389, -4.9481, -5.3185, -5.3722, -5.4758, -5.5053, -5.5376, -5.5376, -5.5376, -5.5828, -5.7097, -5.7166, -5.7166, -5.839, -5.9109, -5.9349, -5.9349, -5.9349, -5.9349, -5.9349, -5.9349, -5.9349, -5.8798, -6.1594, -6.5489, -6.5489, -6.5489, -6.5489, -6.5489, -6.5489, -6.5489, -6.5489, -6.5489, -6.5489, -6.1594, -7.1955, -7.1955, -7.1955, -7.1955, -7.1955, -7.1955, -7.1955, -7.1955, -7.1955, -7.1955, -7.1955, -7.1955, -7.1955, -7.1955, -7.1955, -7.1955, -7.1955, -5.3307, -5.6616, -5.8798, -5.6616, -5.5005, -6.1594, -6.1594, -5.0201, -6.1594, -6.1594, -5.8964, -4.3786, -4.6804, -6.1594, -6.1594, -6.1594, -6.5489, -5.1989, -5.3307, -5.4825, -5.5007, -5.5261, -5.5754, -5.5887, -5.6203, -5.6616, -5.6616, -5.6616, -5.6616, -5.6616, -5.6616, -5.6729, -5.7018, -5.7322, -5.8399, -5.8405, -5.8798, -5.8798, -5.8798], \"loglift\": [30.0, 29.0, 28.0, 27.0, 26.0, 25.0, 24.0, 23.0, 22.0, 21.0, 20.0, 19.0, 18.0, 17.0, 16.0, 15.0, 14.0, 13.0, 12.0, 11.0, 10.0, 9.0, 8.0, 7.0, 6.0, 5.0, 4.0, 3.0, 2.0, 1.0, 1.7063, 1.6539, 1.6539, 1.6539, 1.6539, 1.6539, 1.6538, 1.5588, 1.5588, 1.5588, 1.5588, 1.5588, 1.5588, 1.5588, 1.5588, 1.5588, 1.5588, 1.5588, 1.5588, 1.5588, 1.5588, 1.5588, 1.5588, 1.5588, 1.5588, 1.5588, 1.5588, 1.5588, 1.5588, 1.5588, 1.1758, 0.4301, 0.358, 0.5282, 1.5244, 0.4422, 0.5244, 0.5231, 0.3608, 0.7962, 0.261, 0.4221, 1.5224, 0.5282, 0.6042, 0.5031, 1.4616, 1.2539, 0.9315, 1.3745, 0.7813, 1.5516, 1.53, 1.3238, 0.8367, 0.3931, 0.9581, 0.5873, 0.8057, -0.4862, -0.1791, -0.5677, 0.3012, 0.0758, -0.2257, 0.4593, 0.2198, 0.2834, 0.2596, -0.2639, -0.0496, 0.1254, 1.856, 1.856, 1.8023, 1.7051, 1.7051, 1.7051, 1.7051, 1.7051, 1.7051, 1.7051, 1.7051, 1.7051, 1.7051, 1.7051, 1.7051, 1.7051, 1.7051, 1.7051, 1.7051, 1.7051, 1.7051, 1.7051, 1.7051, 1.7051, 1.7051, 1.7051, 1.7051, 1.7051, 1.705, 1.705, 1.5998, 0.8017, 0.4918, 0.8493, 1.5612, 0.7158, 0.5763, 1.2667, 0.8467, 1.1884, -0.0186, 1.552, 1.3878, 0.5784, 1.3739, 1.6223, 1.6106, 0.3607, 0.3905, 0.6691, 0.7722, 1.6738, 1.0747, -0.0608, 0.6356, 0.8928, 1.5383, -0.3273, 0.1429, -0.1108, -0.5563, 0.1241, 0.3218, -0.4097, 0.4416, 0.6079, 0.2017, -0.1936, -0.1589, 1.9126, 1.8583, 1.8583, 1.8583, 1.8583, 1.8583, 1.8583, 1.8583, 1.7602, 1.7602, 1.7602, 1.7602, 1.7602, 1.7602, 1.7602, 1.7602, 1.7602, 1.7602, 1.7602, 1.7602, 1.7602, 1.7602, 1.7602, 1.7602, 1.7602, 1.7602, 1.7602, 1.7601, 1.7601, 1.7601, 0.5519, 1.2619, 0.3222, 0.6625, 1.6622, 0.2785, 0.6291, 0.5048, 1.1847, 0.5272, 0.923, 0.6308, 1.2004, 1.4421, 0.4119, 0.7028, 1.4364, 0.6544, 1.5556, 1.5532, 1.5369, 0.3049, 1.739, 1.7302, 0.1141, 0.6362, 0.28, 1.0781, 1.2287, -0.327, 0.2435, 0.3513, 0.4833, 0.3667, 0.5078, 0.1175, -0.1611, -0.0034, 0.7443, 0.7904, 1.9795, 1.9795, 1.9795, 1.9795, 1.9795, 1.9795, 1.9248, 1.9248, 1.9248, 1.826, 1.826, 1.826, 1.826, 1.826, 1.826, 1.826, 1.826, 1.826, 1.826, 1.826, 1.826, 1.826, 1.826, 1.826, 1.826, 1.826, 1.826, 1.826, 1.826, 1.826, 0.7339, 1.7508, 0.7323, 1.5084, 1.3413, 1.298, 0.8301, 0.6477, 1.0697, 1.68, 0.9398, 1.4116, 0.3551, 1.3505, 1.5115, 0.6132, 1.6612, 1.4204, 1.1147, 1.5076, 1.5359, -0.2756, -0.2291, -0.2482, -0.0094, 0.1525, 0.0112, 0.2063, 0.0624, 0.3827, 0.1962, -0.4832, 0.1418, -0.0678, 0.22, 0.4146, 0.0672, -0.342, 0.5276, 1.9301, 1.9301, 1.9301, 1.9301, 1.9301, 1.8312, 1.8312, 1.8312, 1.8312, 1.8312, 1.8312, 1.8312, 1.8312, 1.8312, 1.8312, 1.8312, 1.8312, 1.8312, 1.8312, 1.8312, 1.8312, 1.8312, 1.8312, 1.8312, 1.8312, 1.8312, 1.8312, 1.8312, 1.8312, 1.8312, 0.9483, 0.4777, 0.3825, 1.2157, 1.4311, 1.6444, 1.172, 0.1192, 0.2547, 1.5141, 0.7985, 1.2491, 1.3475, 0.3559, 0.7128, 1.5866, 0.4296, 1.7257, 0.2676, 1.4999, 0.3917, 1.4408, 1.8246, 0.8693, 0.783, 1.3552, 1.1316, 0.8027, 0.1437, 0.3995, 0.0666, 0.5655, 0.1014, 0.312, 0.2751, 0.4557, 0.1796, -0.255, 0.652, 1.9551, 1.9551, 1.9551, 1.9094, 1.8557, 1.8557, 1.8557, 1.8557, 1.8557, 1.8557, 1.8557, 1.8557, 1.8557, 1.8557, 1.8557, 1.8557, 1.8557, 1.8557, 1.8557, 1.8557, 1.8557, 1.8557, 1.8557, 1.8557, 1.8346, 1.8178, 1.7534, 1.7252, 1.7196, 1.6884, 1.0259, 0.5767, 1.6141, 1.4194, 1.1304, 1.0684, 1.2349, 1.2492, 0.5885, 1.336, 1.6434, 1.1258, 1.5806, 0.0714, 1.547, 1.361, 1.0086, 1.6566, 0.169, 1.3284, 1.2885, 0.9601, 0.1146, -0.2699, 0.1476, -0.655, 0.0617, 0.5561, 0.0867, 0.492, -0.1208, -0.0195, -0.3303, 0.1392, 0.3019, -0.5511, 0.7703, 2.1339, 2.1339, 2.1339, 2.1339, 2.1339, 2.1339, 2.1339, 2.1339, 2.1339, 2.1339, 2.1049, 2.1039, 2.061, 1.9914, 1.9801, 1.9422, 1.9033, 1.8897, 1.8897, 1.8897, 1.8897, 1.8897, 1.8897, 1.8897, 1.8897, 1.8897, 1.8897, 1.8897, 1.8897, 1.8897, 0.7106, 0.9721, 0.6724, 1.4535, 1.6466, 1.1719, 1.3416, 0.9891, 1.2874, 1.6735, 1.8211, 0.6905, 0.9973, 1.2157, 1.835, 0.0741, 0.9932, 1.8121, 0.9906, 1.1219, -0.1103, 0.4487, -0.4008, 0.2292, 0.5548, 0.4301, -0.0513, 0.7519, 0.4776, -0.0452, 0.6005, -0.6094, 0.9115, 0.1031, 0.5435, 2.4088, 2.4088, 2.4088, 2.4088, 2.4088, 2.4088, 2.4088, 2.4088, 2.4088, 2.2741, 2.196, 2.1535, 2.1535, 2.1535, 2.1535, 2.1535, 2.1535, 2.1535, 2.1535, 2.1535, 2.1535, 2.1535, 2.1535, 2.1535, 2.1535, 2.1535, 2.1535, 2.1535, 2.1535, 2.1535, 1.5562, 2.129, 1.8944, 1.1069, 1.8385, 2.0761, 1.1033, 0.8495, 1.9208, 1.3289, 2.0993, 2.0979, 2.0979, 2.0979, 2.0979, 2.103, 2.0923, 0.6207, 1.6778, -0.3811, -0.1596, 0.3596, 0.5618, -0.3765, 0.7028, 0.2439, -0.0899, 0.1235, 0.1789, 0.0577, 0.9236, -0.675, 0.1672, 0.5959, 0.0523, -0.6558, -0.2989, 0.7021, 0.673, 0.9614, 2.4248, 2.4248, 2.4248, 2.4248, 2.4248, 2.4248, 2.4248, 2.4248, 2.4248, 2.4248, 2.4248, 2.4248, 2.4248, 2.4248, 2.2904, 2.2343, 2.1694, 2.1694, 2.1694, 2.1694, 2.1694, 2.1694, 2.1694, 2.1694, 2.1694, 2.1694, 2.1694, 2.1694, 2.1694, 2.1694, 2.0227, 1.8393, 1.0839, 2.0667, 1.8243, 2.0396, 1.331, 1.0203, 2.1149, 2.092, 2.0862, 2.0845, 1.7231, 1.8041, 0.1377, -0.1667, -0.4345, 0.484, 0.4105, -0.7047, 1.009, 0.0763, -0.1575, -0.082, -1.1594, 1.1287, -0.0896, 0.4893, -0.7681, 0.4495, -0.346, 1.164, 0.7736, 0.1156, -0.3389, -0.1502, 2.6715, 2.6093, 2.4978, 2.4978, 2.4978, 2.4978, 2.4978, 2.4978, 2.4978, 2.4978, 2.4978, 2.4978, 2.3626, 2.2377, 2.2377, 2.2377, 2.2377, 2.2377, 2.2377, 2.2377, 2.2377, 2.2377, 2.2377, 2.2377, 2.2377, 2.2377, 2.2377, 2.2377, 2.2377, 2.2377, 2.0675, 1.8904, 2.0332, 1.79, 1.5847, 2.1625, 2.1622, 0.8838, 2.0123, 1.9928, 1.7043, 0.1717, 0.4623, 1.8997, 1.8732, 1.8371, 2.2129, 0.5162, 0.1027, 0.8792, 0.609, 1.1572, -0.4988, 0.3898, 0.9897, 1.2505, 0.9215, -0.0727, -0.3499, -0.8802, -0.861, 0.6309, 0.863, 0.5409, -0.3391, -0.0559, 1.0461, 1.4333, 0.9173]}, \"token.table\": {\"Topic\": [7, 1, 2, 3, 4, 5, 6, 8, 9, 10, 2, 1, 2, 3, 4, 5, 6, 7, 8, 9, 10, 2, 6, 8, 10, 5, 7, 1, 5, 8, 9, 1, 2, 3, 4, 5, 6, 7, 9, 10, 8, 10, 7, 4, 6, 9, 2, 2, 1, 2, 3, 4, 5, 6, 7, 8, 9, 10, 1, 2, 3, 4, 6, 7, 2, 3, 5, 6, 8, 8, 7, 4, 6, 1, 1, 2, 3, 4, 6, 7, 8, 9, 1, 9, 1, 2, 3, 4, 6, 7, 9, 2, 3, 5, 10, 1, 3, 4, 5, 7, 8, 9, 10, 2, 6, 1, 2, 3, 4, 5, 6, 8, 9, 10, 1, 6, 7, 4, 1, 5, 9, 2, 5, 1, 9, 6, 1, 5, 7, 1, 2, 3, 4, 6, 8, 9, 10, 10, 1, 1, 3, 4, 5, 6, 7, 8, 9, 2, 3, 5, 6, 10, 6, 10, 1, 2, 3, 4, 7, 9, 10, 2, 3, 5, 1, 2, 3, 4, 5, 6, 8, 9, 10, 2, 3, 4, 5, 6, 7, 8, 9, 10, 2, 3, 4, 7, 8, 5, 8, 4, 7, 4, 1, 5, 1, 6, 3, 4, 6, 10, 10, 2, 3, 4, 7, 8, 9, 9, 10, 4, 3, 1, 4, 5, 6, 7, 9, 9, 8, 10, 2, 1, 2, 3, 4, 5, 6, 7, 8, 9, 10, 10, 8, 5, 8, 1, 2, 3, 4, 5, 6, 7, 8, 9, 10, 10, 8, 1, 2, 3, 4, 7, 9, 1, 2, 3, 4, 6, 8, 10, 8, 1, 6, 7, 8, 4, 3, 2, 3, 5, 6, 7, 1, 2, 3, 4, 7, 9, 5, 1, 2, 3, 4, 5, 6, 7, 8, 10, 2, 3, 5, 9, 5, 1, 2, 4, 5, 1, 1, 2, 4, 5, 7, 8, 9, 1, 2, 3, 4, 5, 6, 7, 8, 10, 3, 2, 3, 6, 9, 3, 2, 3, 4, 6, 10, 7, 5, 3, 7, 10, 2, 6, 8, 10, 7, 1, 2, 3, 5, 6, 9, 10, 5, 3, 1, 4, 5, 6, 7, 10, 1, 2, 3, 5, 7, 6, 9, 10, 2, 4, 5, 6, 1, 3, 9, 1, 9, 4, 1, 2, 5, 6, 1, 2, 7, 1, 3, 4, 8, 1, 3, 9, 10, 1, 2, 3, 4, 5, 6, 7, 8, 9, 10, 10, 2, 1, 6, 6, 2, 3, 4, 5, 6, 7, 8, 9, 5, 1, 5, 6, 8, 5, 1, 2, 3, 4, 5, 6, 7, 8, 9, 10, 2, 8, 8, 1, 2, 9, 1, 2, 3, 4, 5, 6, 7, 8, 9, 10, 1, 1, 6, 10, 9, 3, 3, 3, 7, 10, 1, 5, 6, 8, 9, 10, 9, 1, 3, 4, 9, 10, 9, 2, 10, 1, 3, 4, 5, 5, 1, 4, 6, 7, 9, 7, 4, 1, 3, 10, 10, 5, 7, 8, 3, 8, 9, 10, 4, 2, 1, 2, 3, 4, 6, 7, 8, 10, 1, 2, 3, 4, 5, 7, 9, 1, 2, 3, 4, 5, 6, 7, 8, 2, 5, 1, 4, 5, 6, 7, 8, 9, 4, 5, 6, 10, 3, 4, 7, 3, 8, 8, 6, 1, 2, 3, 4, 5, 6, 7, 8, 9, 4, 4, 9, 7, 10, 2, 3, 5, 6, 8, 9, 10, 1, 3, 1, 2, 4, 3, 5, 8, 1, 3, 4, 5, 7, 8, 9, 1, 2, 3, 4, 5, 6, 7, 8, 9, 10, 9, 8, 10, 5, 9, 1, 1, 2, 3, 4, 6, 7, 8, 9, 10, 1, 2, 3, 4, 5, 6, 7, 8, 9, 10, 2, 3, 4, 6, 7, 8, 9, 10, 1, 2, 3, 4, 5, 6, 8, 9, 10, 1, 2, 3, 4, 5, 6, 7, 8, 9, 10, 8, 2, 8, 10, 1, 3, 8, 5, 2, 3, 4, 5, 9, 10, 1, 2, 4, 6, 7, 8, 10, 4, 1, 2, 3, 4, 5, 6, 7, 8, 9, 10, 6, 10, 1, 1, 2, 3, 5, 6, 7, 9, 1, 3, 1, 2, 5, 3, 4, 5, 8, 9, 10, 4, 8, 2, 7, 8, 10, 4, 5, 10, 9, 3, 2, 5, 1, 2, 3, 4, 6, 7, 8, 10, 4, 4, 8, 2, 1, 2, 3, 4, 5, 6, 7, 10, 8, 7, 1, 2, 3, 4, 5, 6, 7, 8, 9, 10, 1, 2, 3, 4, 5, 6, 7, 8, 9, 10, 1, 2, 3, 5, 6, 7, 2, 4, 5, 7, 8, 4, 3, 1, 6, 4, 6, 8, 9, 2, 4, 5, 8, 4, 5, 7, 10, 9, 6, 1, 2, 3, 4, 5, 6, 7, 8, 9, 10, 1, 6, 10, 5, 7, 8, 1, 1, 2, 3, 4, 5, 6, 7, 8, 9, 4, 5, 7, 9, 7, 9, 1, 2, 3, 4, 5, 6, 7, 9, 10, 9, 4, 6, 1, 5, 10, 5, 10, 1, 2, 4, 7, 10, 2, 3, 4, 5, 6, 7, 8, 9, 10, 9, 3, 1, 2, 3, 5, 6, 2, 6, 7, 8, 1, 2, 3, 4, 5, 6, 7, 8, 9, 10, 1, 2, 3, 4, 5, 6, 7, 8, 9, 10, 1, 2, 3, 4, 5, 7, 8, 9, 10, 2, 1, 2, 3, 4, 5, 6, 9, 1, 2, 6, 8, 9, 10, 6, 6, 1, 2, 3, 4, 5, 6, 7, 8, 9, 10, 1, 1, 2, 3, 4, 5, 6, 7, 8, 9, 10, 1, 2, 3, 4, 5, 7, 8, 9, 5, 3, 2, 3, 8, 9, 10, 4, 5, 8, 9, 3, 8, 6, 8, 1, 2, 3, 4, 5, 6, 7, 8, 9, 10, 6, 7, 6, 6, 3, 2, 1, 2, 3, 5, 6, 9, 10, 1, 2, 6, 2, 3, 1, 8, 3, 5, 3, 1, 1, 2, 3, 4, 5, 6, 8, 9, 10, 8, 1, 2, 3, 4, 5, 6, 7, 8, 9, 10, 4, 4, 2, 4, 8, 9, 5, 8, 2, 6, 9, 5, 6, 1, 6, 3, 7, 9, 9, 1, 2, 3, 5, 10, 9, 10, 2, 3, 4, 5, 6, 7, 8, 9, 1, 2, 3, 4, 5, 6, 7, 8, 9, 10, 6, 1, 2, 3, 4, 5, 6, 7, 8, 9, 10, 1, 2, 4, 5, 6, 7, 9, 2, 7, 10, 2, 4, 9, 2, 1, 4, 5, 9, 3, 4, 6, 9, 1, 2, 3, 5, 6, 7, 9, 7, 2, 3, 5, 9, 5, 2, 4, 5, 7, 8, 2, 1, 2, 4, 5, 6, 7, 8, 9, 4, 6, 10, 1, 2, 3, 4, 5, 6, 8, 9, 10, 1, 4, 5, 3, 8, 2, 2, 4, 5, 6, 7, 8, 9, 10, 2, 3, 4, 5, 8, 9, 10, 5, 6, 7, 5, 1, 2, 3, 7, 8, 10, 5, 1, 3, 5, 9, 3, 4, 6, 7, 9, 2, 4, 10, 7, 1, 2, 3, 5, 6, 7, 8, 9, 10, 1, 3, 4, 10, 8, 6, 2, 3, 3, 3, 1, 2, 6, 8, 9, 1, 2, 4, 5, 6, 7, 8, 9, 10, 4, 8, 10, 1, 2, 3, 4, 5, 7, 8, 10, 1, 2, 3, 5, 6, 7, 4, 10, 1, 2, 4, 5, 6, 7, 9, 6, 1, 2, 3, 4, 5, 7, 8, 9, 1, 2, 3, 5, 6, 7, 8, 9, 10, 3, 4, 6, 6, 10, 7, 9, 1, 9, 1, 2, 3, 5, 6, 8, 9, 10, 4, 3, 7, 8, 10, 3, 1, 2, 4, 5, 7, 9, 2, 4, 5, 7, 10, 1, 2, 4, 5, 7, 1, 8, 8, 8, 2, 3, 6, 8, 9, 1, 2, 3, 4, 5, 7, 8, 9, 10, 3, 4, 9, 7, 2, 6, 2, 6, 7, 8, 7, 5, 8, 9, 1, 5, 6, 7, 2, 3, 7, 1, 3, 6, 10, 9, 4, 8, 1, 10, 1, 2, 3, 4, 5, 6, 8, 10, 1, 2, 4, 5, 6, 7, 8, 9, 10, 7, 10, 5, 7, 8, 1, 6, 9, 10, 1, 3, 4, 8, 9, 10, 9, 2, 5, 6, 7, 10, 5, 1, 2, 3, 4, 5, 6, 7, 8, 9, 1, 2, 3, 4, 5, 6, 7, 8, 9, 10, 3, 3, 1, 2, 3, 4, 5, 6, 7, 8, 9, 10, 1, 1, 2, 3, 5, 6, 9, 6, 1, 3, 5, 6, 9, 10, 7, 5, 1, 2, 3, 4, 5, 6, 7, 8, 9, 1, 2, 3, 4, 6, 7, 4, 2, 7, 6, 6, 4, 5, 6, 7, 8, 9, 10, 4, 2, 2, 10, 7, 1, 2, 3, 4, 5, 6, 8, 9, 10, 1, 2, 3, 5, 6, 7, 8, 10, 1, 2, 3, 4, 5, 6, 7, 8, 10, 1, 2, 3, 4, 5, 6, 7, 9, 10, 5, 10, 5, 8, 10, 1, 2, 3, 4, 6, 7, 8, 10, 4, 3, 4, 9, 1, 9, 1, 2, 3, 7, 9, 1, 2, 3, 4, 5, 6, 8, 9, 10, 3, 1, 2, 3, 4, 5, 6, 7, 8, 9, 7, 9, 1, 2, 3, 6, 7, 8, 5, 1, 2, 4, 6, 8, 9, 3, 2, 2, 1, 4, 1, 2, 3, 4, 5, 6, 7, 9, 10, 6, 1, 2, 3, 5, 7, 1, 2, 3, 4, 5, 6, 7, 8, 9, 10, 1, 2, 3, 4, 5, 6, 7, 10, 5, 6], \"Freq\": [0.8661179708362811, 0.26866324065715386, 0.02442393096883217, 0.12211965484416085, 0.02442393096883217, 0.04884786193766434, 0.0732717929064965, 0.293087171625986, 0.04884786193766434, 0.09769572387532868, 0.7367627855891774, 0.5041844114598859, 0.05931581311292775, 0.14828953278231938, 0.029657906556463876, 0.05931581311292775, 0.029657906556463876, 0.029657906556463876, 0.05931581311292775, 0.029657906556463876, 0.1186316262258555, 0.21969534426730883, 0.21969534426730883, 0.43939068853461766, 0.6779802488573372, 0.21526100818660102, 0.645783024559803, 0.26389742420645085, 0.13194871210322542, 0.13194871210322542, 0.5277948484129017, 0.3432562060268895, 0.10561729416211983, 0.026404323540529958, 0.1848302647837097, 0.15842594124317977, 0.052808647081059916, 0.026404323540529958, 0.052808647081059916, 0.07921297062158988, 0.6689307880615917, 0.677980248857564, 0.6476204707946953, 0.8354782085224824, 0.8392913549073049, 0.6690329824651235, 0.8245821503170316, 0.8245821503170293, 0.17020602352485725, 0.22694136469980966, 0.19857369411233347, 0.056735341174952415, 0.11347068234990483, 0.056735341174952415, 0.028367670587476208, 0.056735341174952415, 0.056735341174952415, 0.028367670587476208, 0.10533647487141228, 0.10533647487141228, 0.10533647487141228, 0.10533647487141228, 0.10533647487141228, 0.4213458994856491, 0.8245821503049612, 0.5575704530398818, 0.13939261325997046, 0.13939261325997046, 0.13939261325997046, 0.9046616798575295, 0.8661181490375711, 0.6231897016380309, 0.31159485081901545, 0.8097800964185192, 0.2542328007017871, 0.18159485764413363, 0.036318971528826724, 0.07263794305765345, 0.32687074375944053, 0.10895691458648019, 0.036318971528826724, 0.6690329824651235, 0.8097800964156378, 0.6690329824651235, 0.12519780484969448, 0.1877967072745417, 0.06259890242484724, 0.06259890242484724, 0.4381923169739307, 0.06259890242484724, 0.12519780484969448, 0.18830952740251566, 0.18830952740251566, 0.18830952740251566, 0.37661905480503133, 0.05740682762072316, 0.28703413810361583, 0.40184779334506215, 0.05740682762072316, 0.05740682762072316, 0.05740682762072316, 0.05740682762072316, 0.05740682762072316, 0.8245821503273885, 0.8392913549276234, 0.0745238674265378, 0.08694451199762743, 0.16146837942416523, 0.13662709028198597, 0.12420644571089633, 0.3105161142772408, 0.04968257828435853, 0.012420644571089632, 0.06210322285544816, 0.8097800964208356, 0.6313276886834324, 0.21044256289447746, 0.8354782085339484, 0.21845561254439333, 0.21845561254439333, 0.43691122508878666, 0.8245822002909663, 0.6254013485460302, 0.9049303908077788, 0.9048472735373496, 0.8392912730140754, 0.14159863626662175, 0.2831972725332435, 0.566394545066487, 0.13990404702253798, 0.13990404702253798, 0.046634682340845994, 0.18653872936338398, 0.27980809404507595, 0.046634682340845994, 0.09326936468169199, 0.046634682340845994, 0.4606450724869896, 0.8097800964140623, 0.1953549676874642, 0.234425961224957, 0.13674847738122492, 0.234425961224957, 0.019535496768746417, 0.019535496768746417, 0.05860649030623925, 0.0976774838437321, 0.08405154042380385, 0.42025770211901925, 0.1681030808476077, 0.1681030808476077, 0.08405154042380385, 0.2725760869958417, 0.5451521739916834, 0.08878956197197065, 0.5327373718318239, 0.08878956197197065, 0.08878956197197065, 0.08878956197197065, 0.08878956197197065, 0.4606461435215629, 0.6440522430356964, 0.1932156729107089, 0.12881044860713928, 0.1681638730209327, 0.21020484127616587, 0.04204096825523317, 0.1261229047656995, 0.1261229047656995, 0.08408193651046635, 0.1261229047656995, 0.04204096825523317, 0.04204096825523317, 0.18861723460973037, 0.08705410828141401, 0.10156312632831635, 0.2901803609380467, 0.11607214437521868, 0.07254509023451168, 0.02901803609380467, 0.043527054140707004, 0.05803607218760934, 0.1357597890897545, 0.1357597890897545, 0.31677284120942717, 0.31677284120942717, 0.09050652605983635, 0.3314483906402039, 0.6628967812804079, 0.9371425491159922, 0.8661181490376371, 0.8354782085199357, 0.8097800964236489, 0.8362407784820579, 0.6045361475465593, 0.2015120491821864, 0.10848103866154063, 0.3254431159846219, 0.21696207732308126, 0.3254431159846219, 0.46064597964425424, 0.1383263108166424, 0.09221754054442827, 0.2766526216332848, 0.23054385136107067, 0.046108770272214133, 0.23054385136107067, 0.6690329824650199, 0.4606461435199716, 0.8354782085232646, 0.9312232325908493, 0.23463177617484252, 0.11731588808742126, 0.11731588808742126, 0.11731588808742126, 0.11731588808742126, 0.35194766426226376, 0.9048485054088773, 0.904661679858712, 0.677980248857564, 0.8245825776255273, 0.034110346387109074, 0.06822069277421815, 0.30699311748398167, 0.1364413855484363, 0.10233103916132721, 0.10233103916132721, 0.10233103916132721, 0.06822069277421815, 0.034110346387109074, 0.034110346387109074, 0.4606461435200533, 0.6689307880627021, 0.33144836380532533, 0.6628967276106507, 0.09243996991277172, 0.12838884710107185, 0.16947327817341482, 0.08730441602872885, 0.12838884710107185, 0.1951510475936292, 0.07189775437660023, 0.04108443107234299, 0.020542215536171495, 0.06676220049255735, 0.677980248857564, 0.668930788062014, 0.05937410771092296, 0.23749643084369185, 0.11874821542184592, 0.41561875397646075, 0.05937410771092296, 0.05937410771092296, 0.27622921509108156, 0.16573752905464892, 0.05524584301821631, 0.16573752905464892, 0.05524584301821631, 0.11049168603643263, 0.16573752905464892, 0.9046616720698966, 0.1269021264716393, 0.5076085058865571, 0.2538042529432786, 0.1269021264716393, 0.8354782085262239, 0.8307711350511631, 0.10344656871347396, 0.5172328435673698, 0.20689313742694793, 0.10344656871347396, 0.10344656871347396, 0.17856473703385972, 0.17856473703385972, 0.17856473703385972, 0.17856473703385972, 0.29760789505643287, 0.059521579011286574, 0.8362407784818519, 0.25010827690398657, 0.13467368756368508, 0.019239098223383586, 0.21163008045721943, 0.07695639289353434, 0.03847819644676717, 0.17315188401045226, 0.03847819644676717, 0.05771729467015075, 0.1617390873857091, 0.37739120389998787, 0.37739120389998787, 0.0539130291285697, 0.8362407223593894, 0.1293394130826137, 0.2586788261652274, 0.1293394130826137, 0.452687945789148, 0.8097800964181139, 0.22501031313262307, 0.1285773217900703, 0.06428866089503515, 0.03214433044751758, 0.2571546435801406, 0.1928659826851055, 0.09643299134255275, 0.19555750899585958, 0.17111282037137712, 0.14666813174689466, 0.09777875449792979, 0.07333406587344733, 0.09777875449792979, 0.12222344312241223, 0.07333406587344733, 0.024444688624482448, 0.9312232325865747, 0.13906925662905445, 0.5562770265162178, 0.13906925662905445, 0.13906925662905445, 0.8307702980807257, 0.43331992648552775, 0.18570853992236902, 0.061902846640789676, 0.18570853992236902, 0.061902846640789676, 0.8661181490375712, 0.8362406675762458, 0.830770298080152, 0.6476204707946953, 0.6779802488565886, 0.1920216729722944, 0.1920216729722944, 0.1920216729722944, 0.3840433459445888, 0.6476204707946953, 0.16668695480881054, 0.06667478192352422, 0.43338608250290744, 0.23336173673233476, 0.06667478192352422, 0.03333739096176211, 0.03333739096176211, 0.6254014014482466, 0.8307702980895599, 0.32413628234205, 0.054022713723675, 0.054022713723675, 0.378158996065725, 0.10804542744735, 0.054022713723675, 0.10339336604699512, 0.10339336604699512, 0.10339336604699512, 0.6203601962819707, 0.10339336604699512, 0.5249720110036495, 0.26248600550182477, 0.13124300275091239, 0.22541455678401595, 0.11270727839200798, 0.5635363919600399, 0.11270727839200798, 0.2180807164498702, 0.2180807164498702, 0.4361614328997404, 0.904930390814716, 0.6690329824650199, 0.8354782085199357, 0.20568857150025094, 0.10284428575012547, 0.20568857150025094, 0.4113771430005019, 0.6720874798986104, 0.13441749597972208, 0.13441749597972208, 0.11466082779444803, 0.22932165558889606, 0.4586433111777921, 0.22932165558889606, 0.31212048553355143, 0.5202008092225857, 0.10404016184451714, 0.10404016184451714, 0.10551847589429225, 0.22611101977348338, 0.15074067984898892, 0.015074067984898893, 0.030148135969797787, 0.09044440790939336, 0.2110369517885845, 0.07537033992449446, 0.06029627193959557, 0.015074067984898893, 0.6779802488573372, 0.8245821503083646, 0.35226265537862056, 0.5283939830679308, 0.8392913549227913, 0.07421600606673524, 0.22264801820020574, 0.27212535557802925, 0.12369334344455875, 0.02473866868891175, 0.22264801820020574, 0.0494773373778235, 0.02473866868891175, 0.8362407784767298, 0.13973702208873054, 0.13973702208873054, 0.5589480883549222, 0.13973702208873054, 0.8362408079909807, 0.13917570783372485, 0.15905795180997126, 0.11929346385747844, 0.11929346385747844, 0.13917570783372485, 0.039764487952492815, 0.07952897590498563, 0.05964673192873922, 0.039764487952492815, 0.13917570783372485, 0.3296012307723711, 0.6592024615447422, 0.668930788062014, 0.8097800964524857, 0.8245824808179736, 0.9048485054088773, 0.2590690855523191, 0.1530862778263704, 0.035327602575316246, 0.1648621453514758, 0.1648621453514758, 0.12953454277615956, 0.02355173505021083, 0.011775867525105415, 0.04710347010042166, 0.02355173505021083, 0.8097800964276418, 0.4834967303390286, 0.16116557677967622, 0.32233115355935243, 0.9048486018858904, 0.8307702980831257, 0.8307702980914954, 0.42530368987948747, 0.42530368987948747, 0.6779802488573372, 0.20589591839410618, 0.27452789119214155, 0.06863197279803539, 0.20589591839410618, 0.20589591839410618, 0.06863197279803539, 0.9048486018946627, 0.14825411482897702, 0.14825411482897702, 0.14825411482897702, 0.14825411482897702, 0.444762344486931, 0.9048484150896954, 0.8245822002864264, 0.4606461435231952, 0.1368188059813839, 0.5472752239255356, 0.1368188059813839, 0.1368188059813839, 0.8362407784838503, 0.9049303908106281, 0.1622276929465888, 0.1622276929465888, 0.48668307883976636, 0.1622276929465888, 0.6476204707946953, 0.8354782085284441, 0.5546423784280058, 0.13866059460700145, 0.13866059460700145, 0.6779802488573372, 0.21756480136685416, 0.4351296027337083, 0.21756480136685416, 0.17157828849627677, 0.34315657699255353, 0.17157828849627677, 0.34315657699255353, 0.8354782085219, 0.8245821503273892, 0.16863417467463115, 0.26981467947940985, 0.10118050480477868, 0.20236100960955736, 0.10118050480477868, 0.03372683493492623, 0.06745366986985246, 0.06745366986985246, 0.2894304925947221, 0.12404163968345233, 0.08269442645563489, 0.16538885291126978, 0.08269442645563489, 0.2067360661390872, 0.041347213227817446, 0.16457034697920517, 0.05485678232640172, 0.05485678232640172, 0.16457034697920517, 0.16457034697920517, 0.10971356465280344, 0.2742839116320086, 0.10971356465280344, 0.824582150305956, 0.8362407784777266, 0.25012236369959473, 0.3751835455493921, 0.06253059092489868, 0.06253059092489868, 0.12506118184979736, 0.06253059092489868, 0.06253059092489868, 0.2803687743165507, 0.09345625810551692, 0.18691251621103383, 0.37382503242206766, 0.18312408484223205, 0.18312408484223205, 0.5493722545266962, 0.8307702980847311, 0.9046611570538238, 0.668930788062014, 0.8392913549276234, 0.25527469392147245, 0.10511310926178277, 0.10511310926178277, 0.1351454261937207, 0.10511310926178277, 0.060064633863875866, 0.1351454261937207, 0.07508079232984484, 0.030032316931937933, 0.8354782085253085, 0.8354782085284382, 0.9048486018874133, 0.6476204707946945, 0.46064569982682674, 0.27242643875447126, 0.21794115100357703, 0.05448528775089426, 0.05448528775089426, 0.16345586325268277, 0.10897057550178851, 0.21794115100357703, 0.8097800964211391, 0.9312232325897473, 0.5363541034148213, 0.26817705170741063, 0.13408852585370531, 0.1576977581884919, 0.6307910327539676, 0.1576977581884919, 0.12508732668047312, 0.37526198004141936, 0.18763099002070968, 0.12508732668047312, 0.06254366334023656, 0.06254366334023656, 0.06254366334023656, 0.11551172905125857, 0.26952736778627, 0.15401563873501142, 0.07700781936750571, 0.07700781936750571, 0.07700781936750571, 0.07700781936750571, 0.038503909683752856, 0.07700781936750571, 0.11551172905125857, 0.9048486002322511, 0.6689307880620159, 0.6779802488573372, 0.26793675652288784, 0.5358735130457757, 0.8097800964249573, 0.15882706346927306, 0.22941686945561662, 0.17647451496585895, 0.14117961197268714, 0.10588470897951537, 0.017647451496585892, 0.07058980598634357, 0.05294235448975768, 0.05294235448975768, 0.08946365308319458, 0.3041764204828616, 0.1252491143164724, 0.1252491143164724, 0.08946365308319458, 0.08946365308319458, 0.017892730616638916, 0.1073563836998335, 0.03578546123327783, 0.017892730616638916, 0.0823070423775071, 0.23045971865701992, 0.09876845085300853, 0.19753690170601707, 0.016461408475501423, 0.11522985932850996, 0.18107549323051564, 0.09876845085300853, 0.028759066009435688, 0.14379533004717845, 0.08627719802830706, 0.08627719802830706, 0.14379533004717845, 0.14379533004717845, 0.17255439605661413, 0.08627719802830706, 0.08627719802830706, 0.19503399599208057, 0.08358599828232025, 0.05572399885488016, 0.07429866513984021, 0.15788466342216045, 0.13002266399472037, 0.15788466342216045, 0.02786199942744008, 0.02786199942744008, 0.08358599828232025, 0.6689307880620159, 0.8245821503479673, 0.6689307880615917, 0.6779802488583427, 0.8097800964386779, 0.8307702980807257, 0.9046616798512365, 0.8362407528814764, 0.10553855217857203, 0.10553855217857203, 0.10553855217857203, 0.5276927608928601, 0.10553855217857203, 0.10553855217857203, 0.08137050923670099, 0.16274101847340197, 0.24411152771010294, 0.08137050923670099, 0.16274101847340197, 0.08137050923670099, 0.24411152771010294, 0.7483904906683959, 0.08056077774758402, 0.12084116662137602, 0.12084116662137602, 0.08056077774758402, 0.08056077774758402, 0.08056077774758402, 0.20140194436896006, 0.04028038887379201, 0.04028038887379201, 0.16112155549516805, 0.839291477328715, 0.6779802488573372, 0.9049303908253747, 0.056756619631754185, 0.3972963374222793, 0.22702647852701674, 0.056756619631754185, 0.056756619631754185, 0.056756619631754185, 0.11351323926350837, 0.9049303908079973, 0.8307702981138547, 0.8097800964143504, 0.8245821503115226, 0.8362407784827509, 0.16475508817990386, 0.16475508817990386, 0.16475508817990386, 0.16475508817990386, 0.3295101763598077, 0.6779802488573372, 0.8354782085232646, 0.668930788062014, 0.15054694055292153, 0.15054694055292153, 0.6021877622116861, 0.15054694055292153, 0.5443869147243438, 0.1814623049081146, 0.1814623049081146, 0.9048486018874133, 0.9312232325879524, 0.8245821503114434, 0.6254014014407774, 0.26278103412616716, 0.052556206825233424, 0.10511241365046685, 0.052556206825233424, 0.10511241365046685, 0.36789344777663396, 0.052556206825233424, 0.052556206825233424, 0.8354782085219351, 0.8354782085349011, 0.6689307880627021, 0.9234552653195393, 0.2600840728180778, 0.2600840728180778, 0.08669469093935928, 0.1300420364090389, 0.04334734546967964, 0.04334734546967964, 0.04334734546967964, 0.17338938187871855, 0.668930788062014, 0.6476204707946945, 0.08412188790024154, 0.12294737462342994, 0.21354017697753622, 0.09059280235410627, 0.16824377580048308, 0.11647646016956521, 0.09059280235410627, 0.038825486723188404, 0.05176731563091787, 0.025883657815458934, 0.23316043384078447, 0.14837482153504467, 0.1695712246114796, 0.0847856123057398, 0.0847856123057398, 0.02119640307643495, 0.14837482153504467, 0.0423928061528699, 0.0423928061528699, 0.0423928061528699, 0.17513697822261087, 0.5254109346678326, 0.08756848911130544, 0.08756848911130544, 0.08756848911130544, 0.08756848911130544, 0.2681820617041003, 0.4469701028401672, 0.1787880411360669, 0.08939402056803344, 0.08939402056803344, 0.7483904924585207, 0.8307702981113823, 0.605162780400818, 0.302581390200409, 0.09204107217569123, 0.5522464330541473, 0.09204107217569123, 0.18408214435138245, 0.8245821503398049, 0.8354782085300569, 0.33144945165911965, 0.6628989033182393, 0.2922569390916964, 0.48709489848616067, 0.19483795939446427, 0.09741897969723214, 0.6690329824650199, 0.8392913549176728, 0.21767895898331127, 0.0923486492656472, 0.08575231717524384, 0.08575231717524384, 0.1846972985312944, 0.059366988813630346, 0.1649083022600843, 0.05277065672322698, 0.03298166045201686, 0.02638532836161349, 0.2069443779001456, 0.6208331337004368, 0.46064569982652315, 0.8362407784818678, 0.8661181490376498, 0.668930788061265, 0.809780096442967, 0.24658987335453872, 0.24658987335453872, 0.19179212372019677, 0.05479774963434194, 0.05479774963434194, 0.0821966244515129, 0.05479774963434194, 0.05479774963434194, 0.02739887481717097, 0.8354782085275363, 0.2149436904219259, 0.6448310712657778, 0.6690329824651235, 0.8661180080285673, 0.6690329824651235, 0.15165641456828788, 0.17061346638932384, 0.1137423109262159, 0.1137423109262159, 0.15165641456828788, 0.09478525910517992, 0.09478525910517992, 0.09478525910517992, 0.018957051821035985, 0.6690329824650199, 0.9371425491189977, 0.8392913549099285, 0.8097800964146729, 0.6254014014401706, 0.6779802488573372, 0.8362407784973752, 0.842068630919882, 0.08859803099348562, 0.17719606198697124, 0.17719606198697124, 0.17719606198697124, 0.4429901549674281, 0.12935752344401377, 0.021559587240668962, 0.21559587240668962, 0.25871504688802754, 0.12935752344401377, 0.08623834896267585, 0.12935752344401377, 0.021559587240668962, 0.021559587240668962, 0.6690329824651235, 0.8307702980884096, 0.12287870845960325, 0.2457574169192065, 0.18431806268940487, 0.36863612537880974, 0.12287870845960325, 0.8245821503047579, 0.3545904793368413, 0.08864761983421032, 0.5318857190052619, 0.13039303832044613, 0.20862886131271383, 0.13908590754180922, 0.11300729987771999, 0.1477787767631723, 0.08692869221363075, 0.04346434610681538, 0.034771476885452304, 0.06954295377090461, 0.034771476885452304, 0.11957837420794419, 0.18601080432346873, 0.18601080432346873, 0.07971891613862946, 0.09300540216173436, 0.07971891613862946, 0.07971891613862946, 0.09300540216173436, 0.053145944092419635, 0.03985945806931473, 0.19296809899292497, 0.19296809899292497, 0.12864539932861666, 0.12864539932861666, 0.06432269966430833, 0.1608067491607708, 0.032161349832154164, 0.06432269966430833, 0.032161349832154164, 0.8245821503225222, 0.394088684780836, 0.06568144746347265, 0.06568144746347265, 0.1313628949269453, 0.1313628949269453, 0.06568144746347265, 0.197044342390418, 0.08382588669595512, 0.16765177339191023, 0.08382588669595512, 0.41912943347977555, 0.16765177339191023, 0.08382588669595512, 0.8392913549076415, 0.8392913549133423, 0.1269661390474669, 0.2539322780949338, 0.15235936685696028, 0.02539322780949338, 0.17775259466645366, 0.15235936685696028, 0.02539322780949338, 0.02539322780949338, 0.02539322780949338, 0.05078645561898676, 0.8097800964267979, 0.11894436218176316, 0.09515548974541053, 0.23788872436352632, 0.09515548974541053, 0.023788872436352634, 0.19031097949082107, 0.0713666173090579, 0.04757774487270527, 0.04757774487270527, 0.0713666173090579, 0.25897231600415554, 0.04316205266735926, 0.08632410533471851, 0.12948615800207777, 0.04316205266735926, 0.08632410533471851, 0.04316205266735926, 0.38845847400623335, 0.8362407784771714, 0.7433592182427902, 0.14991610927094481, 0.14991610927094481, 0.29983221854188963, 0.14991610927094481, 0.14991610927094481, 0.4802796981752171, 0.16009323272507237, 0.16009323272507237, 0.16009323272507237, 0.8307713625518511, 0.9046616798563569, 0.33192655955558303, 0.6638531191111661, 0.2294517155684978, 0.07170366111515557, 0.1649184205648578, 0.23662208168001336, 0.14340732223031114, 0.007170366111515556, 0.05736292889212445, 0.028681464446062226, 0.035851830557577784, 0.014340732223031113, 0.2154626713891359, 0.6463880141674078, 0.8392913549099285, 0.8392913549117985, 0.8307704956521278, 0.8245823083115592, 0.12404420712061959, 0.37213262136185876, 0.24808841424123917, 0.062022103560309794, 0.12404420712061959, 0.062022103560309794, 0.062022103560309794, 0.24357750899106984, 0.6089437724776746, 0.12178875449553492, 0.8245820089911654, 0.8307702980928158, 0.8097800964149093, 0.6689307880615917, 0.9312232325883554, 0.8362407784775586, 0.8307702980798845, 0.8097800964140289, 0.15597635238451288, 0.19497044048064108, 0.2729586166728975, 0.07798817619225644, 0.03899408809612822, 0.11698226428838465, 0.07798817619225644, 0.03899408809612822, 0.03899408809612822, 0.6689307880620159, 0.23203771624405164, 0.10919421940896548, 0.20473916139181028, 0.12284349683508616, 0.08189566455672412, 0.12284349683508616, 0.02729855485224137, 0.06824638713060342, 0.02729855485224137, 0.013649277426120685, 0.7483904906686067, 0.7483903484166882, 0.3929241852698824, 0.13097472842329413, 0.3929241852698824, 0.13097472842329413, 0.3314483927163358, 0.6628967854326716, 0.21972829741392352, 0.21972829741392352, 0.43945659482784705, 0.8362407784767298, 0.8392913284405797, 0.24812207116682952, 0.49624414233365904, 0.19154308858390504, 0.19154308858390504, 0.5746292657517151, 0.6690329824651235, 0.11763644659522021, 0.15684859546029362, 0.15684859546029362, 0.39212148865073404, 0.15684859546029362, 0.3464422893297912, 0.3464422893297912, 0.20417304114157797, 0.28584225759820914, 0.0408346082283156, 0.1633384329132624, 0.0816692164566312, 0.0408346082283156, 0.12250382468494679, 0.0816692164566312, 0.1215664421934594, 0.09117483164509455, 0.15195805274182425, 0.1823496632901891, 0.0607832210967297, 0.0607832210967297, 0.15195805274182425, 0.1215664421934594, 0.09117483164509455, 0.03039161054836485, 0.6279618803867166, 0.03580423919537601, 0.10741271758612801, 0.10741271758612801, 0.28643391356300807, 0.14321695678150403, 0.14321695678150403, 0.07160847839075202, 0.03580423919537601, 0.03580423919537601, 0.03580423919537601, 0.13944840876333497, 0.11155872701066798, 0.08366904525800098, 0.027889681752666994, 0.027889681752666994, 0.13944840876333497, 0.4462349080426719, 0.8245821503108426, 0.6476204707946945, 0.4606461435225239, 0.5362056645763922, 0.17873522152546406, 0.17873522152546406, 0.8245822002885357, 0.1388421029410562, 0.5553684117642248, 0.1388421029410562, 0.1388421029410562, 0.25119700624174085, 0.5023940124834817, 0.12559850312087043, 0.12559850312087043, 0.39242492880137636, 0.16818211234344702, 0.16818211234344702, 0.056060704114482336, 0.056060704114482336, 0.11212140822896467, 0.11212140822896467, 0.6476204707946953, 0.576771848659317, 0.08239597837990242, 0.16479195675980485, 0.08239597837990242, 0.8362407784785397, 0.2682867171586837, 0.17885781143912244, 0.4471445285978061, 0.08942890571956122, 0.08942890571956122, 0.7367627584668789, 0.19856193132050495, 0.2482024141506312, 0.04964048283012624, 0.04964048283012624, 0.3474833798108837, 0.04964048283012624, 0.04964048283012624, 0.04964048283012624, 0.8354782085217985, 0.7293027477856251, 0.18232568694640627, 0.24841543726173848, 0.29225345560204524, 0.05845069112040905, 0.07306336390051131, 0.13151405502092037, 0.04383801834030679, 0.05845069112040905, 0.04383801834030679, 0.04383801834030679, 0.8097800964149123, 0.9371425491143492, 0.8362407784800346, 0.9312237182669311, 0.9046616798575275, 0.8245821503047579, 0.264641200264343, 0.075611771504098, 0.075611771504098, 0.151223543008196, 0.226835314512294, 0.037805885752049, 0.151223543008196, 0.037805885752049, 0.25485685753559917, 0.20388548602847933, 0.10194274301423967, 0.1529141145213595, 0.050971371507119834, 0.20388548602847933, 0.050971371507119834, 0.8362407784781007, 0.6279618803881768, 0.8661181490375645, 0.8362407784920909, 0.8097800964207825, 0.16708431787599762, 0.16708431787599762, 0.16708431787599762, 0.16708431787599762, 0.33416863575199524, 0.8362407784767997, 0.09214155592394448, 0.3685662236957779, 0.09214155592394448, 0.3685662236957779, 0.07374933960851915, 0.6637440564766722, 0.1474986792170383, 0.07374933960851915, 0.07374933960851915, 0.6251619933982723, 0.15629049834956807, 0.15629049834956807, 0.6476204707946953, 0.167694733755567, 0.25154210063335053, 0.04192368343889175, 0.0838473668777835, 0.25154210063335053, 0.04192368343889175, 0.0838473668777835, 0.0838473668777835, 0.04192368343889175, 0.7099792935694887, 0.10142561336706982, 0.10142561336706982, 0.10142561336706982, 0.6689307880620159, 0.8392913549282134, 0.6139954147407655, 0.2046651382469218, 0.8307702981072181, 0.8307702337635625, 0.5138176388627685, 0.20552705554510745, 0.10276352777255372, 0.10276352777255372, 0.10276352777255372, 0.12342587465152859, 0.04114195821717619, 0.08228391643435239, 0.37027762395458574, 0.08228391643435239, 0.16456783286870477, 0.08228391643435239, 0.04114195821717619, 0.04114195821717619, 0.267809257321798, 0.535618514643596, 0.6779802488573372, 0.34603801986977734, 0.09886800567707923, 0.14830200851561884, 0.14830200851561884, 0.09886800567707923, 0.09886800567707923, 0.04943400283853962, 0.04943400283853962, 0.1423296789531492, 0.3321025842240148, 0.1423296789531492, 0.1423296789531492, 0.0948864526354328, 0.1423296789531492, 0.4462769548397535, 0.4462769548397535, 0.3111646877082002, 0.1778083929761144, 0.0889041964880572, 0.0444520982440286, 0.22226049122014302, 0.0444520982440286, 0.1333562947320858, 0.8392913549276234, 0.13407610120454178, 0.20111415180681266, 0.16759512650567723, 0.10055707590340633, 0.26815220240908355, 0.033519025301135444, 0.033519025301135444, 0.06703805060227089, 0.2868073440673965, 0.15933741337077584, 0.0956024480224655, 0.12746993069662066, 0.15933741337077584, 0.12746993069662066, 0.031867482674155165, 0.031867482674155165, 0.031867482674155165, 0.15599793296392525, 0.15599793296392525, 0.623991731855701, 0.8392913549089955, 0.6976520899370161, 0.86611814903754, 0.9048486018908414, 0.7210606083053659, 0.9048486018922701, 0.10496420378484665, 0.10496420378484665, 0.2099284075696933, 0.052482101892423326, 0.3673747132469633, 0.052482101892423326, 0.10496420378484665, 0.052482101892423326, 0.8354782085237423, 0.6248992611090627, 0.2082997537030209, 0.6689307880615917, 0.4606461435117798, 0.830770298081786, 0.24079025702032064, 0.28894830842438474, 0.04815805140406412, 0.04815805140406412, 0.28894830842438474, 0.09631610280812825, 0.18013377272842473, 0.09006688636421237, 0.5404013181852741, 0.18013377272842473, 0.09006688636421237, 0.19005009039505832, 0.09502504519752916, 0.47512522598764584, 0.09502504519752916, 0.09502504519752916, 0.8097800964150718, 0.6689307880620159, 0.9046616798575287, 0.668930788062014, 0.8245821503076656, 0.6834830783479182, 0.09764043976398831, 0.19528087952797663, 0.09764043976398831, 0.23312557123834343, 0.0815939499334202, 0.1631878998668404, 0.23312557123834343, 0.17484417842875757, 0.05828139280958586, 0.011656278561917172, 0.023312557123834343, 0.023312557123834343, 0.830770304811163, 0.8354782085268733, 0.9048486018966668, 0.6476204707946945, 0.2494944793230024, 0.4989889586460048, 0.18808303729666853, 0.18808303729666853, 0.18808303729666853, 0.37616607459333706, 0.6476204707946945, 0.22481651048009912, 0.22481651048009912, 0.44963302096019825, 0.12782971266249263, 0.12782971266249263, 0.12782971266249263, 0.6391485633124632, 0.6178302300318597, 0.15445755750796492, 0.15445755750796492, 0.809780096414025, 0.223071473122362, 0.223071473122362, 0.446142946244724, 0.9048482183740865, 0.7483904906680842, 0.6689307880627021, 0.6177373106780031, 0.20591243689266772, 0.06478735214154589, 0.06478735214154589, 0.19436205642463766, 0.06478735214154589, 0.12957470428309179, 0.12957470428309179, 0.06478735214154589, 0.25914940856618357, 0.2046748582374609, 0.08186994329498437, 0.040934971647492185, 0.16373988658996874, 0.12280491494247654, 0.2046748582374609, 0.08186994329498437, 0.08186994329498437, 0.040934971647492185, 0.6476204707946945, 0.6779802488573372, 0.8362407784951547, 0.33594597039452256, 0.33594597039452256, 0.1663202941780171, 0.1663202941780171, 0.4989608825340513, 0.1663202941780171, 0.15767198675028968, 0.15767198675028968, 0.5518519536260139, 0.07883599337514484, 0.07883599337514484, 0.07883599337514484, 0.6690329824651235, 0.1959900770797592, 0.1959900770797592, 0.3919801541595184, 0.0979950385398796, 0.0979950385398796, 0.8362407784920838, 0.09650694056563035, 0.1286759207541738, 0.0643379603770869, 0.1286759207541738, 0.2573518415083476, 0.16084490094271725, 0.0643379603770869, 0.09650694056563035, 0.03216898018854345, 0.12852368533597675, 0.10710307111331396, 0.08568245689065117, 0.12852368533597675, 0.19278552800396512, 0.08568245689065117, 0.12852368533597675, 0.042841228445325584, 0.042841228445325584, 0.08568245689065117, 0.8307702981101425, 0.8307702981072181, 0.19889258611969096, 0.07458471979488411, 0.07458471979488411, 0.09944629305984548, 0.04972314652992274, 0.1740310128547296, 0.12430786632480685, 0.02486157326496137, 0.1740310128547296, 0.02486157326496137, 0.8097800964242733, 0.07381404797737008, 0.07381404797737008, 0.22144214393211023, 0.14762809595474016, 0.44288428786422046, 0.14762809595474016, 0.8392913549089775, 0.13366165314172154, 0.06683082657086077, 0.4678157859960254, 0.13366165314172154, 0.13366165314172154, 0.06683082657086077, 0.8661181490375662, 0.8362407784787836, 0.3087408819270808, 0.04410584027529726, 0.04410584027529726, 0.13231752082589177, 0.2205292013764863, 0.13231752082589177, 0.04410584027529726, 0.04410584027529726, 0.04410584027529726, 0.3569273971370187, 0.050989628162431244, 0.15296888448729373, 0.10197925632486249, 0.30593776897458747, 0.050989628162431244, 0.7483904906675877, 0.256485496796278, 0.512970993592556, 0.8392913549078329, 0.8392913549400439, 0.20665320491699543, 0.10332660245849772, 0.10332660245849772, 0.10332660245849772, 0.10332660245849772, 0.10332660245849772, 0.41330640983399086, 0.835478208521796, 0.8245821503073812, 0.8245821503047579, 0.677980248857564, 0.8661181490375791, 0.21992479954900723, 0.12095863975195396, 0.24191727950390793, 0.10996239977450362, 0.13195487972940434, 0.06597743986470217, 0.05498119988725181, 0.021992479954900723, 0.04398495990980145, 0.21998612177381718, 0.18855953294898617, 0.06285317764966206, 0.18855953294898617, 0.1257063552993241, 0.06285317764966206, 0.03142658882483103, 0.1257063552993241, 0.19860282028045362, 0.11033490015580757, 0.24273678034277665, 0.08826792012464606, 0.06620094009348454, 0.11033490015580757, 0.022066980031161514, 0.13240188018696908, 0.04413396006232303, 0.1190165178578769, 0.14877064732234613, 0.20827890625128456, 0.04463119419670383, 0.16364771205458073, 0.1190165178578769, 0.10413945312564228, 0.05950825892893845, 0.014877064732234612, 0.6382799646031696, 0.21275998820105654, 0.6254014014398598, 0.9046616798438964, 0.6779802488573372, 0.03526412141774025, 0.141056485670961, 0.0705282428354805, 0.17632060708870123, 0.35264121417740246, 0.0705282428354805, 0.141056485670961, 0.03526412141774025, 0.8354782085240143, 0.619435931659026, 0.20647864388634202, 0.6690329824651235, 0.9049307160611554, 0.9048486018954617, 0.15821724066609605, 0.2373258609991441, 0.15821724066609605, 0.39554310166524015, 0.07910862033304802, 0.16114454391880859, 0.20718584218132532, 0.20718584218132532, 0.09208259652503348, 0.11510324565629185, 0.11510324565629185, 0.04604129826251674, 0.06906194739377511, 0.02302064913125837, 0.8307702981039704, 0.13179646655783922, 0.26359293311567844, 0.13179646655783922, 0.09414033325559944, 0.1506245332089591, 0.05648419995335967, 0.07531226660447955, 0.07531226660447955, 0.018828066651119888, 0.6476204707946945, 0.6690329824651235, 0.12470565370792748, 0.06235282685396374, 0.1870584805618912, 0.5611754416856737, 0.06235282685396374, 0.06235282685396374, 0.8362407785075983, 0.08983182355582577, 0.17966364711165153, 0.17966364711165153, 0.44915911777912887, 0.08983182355582577, 0.08983182355582577, 0.9312232325889506, 0.8245821503445184, 0.8245821503095873, 0.8097800964264114, 0.8354782085199357, 0.2550197314546391, 0.14876151001520613, 0.08500657715154637, 0.17001315430309275, 0.12750986572731954, 0.12750986572731954, 0.06375493286365977, 0.021251644287886593, 0.021251644287886593, 0.839291354912976, 0.12359757163579033, 0.1853963574536855, 0.370792714907371, 0.24719514327158065, 0.12359757163579033, 0.08499609300386256, 0.3116523410141627, 0.08499609300386256, 0.05666406200257504, 0.25498827901158766, 0.05666406200257504, 0.05666406200257504, 0.05666406200257504, 0.02833203100128752, 0.02833203100128752, 0.048572424355921864, 0.14571727306776558, 0.19428969742368746, 0.09714484871184373, 0.19428969742368746, 0.14571727306776558, 0.048572424355921864, 0.14571727306776558, 0.836240778479467, 0.6279618803994711], \"Term\": [\"abusing\", \"access\", \"access\", \"access\", \"access\", \"access\", \"access\", \"access\", \"access\", \"access\", \"accessible\", \"account\", \"account\", \"account\", \"account\", \"account\", \"account\", \"account\", \"account\", \"account\", \"account\", \"accurate\", \"accurate\", \"accurate\", \"aced\", \"act\", \"act\", \"actors\", \"actors\", \"actors\", \"actors\", \"actually\", \"actually\", \"actually\", \"actually\", \"actually\", \"actually\", \"actually\", \"actually\", \"actually\", \"adapting\", \"address\", \"addressing\", \"advance\", \"adverts\", \"affairs\", \"agentic\", \"agents\", \"agi\", \"agi\", \"agi\", \"agi\", \"agi\", \"agi\", \"agi\", \"agi\", \"agi\", \"agi\", \"agree\", \"agree\", \"agree\", \"agree\", \"agree\", \"agree\", \"aider\", \"ais\", \"ais\", \"ais\", \"ais\", \"alex\", \"alive\", \"allowed\", \"allowed\", \"alternatives\", \"altman\", \"altman\", \"altman\", \"altman\", \"altman\", \"altman\", \"altman\", \"amended\", \"ancient\", \"anna\", \"answer\", \"answer\", \"answer\", \"answer\", \"answer\", \"answer\", \"answer\", \"answers\", \"answers\", \"answers\", \"answers\", \"anthropic\", \"anthropic\", \"anthropic\", \"anthropic\", \"anthropic\", \"anthropic\", \"anthropic\", \"anthropic\", \"anxious\", \"apartment\", \"api\", \"api\", \"api\", \"api\", \"api\", \"api\", \"api\", \"api\", \"api\", \"appeal\", \"application\", \"application\", \"areas\", \"asi\", \"asi\", \"asi\", \"aside\", \"assignment\", \"assistants\", \"attempting\", \"attempts\", \"audio\", \"audio\", \"audio\", \"available\", \"available\", \"available\", \"available\", \"available\", \"available\", \"available\", \"available\", \"avm\", \"background\", \"bad\", \"bad\", \"bad\", \"bad\", \"bad\", \"bad\", \"bad\", \"bad\", \"banned\", \"banned\", \"banned\", \"banned\", \"banned\", \"bard\", \"bard\", \"based\", \"based\", \"based\", \"based\", \"based\", \"based\", \"beating\", \"benchmarks\", \"benchmarks\", \"benchmarks\", \"best\", \"best\", \"best\", \"best\", \"best\", \"best\", \"best\", \"best\", \"best\", \"better\", \"better\", \"better\", \"better\", \"better\", \"better\", \"better\", \"better\", \"better\", \"big\", \"big\", \"big\", \"big\", \"big\", \"billing\", \"billing\", \"blame\", \"blocks\", \"blowing\", \"brave\", \"brings\", \"browsing\", \"browsing\", \"bug\", \"bug\", \"bug\", \"bug\", \"buggy\", \"business\", \"business\", \"business\", \"business\", \"business\", \"business\", \"butthurt\", \"button\", \"cake\", \"cancelled\", \"capabilities\", \"capabilities\", \"capabilities\", \"capabilities\", \"capabilities\", \"capabilities\", \"capped\", \"card\", \"cards\", \"caring\", \"censorship\", \"censorship\", \"censorship\", \"censorship\", \"censorship\", \"censorship\", \"censorship\", \"censorship\", \"censorship\", \"censorship\", \"center\", \"charged\", \"charges\", \"charges\", \"chatgpt\", \"chatgpt\", \"chatgpt\", \"chatgpt\", \"chatgpt\", \"chatgpt\", \"chatgpt\", \"chatgpt\", \"chatgpt\", \"chatgpt\", \"chatgtp\", \"chatted\", \"china\", \"china\", \"china\", \"china\", \"china\", \"china\", \"chinese\", \"chinese\", \"chinese\", \"chinese\", \"chinese\", \"chinese\", \"chinese\", \"chips\", \"claims\", \"claims\", \"claims\", \"claims\", \"clients\", \"clips\", \"close\", \"close\", \"close\", \"close\", \"close\", \"closed\", \"closed\", \"closed\", \"closed\", \"closed\", \"closed\", \"clue\", \"code\", \"code\", \"code\", \"code\", \"code\", \"code\", \"code\", \"code\", \"code\", \"coding\", \"coding\", \"coding\", \"coding\", \"combat\", \"comments\", \"comments\", \"comments\", \"comments\", \"commit\", \"companies\", \"companies\", \"companies\", \"companies\", \"companies\", \"companies\", \"companies\", \"company\", \"company\", \"company\", \"company\", \"company\", \"company\", \"company\", \"company\", \"company\", \"compete\", \"complaining\", \"complaining\", \"complaining\", \"complaining\", \"comprehensive\", \"compute\", \"compute\", \"compute\", \"compute\", \"compute\", \"concerted\", \"conduct\", \"confirmation\", \"conservative\", \"consistenly\", \"contact\", \"contact\", \"contact\", \"contact\", \"contend\", \"content\", \"content\", \"content\", \"content\", \"content\", \"content\", \"content\", \"contract\", \"cookies\", \"copyright\", \"copyright\", \"copyright\", \"copyright\", \"copyright\", \"copyright\", \"copyrighted\", \"copyrighted\", \"copyrighted\", \"copyrighted\", \"copyrighted\", \"country\", \"country\", \"country\", \"court\", \"court\", \"court\", \"court\", \"crap\", \"crap\", \"crap\", \"crimes\", \"crucify\", \"cultural\", \"current\", \"current\", \"current\", \"current\", \"custom\", \"custom\", \"custom\", \"customer\", \"customer\", \"customer\", \"customer\", \"damn\", \"damn\", \"damn\", \"damn\", \"data\", \"data\", \"data\", \"data\", \"data\", \"data\", \"data\", \"data\", \"data\", \"data\", \"dataset\", \"davinci\", \"dead\", \"dead\", \"deception\", \"deepseek\", \"deepseek\", \"deepseek\", \"deepseek\", \"deepseek\", \"deepseek\", \"deepseek\", \"deepseek\", \"defendants\", \"demo\", \"demo\", \"demo\", \"demo\", \"devs\", \"did\", \"did\", \"did\", \"did\", \"did\", \"did\", \"did\", \"did\", \"did\", \"did\", \"disaster\", \"disaster\", \"disclose\", \"disinformation\", \"distilled\", \"dodge\", \"does\", \"does\", \"does\", \"does\", \"does\", \"does\", \"does\", \"does\", \"does\", \"does\", \"dollars\", \"doubt\", \"doubt\", \"doubt\", \"drops\", \"ea\", \"editing\", \"effort\", \"effort\", \"elliot\", \"elon\", \"elon\", \"elon\", \"elon\", \"elon\", \"elon\", \"elons\", \"email\", \"email\", \"email\", \"email\", \"email\", \"empower\", \"ending\", \"entered\", \"exact\", \"exact\", \"exact\", \"exact\", \"exam\", \"excuse\", \"exist\", \"exist\", \"exist\", \"exist\", \"experimentation\", \"explains\", \"extremely\", \"extremely\", \"extremely\", \"eyes\", \"failed\", \"failed\", \"failed\", \"fake\", \"fake\", \"fake\", \"fake\", \"false\", \"fancy\", \"far\", \"far\", \"far\", \"far\", \"far\", \"far\", \"far\", \"far\", \"feel\", \"feel\", \"feel\", \"feel\", \"feel\", \"feel\", \"feel\", \"feels\", \"feels\", \"feels\", \"feels\", \"feels\", \"feels\", \"feels\", \"feels\", \"filing\", \"filtering\", \"fine\", \"fine\", \"fine\", \"fine\", \"fine\", \"fine\", \"fine\", \"fix\", \"fix\", \"fix\", \"fix\", \"folks\", \"folks\", \"folks\", \"foreign\", \"forgot\", \"fran\", \"francisco\", \"free\", \"free\", \"free\", \"free\", \"free\", \"free\", \"free\", \"free\", \"free\", \"freedom\", \"freelance\", \"frontend\", \"furthering\", \"gaslighted\", \"gemini\", \"gemini\", \"gemini\", \"gemini\", \"gemini\", \"gemini\", \"gemini\", \"gems\", \"generating\", \"generation\", \"generation\", \"generation\", \"generator\", \"generator\", \"generator\", \"gets\", \"gets\", \"gets\", \"gets\", \"gets\", \"gets\", \"gets\", \"getting\", \"getting\", \"getting\", \"getting\", \"getting\", \"getting\", \"getting\", \"getting\", \"getting\", \"getting\", \"giant\", \"gigantic\", \"glaser\", \"global\", \"global\", \"glorifying\", \"going\", \"going\", \"going\", \"going\", \"going\", \"going\", \"going\", \"going\", \"going\", \"good\", \"good\", \"good\", \"good\", \"good\", \"good\", \"good\", \"good\", \"good\", \"good\", \"google\", \"google\", \"google\", \"google\", \"google\", \"google\", \"google\", \"google\", \"got\", \"got\", \"got\", \"got\", \"got\", \"got\", \"got\", \"got\", \"got\", \"gpt\", \"gpt\", \"gpt\", \"gpt\", \"gpt\", \"gpt\", \"gpt\", \"gpt\", \"gpt\", \"gpt\", \"gptsearch\", \"grab\", \"groundbreaking\", \"grounds\", \"groups\", \"guide\", \"guilty\", \"haiku\", \"happens\", \"happens\", \"happens\", \"happens\", \"happens\", \"happens\", \"having\", \"having\", \"having\", \"having\", \"having\", \"having\", \"having\", \"helen\", \"help\", \"help\", \"help\", \"help\", \"help\", \"help\", \"help\", \"help\", \"help\", \"help\", \"helps\", \"hid\", \"hundreds\", \"hype\", \"hype\", \"hype\", \"hype\", \"hype\", \"hype\", \"hype\", \"iam\", \"illustrations\", \"impressed\", \"improving\", \"inclusion\", \"incredibly\", \"incredibly\", \"incredibly\", \"incredibly\", \"incredibly\", \"independently\", \"industries\", \"infiltrated\", \"info\", \"info\", \"info\", \"info\", \"innovation\", \"innovation\", \"innovation\", \"insanely\", \"inside\", \"institutions\", \"instruction\", \"internet\", \"internet\", \"internet\", \"internet\", \"internet\", \"internet\", \"internet\", \"internet\", \"interview\", \"invalid\", \"invoices\", \"ios\", \"issue\", \"issue\", \"issue\", \"issue\", \"issue\", \"issue\", \"issue\", \"issue\", \"jim\", \"johanssen\", \"just\", \"just\", \"just\", \"just\", \"just\", \"just\", \"just\", \"just\", \"just\", \"just\", \"know\", \"know\", \"know\", \"know\", \"know\", \"know\", \"know\", \"know\", \"know\", \"know\", \"lack\", \"lack\", \"lack\", \"lack\", \"lack\", \"lack\", \"language\", \"language\", \"language\", \"language\", \"language\", \"late\", \"laughably\", \"law\", \"law\", \"lawsuit\", \"lawsuit\", \"lawsuit\", \"lawsuit\", \"laziness\", \"leak\", \"left\", \"left\", \"legal\", \"legal\", \"legal\", \"legal\", \"lesbian\", \"levels\", \"like\", \"like\", \"like\", \"like\", \"like\", \"like\", \"like\", \"like\", \"like\", \"like\", \"lines\", \"lines\", \"links\", \"llama\", \"lmfao\", \"locking\", \"loses\", \"lot\", \"lot\", \"lot\", \"lot\", \"lot\", \"lot\", \"lot\", \"lot\", \"lot\", \"lowering\", \"machine\", \"machine\", \"maintains\", \"maintenance\", \"makanju\", \"make\", \"make\", \"make\", \"make\", \"make\", \"make\", \"make\", \"make\", \"make\", \"managed\", \"mandated\", \"map\", \"marble\", \"markdown\", \"mathematician\", \"meltdown\", \"mention\", \"message\", \"message\", \"message\", \"message\", \"message\", \"microsoft\", \"microsoft\", \"microsoft\", \"microsoft\", \"microsoft\", \"microsoft\", \"microsoft\", \"microsoft\", \"microsoft\", \"military\", \"minders\", \"mini\", \"mini\", \"mini\", \"mini\", \"mini\", \"minors\", \"mode\", \"mode\", \"mode\", \"model\", \"model\", \"model\", \"model\", \"model\", \"model\", \"model\", \"model\", \"model\", \"model\", \"models\", \"models\", \"models\", \"models\", \"models\", \"models\", \"models\", \"models\", \"models\", \"models\", \"money\", \"money\", \"money\", \"money\", \"money\", \"money\", \"money\", \"money\", \"money\", \"monopolistic\", \"month\", \"month\", \"month\", \"month\", \"month\", \"month\", \"month\", \"musk\", \"musk\", \"musk\", \"musk\", \"musk\", \"musk\", \"nagging\", \"native\", \"need\", \"need\", \"need\", \"need\", \"need\", \"need\", \"need\", \"need\", \"need\", \"need\", \"nerds\", \"new\", \"new\", \"new\", \"new\", \"new\", \"new\", \"new\", \"new\", \"new\", \"new\", \"non\", \"non\", \"non\", \"non\", \"non\", \"non\", \"non\", \"non\", \"noted\", \"np\", \"number\", \"number\", \"number\", \"number\", \"number\", \"nvidia\", \"nvidia\", \"nvidia\", \"nvidia\", \"objectively\", \"offer\", \"office\", \"office\", \"open\", \"open\", \"open\", \"open\", \"open\", \"open\", \"open\", \"open\", \"open\", \"open\", \"opensource\", \"opensource\", \"openstreet\", \"operational\", \"operator\", \"opus\", \"output\", \"output\", \"output\", \"output\", \"output\", \"output\", \"output\", \"outputs\", \"outputs\", \"outputs\", \"overload\", \"oversight\", \"packages\", \"palm\", \"papers\", \"parameters\", \"passwords\", \"pasted\", \"pay\", \"pay\", \"pay\", \"pay\", \"pay\", \"pay\", \"pay\", \"pay\", \"pay\", \"paypouts\", \"people\", \"people\", \"people\", \"people\", \"people\", \"people\", \"people\", \"people\", \"people\", \"people\", \"persona\", \"perspective\", \"phone\", \"phone\", \"phone\", \"phone\", \"pick\", \"pick\", \"place\", \"place\", \"place\", \"plaintiffs\", \"plugin\", \"posted\", \"posted\", \"practices\", \"practices\", \"practices\", \"president\", \"preview\", \"preview\", \"preview\", \"preview\", \"preview\", \"private\", \"private\", \"pro\", \"pro\", \"pro\", \"pro\", \"pro\", \"pro\", \"pro\", \"pro\", \"problem\", \"problem\", \"problem\", \"problem\", \"problem\", \"problem\", \"problem\", \"problem\", \"problem\", \"problem\", \"processing\", \"product\", \"product\", \"product\", \"product\", \"product\", \"product\", \"product\", \"product\", \"product\", \"product\", \"profit\", \"profit\", \"profit\", \"profit\", \"profit\", \"profit\", \"profit\", \"program\", \"promote\", \"proper\", \"proprietary\", \"proprietary\", \"proprietary\", \"provider\", \"published\", \"published\", \"published\", \"published\", \"putting\", \"putting\", \"putting\", \"putting\", \"quality\", \"quality\", \"quality\", \"quality\", \"quality\", \"quality\", \"quality\", \"questionable\", \"quite\", \"quite\", \"quite\", \"quite\", \"quotes\", \"rate\", \"rate\", \"rate\", \"rate\", \"rate\", \"reach\", \"real\", \"real\", \"real\", \"real\", \"real\", \"real\", \"real\", \"real\", \"realistic\", \"realize\", \"realize\", \"really\", \"really\", \"really\", \"really\", \"really\", \"really\", \"really\", \"really\", \"really\", \"recover\", \"redis\", \"reflection\", \"refusal\", \"regulating\", \"regulator\", \"release\", \"release\", \"release\", \"release\", \"release\", \"release\", \"release\", \"release\", \"released\", \"released\", \"released\", \"released\", \"released\", \"released\", \"released\", \"rendered\", \"repeated\", \"replacement\", \"replying\", \"reporting\", \"reports\", \"reports\", \"reports\", \"reports\", \"reports\", \"representations\", \"research\", \"research\", \"research\", \"research\", \"response\", \"response\", \"response\", \"response\", \"response\", \"result\", \"result\", \"result\", \"resulting\", \"results\", \"results\", \"results\", \"results\", \"results\", \"results\", \"results\", \"results\", \"results\", \"return\", \"return\", \"return\", \"return\", \"returned\", \"returns\", \"reviews\", \"reviews\", \"revoke\", \"rewrite\", \"ridiculous\", \"ridiculous\", \"ridiculous\", \"ridiculous\", \"ridiculous\", \"right\", \"right\", \"right\", \"right\", \"right\", \"right\", \"right\", \"right\", \"right\", \"roll\", \"roll\", \"rolled\", \"run\", \"run\", \"run\", \"run\", \"run\", \"run\", \"run\", \"run\", \"safety\", \"safety\", \"safety\", \"safety\", \"safety\", \"safety\", \"sales\", \"sales\", \"sam\", \"sam\", \"sam\", \"sam\", \"sam\", \"sam\", \"sam\", \"san\", \"say\", \"say\", \"say\", \"say\", \"say\", \"say\", \"say\", \"say\", \"says\", \"says\", \"says\", \"says\", \"says\", \"says\", \"says\", \"says\", \"says\", \"scale\", \"scale\", \"scale\", \"scaling\", \"scam\", \"scarjo\", \"scenes\", \"schema\", \"scumbags\", \"search\", \"search\", \"search\", \"search\", \"search\", \"search\", \"search\", \"search\", \"select\", \"sent\", \"sent\", \"sge\", \"sh\", \"shared\", \"shit\", \"shit\", \"shit\", \"shit\", \"shit\", \"shit\", \"similar\", \"similar\", \"similar\", \"similar\", \"similar\", \"single\", \"single\", \"single\", \"single\", \"single\", \"size\", \"sky\", \"skynet\", \"slack\", \"slower\", \"solve\", \"solve\", \"solve\", \"solve\", \"source\", \"source\", \"source\", \"source\", \"source\", \"source\", \"source\", \"source\", \"source\", \"spamming\", \"speak\", \"spokesperson\", \"staged\", \"stealing\", \"stealing\", \"step\", \"step\", \"step\", \"step\", \"stifle\", \"stock\", \"stock\", \"stock\", \"stole\", \"stole\", \"stole\", \"stole\", \"story\", \"story\", \"story\", \"strings\", \"studio\", \"studio\", \"studio\", \"subsidiary\", \"subtitles\", \"successfully\", \"suicide\", \"suicide\", \"support\", \"support\", \"support\", \"support\", \"support\", \"support\", \"support\", \"support\", \"sure\", \"sure\", \"sure\", \"sure\", \"sure\", \"sure\", \"sure\", \"sure\", \"sure\", \"surveillance\", \"sutskever\", \"sword\", \"tariffs\", \"tariffs\", \"tax\", \"tax\", \"tax\", \"tax\", \"team\", \"team\", \"team\", \"team\", \"team\", \"team\", \"terrifying\", \"test\", \"test\", \"test\", \"test\", \"test\", \"th\", \"thing\", \"thing\", \"thing\", \"thing\", \"thing\", \"thing\", \"thing\", \"thing\", \"thing\", \"think\", \"think\", \"think\", \"think\", \"think\", \"think\", \"think\", \"think\", \"think\", \"think\", \"thoroughly\", \"threatens\", \"time\", \"time\", \"time\", \"time\", \"time\", \"time\", \"time\", \"time\", \"time\", \"time\", \"timeline\", \"times\", \"times\", \"times\", \"times\", \"times\", \"times\", \"timing\", \"train\", \"train\", \"train\", \"train\", \"train\", \"train\", \"transparency\", \"trick\", \"tried\", \"tried\", \"tried\", \"tried\", \"tried\", \"tried\", \"tried\", \"tried\", \"tried\", \"try\", \"try\", \"try\", \"try\", \"try\", \"try\", \"tts\", \"uber\", \"uber\", \"uk\", \"ukraine\", \"understand\", \"understand\", \"understand\", \"understand\", \"understand\", \"understand\", \"understand\", \"understood\", \"universal\", \"unlawful\", \"unverified\", \"uploading\", \"use\", \"use\", \"use\", \"use\", \"use\", \"use\", \"use\", \"use\", \"use\", \"used\", \"used\", \"used\", \"used\", \"used\", \"used\", \"used\", \"used\", \"users\", \"users\", \"users\", \"users\", \"users\", \"users\", \"users\", \"users\", \"users\", \"using\", \"using\", \"using\", \"using\", \"using\", \"using\", \"using\", \"using\", \"using\", \"ux\", \"ux\", \"variants\", \"verification\", \"verified\", \"version\", \"version\", \"version\", \"version\", \"version\", \"version\", \"version\", \"version\", \"versions\", \"versus\", \"versus\", \"vice\", \"violating\", \"vps\", \"wait\", \"wait\", \"wait\", \"wait\", \"wait\", \"want\", \"want\", \"want\", \"want\", \"want\", \"want\", \"want\", \"want\", \"want\", \"warn\", \"way\", \"way\", \"way\", \"way\", \"way\", \"way\", \"way\", \"way\", \"way\", \"weaponizing\", \"weapons\", \"web\", \"web\", \"web\", \"web\", \"web\", \"web\", \"weights\", \"weird\", \"weird\", \"weird\", \"weird\", \"weird\", \"weird\", \"western\", \"whistleblowers\", \"wider\", \"wild\", \"wind\", \"work\", \"work\", \"work\", \"work\", \"work\", \"work\", \"work\", \"work\", \"work\", \"worked\", \"works\", \"works\", \"works\", \"works\", \"works\", \"worse\", \"worse\", \"worse\", \"worse\", \"worse\", \"worse\", \"worse\", \"worse\", \"worse\", \"worse\", \"wrong\", \"wrong\", \"wrong\", \"wrong\", \"wrong\", \"wrong\", \"wrong\", \"wrong\", \"yada\", \"york\"]}, \"R\": 30, \"lambda.step\": 0.5, \"plot.opts\": {\"xlab\": \"PC1\", \"ylab\": \"PC2\"}, \"topic.order\": [5, 3, 2, 10, 1, 8, 7, 9, 6, 4]};\n",
       "\n",
       "function LDAvis_load_lib(url, callback){\n",
       "  var s = document.createElement('script');\n",
       "  s.src = url;\n",
       "  s.async = true;\n",
       "  s.onreadystatechange = s.onload = callback;\n",
       "  s.onerror = function(){console.warn(\"failed to load library \" + url);};\n",
       "  document.getElementsByTagName(\"head\")[0].appendChild(s);\n",
       "}\n",
       "\n",
       "if(typeof(LDAvis) !== \"undefined\"){\n",
       "   // already loaded: just create the visualization\n",
       "   !function(LDAvis){\n",
       "       new LDAvis(\"#\" + \"ldavis_el97491350046525542725389688885\", ldavis_el97491350046525542725389688885_data);\n",
       "   }(LDAvis);\n",
       "}else if(typeof define === \"function\" && define.amd){\n",
       "   // require.js is available: use it to load d3/LDAvis\n",
       "   require.config({paths: {d3: \"https://d3js.org/d3.v5\"}});\n",
       "   require([\"d3\"], function(d3){\n",
       "      window.d3 = d3;\n",
       "      LDAvis_load_lib(\"https://cdn.jsdelivr.net/gh/bmabey/pyLDAvis@3.4.0/pyLDAvis/js/ldavis.v3.0.0.js\", function(){\n",
       "        new LDAvis(\"#\" + \"ldavis_el97491350046525542725389688885\", ldavis_el97491350046525542725389688885_data);\n",
       "      });\n",
       "    });\n",
       "}else{\n",
       "    // require.js not available: dynamically load d3 & LDAvis\n",
       "    LDAvis_load_lib(\"https://d3js.org/d3.v5.js\", function(){\n",
       "         LDAvis_load_lib(\"https://cdn.jsdelivr.net/gh/bmabey/pyLDAvis@3.4.0/pyLDAvis/js/ldavis.v3.0.0.js\", function(){\n",
       "                 new LDAvis(\"#\" + \"ldavis_el97491350046525542725389688885\", ldavis_el97491350046525542725389688885_data);\n",
       "            })\n",
       "         });\n",
       "}\n",
       "</script>"
      ],
      "text/plain": [
       "PreparedData(topic_coordinates=              x         y  topics  cluster       Freq\n",
       "topic                                                \n",
       "4      0.073339  0.012389       1        1  15.123146\n",
       "2      0.027609  0.037058       2        1  12.954782\n",
       "1      0.038413  0.004449       3        1  12.216763\n",
       "9      0.057674 -0.017290       4        1  11.407694\n",
       "0      0.057042  0.049033       5        1  11.343250\n",
       "7     -0.050080  0.089542       6        1  11.049096\n",
       "6      0.042049 -0.099444       7        1   8.236038\n",
       "8     -0.079379 -0.009546       8        1   6.114489\n",
       "5     -0.073664 -0.111203       9        1   6.017033\n",
       "3     -0.093002  0.045011      10        1   5.537708, topic_info=         Term        Freq       Total Category  logprob  loglift\n",
       "3306   profit   35.000000   35.000000  Default  30.0000  30.0000\n",
       "1873   google   60.000000   60.000000  Default  29.0000  29.0000\n",
       "23     access   40.000000   40.000000  Default  28.0000  28.0000\n",
       "211       api   80.000000   80.000000  Default  27.0000  27.0000\n",
       "2917     open  139.000000  139.000000  Default  26.0000  26.0000\n",
       "...       ...         ...         ...      ...      ...      ...\n",
       "2736   models    2.969315   75.264445  Topic10  -5.8399  -0.3391\n",
       "1869    going    2.967487   56.665406  Topic10  -5.8405  -0.0559\n",
       "680   chinese    2.853274   18.100909  Topic10  -5.8798   1.0461\n",
       "1969   having    2.853224   12.289465  Topic10  -5.8798   1.4333\n",
       "4811    wrong    2.853221   20.587813  Topic10  -5.8798   0.9173\n",
       "\n",
       "[716 rows x 6 columns], token_table=      Topic      Freq     Term\n",
       "term                          \n",
       "15        7  0.866118  abusing\n",
       "23        1  0.268663   access\n",
       "23        2  0.024424   access\n",
       "23        3  0.122120   access\n",
       "23        4  0.024424   access\n",
       "...     ...       ...      ...\n",
       "4811      6  0.145717    wrong\n",
       "4811      7  0.048572    wrong\n",
       "4811     10  0.145717    wrong\n",
       "4819      5  0.836241     yada\n",
       "4837      6  0.627962     york\n",
       "\n",
       "[1559 rows x 3 columns], R=30, lambda_step=0.5, plot_opts={'xlab': 'PC1', 'ylab': 'PC2'}, topic_order=[5, 3, 2, 10, 1, 8, 7, 9, 6, 4])"
      ]
     },
     "execution_count": 18,
     "metadata": {},
     "output_type": "execute_result"
    }
   ],
   "source": [
    "pyLDAvis.lda_model.prepare(neg_lda, neg_X, neg_vect, lambda_step=0.5)"
   ]
  },
  {
   "cell_type": "markdown",
   "metadata": {
    "id": "XM6Wu-rLYgJE"
   },
   "source": [
    "### LSA for Negative Reviews"
   ]
  },
  {
   "cell_type": "code",
   "execution_count": null,
   "metadata": {
    "id": "bRJOJbwLYHdE"
   },
   "outputs": [],
   "source": [
    "neg_lsa_model = TruncatedSVD(n_components=10, random_state=42)\n",
    "neg_lsa_document_topics = neg_lsa_model.fit_transform(neg_X)"
   ]
  },
  {
   "cell_type": "code",
   "execution_count": null,
   "metadata": {
    "colab": {
     "base_uri": "https://localhost:8080/"
    },
    "executionInfo": {
     "elapsed": 10,
     "status": "ok",
     "timestamp": 1739954712430,
     "user": {
      "displayName": "Anson George",
      "userId": "15855563631802224888"
     },
     "user_tz": -240
    },
    "id": "6vqfl2yuYVFA",
    "outputId": "f1798729-0943-4321-a1b5-8017852fc950"
   },
   "outputs": [
    {
     "name": "stdout",
     "output_type": "stream",
     "text": [
      "topic 0       topic 1       topic 2       topic 3       topic 4       topic 5       topic 6       topic 7       topic 8       topic 9       \n",
      "--------      --------      --------      --------      --------      --------      --------      --------      --------      --------      \n",
      "chatgpt       chatgpt       open          gpt           just          like          api           data          profit        code          \n",
      "like          api           chatgpt       api           code          chatgpt       use           profit        non           model         \n",
      "just          using         source        version       open          looks         data          gpt           free          profit        \n",
      "open          plus          deepseek      web           chatgpt       llms          models        microsoft     really        api           \n",
      "gpt           data          censorship    variants      source        feels         using         non           people        data          \n",
      "model         users         closed        worse         comments      sounds        access        company       agi           using         \n",
      "use           version       code          compared      like          preview       pay           italy         does          non           \n",
      "source        subscription  plus          app           issue         open          account       business      business      worse         \n",
      "api           free          models        results       feels         did           does          collection    got           does          \n",
      "models        think         data          users         say           agi           code          training      api           work          \n",
      "does          tools         error         chat          file          prompt        error         tax           going         business      \n",
      "really        does          language      smaller       tried         results       people        personal      make          return        \n",
      "free          error         tools         playground    text          sound         return        protection    did           make          \n",
      "better        used          subscription  noticed       post          providing     apis          big           models        comments      \n",
      "people        image         big           does          stop          human         usage         research      tax           chat          \n",
      "using         language      actors        switches      bad           response      information   make          pro           tax           \n",
      "code          web           italy         turbo         explanations  arc           fair          google        time          issue         \n",
      "data          account       dall          source        did           mini          web           agi           compute       used          \n",
      "going         says          censored      chatgpt       line          especially    user          ban           lot           error         \n",
      "way           access        run           account       stuff         researchers   limits        minors        know          information   \n",
      "\n",
      "\n"
     ]
    }
   ],
   "source": [
    "neg_lsa_sorting = np.argsort(neg_lsa_model.components_, axis=1)[:, ::-1]\n",
    "neg_lsa_feature_names = np.array(neg_vect.get_feature_names_out())\n",
    "\n",
    "mglearn.tools.print_topics(topics=range(10), feature_names=neg_lsa_feature_names, sorting=neg_lsa_sorting, topics_per_chunk=10, n_words=20)"
   ]
  },
  {
   "cell_type": "markdown",
   "metadata": {
    "id": "RF9o4WCxbA1u"
   },
   "source": [
    "The above keywords reveal several key topics related to user dissatisfaction with ChatGPT, API functionality, and issues surrounding accessibility and business practices."
   ]
  },
  {
   "cell_type": "markdown",
   "metadata": {
    "id": "v4GsR39HfIBj"
   },
   "source": [
    "### NNMF for Negative Reviews"
   ]
  },
  {
   "cell_type": "code",
   "execution_count": null,
   "metadata": {
    "id": "VK936UUaeciT"
   },
   "outputs": [],
   "source": [
    "neg_nmf_model = NMF(n_components=10, init='nndsvd', max_iter=80, random_state=42)\n",
    "neg_nfm_document_topics = neg_nmf_model.fit_transform(neg_X)"
   ]
  },
  {
   "cell_type": "code",
   "execution_count": null,
   "metadata": {
    "colab": {
     "base_uri": "https://localhost:8080/"
    },
    "executionInfo": {
     "elapsed": 9,
     "status": "ok",
     "timestamp": 1739954733483,
     "user": {
      "displayName": "Anson George",
      "userId": "15855563631802224888"
     },
     "user_tz": -240
    },
    "id": "gwU5js1Wen-L",
    "outputId": "e73788d7-64f2-4f76-9f4a-ea6c35e7ca73"
   },
   "outputs": [
    {
     "name": "stdout",
     "output_type": "stream",
     "text": [
      "topic 0       topic 1       topic 2       topic 3       topic 4       topic 5       topic 6       topic 7       topic 8       topic 9       \n",
      "--------      --------      --------      --------      --------      --------      --------      --------      --------      --------      \n",
      "model         chatgpt       open          gpt           just          like          api           data          profit        code          \n",
      "free          plus          source        worse         people        did           does          use           non           issue         \n",
      "better        using         models        users         really        agi           access        training      models        work          \n",
      "google        subscription  closed        variants      going         feels         use           italy         business      comments      \n",
      "deepseek      tools         censorship    chat          post          llms          version       collection    tax           error         \n",
      "models        think         deepseek      free          use           actually      using         using         research      people        \n",
      "use           language      use           app           want          sounds        pay           company       agi           did           \n",
      "good          account       run           compared      need          looks         pro           personal      make          lot           \n",
      "going         users         big           does          good          really        web           protection    dodge         way           \n",
      "new           image         bad           better        time          know          account       ban           capped        prompts       \n",
      "need          answer        people        results       text          feel          return        fair          moved         snippets      \n",
      "work          dall          anthropic     really        users         better        apis          minors        asi           stop          \n",
      "companies     version       guys          smaller       way           preview       usage         unlawful      companies     ask           \n",
      "released      bad           world         version       does          way           error         regulator     closed        tried         \n",
      "worse         says          good          custom        content       results       models        people        big           using         \n",
      "really        used          entirely      way           reddit        company       new           internet      mission       file          \n",
      "preview       free          change        switches      google        sound         really        microsoft     direction     pretty        \n",
      "want          problem       technology    paying        know          say           information   security      idea          means         \n",
      "make          plan          variants      actually      stuff         people        think         google        went          return        \n",
      "think         paid          going         thing         tech          look          token         privacy       folks         explanations  \n",
      "\n",
      "\n"
     ]
    }
   ],
   "source": [
    "neg_nfm_sorting = np.argsort(neg_nmf_model.components_, axis=1)[:, ::-1]\n",
    "neg_nfm_feature_names = np.array(neg_vect.get_feature_names_out())\n",
    "\n",
    "mglearn.tools.print_topics(topics=range(10), feature_names=neg_nfm_feature_names, sorting=neg_nfm_sorting, topics_per_chunk=10, n_words=20)"
   ]
  },
  {
   "cell_type": "markdown",
   "metadata": {
    "id": "IiGNMg6sbOmv"
   },
   "source": [
    "The above keywords reveal several key topics related to user dissatisfaction with ChatGPT, including performance issues, accessibility concerns, and business practices.\n",
    "\n",
    "Common topics of dissatisfaction include model performance issues, API problems, censorship, and accessibility issues related to subscriptions and business practices. Users also express competition from other models from Google and Microsoft."
   ]
  }
 ],
 "metadata": {
  "accelerator": "TPU",
  "colab": {
   "authorship_tag": "ABX9TyPC0IkeDN4dxKVBcOvhsURM",
   "gpuType": "V28",
   "mount_file_id": "1tIuNHRrktwmbq_UCLvrJVrMJjR8_BofI",
   "provenance": []
  },
  "kernelspec": {
   "display_name": "Python 3",
   "name": "python3"
  },
  "language_info": {
   "name": "python"
  }
 },
 "nbformat": 4,
 "nbformat_minor": 0
}
