{
 "cells": [
  {
   "cell_type": "markdown",
   "metadata": {},
   "source": [
    "## LABELLING THE DATASET - PART 2"
   ]
  },
  {
   "cell_type": "code",
   "execution_count": null,
   "metadata": {},
   "outputs": [],
   "source": [
    "%pip install transformers vaderSentiment"
   ]
  },
  {
   "cell_type": "code",
   "execution_count": 2,
   "metadata": {},
   "outputs": [
    {
     "name": "stderr",
     "output_type": "stream",
     "text": [
      "c:\\Users\\Jonathan\\Desktop\\F20AA - Applied Text Analytics\\CW1\\F20AA_Grp5\\.venv\\Lib\\site-packages\\tqdm\\auto.py:21: TqdmWarning: IProgress not found. Please update jupyter and ipywidgets. See https://ipywidgets.readthedocs.io/en/stable/user_install.html\n",
      "  from .autonotebook import tqdm as notebook_tqdm\n"
     ]
    }
   ],
   "source": [
    "import pandas as pd\n",
    "from transformers import pipeline\n",
    "from vaderSentiment.vaderSentiment import SentimentIntensityAnalyzer"
   ]
  },
  {
   "cell_type": "markdown",
   "metadata": {},
   "source": [
    "### 1. Labelling with RoBERTa based sentiment analysis model"
   ]
  },
  {
   "cell_type": "code",
   "execution_count": 2,
   "metadata": {},
   "outputs": [],
   "source": [
    "# Read the selected data\n",
    "selected_data = pd.read_csv('../Data/selected_data.csv')"
   ]
  },
  {
   "cell_type": "code",
   "execution_count": 3,
   "metadata": {},
   "outputs": [
    {
     "name": "stdout",
     "output_type": "stream",
     "text": [
      "WARNING:tensorflow:From C:\\Users\\User\\AppData\\Local\\Packages\\PythonSoftwareFoundation.Python.3.12_qbz5n2kfra8p0\\LocalCache\\local-packages\\Python312\\site-packages\\tf_keras\\src\\losses.py:2976: The name tf.losses.sparse_softmax_cross_entropy is deprecated. Please use tf.compat.v1.losses.sparse_softmax_cross_entropy instead.\n",
      "\n"
     ]
    },
    {
     "name": "stderr",
     "output_type": "stream",
     "text": [
      "Some weights of the model checkpoint at cardiffnlp/twitter-roberta-base-sentiment-latest were not used when initializing RobertaForSequenceClassification: ['roberta.pooler.dense.bias', 'roberta.pooler.dense.weight']\n",
      "- This IS expected if you are initializing RobertaForSequenceClassification from the checkpoint of a model trained on another task or with another architecture (e.g. initializing a BertForSequenceClassification model from a BertForPreTraining model).\n",
      "- This IS NOT expected if you are initializing RobertaForSequenceClassification from the checkpoint of a model that you expect to be exactly identical (initializing a BertForSequenceClassification model from a BertForSequenceClassification model).\n",
      "Device set to use cuda:0\n"
     ]
    }
   ],
   "source": [
    "# Initialize the sentiment analysis pipeline\n",
    "sentiment_pipeline = pipeline(\"text-classification\", \n",
    "                              model=\"cardiffnlp/twitter-roberta-base-sentiment-latest\",\n",
    "                              device=0) "
   ]
  },
  {
   "cell_type": "code",
   "execution_count": 4,
   "metadata": {},
   "outputs": [],
   "source": [
    "# Extract the text column of selected_data as a list\n",
    "reviews = selected_data[\"text\"].tolist()"
   ]
  },
  {
   "cell_type": "code",
   "execution_count": 5,
   "metadata": {},
   "outputs": [],
   "source": [
    "# Calculate the sentiment of the each of the reviews\n",
    "kwargs = {'padding':True,'truncation':True,'max_length':512}\n",
    "results = sentiment_pipeline(reviews, **kwargs) "
   ]
  },
  {
   "cell_type": "code",
   "execution_count": 6,
   "metadata": {},
   "outputs": [],
   "source": [
    "selected_data[\"roberta_label\"] = [res[\"label\"] for res in results]\n",
    "selected_data[\"roberta_score\"] = [res[\"score\"] for res in results]"
   ]
  },
  {
   "cell_type": "markdown",
   "metadata": {},
   "source": [
    "### 2. Labelling with VADER (Lexicon and Rule-Based Model)"
   ]
  },
  {
   "cell_type": "markdown",
   "metadata": {},
   "source": [
    "VADER was selected as it is specialized for sentiment analysis on social media comments."
   ]
  },
  {
   "cell_type": "code",
   "execution_count": 7,
   "metadata": {},
   "outputs": [],
   "source": [
    "sentimentAnalyzer = SentimentIntensityAnalyzer()"
   ]
  },
  {
   "cell_type": "code",
   "execution_count": null,
   "metadata": {},
   "outputs": [],
   "source": [
    "vader_label, vader_score = [], []\n",
    "\n",
    "for review in reviews:\n",
    "    # Calculate the sentiment of the review using VADER\n",
    "    sentiment = sentimentAnalyzer.polarity_scores(review)\n",
    "    vader_score.append(sentiment[\"compound\"])\n",
    "    \n",
    "    if sentiment[\"compound\"] >= 0.05:\n",
    "        vader_label.append(\"positive\")\n",
    "    elif sentiment[\"compound\"] <= -0.05:\n",
    "        vader_label.append(\"negative\")\n",
    "    else:\n",
    "        vader_label.append(\"neutral\")\n"
   ]
  },
  {
   "cell_type": "code",
   "execution_count": 9,
   "metadata": {},
   "outputs": [],
   "source": [
    "# Add the VADER sentiment label and score to the selected_data DataFrame\n",
    "selected_data[\"vader_label\"] = vader_label\n",
    "selected_data[\"vader_score\"] = vader_score"
   ]
  },
  {
   "cell_type": "code",
   "execution_count": 10,
   "metadata": {},
   "outputs": [
    {
     "data": {
      "application/vnd.microsoft.datawrangler.viewer.v0+json": {
       "columns": [
        {
         "name": "index",
         "rawType": "int64",
         "type": "integer"
        },
        {
         "name": "post_id",
         "rawType": "object",
         "type": "string"
        },
        {
         "name": "subreddit",
         "rawType": "object",
         "type": "string"
        },
        {
         "name": "post_title",
         "rawType": "object",
         "type": "string"
        },
        {
         "name": "post_body",
         "rawType": "object",
         "type": "unknown"
        },
        {
         "name": "number_of_comments",
         "rawType": "int64",
         "type": "integer"
        },
        {
         "name": "readable_datetime",
         "rawType": "object",
         "type": "string"
        },
        {
         "name": "post_author",
         "rawType": "object",
         "type": "string"
        },
        {
         "name": "number_of_upvotes",
         "rawType": "int64",
         "type": "integer"
        },
        {
         "name": "query",
         "rawType": "object",
         "type": "string"
        },
        {
         "name": "text",
         "rawType": "object",
         "type": "string"
        },
        {
         "name": "comment_id",
         "rawType": "object",
         "type": "unknown"
        },
        {
         "name": "comment_body",
         "rawType": "object",
         "type": "unknown"
        },
        {
         "name": "comment_author",
         "rawType": "object",
         "type": "unknown"
        },
        {
         "name": "cosine_similarity",
         "rawType": "float64",
         "type": "float"
        },
        {
         "name": "roberta_label",
         "rawType": "object",
         "type": "string"
        },
        {
         "name": "roberta_score",
         "rawType": "float64",
         "type": "float"
        },
        {
         "name": "vader_label",
         "rawType": "object",
         "type": "string"
        },
        {
         "name": "vader_score",
         "rawType": "float64",
         "type": "float"
        }
       ],
       "conversionMethod": "pd.DataFrame",
       "ref": "e1d37cc6-ecfd-45c0-83a3-4d44398bce88",
       "rows": [
        [
         "0",
         "1d31lxf",
         "technology",
         "Former OpenAI board member explains why they fired Sam Altman | Helen Toner explains last year’s OpenAI coup as the result of ‘outright lying’ that made it impossible to trust the CEO",
         null,
         "97",
         "2024-05-29 06:31:18",
         "Maxie445",
         "84",
         "OpenAI",
         "Good luck to the consumers/customers who are trusting the products from OpenAI.",
         "l64i9ts",
         "Good luck to the consumers/customers who are trusting the products from OpenAI.",
         "imaketrollfaces",
         "0.7179464101791382",
         "positive",
         "0.9312536120414734",
         "positive",
         "0.8225"
        ],
        [
         "1",
         "1dn7dwq",
         "OpenAI",
         "I’m sick of waiting for chatGPT 4o Voice and I lost a lot of respect for OpenAi",
         "I’ve been religiously checking for the voice update multiple times a day considering they said it would be out “in a few weeks”. I realize OpenAi just put that demo out there to stick it to Google’s Ai demo which was scheduled for the next day. What a horrible thing to do to people.  I’m sure so many people signed up hoping they would get this feature and it’s no where in sight.   Meanwhile, Claude 3.5 Sonnet is doing a great job and I’m happy with it. ",
         "368",
         "2024-06-24 11:02:41",
         "surfer808",
         "45",
         "ChatGPT vs Claude",
         "OpenAI did a great job of showing the public the potential for AI. ChatGPT is a great tool for some people. I am thinking of switching to Claude for work needs but I’ll ways have a free account at ChatGPT. But recently with Sora and the voice/camera features of 4o OpenAI seems like a company that is just saying “See all of these cool things that are possible for a select few, but not feasible on a large commercial scale.”",
         "la0rsb1",
         "OpenAI did a great job of showing the public the potential for AI. ChatGPT is a great tool for some people. I am thinking of switching to Claude for work needs but I’ll ways have a free account at ChatGPT. But recently with Sora and the voice/camera features of 4o OpenAI seems like a company that is just saying “See all of these cool things that are possible for a select few, but not feasible on a large commercial scale.”",
         "q_freak",
         "0.7104706168174744",
         "positive",
         "0.9506365656852722",
         "positive",
         "0.9408"
        ],
        [
         "2",
         "1hiru1c",
         "ChatGPT",
         "OpenAI's new model is equivalent to the 175th best human competitive coder on the planet",
         null,
         "114",
         "2024-12-20 23:38:56",
         "MetaKnowing",
         "236",
         "o3",
         "OpenAI's new model is equivalent to the 175th best human competitive coder on the planet ",
         null,
         null,
         null,
         "0.7086992263793945",
         "positive",
         "0.9473823308944702",
         "positive",
         "0.7096"
        ],
        [
         "3",
         "1cr4jbo",
         "technology",
         "OpenAI launches new AI model and desktop version of ChatGPT",
         null,
         "140",
         "2024-05-13 21:08:09",
         "Puginator",
         "163",
         "ChatGPT",
         "OpenAI launches new AI model and desktop version of ChatGPT ",
         null,
         null,
         null,
         "0.7001967430114746",
         "neutral",
         "0.6668139100074768",
         "neutral",
         "0.0"
        ],
        [
         "4",
         "1ggjfwi",
         "OpenAI",
         "OpenAI brings a new web search tool to ChatGPT",
         null,
         "94",
         "2024-10-31 21:02:22",
         "techreview",
         "106",
         "ChatGPT search",
         "OpenAI brings a new web search tool to ChatGPT ",
         null,
         null,
         null,
         "0.6982467770576477",
         "neutral",
         "0.5184746384620667",
         "neutral",
         "0.0"
        ]
       ],
       "shape": {
        "columns": 18,
        "rows": 5
       }
      },
      "text/html": [
       "<div>\n",
       "<style scoped>\n",
       "    .dataframe tbody tr th:only-of-type {\n",
       "        vertical-align: middle;\n",
       "    }\n",
       "\n",
       "    .dataframe tbody tr th {\n",
       "        vertical-align: top;\n",
       "    }\n",
       "\n",
       "    .dataframe thead th {\n",
       "        text-align: right;\n",
       "    }\n",
       "</style>\n",
       "<table border=\"1\" class=\"dataframe\">\n",
       "  <thead>\n",
       "    <tr style=\"text-align: right;\">\n",
       "      <th></th>\n",
       "      <th>post_id</th>\n",
       "      <th>subreddit</th>\n",
       "      <th>post_title</th>\n",
       "      <th>post_body</th>\n",
       "      <th>number_of_comments</th>\n",
       "      <th>readable_datetime</th>\n",
       "      <th>post_author</th>\n",
       "      <th>number_of_upvotes</th>\n",
       "      <th>query</th>\n",
       "      <th>text</th>\n",
       "      <th>comment_id</th>\n",
       "      <th>comment_body</th>\n",
       "      <th>comment_author</th>\n",
       "      <th>cosine_similarity</th>\n",
       "      <th>roberta_label</th>\n",
       "      <th>roberta_score</th>\n",
       "      <th>vader_label</th>\n",
       "      <th>vader_score</th>\n",
       "    </tr>\n",
       "  </thead>\n",
       "  <tbody>\n",
       "    <tr>\n",
       "      <th>0</th>\n",
       "      <td>1d31lxf</td>\n",
       "      <td>technology</td>\n",
       "      <td>Former OpenAI board member explains why they f...</td>\n",
       "      <td>NaN</td>\n",
       "      <td>97</td>\n",
       "      <td>2024-05-29 06:31:18</td>\n",
       "      <td>Maxie445</td>\n",
       "      <td>84</td>\n",
       "      <td>OpenAI</td>\n",
       "      <td>Good luck to the consumers/customers who are t...</td>\n",
       "      <td>l64i9ts</td>\n",
       "      <td>Good luck to the consumers/customers who are t...</td>\n",
       "      <td>imaketrollfaces</td>\n",
       "      <td>0.717946</td>\n",
       "      <td>positive</td>\n",
       "      <td>0.931254</td>\n",
       "      <td>positive</td>\n",
       "      <td>0.8225</td>\n",
       "    </tr>\n",
       "    <tr>\n",
       "      <th>1</th>\n",
       "      <td>1dn7dwq</td>\n",
       "      <td>OpenAI</td>\n",
       "      <td>I’m sick of waiting for chatGPT 4o Voice and I...</td>\n",
       "      <td>I’ve been religiously checking for the voice u...</td>\n",
       "      <td>368</td>\n",
       "      <td>2024-06-24 11:02:41</td>\n",
       "      <td>surfer808</td>\n",
       "      <td>45</td>\n",
       "      <td>ChatGPT vs Claude</td>\n",
       "      <td>OpenAI did a great job of showing the public t...</td>\n",
       "      <td>la0rsb1</td>\n",
       "      <td>OpenAI did a great job of showing the public t...</td>\n",
       "      <td>q_freak</td>\n",
       "      <td>0.710471</td>\n",
       "      <td>positive</td>\n",
       "      <td>0.950637</td>\n",
       "      <td>positive</td>\n",
       "      <td>0.9408</td>\n",
       "    </tr>\n",
       "    <tr>\n",
       "      <th>2</th>\n",
       "      <td>1hiru1c</td>\n",
       "      <td>ChatGPT</td>\n",
       "      <td>OpenAI's new model is equivalent to the 175th ...</td>\n",
       "      <td>NaN</td>\n",
       "      <td>114</td>\n",
       "      <td>2024-12-20 23:38:56</td>\n",
       "      <td>MetaKnowing</td>\n",
       "      <td>236</td>\n",
       "      <td>o3</td>\n",
       "      <td>OpenAI's new model is equivalent to the 175th ...</td>\n",
       "      <td>NaN</td>\n",
       "      <td>NaN</td>\n",
       "      <td>NaN</td>\n",
       "      <td>0.708699</td>\n",
       "      <td>positive</td>\n",
       "      <td>0.947382</td>\n",
       "      <td>positive</td>\n",
       "      <td>0.7096</td>\n",
       "    </tr>\n",
       "    <tr>\n",
       "      <th>3</th>\n",
       "      <td>1cr4jbo</td>\n",
       "      <td>technology</td>\n",
       "      <td>OpenAI launches new AI model and desktop versi...</td>\n",
       "      <td>NaN</td>\n",
       "      <td>140</td>\n",
       "      <td>2024-05-13 21:08:09</td>\n",
       "      <td>Puginator</td>\n",
       "      <td>163</td>\n",
       "      <td>ChatGPT</td>\n",
       "      <td>OpenAI launches new AI model and desktop versi...</td>\n",
       "      <td>NaN</td>\n",
       "      <td>NaN</td>\n",
       "      <td>NaN</td>\n",
       "      <td>0.700197</td>\n",
       "      <td>neutral</td>\n",
       "      <td>0.666814</td>\n",
       "      <td>neutral</td>\n",
       "      <td>0.0000</td>\n",
       "    </tr>\n",
       "    <tr>\n",
       "      <th>4</th>\n",
       "      <td>1ggjfwi</td>\n",
       "      <td>OpenAI</td>\n",
       "      <td>OpenAI brings a new web search tool to ChatGPT</td>\n",
       "      <td>NaN</td>\n",
       "      <td>94</td>\n",
       "      <td>2024-10-31 21:02:22</td>\n",
       "      <td>techreview</td>\n",
       "      <td>106</td>\n",
       "      <td>ChatGPT search</td>\n",
       "      <td>OpenAI brings a new web search tool to ChatGPT</td>\n",
       "      <td>NaN</td>\n",
       "      <td>NaN</td>\n",
       "      <td>NaN</td>\n",
       "      <td>0.698247</td>\n",
       "      <td>neutral</td>\n",
       "      <td>0.518475</td>\n",
       "      <td>neutral</td>\n",
       "      <td>0.0000</td>\n",
       "    </tr>\n",
       "  </tbody>\n",
       "</table>\n",
       "</div>"
      ],
      "text/plain": [
       "   post_id   subreddit                                         post_title  \\\n",
       "0  1d31lxf  technology  Former OpenAI board member explains why they f...   \n",
       "1  1dn7dwq      OpenAI  I’m sick of waiting for chatGPT 4o Voice and I...   \n",
       "2  1hiru1c     ChatGPT  OpenAI's new model is equivalent to the 175th ...   \n",
       "3  1cr4jbo  technology  OpenAI launches new AI model and desktop versi...   \n",
       "4  1ggjfwi      OpenAI     OpenAI brings a new web search tool to ChatGPT   \n",
       "\n",
       "                                           post_body  number_of_comments  \\\n",
       "0                                                NaN                  97   \n",
       "1  I’ve been religiously checking for the voice u...                 368   \n",
       "2                                                NaN                 114   \n",
       "3                                                NaN                 140   \n",
       "4                                                NaN                  94   \n",
       "\n",
       "     readable_datetime  post_author  number_of_upvotes              query  \\\n",
       "0  2024-05-29 06:31:18     Maxie445                 84             OpenAI   \n",
       "1  2024-06-24 11:02:41    surfer808                 45  ChatGPT vs Claude   \n",
       "2  2024-12-20 23:38:56  MetaKnowing                236                 o3   \n",
       "3  2024-05-13 21:08:09    Puginator                163            ChatGPT   \n",
       "4  2024-10-31 21:02:22   techreview                106     ChatGPT search   \n",
       "\n",
       "                                                text comment_id  \\\n",
       "0  Good luck to the consumers/customers who are t...    l64i9ts   \n",
       "1  OpenAI did a great job of showing the public t...    la0rsb1   \n",
       "2  OpenAI's new model is equivalent to the 175th ...        NaN   \n",
       "3  OpenAI launches new AI model and desktop versi...        NaN   \n",
       "4    OpenAI brings a new web search tool to ChatGPT         NaN   \n",
       "\n",
       "                                        comment_body   comment_author  \\\n",
       "0  Good luck to the consumers/customers who are t...  imaketrollfaces   \n",
       "1  OpenAI did a great job of showing the public t...          q_freak   \n",
       "2                                                NaN              NaN   \n",
       "3                                                NaN              NaN   \n",
       "4                                                NaN              NaN   \n",
       "\n",
       "   cosine_similarity roberta_label  roberta_score vader_label  vader_score  \n",
       "0           0.717946      positive       0.931254    positive       0.8225  \n",
       "1           0.710471      positive       0.950637    positive       0.9408  \n",
       "2           0.708699      positive       0.947382    positive       0.7096  \n",
       "3           0.700197       neutral       0.666814     neutral       0.0000  \n",
       "4           0.698247       neutral       0.518475     neutral       0.0000  "
      ]
     },
     "execution_count": 10,
     "metadata": {},
     "output_type": "execute_result"
    }
   ],
   "source": [
    "# Display the first few rows of the selected_data DataFrame\n",
    "selected_data.head()"
   ]
  },
  {
   "cell_type": "code",
   "execution_count": null,
   "metadata": {},
   "outputs": [],
   "source": [
    "# Save the selected_data DataFrame to a new CSV file\n",
    "selected_data.to_csv('../Data/labelled_data_semantic_transformer_vader.csv', index=False)"
   ]
  },
  {
   "cell_type": "markdown",
   "metadata": {},
   "source": [
    "## 3. Analyze the conflicts between the Transformer and VADER labelling"
   ]
  },
  {
   "cell_type": "code",
   "execution_count": 16,
   "metadata": {},
   "outputs": [],
   "source": [
    "selected_data = pd.read_csv('../Data/labelled_data_semantic_transformer_vader.csv')"
   ]
  },
  {
   "cell_type": "code",
   "execution_count": 17,
   "metadata": {},
   "outputs": [
    {
     "data": {
      "text/plain": [
       "roberta_label\n",
       "neutral     49.538569\n",
       "negative    28.504266\n",
       "positive    21.957165\n",
       "Name: count, dtype: float64"
      ]
     },
     "execution_count": 17,
     "metadata": {},
     "output_type": "execute_result"
    }
   ],
   "source": [
    "# Find the percentage of reviews with each sentiment label, according to the RoBERTa model\n",
    "roberta_sentiment_counts = selected_data[\"roberta_label\"].value_counts()\n",
    "(roberta_sentiment_counts / roberta_sentiment_counts.sum())*100"
   ]
  },
  {
   "cell_type": "code",
   "execution_count": 18,
   "metadata": {},
   "outputs": [
    {
     "data": {
      "text/plain": [
       "vader_label\n",
       "positive    54.866794\n",
       "neutral     24.917291\n",
       "negative    20.215915\n",
       "Name: count, dtype: float64"
      ]
     },
     "execution_count": 18,
     "metadata": {},
     "output_type": "execute_result"
    }
   ],
   "source": [
    "# Find the percentage of reviews with each sentiment label, according to VADER\n",
    "vader_sentiment_counts = selected_data[\"vader_label\"].value_counts()\n",
    "(vader_sentiment_counts / vader_sentiment_counts.sum())*100"
   ]
  },
  {
   "cell_type": "code",
   "execution_count": 19,
   "metadata": {},
   "outputs": [
    {
     "name": "stdout",
     "output_type": "stream",
     "text": [
      "Number of matching labels: 2911\n",
      "Number of non-matching labels: 2832\n"
     ]
    }
   ],
   "source": [
    "# Find the number of reviews where the labels from RoBERTa and VADER match and do not match\n",
    "matching_labels = selected_data[\"roberta_label\"] == selected_data[\"vader_label\"]\n",
    "non_matching_labels = selected_data[\"roberta_label\"] != selected_data[\"vader_label\"]\n",
    "print(\"Number of matching labels:\", matching_labels.sum())\n",
    "print(\"Number of non-matching labels:\", non_matching_labels.sum())"
   ]
  },
  {
   "cell_type": "markdown",
   "metadata": {},
   "source": [
    "~50% of the labels do not match between the RoBERTa and VADER models. Manually labelling 2832 claims, to resolve conflicts, would be infeasible."
   ]
  },
  {
   "cell_type": "code",
   "execution_count": 40,
   "metadata": {},
   "outputs": [
    {
     "name": "stdout",
     "output_type": "stream",
     "text": [
      "Number of reviews with low confidence: 304\n"
     ]
    }
   ],
   "source": [
    "# Find number of reviews where the RoBERTa confidence score is less than 0.5\n",
    "low_confidence = selected_data[\"roberta_score\"] < 0.5\n",
    "print(\"Number of reviews with low confidence:\", low_confidence.sum())"
   ]
  },
  {
   "cell_type": "code",
   "execution_count": 39,
   "metadata": {},
   "outputs": [
    {
     "data": {
      "image/png": "[encoded data removed]",
      "text/plain": [
       "<Figure size 640x480 with 1 Axes>"
      ]
     },
     "metadata": {},
     "output_type": "display_data"
    }
   ],
   "source": [
    "# Plot the distribution of RoBERTa confidence scores for reviews with matching and non-matching labels\n",
    "import matplotlib.pyplot as plt\n",
    "\n",
    "plt.hist(selected_data.loc[matching_labels, \"roberta_score\"], alpha=0.5, label=\"Matching labels\")\n",
    "plt.hist(selected_data.loc[non_matching_labels, \"roberta_score\"], alpha=0.5, label=\"Non-matching labels\")\n",
    "plt.xlabel(\"RoBERTa confidence score\")\n",
    "plt.ylabel(\"Frequency\")\n",
    "plt.legend()\n",
    "plt.show()\n"
   ]
  },
  {
   "cell_type": "code",
   "execution_count": 44,
   "metadata": {},
   "outputs": [],
   "source": [
    "# Save 100 rows with the lowest RoBERTa confidence scores to a new CSV file\n",
    "low_confidence_rows = selected_data.sort_values(\"roberta_score\").head(100)\n",
    "low_confidence_rows.drop(columns=[\"vader_label\", \"vader_score\"], inplace=True)"
   ]
  },
  {
   "cell_type": "code",
   "execution_count": 45,
   "metadata": {},
   "outputs": [],
   "source": [
    "low_confidence_rows.to_csv('../Data/labelling-round_1.csv', index=False)"
   ]
  }
 ],
 "metadata": {
  "kernelspec": {
   "display_name": ".venv",
   "language": "python",
   "name": "python3"
  },
  "language_info": {
   "codemirror_mode": {
    "name": "ipython",
    "version": 3
   },
   "file_extension": ".py",
   "mimetype": "text/x-python",
   "name": "python",
   "nbconvert_exporter": "python",
   "pygments_lexer": "ipython3",
   "version": "3.12.1"
  }
 },
 "nbformat": 4,
 "nbformat_minor": 2
}
