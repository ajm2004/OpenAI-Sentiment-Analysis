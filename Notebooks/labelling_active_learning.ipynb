{
 "cells": [
  {
   "cell_type": "markdown",
   "metadata": {},
   "source": [
    "# LABELLING - ACTIVE LEARNING"
   ]
  },
  {
   "cell_type": "code",
   "execution_count": 40,
   "metadata": {},
   "outputs": [
    {
     "name": "stdout",
     "output_type": "stream",
     "text": [
      "Requirement already satisfied: transformers in c:\\users\\jonathan\\desktop\\f20aa - applied text analytics\\cw1\\f20aa_grp5\\.venv\\lib\\site-packages (4.48.3)Note: you may need to restart the kernel to use updated packages.\n",
      "\n",
      "Requirement already satisfied: datasets in c:\\users\\jonathan\\desktop\\f20aa - applied text analytics\\cw1\\f20aa_grp5\\.venv\\lib\\site-packages (3.2.0)\n",
      "Requirement already satisfied: filelock in c:\\users\\jonathan\\desktop\\f20aa - applied text analytics\\cw1\\f20aa_grp5\\.venv\\lib\\site-packages (from transformers) (3.17.0)\n",
      "Requirement already satisfied: huggingface-hub<1.0,>=0.24.0 in c:\\users\\jonathan\\desktop\\f20aa - applied text analytics\\cw1\\f20aa_grp5\\.venv\\lib\\site-packages (from transformers) (0.28.1)\n",
      "Requirement already satisfied: numpy>=1.17 in c:\\users\\jonathan\\desktop\\f20aa - applied text analytics\\cw1\\f20aa_grp5\\.venv\\lib\\site-packages (from transformers) (2.2.2)\n",
      "Requirement already satisfied: packaging>=20.0 in c:\\users\\jonathan\\desktop\\f20aa - applied text analytics\\cw1\\f20aa_grp5\\.venv\\lib\\site-packages (from transformers) (24.2)\n",
      "Requirement already satisfied: pyyaml>=5.1 in c:\\users\\jonathan\\desktop\\f20aa - applied text analytics\\cw1\\f20aa_grp5\\.venv\\lib\\site-packages (from transformers) (6.0.2)\n",
      "Requirement already satisfied: regex!=2019.12.17 in c:\\users\\jonathan\\desktop\\f20aa - applied text analytics\\cw1\\f20aa_grp5\\.venv\\lib\\site-packages (from transformers) (2024.11.6)\n",
      "Requirement already satisfied: requests in c:\\users\\jonathan\\desktop\\f20aa - applied text analytics\\cw1\\f20aa_grp5\\.venv\\lib\\site-packages (from transformers) (2.32.3)\n",
      "Requirement already satisfied: tokenizers<0.22,>=0.21 in c:\\users\\jonathan\\desktop\\f20aa - applied text analytics\\cw1\\f20aa_grp5\\.venv\\lib\\site-packages (from transformers) (0.21.0)\n",
      "Requirement already satisfied: safetensors>=0.4.1 in c:\\users\\jonathan\\desktop\\f20aa - applied text analytics\\cw1\\f20aa_grp5\\.venv\\lib\\site-packages (from transformers) (0.5.2)\n",
      "Requirement already satisfied: tqdm>=4.27 in c:\\users\\jonathan\\desktop\\f20aa - applied text analytics\\cw1\\f20aa_grp5\\.venv\\lib\\site-packages (from transformers) (4.67.1)\n",
      "Requirement already satisfied: pyarrow>=15.0.0 in c:\\users\\jonathan\\desktop\\f20aa - applied text analytics\\cw1\\f20aa_grp5\\.venv\\lib\\site-packages (from datasets) (19.0.0)\n",
      "Requirement already satisfied: dill<0.3.9,>=0.3.0 in c:\\users\\jonathan\\desktop\\f20aa - applied text analytics\\cw1\\f20aa_grp5\\.venv\\lib\\site-packages (from datasets) (0.3.8)\n",
      "Requirement already satisfied: pandas in c:\\users\\jonathan\\desktop\\f20aa - applied text analytics\\cw1\\f20aa_grp5\\.venv\\lib\\site-packages (from datasets) (2.2.3)\n",
      "Requirement already satisfied: xxhash in c:\\users\\jonathan\\desktop\\f20aa - applied text analytics\\cw1\\f20aa_grp5\\.venv\\lib\\site-packages (from datasets) (3.5.0)\n",
      "Requirement already satisfied: multiprocess<0.70.17 in c:\\users\\jonathan\\desktop\\f20aa - applied text analytics\\cw1\\f20aa_grp5\\.venv\\lib\\site-packages (from datasets) (0.70.16)\n",
      "Requirement already satisfied: fsspec<=2024.9.0,>=2023.1.0 in c:\\users\\jonathan\\desktop\\f20aa - applied text analytics\\cw1\\f20aa_grp5\\.venv\\lib\\site-packages (from fsspec[http]<=2024.9.0,>=2023.1.0->datasets) (2024.9.0)\n",
      "Requirement already satisfied: aiohttp in c:\\users\\jonathan\\desktop\\f20aa - applied text analytics\\cw1\\f20aa_grp5\\.venv\\lib\\site-packages (from datasets) (3.11.12)\n",
      "Requirement already satisfied: aiohappyeyeballs>=2.3.0 in c:\\users\\jonathan\\desktop\\f20aa - applied text analytics\\cw1\\f20aa_grp5\\.venv\\lib\\site-packages (from aiohttp->datasets) (2.4.6)\n",
      "Requirement already satisfied: aiosignal>=1.1.2 in c:\\users\\jonathan\\desktop\\f20aa - applied text analytics\\cw1\\f20aa_grp5\\.venv\\lib\\site-packages (from aiohttp->datasets) (1.3.2)\n",
      "Requirement already satisfied: attrs>=17.3.0 in c:\\users\\jonathan\\desktop\\f20aa - applied text analytics\\cw1\\f20aa_grp5\\.venv\\lib\\site-packages (from aiohttp->datasets) (25.1.0)\n",
      "Requirement already satisfied: frozenlist>=1.1.1 in c:\\users\\jonathan\\desktop\\f20aa - applied text analytics\\cw1\\f20aa_grp5\\.venv\\lib\\site-packages (from aiohttp->datasets) (1.5.0)\n",
      "Requirement already satisfied: multidict<7.0,>=4.5 in c:\\users\\jonathan\\desktop\\f20aa - applied text analytics\\cw1\\f20aa_grp5\\.venv\\lib\\site-packages (from aiohttp->datasets) (6.1.0)\n",
      "Requirement already satisfied: propcache>=0.2.0 in c:\\users\\jonathan\\desktop\\f20aa - applied text analytics\\cw1\\f20aa_grp5\\.venv\\lib\\site-packages (from aiohttp->datasets) (0.2.1)\n",
      "Requirement already satisfied: yarl<2.0,>=1.17.0 in c:\\users\\jonathan\\desktop\\f20aa - applied text analytics\\cw1\\f20aa_grp5\\.venv\\lib\\site-packages (from aiohttp->datasets) (1.18.3)\n",
      "Requirement already satisfied: typing-extensions>=3.7.4.3 in c:\\users\\jonathan\\desktop\\f20aa - applied text analytics\\cw1\\f20aa_grp5\\.venv\\lib\\site-packages (from huggingface-hub<1.0,>=0.24.0->transformers) (4.12.2)\n",
      "Requirement already satisfied: charset-normalizer<4,>=2 in c:\\users\\jonathan\\desktop\\f20aa - applied text analytics\\cw1\\f20aa_grp5\\.venv\\lib\\site-packages (from requests->transformers) (3.4.1)\n",
      "Requirement already satisfied: idna<4,>=2.5 in c:\\users\\jonathan\\desktop\\f20aa - applied text analytics\\cw1\\f20aa_grp5\\.venv\\lib\\site-packages (from requests->transformers) (3.10)\n",
      "Requirement already satisfied: urllib3<3,>=1.21.1 in c:\\users\\jonathan\\desktop\\f20aa - applied text analytics\\cw1\\f20aa_grp5\\.venv\\lib\\site-packages (from requests->transformers) (2.3.0)\n",
      "Requirement already satisfied: certifi>=2017.4.17 in c:\\users\\jonathan\\desktop\\f20aa - applied text analytics\\cw1\\f20aa_grp5\\.venv\\lib\\site-packages (from requests->transformers) (2024.12.14)\n",
      "Requirement already satisfied: colorama in c:\\users\\jonathan\\desktop\\f20aa - applied text analytics\\cw1\\f20aa_grp5\\.venv\\lib\\site-packages (from tqdm>=4.27->transformers) (0.4.6)\n",
      "Requirement already satisfied: python-dateutil>=2.8.2 in c:\\users\\jonathan\\desktop\\f20aa - applied text analytics\\cw1\\f20aa_grp5\\.venv\\lib\\site-packages (from pandas->datasets) (2.9.0.post0)\n",
      "Requirement already satisfied: pytz>=2020.1 in c:\\users\\jonathan\\desktop\\f20aa - applied text analytics\\cw1\\f20aa_grp5\\.venv\\lib\\site-packages (from pandas->datasets) (2025.1)\n",
      "Requirement already satisfied: tzdata>=2022.7 in c:\\users\\jonathan\\desktop\\f20aa - applied text analytics\\cw1\\f20aa_grp5\\.venv\\lib\\site-packages (from pandas->datasets) (2025.1)\n",
      "Requirement already satisfied: six>=1.5 in c:\\users\\jonathan\\desktop\\f20aa - applied text analytics\\cw1\\f20aa_grp5\\.venv\\lib\\site-packages (from python-dateutil>=2.8.2->pandas->datasets) (1.17.0)\n"
     ]
    },
    {
     "name": "stderr",
     "output_type": "stream",
     "text": [
      "\n",
      "[notice] A new release of pip is available: 25.0 -> 25.0.1\n",
      "[notice] To update, run: python.exe -m pip install --upgrade pip\n"
     ]
    }
   ],
   "source": [
    "%pip install transformers datasets"
   ]
  },
  {
   "cell_type": "code",
   "execution_count": null,
   "metadata": {},
   "outputs": [],
   "source": [
    "import pandas as pd\n",
    "from transformers import pipeline, AutoModelForSequenceClassification, AutoTokenizer, AutoConfig\n",
    "from datasets import Dataset"
   ]
  },
  {
   "cell_type": "markdown",
   "metadata": {},
   "source": [
    "## 1. Labelling and Finetuning functions"
   ]
  },
  {
   "cell_type": "code",
   "execution_count": 35,
   "metadata": {},
   "outputs": [],
   "source": [
    "'''\n",
    "Function that labels the data with the provided model\n",
    "and saves the labeled data to a csv file. Additionally,\n",
    "it saves 100 rows with the lowest RoBERTa confidence scores\n",
    "to a new CSV file.\n",
    "\n",
    "Params:\n",
    "model - the model to be used for sentiment analysis\n",
    "tokenizer - the tokenizer to be used for sentiment analysis\n",
    "dataset - dataframe containing the entire dataset\n",
    "round - active learning round\n",
    "'''\n",
    "def label_data(model, tokenizer, dataset, round):\n",
    "  # Initialize the sentiment analysis pipeline\n",
    "  sentiment_pipeline = pipeline(\"text-classification\", \n",
    "                                model=model,\n",
    "                                tokenizer=tokenizer,\n",
    "                                device=0) \n",
    "  \n",
    "  # Extract the text column of selected_data as a list\n",
    "  reviews = dataset[\"text\"].tolist()\n",
    "    \n",
    "  # Calculate the sentiment of the each of the reviews\n",
    "  print(f\"\\nRound {round} - Automated Labelling \")\n",
    "  print(\"Predicting sentiment labels of data...\")\n",
    "\n",
    "  kwargs = {'padding':True,'truncation':True,'max_length':512}\n",
    "  results = sentiment_pipeline(reviews, **kwargs) \n",
    "\n",
    "  print(\"Sentiment labels predicted.\")\n",
    "  print(\"Saving labeled data to a csv files...\")\n",
    "\n",
    "  # Add the sentiment and score to the selected_data DataFrame\n",
    "  label2id = {\"positive\": 1, \"negative\": -1, \"neutral\": 0}\n",
    "  dataset[\"roberta_label\"] = [label2id[res[\"label\"]] for res in results]\n",
    "  dataset[\"roberta_score\"] = [res[\"score\"] for res in results]\n",
    "\n",
    "  # Save the labeled data to a csv file\n",
    "  dataset.to_csv(f'../Data/Labelling/round{round}_roberta_labelled_all_data.csv', index=False)\n",
    "\n",
    "  # Save 100 rows with the lowest RoBERTa confidence scores to a new CSV file\n",
    "  df_low_confidence = dataset.nsmallest(100, 'roberta_score')\n",
    "  df_low_confidence.to_csv(f'../Data/Labelling/round{round}_roberta_labelled_low_confidence.csv', index=False)\n",
    "  \n",
    "  print(f\"Completed Round {round} - Automated Labeling\")\n",
    "\n",
    "  return dataset"
   ]
  },
  {
   "cell_type": "code",
   "execution_count": null,
   "metadata": {},
   "outputs": [],
   "source": [
    "def load_manual_data(round):\n",
    "  # Wait till the manually labelled data for the round is ready\n",
    "  ready = input(f\"Press 'y' when the manually labelled data for round {round} is added to the Manual folder: \")\n",
    "  \n",
    "  while ready.lower()!= 'y':\n",
    "    print(\"Please add the manually labelled data to the Data/Labelling/Manual folder.\")\n",
    "    ready = input(f\"Press 'y' when the manual data for round {round} is added to the Manual folder: \")\n",
    "\n",
    "  # Load the manual data for the round, and all the rounds before it\n",
    "  manual_data = pd.read_csv(f'../Data/Labelling/Manual/round{round}_manual.csv')\n",
    "  for i in range(1, round):\n",
    "    manual_data = pd.concat([manual_data, pd.read_csv(f'../Data/Labelling/Manual/round{i}_manual.csv')])\n",
    "\n",
    "  # Drop all columns except the text and the manual label\n",
    "  manual_data.drop(columns=[col for col in manual_data.columns if col not in ['text', 'manual_label']], inplace=True)\n",
    "\n",
    "  # Drop the duplicates from the manual data, keeping the first occurence (latest label)\n",
    "  manual_data.drop_duplicates(subset=['text'], keep='first', inplace=True)\n",
    "\n",
    "  # Drop the rows which are NaN, or contain '2' values in the manual_label column (rows marked irrelevant during manual labelling)\n",
    "  manual_data = manual_data[manual_data['manual_label'] != 2].dropna()\n",
    "\n",
    "  # Convert to Dataset object\n",
    "  manual_data = Dataset.from_pandas(manual_data)\n",
    "  \n",
    "  print(f\"Round {round} - Manual data loaded.\")\n",
    "\n",
    "  return manual_data\n",
    "    "
   ]
  },
  {
   "cell_type": "code",
   "execution_count": 37,
   "metadata": {},
   "outputs": [],
   "source": [
    "def finetune(model, train_data):\n",
    "  model.save_pretrained(f'../Models/round1_finetuned_model/')\n",
    "  pass"
   ]
  },
  {
   "cell_type": "markdown",
   "metadata": {},
   "source": [
    "## 2. Run Active Learning Loop"
   ]
  },
  {
   "cell_type": "markdown",
   "metadata": {},
   "source": [
    "Active learning allows us to manually label the most informative parts of the dataset that confuses the model the most. "
   ]
  },
  {
   "cell_type": "code",
   "execution_count": null,
   "metadata": {},
   "outputs": [],
   "source": [
    "# Function to conduct one round of active learning\n",
    "def active_learning(model, tokenizer, dataset, rounds = 5):\n",
    "  \n",
    "  for round in range(1, rounds+1):\n",
    "    print (f\"Round {round} of Active Learning\")\n",
    "    # 1. Using the model, automatically label the entire dataset\n",
    "    label_data(model = model, \n",
    "              df = dataset, \n",
    "              tokenizer = tokenizer,\n",
    "              round = round)\n",
    "    \n",
    "    # 2. Load the manually labeled data, including the newly labeled data from the previous round\n",
    "    train_data = load_manual_data(round = round) \n",
    "    \n",
    "    # 3. Fine-tune the model on the manually labeled data\n",
    "    model = finetune(model = model, \n",
    "                     train_data = train_data,\n",
    "                     round = round)\n",
    "        \n",
    "    print (f\"Completed Round {round} of Active Learning\")\n"
   ]
  },
  {
   "cell_type": "code",
   "execution_count": null,
   "metadata": {},
   "outputs": [],
   "source": [
    "# Load the data\n",
    "dataset = pd.read_csv('../Data/selected_data.csv')"
   ]
  },
  {
   "cell_type": "code",
   "execution_count": 14,
   "metadata": {},
   "outputs": [
    {
     "name": "stderr",
     "output_type": "stream",
     "text": [
      "Some weights of the model checkpoint at cardiffnlp/twitter-roberta-base-sentiment-latest were not used when initializing RobertaForSequenceClassification: ['roberta.pooler.dense.bias', 'roberta.pooler.dense.weight']\n",
      "- This IS expected if you are initializing RobertaForSequenceClassification from the checkpoint of a model trained on another task or with another architecture (e.g. initializing a BertForSequenceClassification model from a BertForPreTraining model).\n",
      "- This IS NOT expected if you are initializing RobertaForSequenceClassification from the checkpoint of a model that you expect to be exactly identical (initializing a BertForSequenceClassification model from a BertForSequenceClassification model).\n"
     ]
    }
   ],
   "source": [
    "# Load the pretrained model, tokenizer, and configuration from Hugging Face\n",
    "pretrained_model_name = \"cardiffnlp/twitter-roberta-base-sentiment-latest\"\n",
    "model = AutoModelForSequenceClassification.from_pretrained(pretrained_model_name)\n",
    "tokenizer = AutoTokenizer.from_pretrained(pretrained_model_name)\n",
    "config = AutoConfig.from_pretrained(pretrained_model_name)"
   ]
  },
  {
   "cell_type": "code",
   "execution_count": null,
   "metadata": {},
   "outputs": [],
   "source": [
    "# Conduct active learning\n",
    "active_learning(model, tokenizer, dataset, round = 5)"
   ]
  }
 ],
 "metadata": {
  "kernelspec": {
   "display_name": ".venv",
   "language": "python",
   "name": "python3"
  },
  "language_info": {
   "codemirror_mode": {
    "name": "ipython",
    "version": 3
   },
   "file_extension": ".py",
   "mimetype": "text/x-python",
   "name": "python",
   "nbconvert_exporter": "python",
   "pygments_lexer": "ipython3",
   "version": "3.12.1"
  }
 },
 "nbformat": 4,
 "nbformat_minor": 2
}
