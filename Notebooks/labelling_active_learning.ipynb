{
 "cells": [
  {
   "cell_type": "markdown",
   "metadata": {},
   "source": [
    "# LABELLING - ACTIVE LEARNING"
   ]
  },
  {
   "cell_type": "code",
   "execution_count": 15,
   "metadata": {},
   "outputs": [
    {
     "name": "stdout",
     "output_type": "stream",
     "text": [
      "Requirement already satisfied: transformers in c:\\users\\jonathan\\desktop\\f20aa - applied text analytics\\cw1\\f20aa_grp5\\.venv\\lib\\site-packages (4.48.3)\n",
      "Requirement already satisfied: datasets in c:\\users\\jonathan\\desktop\\f20aa - applied text analytics\\cw1\\f20aa_grp5\\.venv\\lib\\site-packages (3.2.0)\n",
      "Collecting evaluate\n",
      "  Downloading evaluate-0.4.3-py3-none-any.whl.metadata (9.2 kB)\n",
      "Requirement already satisfied: filelock in c:\\users\\jonathan\\desktop\\f20aa - applied text analytics\\cw1\\f20aa_grp5\\.venv\\lib\\site-packages (from transformers) (3.17.0)\n",
      "Requirement already satisfied: huggingface-hub<1.0,>=0.24.0 in c:\\users\\jonathan\\desktop\\f20aa - applied text analytics\\cw1\\f20aa_grp5\\.venv\\lib\\site-packages (from transformers) (0.28.1)\n",
      "Requirement already satisfied: numpy>=1.17 in c:\\users\\jonathan\\desktop\\f20aa - applied text analytics\\cw1\\f20aa_grp5\\.venv\\lib\\site-packages (from transformers) (2.2.2)\n",
      "Requirement already satisfied: packaging>=20.0 in c:\\users\\jonathan\\desktop\\f20aa - applied text analytics\\cw1\\f20aa_grp5\\.venv\\lib\\site-packages (from transformers) (24.2)\n",
      "Requirement already satisfied: pyyaml>=5.1 in c:\\users\\jonathan\\desktop\\f20aa - applied text analytics\\cw1\\f20aa_grp5\\.venv\\lib\\site-packages (from transformers) (6.0.2)\n",
      "Requirement already satisfied: regex!=2019.12.17 in c:\\users\\jonathan\\desktop\\f20aa - applied text analytics\\cw1\\f20aa_grp5\\.venv\\lib\\site-packages (from transformers) (2024.11.6)\n",
      "Requirement already satisfied: requests in c:\\users\\jonathan\\desktop\\f20aa - applied text analytics\\cw1\\f20aa_grp5\\.venv\\lib\\site-packages (from transformers) (2.32.3)\n",
      "Requirement already satisfied: tokenizers<0.22,>=0.21 in c:\\users\\jonathan\\desktop\\f20aa - applied text analytics\\cw1\\f20aa_grp5\\.venv\\lib\\site-packages (from transformers) (0.21.0)\n",
      "Requirement already satisfied: safetensors>=0.4.1 in c:\\users\\jonathan\\desktop\\f20aa - applied text analytics\\cw1\\f20aa_grp5\\.venv\\lib\\site-packages (from transformers) (0.5.2)\n",
      "Requirement already satisfied: tqdm>=4.27 in c:\\users\\jonathan\\desktop\\f20aa - applied text analytics\\cw1\\f20aa_grp5\\.venv\\lib\\site-packages (from transformers) (4.67.1)\n",
      "Requirement already satisfied: pyarrow>=15.0.0 in c:\\users\\jonathan\\desktop\\f20aa - applied text analytics\\cw1\\f20aa_grp5\\.venv\\lib\\site-packages (from datasets) (19.0.0)\n",
      "Requirement already satisfied: dill<0.3.9,>=0.3.0 in c:\\users\\jonathan\\desktop\\f20aa - applied text analytics\\cw1\\f20aa_grp5\\.venv\\lib\\site-packages (from datasets) (0.3.8)\n",
      "Requirement already satisfied: pandas in c:\\users\\jonathan\\desktop\\f20aa - applied text analytics\\cw1\\f20aa_grp5\\.venv\\lib\\site-packages (from datasets) (2.2.3)\n",
      "Requirement already satisfied: xxhash in c:\\users\\jonathan\\desktop\\f20aa - applied text analytics\\cw1\\f20aa_grp5\\.venv\\lib\\site-packages (from datasets) (3.5.0)\n",
      "Requirement already satisfied: multiprocess<0.70.17 in c:\\users\\jonathan\\desktop\\f20aa - applied text analytics\\cw1\\f20aa_grp5\\.venv\\lib\\site-packages (from datasets) (0.70.16)\n",
      "Requirement already satisfied: fsspec<=2024.9.0,>=2023.1.0 in c:\\users\\jonathan\\desktop\\f20aa - applied text analytics\\cw1\\f20aa_grp5\\.venv\\lib\\site-packages (from fsspec[http]<=2024.9.0,>=2023.1.0->datasets) (2024.9.0)\n",
      "Requirement already satisfied: aiohttp in c:\\users\\jonathan\\desktop\\f20aa - applied text analytics\\cw1\\f20aa_grp5\\.venv\\lib\\site-packages (from datasets) (3.11.12)\n",
      "Requirement already satisfied: aiohappyeyeballs>=2.3.0 in c:\\users\\jonathan\\desktop\\f20aa - applied text analytics\\cw1\\f20aa_grp5\\.venv\\lib\\site-packages (from aiohttp->datasets) (2.4.6)\n",
      "Requirement already satisfied: aiosignal>=1.1.2 in c:\\users\\jonathan\\desktop\\f20aa - applied text analytics\\cw1\\f20aa_grp5\\.venv\\lib\\site-packages (from aiohttp->datasets) (1.3.2)\n",
      "Requirement already satisfied: attrs>=17.3.0 in c:\\users\\jonathan\\desktop\\f20aa - applied text analytics\\cw1\\f20aa_grp5\\.venv\\lib\\site-packages (from aiohttp->datasets) (25.1.0)\n",
      "Requirement already satisfied: frozenlist>=1.1.1 in c:\\users\\jonathan\\desktop\\f20aa - applied text analytics\\cw1\\f20aa_grp5\\.venv\\lib\\site-packages (from aiohttp->datasets) (1.5.0)\n",
      "Requirement already satisfied: multidict<7.0,>=4.5 in c:\\users\\jonathan\\desktop\\f20aa - applied text analytics\\cw1\\f20aa_grp5\\.venv\\lib\\site-packages (from aiohttp->datasets) (6.1.0)\n",
      "Requirement already satisfied: propcache>=0.2.0 in c:\\users\\jonathan\\desktop\\f20aa - applied text analytics\\cw1\\f20aa_grp5\\.venv\\lib\\site-packages (from aiohttp->datasets) (0.2.1)\n",
      "Requirement already satisfied: yarl<2.0,>=1.17.0 in c:\\users\\jonathan\\desktop\\f20aa - applied text analytics\\cw1\\f20aa_grp5\\.venv\\lib\\site-packages (from aiohttp->datasets) (1.18.3)\n",
      "Requirement already satisfied: typing-extensions>=3.7.4.3 in c:\\users\\jonathan\\desktop\\f20aa - applied text analytics\\cw1\\f20aa_grp5\\.venv\\lib\\site-packages (from huggingface-hub<1.0,>=0.24.0->transformers) (4.12.2)\n",
      "Requirement already satisfied: charset-normalizer<4,>=2 in c:\\users\\jonathan\\desktop\\f20aa - applied text analytics\\cw1\\f20aa_grp5\\.venv\\lib\\site-packages (from requests->transformers) (3.4.1)\n",
      "Requirement already satisfied: idna<4,>=2.5 in c:\\users\\jonathan\\desktop\\f20aa - applied text analytics\\cw1\\f20aa_grp5\\.venv\\lib\\site-packages (from requests->transformers) (3.10)\n",
      "Requirement already satisfied: urllib3<3,>=1.21.1 in c:\\users\\jonathan\\desktop\\f20aa - applied text analytics\\cw1\\f20aa_grp5\\.venv\\lib\\site-packages (from requests->transformers) (2.3.0)\n",
      "Requirement already satisfied: certifi>=2017.4.17 in c:\\users\\jonathan\\desktop\\f20aa - applied text analytics\\cw1\\f20aa_grp5\\.venv\\lib\\site-packages (from requests->transformers) (2024.12.14)\n",
      "Requirement already satisfied: colorama in c:\\users\\jonathan\\desktop\\f20aa - applied text analytics\\cw1\\f20aa_grp5\\.venv\\lib\\site-packages (from tqdm>=4.27->transformers) (0.4.6)\n",
      "Requirement already satisfied: python-dateutil>=2.8.2 in c:\\users\\jonathan\\desktop\\f20aa - applied text analytics\\cw1\\f20aa_grp5\\.venv\\lib\\site-packages (from pandas->datasets) (2.9.0.post0)\n",
      "Requirement already satisfied: pytz>=2020.1 in c:\\users\\jonathan\\desktop\\f20aa - applied text analytics\\cw1\\f20aa_grp5\\.venv\\lib\\site-packages (from pandas->datasets) (2025.1)\n",
      "Requirement already satisfied: tzdata>=2022.7 in c:\\users\\jonathan\\desktop\\f20aa - applied text analytics\\cw1\\f20aa_grp5\\.venv\\lib\\site-packages (from pandas->datasets) (2025.1)\n",
      "Requirement already satisfied: six>=1.5 in c:\\users\\jonathan\\desktop\\f20aa - applied text analytics\\cw1\\f20aa_grp5\\.venv\\lib\\site-packages (from python-dateutil>=2.8.2->pandas->datasets) (1.17.0)\n",
      "Downloading evaluate-0.4.3-py3-none-any.whl (84 kB)\n",
      "Installing collected packages: evaluate\n",
      "Successfully installed evaluate-0.4.3\n",
      "Note: you may need to restart the kernel to use updated packages.\n"
     ]
    },
    {
     "name": "stderr",
     "output_type": "stream",
     "text": [
      "\n",
      "[notice] A new release of pip is available: 25.0 -> 25.0.1\n",
      "[notice] To update, run: python.exe -m pip install --upgrade pip\n"
     ]
    }
   ],
   "source": [
    "%pip install transformers datasets evaluate"
   ]
  },
  {
   "cell_type": "code",
   "execution_count": 21,
   "metadata": {},
   "outputs": [],
   "source": [
    "import pandas as pd\n",
    "from transformers import pipeline, AutoModelForSequenceClassification, AutoTokenizer, DataCollatorWithPadding, TrainingArguments, Trainer\n",
    "from datasets import Dataset, DatasetDict\n",
    "import evaluate\n",
    "import numpy as np\n",
    "import json"
   ]
  },
  {
   "cell_type": "markdown",
   "metadata": {},
   "source": [
    "## 1. Labelling and Finetuning functions"
   ]
  },
  {
   "cell_type": "code",
   "execution_count": 11,
   "metadata": {},
   "outputs": [],
   "source": [
    "'''\n",
    "Function that labels the data with the provided model\n",
    "and saves the labeled data to a csv file. Additionally,\n",
    "it saves 100 rows with the lowest RoBERTa confidence scores\n",
    "to a new CSV file.\n",
    "\n",
    "Params:\n",
    "model - the model to be used for sentiment analysis\n",
    "tokenizer - the tokenizer to be used for sentiment analysis\n",
    "dataset - dataframe containing the entire dataset\n",
    "round - active learning round\n",
    "'''\n",
    "def label_data(model, tokenizer, dataset, round):\n",
    "  # Initialize the sentiment analysis pipeline\n",
    "  sentiment_pipeline = pipeline(\"text-classification\", \n",
    "                                model=model,\n",
    "                                tokenizer=tokenizer,\n",
    "                                device=0) \n",
    "  \n",
    "  # Extract the text column of selected_data as a list\n",
    "  reviews = dataset[\"text\"].tolist()\n",
    "    \n",
    "  # Calculate the sentiment of the each of the reviews\n",
    "  print(f\"\\nRound {round} - Automated Labelling \")\n",
    "  print(\"Predicting sentiment labels of data...\")\n",
    "\n",
    "  kwargs = {'padding':True,'truncation':True,'max_length':512}\n",
    "  results = sentiment_pipeline(reviews, **kwargs) \n",
    "\n",
    "  print(\"Sentiment labels predicted.\")\n",
    "  print(\"Saving labeled data to a csv files...\")\n",
    "\n",
    "  # Add the sentiment and score to the selected_data DataFrame\n",
    "  label2id = {\"positive\": 1, \"negative\": -1, \"neutral\": 0}\n",
    "  dataset[\"roberta_label\"] = [label2id[res[\"label\"]] for res in results]\n",
    "  dataset[\"roberta_score\"] = [res[\"score\"] for res in results]\n",
    "\n",
    "  # Save the labeled data to a csv file\n",
    "  dataset.to_csv(f'../Data/Labelling/round{round}_roberta_labelled_all_data.csv', index=False)\n",
    "\n",
    "  # Save 100 rows with the lowest RoBERTa confidence scores to a new CSV file\n",
    "  df_low_confidence = dataset.nsmallest(100, 'roberta_score')\n",
    "  df_low_confidence.to_csv(f'../Data/Labelling/round{round}_roberta_labelled_low_confidence.csv', index=False)\n",
    "  \n",
    "  print(f\"Completed Round {round} - Automated Labeling\")\n",
    "\n",
    "  return dataset"
   ]
  },
  {
   "cell_type": "code",
   "execution_count": null,
   "metadata": {},
   "outputs": [],
   "source": [
    "# Load, process and tokenize the manual train and eval data for each round\n",
    "def process_manual_data(tokenizer, round):\n",
    "  \n",
    "  # Load the manual data for the round, and all the rounds before it (to retain previously learnt patterns)\n",
    "  train_data = pd.read_csv(f'../Data/Labelling/Manual/round{round}_manual_low_confidence.csv')\n",
    "  for i in range(1, round):\n",
    "    round_data = pd.read_csv(f'../Data/Labelling/Manual/round{i}_manual_low_confidence.csv')\n",
    "    train_data = pd.concat([train_data, round_data], ignore_index=True)\n",
    "\n",
    "  val_data = pd.read_csv(f'../Data/Labelling/Manual/manual_val_set.csv')\n",
    "\n",
    "  # Drop all columns except the text and the manual label\n",
    "  train_data.drop(columns=[col for col in train_data.columns if col not in ['text', 'manual_label']], inplace=True)\n",
    "  val_data.drop(columns=[col for col in val_data.columns if col not in ['text', 'manual_label']], inplace=True)\n",
    "\n",
    "  # Drop the duplicates from the training manual data, keeping the first occurence (latest label)\n",
    "  train_data.drop_duplicates(subset=['text'], keep='first', inplace=True)\n",
    "\n",
    "  # Drop the rows which are NaN, or contain '2' values in the manual_label column (rows marked irrelevant during manual labelling)\n",
    "  train_data = train_data[train_data['manual_label'] != 2].dropna()\n",
    "\n",
    "  # Rename the manual_label column to labels\n",
    "  train_data.rename(columns={'manual_label':'labels'}, inplace=True)\n",
    "  val_data.rename(columns={'manual_label':'labels'}, inplace=True)\n",
    "\n",
    "  # Map the labels to the model's labels\n",
    "  # 0 -> Negative, 1 -> Neutral, 2, Positive\n",
    "\n",
    "  label2id = {-1: 0, 0: 1, 1: 2}\n",
    "  train_data['labels'] = train_data['labels'].map(label2id)\n",
    "  val_data['labels'] = val_data['labels'].map(label2id)\n",
    "\n",
    "  # Print the number of rows in the training and validation data\n",
    "  print(f\"Round {round} - Training data: {train_data.shape[0]} rows\")\n",
    "  print(f\"Round {round} - Validation data: {val_data.shape[0]} rows\")\n",
    "  \n",
    "  # Convert to Dataset object\n",
    "  train_data = Dataset.from_pandas(train_data)\n",
    "  val_data = Dataset.from_pandas(val_data)\n",
    "  \n",
    "  # Tokenize the data using the model's tokenizer\n",
    "  train_data_tokenized = train_data.map(\n",
    "    lambda instance: tokenizer(instance[\"text\"], truncation=True, max_length=512),\n",
    "    batched=True\n",
    "  )\n",
    "\n",
    "  val_data_tokenized = val_data.map(\n",
    "    lambda instance: tokenizer(instance[\"text\"], truncation=True, max_length=512),\n",
    "    batched=True\n",
    "  )\n",
    "\n",
    "  # Combine the train and val datasets\n",
    "  train_val_dataset = DatasetDict({\"train\": train_data_tokenized, \"val\": val_data_tokenized})\n",
    "\n",
    "  print(f\"Round {round} - Manual data loaded and processed.\")\n",
    "\n",
    "  return train_val_dataset\n",
    "    "
   ]
  },
  {
   "cell_type": "code",
   "execution_count": null,
   "metadata": {},
   "outputs": [],
   "source": [
    "# Function to compute the metrics for the model\n",
    "def compute_metrics(eval_preds):\n",
    "    # Load the metrics - accuracy and f1 score\n",
    "    accuracy = evaluate.load(\"accuracy\")\n",
    "    f1 = evaluate.load(\"f1\")\n",
    "    precision = evaluate.load(\"precision\")\n",
    "    recall = evaluate.load(\"recall\")\n",
    "\n",
    "\n",
    "    # Extract the logits and true labels from the predictions\n",
    "    logits, true_labels = eval_preds\n",
    "\n",
    "    # Compute the predicted label (label with the highest logit score)\n",
    "    pred_labels = np.argmax(logits, axis=-1)\n",
    "\n",
    "    # Compute the metrics using the true and predicted labels\n",
    "    computed_accuracy = accuracy.compute(predictions=pred_labels, \n",
    "                                       references=true_labels)\n",
    "    computed_f1 = f1.compute(predictions=pred_labels,\n",
    "                                references=true_labels)\n",
    "    computed_precision = precision.compute(predictions=pred_labels,\n",
    "                                references=true_labels)\n",
    "    computed_recall = recall.compute(predictions=pred_labels,\n",
    "                                references=true_labels)\n",
    "    \n",
    "    # Return the computed metrics\n",
    "    computed_metrics = {\n",
    "        \"accuracy\": computed_accuracy,\n",
    "        \"f1\": computed_f1,\n",
    "        \"precision\": computed_precision,\n",
    "        \"recall\": computed_recall\n",
    "    }\n",
    "                                \n",
    "    return computed_metrics"
   ]
  },
  {
   "cell_type": "code",
   "execution_count": null,
   "metadata": {},
   "outputs": [],
   "source": [
    "# Reference: https://huggingface.co/docs/transformers/en/training\n",
    "def finetune(model, dataset, tokenizer, round):\n",
    "  # Define a data collator object for dynamic padding (padding to the maximum length of the batch)\n",
    "  data_collator = DataCollatorWithPadding(tokenizer = tokenizer)\n",
    "\n",
    "  # Configure the training arguments\n",
    "  training_arguments = TrainingArguments(\n",
    "    output_dir = f'../Models/round{round}_finetuned_model_checkpoints/',\n",
    "    num_train_epochs = 3,\n",
    "    eval_strategy=\"epoch\",\n",
    "    )\n",
    "  \n",
    "  trainer = Trainer(\n",
    "    model,\n",
    "    training_arguments,\n",
    "    train_dataset = dataset['train'],\n",
    "    eval_dataset = dataset['val'],\n",
    "    data_collator = data_collator,\n",
    "    tokenizer = tokenizer,\n",
    "    compute_metrics=compute_metrics,\n",
    "  )\n",
    "\n",
    "  print(f\"\\nRound {round} - Fine-tuning the model...\")\n",
    "\n",
    "  trainer.train()\n",
    "\n",
    "  # Calculate the metrics on the validation set\n",
    "  eval_results = trainer.evaluate()\n",
    "  print(f\"Round {round} - Evaluation results: {eval_results}\")\n",
    "\n",
    "  # Save evaluation results to a json file\n",
    "  with open(f'../Models/Evaluation/round{round}_finetuned_model_eval_results.json', 'w') as f:\n",
    "    json.dump(eval_results, f, indent=4)\n",
    "    \n",
    "\n",
    "  trainer.save_model(f'../Models/round{round}_finetuned_model')\n",
    "  print(f\"Round {round} - Model fine-tuned.\")\n",
    "\n",
    "  # Return the finetuned model\n",
    "  return trainer.model"
   ]
  },
  {
   "cell_type": "code",
   "execution_count": null,
   "metadata": {},
   "outputs": [],
   "source": [
    "# Function to conduct one round of active learning\n",
    "def active_learning(pretrained_model, dataset, tokenizer, round):\n",
    "  print (f\"Round {round} of Active Learning\")\n",
    "\n",
    "  # 1. Load the model\n",
    "  if round == 1:\n",
    "    # For round 1, load the pretrained model\n",
    "    model = AutoModelForSequenceClassification.from_pretrained(pretrained_model)\n",
    "  else:\n",
    "    # For subsequent rounds, load the finetuned model from the previous round\n",
    "    model = AutoModelForSequenceClassification.from_pretrained(f'../Models/round{round-1}_finetuned_model')\n",
    "      \n",
    "  # 2. Using the model, automatically label the entire dataset\n",
    "  label_data(model = model, \n",
    "            dataset = dataset, \n",
    "            tokenizer = tokenizer,\n",
    "            round = round)\n",
    "  \n",
    "  # 3. Load the manually labeled data, including the newly labeled data from the previous round\n",
    "  train_val_data = process_manual_data(tokenizer = tokenizer,\n",
    "                                    round = round) \n",
    "  \n",
    "  # 4. Fine-tune the model on the manually labeled data\n",
    "  finetune(model = model, \n",
    "          dataset = train_val_data,\n",
    "          tokenizer = tokenizer,\n",
    "          round = round)\n",
    "      \n",
    "  print (f\"Completed Round {round} of Active Learning\")\n"
   ]
  },
  {
   "cell_type": "markdown",
   "metadata": {},
   "source": [
    "## 2. Run Active Learning Loop"
   ]
  },
  {
   "cell_type": "markdown",
   "metadata": {},
   "source": [
    "Active learning allows us to manually label the most informative parts of the dataset that confuses the model the most. "
   ]
  },
  {
   "cell_type": "code",
   "execution_count": null,
   "metadata": {},
   "outputs": [],
   "source": [
    "# Load the selected data, and tokenizer\n",
    "pretrained_model_name = \"cardiffnlp/twitter-roberta-base-sentiment-latest\"\n",
    "dataset = pd.read_csv('../Data/selected_data.csv')\n",
    "tokenizer = AutoTokenizer.from_pretrained(pretrained_model_name)"
   ]
  },
  {
   "cell_type": "code",
   "execution_count": null,
   "metadata": {},
   "outputs": [],
   "source": [
    "# Conduct active learning - round 1\n",
    "active_learning(pretrained_model = pretrained_model_name, \n",
    "                tokenizer = tokenizer, \n",
    "                dataset = dataset, \n",
    "                round = 1)"
   ]
  },
  {
   "cell_type": "code",
   "execution_count": null,
   "metadata": {},
   "outputs": [],
   "source": [
    "# Conduct active learning - round 2\n",
    "active_learning(pretrained_model = pretrained_model_name, \n",
    "                tokenizer = tokenizer, \n",
    "                dataset = dataset, \n",
    "                round = 2)"
   ]
  },
  {
   "cell_type": "code",
   "execution_count": null,
   "metadata": {},
   "outputs": [],
   "source": [
    "# Conduct active learning - round 3\n",
    "active_learning(pretrained_model = pretrained_model_name, \n",
    "                tokenizer = tokenizer, \n",
    "                dataset = dataset, \n",
    "                round = 3)"
   ]
  },
  {
   "cell_type": "code",
   "execution_count": null,
   "metadata": {},
   "outputs": [],
   "source": [
    "# Conduct active learning - round 4\n",
    "active_learning(pretrained_model = pretrained_model_name, \n",
    "                tokenizer = tokenizer, \n",
    "                dataset = dataset, \n",
    "                round = 4)"
   ]
  },
  {
   "cell_type": "code",
   "execution_count": null,
   "metadata": {},
   "outputs": [],
   "source": [
    "# Conduct active learning - round 5\n",
    "active_learning(pretrained_model = pretrained_model_name, \n",
    "                tokenizer = tokenizer, \n",
    "                dataset = dataset, \n",
    "                round = 5)"
   ]
  }
 ],
 "metadata": {
  "kernelspec": {
   "display_name": ".venv",
   "language": "python",
   "name": "python3"
  },
  "language_info": {
   "codemirror_mode": {
    "name": "ipython",
    "version": 3
   },
   "file_extension": ".py",
   "mimetype": "text/x-python",
   "name": "python",
   "nbconvert_exporter": "python",
   "pygments_lexer": "ipython3",
   "version": "3.12.1"
  }
 },
 "nbformat": 4,
 "nbformat_minor": 2
}
