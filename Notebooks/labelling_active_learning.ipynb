{
 "cells": [
  {
   "cell_type": "markdown",
   "metadata": {},
   "source": [
    "# LABELLING - ACTIVE LEARNING"
   ]
  },
  {
   "cell_type": "code",
   "execution_count": 1,
   "metadata": {},
   "outputs": [
    {
     "name": "stdout",
     "output_type": "stream",
     "text": [
      "Defaulting to user installation because normal site-packages is not writeable\n",
      "Requirement already satisfied: transformers in c:\\users\\user\\appdata\\local\\packages\\pythonsoftwarefoundation.python.3.12_qbz5n2kfra8p0\\localcache\\local-packages\\python312\\site-packages (4.48.2)\n",
      "Requirement already satisfied: datasets in c:\\users\\user\\appdata\\local\\packages\\pythonsoftwarefoundation.python.3.12_qbz5n2kfra8p0\\localcache\\local-packages\\python312\\site-packages (3.1.0)\n",
      "Requirement already satisfied: evaluate in c:\\users\\user\\appdata\\local\\packages\\pythonsoftwarefoundation.python.3.12_qbz5n2kfra8p0\\localcache\\local-packages\\python312\\site-packages (0.4.3)\n",
      "Requirement already satisfied: filelock in c:\\users\\user\\appdata\\local\\packages\\pythonsoftwarefoundation.python.3.12_qbz5n2kfra8p0\\localcache\\local-packages\\python312\\site-packages (from transformers) (3.16.1)\n",
      "Requirement already satisfied: huggingface-hub<1.0,>=0.24.0 in c:\\users\\user\\appdata\\local\\packages\\pythonsoftwarefoundation.python.3.12_qbz5n2kfra8p0\\localcache\\local-packages\\python312\\site-packages (from transformers) (0.26.2)\n",
      "Requirement already satisfied: numpy>=1.17 in c:\\users\\user\\appdata\\local\\packages\\pythonsoftwarefoundation.python.3.12_qbz5n2kfra8p0\\localcache\\local-packages\\python312\\site-packages (from transformers) (1.26.4)\n",
      "Requirement already satisfied: packaging>=20.0 in c:\\users\\user\\appdata\\local\\packages\\pythonsoftwarefoundation.python.3.12_qbz5n2kfra8p0\\localcache\\local-packages\\python312\\site-packages (from transformers) (24.1)\n",
      "Requirement already satisfied: pyyaml>=5.1 in c:\\users\\user\\appdata\\local\\packages\\pythonsoftwarefoundation.python.3.12_qbz5n2kfra8p0\\localcache\\local-packages\\python312\\site-packages (from transformers) (6.0.2)\n",
      "Requirement already satisfied: regex!=2019.12.17 in c:\\users\\user\\appdata\\local\\packages\\pythonsoftwarefoundation.python.3.12_qbz5n2kfra8p0\\localcache\\local-packages\\python312\\site-packages (from transformers) (2024.11.6)\n",
      "Requirement already satisfied: requests in c:\\users\\user\\appdata\\local\\packages\\pythonsoftwarefoundation.python.3.12_qbz5n2kfra8p0\\localcache\\local-packages\\python312\\site-packages (from transformers) (2.32.3)\n",
      "Requirement already satisfied: tokenizers<0.22,>=0.21 in c:\\users\\user\\appdata\\local\\packages\\pythonsoftwarefoundation.python.3.12_qbz5n2kfra8p0\\localcache\\local-packages\\python312\\site-packages (from transformers) (0.21.0)\n",
      "Requirement already satisfied: safetensors>=0.4.1 in c:\\users\\user\\appdata\\local\\packages\\pythonsoftwarefoundation.python.3.12_qbz5n2kfra8p0\\localcache\\local-packages\\python312\\site-packages (from transformers) (0.5.2)\n",
      "Requirement already satisfied: tqdm>=4.27 in c:\\users\\user\\appdata\\local\\packages\\pythonsoftwarefoundation.python.3.12_qbz5n2kfra8p0\\localcache\\local-packages\\python312\\site-packages (from transformers) (4.66.6)\n",
      "Requirement already satisfied: pyarrow>=15.0.0 in c:\\users\\user\\appdata\\local\\packages\\pythonsoftwarefoundation.python.3.12_qbz5n2kfra8p0\\localcache\\local-packages\\python312\\site-packages (from datasets) (18.0.0)\n",
      "Requirement already satisfied: dill<0.3.9,>=0.3.0 in c:\\users\\user\\appdata\\local\\packages\\pythonsoftwarefoundation.python.3.12_qbz5n2kfra8p0\\localcache\\local-packages\\python312\\site-packages (from datasets) (0.3.8)\n",
      "Requirement already satisfied: pandas in c:\\users\\user\\appdata\\local\\packages\\pythonsoftwarefoundation.python.3.12_qbz5n2kfra8p0\\localcache\\local-packages\\python312\\site-packages (from datasets) (2.2.3)\n",
      "Requirement already satisfied: xxhash in c:\\users\\user\\appdata\\local\\packages\\pythonsoftwarefoundation.python.3.12_qbz5n2kfra8p0\\localcache\\local-packages\\python312\\site-packages (from datasets) (3.5.0)\n",
      "Requirement already satisfied: multiprocess<0.70.17 in c:\\users\\user\\appdata\\local\\packages\\pythonsoftwarefoundation.python.3.12_qbz5n2kfra8p0\\localcache\\local-packages\\python312\\site-packages (from datasets) (0.70.16)\n",
      "Requirement already satisfied: fsspec<=2024.9.0,>=2023.1.0 in c:\\users\\user\\appdata\\local\\packages\\pythonsoftwarefoundation.python.3.12_qbz5n2kfra8p0\\localcache\\local-packages\\python312\\site-packages (from fsspec[http]<=2024.9.0,>=2023.1.0->datasets) (2024.9.0)\n",
      "Requirement already satisfied: aiohttp in c:\\users\\user\\appdata\\local\\packages\\pythonsoftwarefoundation.python.3.12_qbz5n2kfra8p0\\localcache\\local-packages\\python312\\site-packages (from datasets) (3.10.10)\n",
      "Requirement already satisfied: aiohappyeyeballs>=2.3.0 in c:\\users\\user\\appdata\\local\\packages\\pythonsoftwarefoundation.python.3.12_qbz5n2kfra8p0\\localcache\\local-packages\\python312\\site-packages (from aiohttp->datasets) (2.4.3)\n",
      "Requirement already satisfied: aiosignal>=1.1.2 in c:\\users\\user\\appdata\\local\\packages\\pythonsoftwarefoundation.python.3.12_qbz5n2kfra8p0\\localcache\\local-packages\\python312\\site-packages (from aiohttp->datasets) (1.3.1)\n",
      "Requirement already satisfied: attrs>=17.3.0 in c:\\users\\user\\appdata\\local\\packages\\pythonsoftwarefoundation.python.3.12_qbz5n2kfra8p0\\localcache\\local-packages\\python312\\site-packages (from aiohttp->datasets) (24.2.0)\n",
      "Requirement already satisfied: frozenlist>=1.1.1 in c:\\users\\user\\appdata\\local\\packages\\pythonsoftwarefoundation.python.3.12_qbz5n2kfra8p0\\localcache\\local-packages\\python312\\site-packages (from aiohttp->datasets) (1.5.0)\n",
      "Requirement already satisfied: multidict<7.0,>=4.5 in c:\\users\\user\\appdata\\local\\packages\\pythonsoftwarefoundation.python.3.12_qbz5n2kfra8p0\\localcache\\local-packages\\python312\\site-packages (from aiohttp->datasets) (6.1.0)\n",
      "Requirement already satisfied: yarl<2.0,>=1.12.0 in c:\\users\\user\\appdata\\local\\packages\\pythonsoftwarefoundation.python.3.12_qbz5n2kfra8p0\\localcache\\local-packages\\python312\\site-packages (from aiohttp->datasets) (1.17.1)\n",
      "Requirement already satisfied: typing-extensions>=3.7.4.3 in c:\\users\\user\\appdata\\local\\packages\\pythonsoftwarefoundation.python.3.12_qbz5n2kfra8p0\\localcache\\local-packages\\python312\\site-packages (from huggingface-hub<1.0,>=0.24.0->transformers) (4.12.2)\n",
      "Requirement already satisfied: charset-normalizer<4,>=2 in c:\\users\\user\\appdata\\local\\packages\\pythonsoftwarefoundation.python.3.12_qbz5n2kfra8p0\\localcache\\local-packages\\python312\\site-packages (from requests->transformers) (3.4.0)\n",
      "Requirement already satisfied: idna<4,>=2.5 in c:\\users\\user\\appdata\\local\\packages\\pythonsoftwarefoundation.python.3.12_qbz5n2kfra8p0\\localcache\\local-packages\\python312\\site-packages (from requests->transformers) (3.10)\n",
      "Requirement already satisfied: urllib3<3,>=1.21.1 in c:\\users\\user\\appdata\\local\\packages\\pythonsoftwarefoundation.python.3.12_qbz5n2kfra8p0\\localcache\\local-packages\\python312\\site-packages (from requests->transformers) (2.2.3)\n",
      "Requirement already satisfied: certifi>=2017.4.17 in c:\\users\\user\\appdata\\local\\packages\\pythonsoftwarefoundation.python.3.12_qbz5n2kfra8p0\\localcache\\local-packages\\python312\\site-packages (from requests->transformers) (2024.8.30)\n",
      "Requirement already satisfied: colorama in c:\\users\\user\\appdata\\local\\packages\\pythonsoftwarefoundation.python.3.12_qbz5n2kfra8p0\\localcache\\local-packages\\python312\\site-packages (from tqdm>=4.27->transformers) (0.4.6)\n",
      "Requirement already satisfied: python-dateutil>=2.8.2 in c:\\users\\user\\appdata\\local\\packages\\pythonsoftwarefoundation.python.3.12_qbz5n2kfra8p0\\localcache\\local-packages\\python312\\site-packages (from pandas->datasets) (2.9.0.post0)\n",
      "Requirement already satisfied: pytz>=2020.1 in c:\\users\\user\\appdata\\local\\packages\\pythonsoftwarefoundation.python.3.12_qbz5n2kfra8p0\\localcache\\local-packages\\python312\\site-packages (from pandas->datasets) (2024.2)\n",
      "Requirement already satisfied: tzdata>=2022.7 in c:\\users\\user\\appdata\\local\\packages\\pythonsoftwarefoundation.python.3.12_qbz5n2kfra8p0\\localcache\\local-packages\\python312\\site-packages (from pandas->datasets) (2024.2)\n",
      "Requirement already satisfied: six>=1.5 in c:\\users\\user\\appdata\\local\\packages\\pythonsoftwarefoundation.python.3.12_qbz5n2kfra8p0\\localcache\\local-packages\\python312\\site-packages (from python-dateutil>=2.8.2->pandas->datasets) (1.16.0)\n",
      "Requirement already satisfied: propcache>=0.2.0 in c:\\users\\user\\appdata\\local\\packages\\pythonsoftwarefoundation.python.3.12_qbz5n2kfra8p0\\localcache\\local-packages\\python312\\site-packages (from yarl<2.0,>=1.12.0->aiohttp->datasets) (0.2.0)\n",
      "Note: you may need to restart the kernel to use updated packages.\n"
     ]
    },
    {
     "name": "stderr",
     "output_type": "stream",
     "text": [
      "\n",
      "[notice] A new release of pip is available: 25.0 -> 25.0.1\n",
      "[notice] To update, run: C:\\Users\\User\\AppData\\Local\\Microsoft\\WindowsApps\\PythonSoftwareFoundation.Python.3.12_qbz5n2kfra8p0\\python.exe -m pip install --upgrade pip\n"
     ]
    }
   ],
   "source": [
    "%pip install transformers datasets evaluate"
   ]
  },
  {
   "cell_type": "code",
   "execution_count": 2,
   "metadata": {},
   "outputs": [
    {
     "name": "stderr",
     "output_type": "stream",
     "text": [
      "c:\\Users\\Jonathan\\Desktop\\F20AA - Applied Text Analytics\\CW1\\F20AA_Grp5\\.venv\\Lib\\site-packages\\tqdm\\auto.py:21: TqdmWarning: IProgress not found. Please update jupyter and ipywidgets. See https://ipywidgets.readthedocs.io/en/stable/user_install.html\n",
      "  from .autonotebook import tqdm as notebook_tqdm\n"
     ]
    }
   ],
   "source": [
    "import pandas as pd\n",
    "from transformers import pipeline, AutoModelForSequenceClassification, AutoTokenizer, DataCollatorWithPadding, TrainingArguments, Trainer\n",
    "from datasets import Dataset, DatasetDict\n",
    "import evaluate\n",
    "import numpy as np\n",
    "import json"
   ]
  },
  {
   "cell_type": "markdown",
   "metadata": {},
   "source": [
    "## 1. Labelling and Finetuning functions"
   ]
  },
  {
   "cell_type": "code",
   "execution_count": 3,
   "metadata": {},
   "outputs": [],
   "source": [
    "'''\n",
    "Function that labels the data with the provided model\n",
    "and saves the labeled data to a csv file. Additionally,\n",
    "it saves 100 rows with the lowest RoBERTa confidence scores\n",
    "to a new CSV file.\n",
    "\n",
    "Params:\n",
    "model - the model to be used for sentiment analysis\n",
    "tokenizer - the tokenizer to be used for sentiment analysis\n",
    "dataset - dataframe containing the entire dataset\n",
    "round - active learning round\n",
    "'''\n",
    "def label_data(model, tokenizer, dataset, round):\n",
    "  # Initialize the sentiment analysis pipeline\n",
    "  sentiment_pipeline = pipeline(\"text-classification\", \n",
    "                                model=model,\n",
    "                                tokenizer=tokenizer,\n",
    "                                device=0) \n",
    "  \n",
    "  # Extract the text column of selected_data as a list\n",
    "  reviews = dataset[\"text\"].tolist()\n",
    "    \n",
    "  # Calculate the sentiment of the each of the reviews\n",
    "  print(f\"\\nRound {round} - Automated Labelling \")\n",
    "  print(\"Predicting sentiment labels of data...\")\n",
    "\n",
    "  kwargs = {'padding':True,'truncation':True,'max_length':512}\n",
    "  results = sentiment_pipeline(reviews, **kwargs) \n",
    "\n",
    "  print(\"Sentiment labels predicted.\")\n",
    "  print(\"Saving labeled data to a csv files...\")\n",
    "\n",
    "  # Add the sentiment and score to the selected_data DataFrame\n",
    "  label2id = {\"positive\": 1, \"negative\": -1, \"neutral\": 0}\n",
    "  dataset[\"roberta_label\"] = [label2id[res[\"label\"]] for res in results]\n",
    "  dataset[\"roberta_score\"] = [res[\"score\"] for res in results]\n",
    "\n",
    "  # Save the labeled data to a csv file\n",
    "  dataset.to_csv(f'../Data/Labelling/round{round}_roberta_labelled_all_data.csv', index=False)\n",
    "\n",
    "  # Save 100 rows with the lowest RoBERTa confidence scores to a new CSV file\n",
    "  df_low_confidence = dataset.nsmallest(100, 'roberta_score')\n",
    "  df_low_confidence.to_csv(f'../Data/Labelling/round{round}_roberta_labelled_low_confidence.csv', index=False)\n",
    "  \n",
    "  print(f\"Completed Round {round} - Automated Labeling\")\n",
    "\n",
    "  return dataset"
   ]
  },
  {
   "cell_type": "code",
   "execution_count": 4,
   "metadata": {},
   "outputs": [],
   "source": [
    "# Load, process and tokenize the manual train and eval data for each round\n",
    "def process_manual_data(tokenizer, round):\n",
    "\n",
    "  # Wait till user confirms that the manual data is ready\n",
    "  input(f\"Please ensure that the manual data for round {round} is ready. Press Enter to continue...\")\n",
    "  \n",
    "  # Load the manual data for the round, and all the rounds before it (to retain previously learnt patterns)\n",
    "  train_data = pd.read_csv(f'../Data/Labelling/Manual/round{round}_manual_low_confidence.csv')\n",
    "  for i in range(1, round):\n",
    "    round_data = pd.read_csv(f'../Data/Labelling/Manual/round{i}_manual_low_confidence.csv')\n",
    "    train_data = pd.concat([train_data, round_data], ignore_index=True)\n",
    "\n",
    "  val_data = pd.read_csv(f'../Data/Labelling/Manual/manual_val_set.csv')\n",
    "\n",
    "  # Drop all columns except the text and the manual label\n",
    "  train_data.drop(columns=[col for col in train_data.columns if col not in ['text', 'manual_label']], inplace=True)\n",
    "  val_data.drop(columns=[col for col in val_data.columns if col not in ['text', 'manual_label']], inplace=True)\n",
    "\n",
    "  # Drop the duplicates from the training manual data, keeping the first occurence (latest label)\n",
    "  train_data.drop_duplicates(subset=['text'], keep='first', inplace=True)\n",
    "\n",
    "  # Drop the rows which are NaN, or contain '2' values in the manual_label column (rows marked irrelevant during manual labelling)\n",
    "  train_data = train_data[train_data['manual_label'] != 2].dropna()\n",
    "\n",
    "  # Rename the manual_label column to labels\n",
    "  train_data.rename(columns={'manual_label':'labels'}, inplace=True)\n",
    "  val_data.rename(columns={'manual_label':'labels'}, inplace=True)\n",
    "\n",
    "  # Map the labels to the model's labels\n",
    "  # 0 -> Negative, 1 -> Neutral, 2, Positive\n",
    "\n",
    "  label2id = {-1: 0, 0: 1, 1: 2}\n",
    "  train_data['labels'] = train_data['labels'].map(label2id)\n",
    "  val_data['labels'] = val_data['labels'].map(label2id)\n",
    "\n",
    "  # Print the number of rows in the training and validation data\n",
    "  print(f\"Round {round} - Training data: {train_data.shape[0]} rows\")\n",
    "  print(f\"Round {round} - Validation data: {val_data.shape[0]} rows\")\n",
    "  \n",
    "  # Convert to Dataset object\n",
    "  train_data = Dataset.from_pandas(train_data)\n",
    "  val_data = Dataset.from_pandas(val_data)\n",
    "  \n",
    "  # Tokenize the data using the model's tokenizer\n",
    "  train_data_tokenized = train_data.map(\n",
    "    lambda instance: tokenizer(instance[\"text\"], truncation=True, max_length=512),\n",
    "    batched=True\n",
    "  )\n",
    "\n",
    "  val_data_tokenized = val_data.map(\n",
    "    lambda instance: tokenizer(instance[\"text\"], truncation=True, max_length=512),\n",
    "    batched=True\n",
    "  )\n",
    "\n",
    "  # Combine the train and val datasets\n",
    "  train_val_dataset = DatasetDict({\"train\": train_data_tokenized, \"val\": val_data_tokenized})\n",
    "\n",
    "  print(f\"Round {round} - Manual data loaded and processed.\")\n",
    "\n",
    "  return train_val_dataset\n",
    "    "
   ]
  },
  {
   "cell_type": "code",
   "execution_count": 5,
   "metadata": {},
   "outputs": [],
   "source": [
    "# Function to compute the metrics for the model\n",
    "def compute_metrics(eval_preds):\n",
    "    # Load the metrics - accuracy and f1 score\n",
    "    accuracy = evaluate.load(\"accuracy\")\n",
    "    f1 = evaluate.load(\"f1\")\n",
    "\n",
    "    # Extract the logits and true labels from the predictions\n",
    "    logits, true_labels = eval_preds\n",
    "\n",
    "    # Compute the predicted label (label with the highest logit score)\n",
    "    pred_labels = np.argmax(logits, axis=-1)\n",
    "\n",
    "    # Compute the metrics using the true and predicted labels\n",
    "    computed_metrics = accuracy.compute(predictions=pred_labels, \n",
    "                                        references=true_labels)\n",
    "    \n",
    "    computed_metrics.update(f1.compute(predictions=pred_labels,\n",
    "                                references=true_labels,\n",
    "                                average = 'weighted'))   \n",
    "                                \n",
    "    return computed_metrics"
   ]
  },
  {
   "cell_type": "code",
   "execution_count": 6,
   "metadata": {},
   "outputs": [],
   "source": [
    "# Reference: https://huggingface.co/docs/transformers/en/training\n",
    "def finetune(model, dataset, tokenizer, round):\n",
    "  # Define a data collator object for dynamic padding (padding to the maximum length of the batch)\n",
    "  data_collator = DataCollatorWithPadding(tokenizer = tokenizer)\n",
    "\n",
    "  # Configure the training arguments\n",
    "  training_arguments = TrainingArguments(\n",
    "    output_dir = f'../Models/round{round}_finetuned_model_checkpoints/',\n",
    "    num_train_epochs = 3,\n",
    "    eval_strategy=\"epoch\",\n",
    "    logging_strategy=\"epoch\",\n",
    "    save_strategy=\"no\",\n",
    "    )\n",
    "  \n",
    "  trainer = Trainer(\n",
    "    model,\n",
    "    training_arguments,\n",
    "    train_dataset = dataset['train'],\n",
    "    eval_dataset = dataset['val'],\n",
    "    data_collator = data_collator,\n",
    "    tokenizer = tokenizer,\n",
    "    compute_metrics=compute_metrics,\n",
    "  )\n",
    "\n",
    "  print(f\"\\nRound {round} - Fine-tuning the model...\")\n",
    "\n",
    "  trainer.train()\n",
    "\n",
    "  # Calculate the metrics on the validation set\n",
    "  eval_results = trainer.evaluate()\n",
    "  print(f\"Round {round} - Evaluation results: {eval_results}\")\n",
    "\n",
    "  # Save evaluation results to a json file\n",
    "  with open(f'../Models/Evaluation/round{round}_finetuned_model_eval_results.json', 'w') as f:\n",
    "    json.dump(eval_results, f, indent=4)\n",
    "    \n",
    "\n",
    "  trainer.save_model(f'../Models/round{round}_finetuned_model')\n",
    "  print(f\"Round {round} - Model fine-tuned.\")\n",
    "\n",
    "  # Return the finetuned model\n",
    "  return trainer.model"
   ]
  },
  {
   "cell_type": "code",
   "execution_count": 7,
   "metadata": {},
   "outputs": [],
   "source": [
    "# Function to conduct one round of active learning\n",
    "def active_learning(pretrained_model, dataset, tokenizer, round):\n",
    "  print (f\"Round {round} of Active Learning\")\n",
    "\n",
    "  # 1. Load the model\n",
    "  if round == 1:\n",
    "    # For round 1, load the pretrained model\n",
    "    model = AutoModelForSequenceClassification.from_pretrained(pretrained_model)\n",
    "  else:\n",
    "    # For subsequent rounds, load the finetuned model from the previous round\n",
    "    model = AutoModelForSequenceClassification.from_pretrained(f'../Models/round{round-1}_finetuned_model')\n",
    "      \n",
    "  # 2. Using the model, automatically label the entire dataset\n",
    "  label_data(model = model, \n",
    "            dataset = dataset, \n",
    "            tokenizer = tokenizer,\n",
    "            round = round)\n",
    "  \n",
    "  # 3. Load the manually labeled data, including the newly labeled data from the previous round\n",
    "  train_val_data = process_manual_data(tokenizer = tokenizer,\n",
    "                                    round = round) \n",
    "  \n",
    "  # 4. Fine-tune the model on the manually labeled data\n",
    "  finetune(model = model, \n",
    "          dataset = train_val_data,\n",
    "          tokenizer = tokenizer,\n",
    "          round = round)\n",
    "      \n",
    "  print (f\"Completed Round {round} of Active Learning\")\n"
   ]
  },
  {
   "cell_type": "markdown",
   "metadata": {},
   "source": [
    "## 2. Run Active Learning Loop"
   ]
  },
  {
   "cell_type": "markdown",
   "metadata": {},
   "source": [
    "Active learning allows us to manually label the most informative parts of the dataset that confuses the model the most. "
   ]
  },
  {
   "cell_type": "code",
   "execution_count": 8,
   "metadata": {},
   "outputs": [],
   "source": [
    "# Load the selected data, and tokenizer\n",
    "pretrained_model_name = \"cardiffnlp/twitter-roberta-base-sentiment-latest\"\n",
    "dataset = pd.read_csv('../Data/selected_data.csv')\n",
    "tokenizer = AutoTokenizer.from_pretrained(pretrained_model_name)"
   ]
  },
  {
   "cell_type": "code",
   "execution_count": 9,
   "metadata": {},
   "outputs": [
    {
     "name": "stdout",
     "output_type": "stream",
     "text": [
      "Round 1 of Active Learning\n"
     ]
    },
    {
     "name": "stderr",
     "output_type": "stream",
     "text": [
      "Some weights of the model checkpoint at cardiffnlp/twitter-roberta-base-sentiment-latest were not used when initializing RobertaForSequenceClassification: ['roberta.pooler.dense.bias', 'roberta.pooler.dense.weight']\n",
      "- This IS expected if you are initializing RobertaForSequenceClassification from the checkpoint of a model trained on another task or with another architecture (e.g. initializing a BertForSequenceClassification model from a BertForPreTraining model).\n",
      "- This IS NOT expected if you are initializing RobertaForSequenceClassification from the checkpoint of a model that you expect to be exactly identical (initializing a BertForSequenceClassification model from a BertForSequenceClassification model).\n",
      "Device set to use cuda:0\n"
     ]
    },
    {
     "name": "stdout",
     "output_type": "stream",
     "text": [
      "\n",
      "Round 1 - Automated Labelling \n",
      "Predicting sentiment labels of data...\n",
      "Sentiment labels predicted.\n",
      "Saving labeled data to a csv files...\n",
      "Completed Round 1 - Automated Labeling\n",
      "Round 1 - Training data: 73 rows\n",
      "Round 1 - Validation data: 199 rows\n"
     ]
    },
    {
     "data": {
      "application/vnd.jupyter.widget-view+json": {
       "model_id": "48dad4672dad4ec199e780e8fe790d15",
       "version_major": 2,
       "version_minor": 0
      },
      "text/plain": [
       "Map:   0%|          | 0/73 [00:00<?, ? examples/s]"
      ]
     },
     "metadata": {},
     "output_type": "display_data"
    },
    {
     "data": {
      "application/vnd.jupyter.widget-view+json": {
       "model_id": "6ce8ce05b7d846d391ef66fc6e18a9f5",
       "version_major": 2,
       "version_minor": 0
      },
      "text/plain": [
       "Map:   0%|          | 0/199 [00:00<?, ? examples/s]"
      ]
     },
     "metadata": {},
     "output_type": "display_data"
    },
    {
     "name": "stdout",
     "output_type": "stream",
     "text": [
      "Round 1 - Manual data loaded and processed.\n",
      "\n",
      "Round 1 - Fine-tuning the model...\n"
     ]
    },
    {
     "name": "stderr",
     "output_type": "stream",
     "text": [
      "C:\\Users\\User\\AppData\\Local\\Temp\\ipykernel_29816\\2611181382.py:15: FutureWarning: `tokenizer` is deprecated and will be removed in version 5.0.0 for `Trainer.__init__`. Use `processing_class` instead.\n",
      "  trainer = Trainer(\n"
     ]
    },
    {
     "data": {
      "text/html": [
       "\n",
       "    <div>\n",
       "      \n",
       "      <progress value='30' max='30' style='width:300px; height:20px; vertical-align: middle;'></progress>\n",
       "      [30/30 01:13, Epoch 3/3]\n",
       "    </div>\n",
       "    <table border=\"1\" class=\"dataframe\">\n",
       "  <thead>\n",
       " <tr style=\"text-align: left;\">\n",
       "      <th>Epoch</th>\n",
       "      <th>Training Loss</th>\n",
       "      <th>Validation Loss</th>\n",
       "      <th>Accuracy</th>\n",
       "      <th>F1</th>\n",
       "    </tr>\n",
       "  </thead>\n",
       "  <tbody>\n",
       "    <tr>\n",
       "      <td>1</td>\n",
       "      <td>1.366000</td>\n",
       "      <td>1.076808</td>\n",
       "      <td>0.376884</td>\n",
       "      <td>0.278355</td>\n",
       "    </tr>\n",
       "    <tr>\n",
       "      <td>2</td>\n",
       "      <td>1.011800</td>\n",
       "      <td>1.046965</td>\n",
       "      <td>0.457286</td>\n",
       "      <td>0.395463</td>\n",
       "    </tr>\n",
       "    <tr>\n",
       "      <td>3</td>\n",
       "      <td>0.878800</td>\n",
       "      <td>1.013552</td>\n",
       "      <td>0.497487</td>\n",
       "      <td>0.446973</td>\n",
       "    </tr>\n",
       "  </tbody>\n",
       "</table><p>"
      ],
      "text/plain": [
       "<IPython.core.display.HTML object>"
      ]
     },
     "metadata": {},
     "output_type": "display_data"
    },
    {
     "data": {
      "text/html": [
       "\n",
       "    <div>\n",
       "      \n",
       "      <progress value='25' max='25' style='width:300px; height:20px; vertical-align: middle;'></progress>\n",
       "      [25/25 00:00]\n",
       "    </div>\n",
       "    "
      ],
      "text/plain": [
       "<IPython.core.display.HTML object>"
      ]
     },
     "metadata": {},
     "output_type": "display_data"
    },
    {
     "name": "stdout",
     "output_type": "stream",
     "text": [
      "Round 1 - Evaluation results: {'eval_loss': 1.0135518312454224, 'eval_accuracy': 0.49748743718592964, 'eval_f1': 0.4469728556358892, 'eval_runtime': 2.7767, 'eval_samples_per_second': 71.669, 'eval_steps_per_second': 9.004, 'epoch': 3.0}\n",
      "Round 1 - Model fine-tuned.\n",
      "Completed Round 1 of Active Learning\n"
     ]
    }
   ],
   "source": [
    "# Conduct active learning - round 1\n",
    "active_learning(pretrained_model = pretrained_model_name, \n",
    "                tokenizer = tokenizer, \n",
    "                dataset = dataset, \n",
    "                round = 1)"
   ]
  },
  {
   "cell_type": "code",
   "execution_count": 10,
   "metadata": {},
   "outputs": [
    {
     "name": "stderr",
     "output_type": "stream",
     "text": [
      "Device set to use cuda:0\n"
     ]
    },
    {
     "name": "stdout",
     "output_type": "stream",
     "text": [
      "Round 2 of Active Learning\n",
      "\n",
      "Round 2 - Automated Labelling \n",
      "Predicting sentiment labels of data...\n",
      "Sentiment labels predicted.\n",
      "Saving labeled data to a csv files...\n",
      "Completed Round 2 - Automated Labeling\n",
      "Round 2 - Training data: 122 rows\n",
      "Round 2 - Validation data: 199 rows\n"
     ]
    },
    {
     "data": {
      "application/vnd.jupyter.widget-view+json": {
       "model_id": "adf76e73ef9e40929bcf2e12fbaa7169",
       "version_major": 2,
       "version_minor": 0
      },
      "text/plain": [
       "Map:   0%|          | 0/122 [00:00<?, ? examples/s]"
      ]
     },
     "metadata": {},
     "output_type": "display_data"
    },
    {
     "data": {
      "application/vnd.jupyter.widget-view+json": {
       "model_id": "64bec1bdd1394873bf66fd15f22255cb",
       "version_major": 2,
       "version_minor": 0
      },
      "text/plain": [
       "Map:   0%|          | 0/199 [00:00<?, ? examples/s]"
      ]
     },
     "metadata": {},
     "output_type": "display_data"
    },
    {
     "name": "stdout",
     "output_type": "stream",
     "text": [
      "Round 2 - Manual data loaded and processed.\n",
      "\n",
      "Round 2 - Fine-tuning the model...\n"
     ]
    },
    {
     "name": "stderr",
     "output_type": "stream",
     "text": [
      "C:\\Users\\User\\AppData\\Local\\Temp\\ipykernel_29816\\2611181382.py:15: FutureWarning: `tokenizer` is deprecated and will be removed in version 5.0.0 for `Trainer.__init__`. Use `processing_class` instead.\n",
      "  trainer = Trainer(\n"
     ]
    },
    {
     "data": {
      "text/html": [
       "\n",
       "    <div>\n",
       "      \n",
       "      <progress value='48' max='48' style='width:300px; height:20px; vertical-align: middle;'></progress>\n",
       "      [48/48 00:12, Epoch 3/3]\n",
       "    </div>\n",
       "    <table border=\"1\" class=\"dataframe\">\n",
       "  <thead>\n",
       " <tr style=\"text-align: left;\">\n",
       "      <th>Epoch</th>\n",
       "      <th>Training Loss</th>\n",
       "      <th>Validation Loss</th>\n",
       "      <th>Accuracy</th>\n",
       "      <th>F1</th>\n",
       "    </tr>\n",
       "  </thead>\n",
       "  <tbody>\n",
       "    <tr>\n",
       "      <td>1</td>\n",
       "      <td>0.869900</td>\n",
       "      <td>0.892357</td>\n",
       "      <td>0.577889</td>\n",
       "      <td>0.581322</td>\n",
       "    </tr>\n",
       "    <tr>\n",
       "      <td>2</td>\n",
       "      <td>0.384400</td>\n",
       "      <td>1.077947</td>\n",
       "      <td>0.582915</td>\n",
       "      <td>0.588859</td>\n",
       "    </tr>\n",
       "    <tr>\n",
       "      <td>3</td>\n",
       "      <td>0.144600</td>\n",
       "      <td>1.298432</td>\n",
       "      <td>0.537688</td>\n",
       "      <td>0.538050</td>\n",
       "    </tr>\n",
       "  </tbody>\n",
       "</table><p>"
      ],
      "text/plain": [
       "<IPython.core.display.HTML object>"
      ]
     },
     "metadata": {},
     "output_type": "display_data"
    },
    {
     "data": {
      "text/html": [
       "\n",
       "    <div>\n",
       "      \n",
       "      <progress value='25' max='25' style='width:300px; height:20px; vertical-align: middle;'></progress>\n",
       "      [25/25 00:00]\n",
       "    </div>\n",
       "    "
      ],
      "text/plain": [
       "<IPython.core.display.HTML object>"
      ]
     },
     "metadata": {},
     "output_type": "display_data"
    },
    {
     "name": "stdout",
     "output_type": "stream",
     "text": [
      "Round 2 - Evaluation results: {'eval_loss': 1.2984318733215332, 'eval_accuracy': 0.5376884422110553, 'eval_f1': 0.5380503960378121, 'eval_runtime': 2.7009, 'eval_samples_per_second': 73.679, 'eval_steps_per_second': 9.256, 'epoch': 3.0}\n",
      "Round 2 - Model fine-tuned.\n",
      "Completed Round 2 of Active Learning\n"
     ]
    }
   ],
   "source": [
    "# Conduct active learning - round 2\n",
    "active_learning(pretrained_model = pretrained_model_name, \n",
    "                tokenizer = tokenizer, \n",
    "                dataset = dataset, \n",
    "                round = 2)"
   ]
  },
  {
   "cell_type": "code",
   "execution_count": 12,
   "metadata": {},
   "outputs": [
    {
     "name": "stderr",
     "output_type": "stream",
     "text": [
      "Device set to use cuda:0\n"
     ]
    },
    {
     "name": "stdout",
     "output_type": "stream",
     "text": [
      "Round 3 of Active Learning\n",
      "\n",
      "Round 3 - Automated Labelling \n",
      "Predicting sentiment labels of data...\n",
      "Sentiment labels predicted.\n",
      "Saving labeled data to a csv files...\n",
      "Completed Round 3 - Automated Labeling\n",
      "Round 3 - Training data: 197 rows\n",
      "Round 3 - Validation data: 199 rows\n"
     ]
    },
    {
     "data": {
      "application/vnd.jupyter.widget-view+json": {
       "model_id": "0c6052710ca247c29242e9958992feb5",
       "version_major": 2,
       "version_minor": 0
      },
      "text/plain": [
       "Map:   0%|          | 0/197 [00:00<?, ? examples/s]"
      ]
     },
     "metadata": {},
     "output_type": "display_data"
    },
    {
     "data": {
      "application/vnd.jupyter.widget-view+json": {
       "model_id": "1651021340bc4a8cb43ea305198f898d",
       "version_major": 2,
       "version_minor": 0
      },
      "text/plain": [
       "Map:   0%|          | 0/199 [00:00<?, ? examples/s]"
      ]
     },
     "metadata": {},
     "output_type": "display_data"
    },
    {
     "name": "stdout",
     "output_type": "stream",
     "text": [
      "Round 3 - Manual data loaded and processed.\n",
      "\n",
      "Round 3 - Fine-tuning the model...\n"
     ]
    },
    {
     "name": "stderr",
     "output_type": "stream",
     "text": [
      "C:\\Users\\User\\AppData\\Local\\Temp\\ipykernel_29816\\2611181382.py:15: FutureWarning: `tokenizer` is deprecated and will be removed in version 5.0.0 for `Trainer.__init__`. Use `processing_class` instead.\n",
      "  trainer = Trainer(\n"
     ]
    },
    {
     "data": {
      "text/html": [
       "\n",
       "    <div>\n",
       "      \n",
       "      <progress value='75' max='75' style='width:300px; height:20px; vertical-align: middle;'></progress>\n",
       "      [75/75 00:34, Epoch 3/3]\n",
       "    </div>\n",
       "    <table border=\"1\" class=\"dataframe\">\n",
       "  <thead>\n",
       " <tr style=\"text-align: left;\">\n",
       "      <th>Epoch</th>\n",
       "      <th>Training Loss</th>\n",
       "      <th>Validation Loss</th>\n",
       "      <th>Accuracy</th>\n",
       "      <th>F1</th>\n",
       "    </tr>\n",
       "  </thead>\n",
       "  <tbody>\n",
       "    <tr>\n",
       "      <td>1</td>\n",
       "      <td>0.654700</td>\n",
       "      <td>1.153739</td>\n",
       "      <td>0.608040</td>\n",
       "      <td>0.609870</td>\n",
       "    </tr>\n",
       "    <tr>\n",
       "      <td>2</td>\n",
       "      <td>0.309000</td>\n",
       "      <td>1.292932</td>\n",
       "      <td>0.613065</td>\n",
       "      <td>0.617172</td>\n",
       "    </tr>\n",
       "    <tr>\n",
       "      <td>3</td>\n",
       "      <td>0.081800</td>\n",
       "      <td>1.621248</td>\n",
       "      <td>0.557789</td>\n",
       "      <td>0.557597</td>\n",
       "    </tr>\n",
       "  </tbody>\n",
       "</table><p>"
      ],
      "text/plain": [
       "<IPython.core.display.HTML object>"
      ]
     },
     "metadata": {},
     "output_type": "display_data"
    },
    {
     "data": {
      "text/html": [
       "\n",
       "    <div>\n",
       "      \n",
       "      <progress value='25' max='25' style='width:300px; height:20px; vertical-align: middle;'></progress>\n",
       "      [25/25 00:00]\n",
       "    </div>\n",
       "    "
      ],
      "text/plain": [
       "<IPython.core.display.HTML object>"
      ]
     },
     "metadata": {},
     "output_type": "display_data"
    },
    {
     "name": "stdout",
     "output_type": "stream",
     "text": [
      "Round 3 - Evaluation results: {'eval_loss': 1.6212475299835205, 'eval_accuracy': 0.5577889447236181, 'eval_f1': 0.5575971518645427, 'eval_runtime': 45.3196, 'eval_samples_per_second': 4.391, 'eval_steps_per_second': 0.552, 'epoch': 3.0}\n",
      "Round 3 - Model fine-tuned.\n",
      "Completed Round 3 of Active Learning\n"
     ]
    }
   ],
   "source": [
    "# Conduct active learning - round 3\n",
    "active_learning(pretrained_model = pretrained_model_name, \n",
    "                tokenizer = tokenizer, \n",
    "                dataset = dataset, \n",
    "                round = 3)"
   ]
  },
  {
   "cell_type": "code",
   "execution_count": 13,
   "metadata": {},
   "outputs": [
    {
     "name": "stderr",
     "output_type": "stream",
     "text": [
      "Device set to use cuda:0\n"
     ]
    },
    {
     "name": "stdout",
     "output_type": "stream",
     "text": [
      "Round 4 of Active Learning\n",
      "\n",
      "Round 4 - Automated Labelling \n",
      "Predicting sentiment labels of data...\n",
      "Sentiment labels predicted.\n",
      "Saving labeled data to a csv files...\n",
      "Completed Round 4 - Automated Labeling\n",
      "Round 4 - Training data: 274 rows\n",
      "Round 4 - Validation data: 199 rows\n"
     ]
    },
    {
     "data": {
      "application/vnd.jupyter.widget-view+json": {
       "model_id": "29bd9d7167734ce7ac03d5f660c30d17",
       "version_major": 2,
       "version_minor": 0
      },
      "text/plain": [
       "Map:   0%|          | 0/274 [00:00<?, ? examples/s]"
      ]
     },
     "metadata": {},
     "output_type": "display_data"
    },
    {
     "data": {
      "application/vnd.jupyter.widget-view+json": {
       "model_id": "15fd4528ee4d423b8353a510f58215a0",
       "version_major": 2,
       "version_minor": 0
      },
      "text/plain": [
       "Map:   0%|          | 0/199 [00:00<?, ? examples/s]"
      ]
     },
     "metadata": {},
     "output_type": "display_data"
    },
    {
     "name": "stdout",
     "output_type": "stream",
     "text": [
      "Round 4 - Manual data loaded and processed.\n",
      "\n",
      "Round 4 - Fine-tuning the model...\n"
     ]
    },
    {
     "name": "stderr",
     "output_type": "stream",
     "text": [
      "C:\\Users\\User\\AppData\\Local\\Temp\\ipykernel_29816\\2611181382.py:15: FutureWarning: `tokenizer` is deprecated and will be removed in version 5.0.0 for `Trainer.__init__`. Use `processing_class` instead.\n",
      "  trainer = Trainer(\n"
     ]
    },
    {
     "data": {
      "text/html": [
       "\n",
       "    <div>\n",
       "      \n",
       "      <progress value='105' max='105' style='width:300px; height:20px; vertical-align: middle;'></progress>\n",
       "      [105/105 00:36, Epoch 3/3]\n",
       "    </div>\n",
       "    <table border=\"1\" class=\"dataframe\">\n",
       "  <thead>\n",
       " <tr style=\"text-align: left;\">\n",
       "      <th>Epoch</th>\n",
       "      <th>Training Loss</th>\n",
       "      <th>Validation Loss</th>\n",
       "      <th>Accuracy</th>\n",
       "      <th>F1</th>\n",
       "    </tr>\n",
       "  </thead>\n",
       "  <tbody>\n",
       "    <tr>\n",
       "      <td>1</td>\n",
       "      <td>0.548100</td>\n",
       "      <td>1.366003</td>\n",
       "      <td>0.567839</td>\n",
       "      <td>0.567688</td>\n",
       "    </tr>\n",
       "    <tr>\n",
       "      <td>2</td>\n",
       "      <td>0.244700</td>\n",
       "      <td>1.919846</td>\n",
       "      <td>0.592965</td>\n",
       "      <td>0.595628</td>\n",
       "    </tr>\n",
       "    <tr>\n",
       "      <td>3</td>\n",
       "      <td>0.109700</td>\n",
       "      <td>2.434428</td>\n",
       "      <td>0.542714</td>\n",
       "      <td>0.534644</td>\n",
       "    </tr>\n",
       "  </tbody>\n",
       "</table><p>"
      ],
      "text/plain": [
       "<IPython.core.display.HTML object>"
      ]
     },
     "metadata": {},
     "output_type": "display_data"
    },
    {
     "data": {
      "text/html": [
       "\n",
       "    <div>\n",
       "      \n",
       "      <progress value='25' max='25' style='width:300px; height:20px; vertical-align: middle;'></progress>\n",
       "      [25/25 00:00]\n",
       "    </div>\n",
       "    "
      ],
      "text/plain": [
       "<IPython.core.display.HTML object>"
      ]
     },
     "metadata": {},
     "output_type": "display_data"
    },
    {
     "name": "stdout",
     "output_type": "stream",
     "text": [
      "Round 4 - Evaluation results: {'eval_loss': 2.4344277381896973, 'eval_accuracy': 0.542713567839196, 'eval_f1': 0.5346436812867987, 'eval_runtime': 2.7587, 'eval_samples_per_second': 72.136, 'eval_steps_per_second': 9.062, 'epoch': 3.0}\n",
      "Round 4 - Model fine-tuned.\n",
      "Completed Round 4 of Active Learning\n"
     ]
    }
   ],
   "source": [
    "# Conduct active learning - round 4\n",
    "active_learning(pretrained_model = pretrained_model_name, \n",
    "                tokenizer = tokenizer, \n",
    "                dataset = dataset, \n",
    "                round = 4)"
   ]
  },
  {
   "cell_type": "code",
   "execution_count": 14,
   "metadata": {},
   "outputs": [
    {
     "name": "stderr",
     "output_type": "stream",
     "text": [
      "Device set to use cuda:0\n"
     ]
    },
    {
     "name": "stdout",
     "output_type": "stream",
     "text": [
      "Round 5 of Active Learning\n",
      "\n",
      "Round 5 - Automated Labelling \n",
      "Predicting sentiment labels of data...\n",
      "Sentiment labels predicted.\n",
      "Saving labeled data to a csv files...\n",
      "Completed Round 5 - Automated Labeling\n",
      "Round 5 - Training data: 337 rows\n",
      "Round 5 - Validation data: 199 rows\n"
     ]
    },
    {
     "data": {
      "application/vnd.jupyter.widget-view+json": {
       "model_id": "b0b60b4cebc84695829023556b3129f2",
       "version_major": 2,
       "version_minor": 0
      },
      "text/plain": [
       "Map:   0%|          | 0/337 [00:00<?, ? examples/s]"
      ]
     },
     "metadata": {},
     "output_type": "display_data"
    },
    {
     "data": {
      "application/vnd.jupyter.widget-view+json": {
       "model_id": "5a07593e24604d95be754ab508af0893",
       "version_major": 2,
       "version_minor": 0
      },
      "text/plain": [
       "Map:   0%|          | 0/199 [00:00<?, ? examples/s]"
      ]
     },
     "metadata": {},
     "output_type": "display_data"
    },
    {
     "name": "stdout",
     "output_type": "stream",
     "text": [
      "Round 5 - Manual data loaded and processed.\n",
      "\n",
      "Round 5 - Fine-tuning the model...\n"
     ]
    },
    {
     "name": "stderr",
     "output_type": "stream",
     "text": [
      "C:\\Users\\User\\AppData\\Local\\Temp\\ipykernel_29816\\2611181382.py:15: FutureWarning: `tokenizer` is deprecated and will be removed in version 5.0.0 for `Trainer.__init__`. Use `processing_class` instead.\n",
      "  trainer = Trainer(\n"
     ]
    },
    {
     "data": {
      "text/html": [
       "\n",
       "    <div>\n",
       "      \n",
       "      <progress value='129' max='129' style='width:300px; height:20px; vertical-align: middle;'></progress>\n",
       "      [129/129 00:37, Epoch 3/3]\n",
       "    </div>\n",
       "    <table border=\"1\" class=\"dataframe\">\n",
       "  <thead>\n",
       " <tr style=\"text-align: left;\">\n",
       "      <th>Epoch</th>\n",
       "      <th>Training Loss</th>\n",
       "      <th>Validation Loss</th>\n",
       "      <th>Accuracy</th>\n",
       "      <th>F1</th>\n",
       "    </tr>\n",
       "  </thead>\n",
       "  <tbody>\n",
       "    <tr>\n",
       "      <td>1</td>\n",
       "      <td>0.495200</td>\n",
       "      <td>2.673341</td>\n",
       "      <td>0.472362</td>\n",
       "      <td>0.460750</td>\n",
       "    </tr>\n",
       "    <tr>\n",
       "      <td>2</td>\n",
       "      <td>0.392700</td>\n",
       "      <td>2.345308</td>\n",
       "      <td>0.603015</td>\n",
       "      <td>0.605168</td>\n",
       "    </tr>\n",
       "    <tr>\n",
       "      <td>3</td>\n",
       "      <td>0.132100</td>\n",
       "      <td>2.364025</td>\n",
       "      <td>0.597990</td>\n",
       "      <td>0.601961</td>\n",
       "    </tr>\n",
       "  </tbody>\n",
       "</table><p>"
      ],
      "text/plain": [
       "<IPython.core.display.HTML object>"
      ]
     },
     "metadata": {},
     "output_type": "display_data"
    },
    {
     "data": {
      "text/html": [
       "\n",
       "    <div>\n",
       "      \n",
       "      <progress value='25' max='25' style='width:300px; height:20px; vertical-align: middle;'></progress>\n",
       "      [25/25 00:00]\n",
       "    </div>\n",
       "    "
      ],
      "text/plain": [
       "<IPython.core.display.HTML object>"
      ]
     },
     "metadata": {},
     "output_type": "display_data"
    },
    {
     "name": "stdout",
     "output_type": "stream",
     "text": [
      "Round 5 - Evaluation results: {'eval_loss': 2.364025115966797, 'eval_accuracy': 0.5979899497487438, 'eval_f1': 0.6019612564274126, 'eval_runtime': 2.762, 'eval_samples_per_second': 72.05, 'eval_steps_per_second': 9.052, 'epoch': 3.0}\n",
      "Round 5 - Model fine-tuned.\n",
      "Completed Round 5 of Active Learning\n"
     ]
    }
   ],
   "source": [
    "# Conduct active learning - round 5\n",
    "active_learning(pretrained_model = pretrained_model_name, \n",
    "                tokenizer = tokenizer, \n",
    "                dataset = dataset, \n",
    "                round = 5)"
   ]
  },
  {
   "cell_type": "markdown",
   "metadata": {},
   "source": [
    "## 3. Dataset Compilation"
   ]
  },
  {
   "cell_type": "markdown",
   "metadata": {},
   "source": [
    "Now that the active learning-driven labelling process has been complete, we will combine the 5 manually labelled datasets that were produced in each round of the active learning, along with the final automatically labelled dataset from our finetuned Sentiment Analysis Transformer model."
   ]
  },
  {
   "cell_type": "code",
   "execution_count": 7,
   "metadata": {},
   "outputs": [],
   "source": [
    "# Read the required datasets for compilation\n",
    "round1_manual_df = pd.read_csv('../Data/Labelling/Manual/round1_manual_low_confidence.csv')\n",
    "round2_manual_df = pd.read_csv('../Data/Labelling/Manual/round2_manual_low_confidence.csv')\n",
    "round3_manual_df = pd.read_csv('../Data/Labelling/Manual/round3_manual_low_confidence.csv')\n",
    "round4_manual_df = pd.read_csv('../Data/Labelling/Manual/round4_manual_low_confidence.csv')\n",
    "round5_manual_df = pd.read_csv('../Data/Labelling/Manual/round5_manual_low_confidence.csv')\n",
    "final_automatic_df = pd.read_csv('../Data/Labelling/round5_roberta_labelled_all_data.csv')"
   ]
  },
  {
   "cell_type": "code",
   "execution_count": 17,
   "metadata": {},
   "outputs": [],
   "source": [
    "# Preprocess the manual data for compilation\n",
    "for manual_df in [round1_manual_df, round2_manual_df, round3_manual_df, round4_manual_df, round5_manual_df]:\n",
    "  # Drop irrelevant columns from each manual_df, and rename the manual_label column to label\n",
    "  manual_df.drop(columns=['roberta_label', 'roberta_score','cosine_similarity'], inplace=True, errors='ignore')\n",
    "  manual_df.rename(columns = {'manual_label':'label'}, inplace=True)"
   ]
  },
  {
   "cell_type": "code",
   "execution_count": null,
   "metadata": {},
   "outputs": [],
   "source": [
    "# Drop irrelevant columns from the automatic df, and rename the roberta_label column to label\n",
    "final_automatic_df.drop(columns=['roberta_score', 'cosine_similarity'], inplace=True, errors='ignore')\n",
    "final_automatic_df.rename(columns = {'roberta_label':'label'}, inplace=True)"
   ]
  },
  {
   "cell_type": "code",
   "execution_count": 51,
   "metadata": {},
   "outputs": [
    {
     "name": "stdout",
     "output_type": "stream",
     "text": [
      "Number of records manually labelled during active learning:  484\n"
     ]
    }
   ],
   "source": [
    "# Concatenate manual dataframes, in order from round 5 to round 1\n",
    "manual_df = pd.concat([round5_manual_df, round4_manual_df, round3_manual_df, round2_manual_df, round1_manual_df], ignore_index=True)\n",
    "# Drop duplicates, keeping the first occurence (latest manual label)\n",
    "manual_df.drop_duplicates(subset=['text'], keep='first', inplace=True)\n",
    "print(\"Number of records manually labelled during active learning: \", manual_df.shape[0])"
   ]
  },
  {
   "cell_type": "code",
   "execution_count": 59,
   "metadata": {},
   "outputs": [],
   "source": [
    "# Concatenate manual and automatic dataframes\n",
    "final_df = pd.concat([manual_df, final_automatic_df], ignore_index=True)\n",
    "\n",
    "# Drop duplicates, keeping the first occurence (priority to manual labels)\n",
    "final_df.drop_duplicates(subset=['text'], keep='first', inplace=True)"
   ]
  },
  {
   "cell_type": "code",
   "execution_count": 60,
   "metadata": {},
   "outputs": [
    {
     "name": "stdout",
     "output_type": "stream",
     "text": [
      "Number of rows manually labelled irrelevant: 143\n"
     ]
    }
   ],
   "source": [
    "# Display number of irrelevant rows (labelled as 2)\n",
    "print(\"Number of rows manually labelled irrelevant:\",final_df[final_df['label'] == 2].shape[0])\n",
    "\n",
    "# Drop rows which are labelled \"irrelevant (label=2)\"\n",
    "final_df = final_df[final_df['label'] != 2]\n",
    "\n",
    "# Set type of label column to int\n",
    "final_df['label'] = final_df['label'].astype(int)"
   ]
  },
  {
   "cell_type": "code",
   "execution_count": 61,
   "metadata": {},
   "outputs": [],
   "source": [
    "# Save the final labelled dataset to a csv file\n",
    "final_df.to_csv('../Data/labelled_data.csv', index=False)"
   ]
  },
  {
   "cell_type": "markdown",
   "metadata": {},
   "source": [
    "## 4. Analysis and Visualization of final dataset"
   ]
  },
  {
   "cell_type": "code",
   "execution_count": 67,
   "metadata": {},
   "outputs": [
    {
     "data": {
      "text/html": [
       "<div>\n",
       "<style scoped>\n",
       "    .dataframe tbody tr th:only-of-type {\n",
       "        vertical-align: middle;\n",
       "    }\n",
       "\n",
       "    .dataframe tbody tr th {\n",
       "        vertical-align: top;\n",
       "    }\n",
       "\n",
       "    .dataframe thead th {\n",
       "        text-align: right;\n",
       "    }\n",
       "</style>\n",
       "<table border=\"1\" class=\"dataframe\">\n",
       "  <thead>\n",
       "    <tr style=\"text-align: right;\">\n",
       "      <th></th>\n",
       "      <th>post_id</th>\n",
       "      <th>subreddit</th>\n",
       "      <th>post_title</th>\n",
       "      <th>post_body</th>\n",
       "      <th>number_of_comments</th>\n",
       "      <th>readable_datetime</th>\n",
       "      <th>post_author</th>\n",
       "      <th>number_of_upvotes</th>\n",
       "      <th>query</th>\n",
       "      <th>text</th>\n",
       "      <th>comment_id</th>\n",
       "      <th>comment_body</th>\n",
       "      <th>comment_author</th>\n",
       "      <th>label</th>\n",
       "    </tr>\n",
       "  </thead>\n",
       "  <tbody>\n",
       "    <tr>\n",
       "      <th>1</th>\n",
       "      <td>145ycjf</td>\n",
       "      <td>ChatGPT</td>\n",
       "      <td>Maybe I got into coding too early...</td>\n",
       "      <td>Coding with gpt4 is so painless and awesome th...</td>\n",
       "      <td>69</td>\n",
       "      <td>2023-06-10 15:54:27</td>\n",
       "      <td>FelipeReigosa</td>\n",
       "      <td>45</td>\n",
       "      <td>code</td>\n",
       "      <td>naw dude if anything that gives you a solid co...</td>\n",
       "      <td>jnnfvf9</td>\n",
       "      <td>naw dude if anything that gives you a solid co...</td>\n",
       "      <td>NaN</td>\n",
       "      <td>0</td>\n",
       "    </tr>\n",
       "    <tr>\n",
       "      <th>3</th>\n",
       "      <td>1el4thx</td>\n",
       "      <td>OpenAI</td>\n",
       "      <td>Greg Brockman, John Schulman, and Peter Deng L...</td>\n",
       "      <td>**OpenAI faces a leadership shakeup as three k...</td>\n",
       "      <td>238</td>\n",
       "      <td>2024-08-06 05:10:21</td>\n",
       "      <td>Altruistic_Gibbon907</td>\n",
       "      <td>135</td>\n",
       "      <td>open-source OR closed-source</td>\n",
       "      <td>OpenAI’s employees must be seriously regrettin...</td>\n",
       "      <td>lgpcdtu</td>\n",
       "      <td>OpenAI’s employees must be seriously regrettin...</td>\n",
       "      <td>allthemoreforthat</td>\n",
       "      <td>-1</td>\n",
       "    </tr>\n",
       "    <tr>\n",
       "      <th>5</th>\n",
       "      <td>1gh5mwb</td>\n",
       "      <td>singularity</td>\n",
       "      <td>Opinions: What AI product lived up to the hype...</td>\n",
       "      <td>What AI product or service were you super hype...</td>\n",
       "      <td>53</td>\n",
       "      <td>2024-11-01 17:39:33</td>\n",
       "      <td>Gilldadab</td>\n",
       "      <td>19</td>\n",
       "      <td>ChatGPT search</td>\n",
       "      <td>Opinions: What AI product lived up to the hype...</td>\n",
       "      <td>NaN</td>\n",
       "      <td>NaN</td>\n",
       "      <td>NaN</td>\n",
       "      <td>0</td>\n",
       "    </tr>\n",
       "    <tr>\n",
       "      <th>6</th>\n",
       "      <td>1ar3f53</td>\n",
       "      <td>OpenAI</td>\n",
       "      <td>what is the best way to do sentiment analysis ...</td>\n",
       "      <td>Im building an js app that allows you to creat...</td>\n",
       "      <td>8</td>\n",
       "      <td>2024-02-15 05:12:54</td>\n",
       "      <td>sagotly</td>\n",
       "      <td>1</td>\n",
       "      <td>embeddings</td>\n",
       "      <td>You don’t need OpenAI to do this, in fact I’d ...</td>\n",
       "      <td>kqhxb1b</td>\n",
       "      <td>You don’t need OpenAI to do this, in fact I’d ...</td>\n",
       "      <td>lionhydrathedeparted</td>\n",
       "      <td>-1</td>\n",
       "    </tr>\n",
       "    <tr>\n",
       "      <th>7</th>\n",
       "      <td>1d21sl2</td>\n",
       "      <td>OpenAI</td>\n",
       "      <td>Account banned or something?</td>\n",
       "      <td>I have ChatGPT plus and use the new 4.o model ...</td>\n",
       "      <td>12</td>\n",
       "      <td>2024-05-28 00:43:35</td>\n",
       "      <td>Hockeylockerpock</td>\n",
       "      <td>1</td>\n",
       "      <td>Operator</td>\n",
       "      <td>So for some reason I can't respond to any of t...</td>\n",
       "      <td>l72navg</td>\n",
       "      <td>So for some reason I can't respond to any of t...</td>\n",
       "      <td>linkmaster6</td>\n",
       "      <td>-1</td>\n",
       "    </tr>\n",
       "  </tbody>\n",
       "</table>\n",
       "</div>"
      ],
      "text/plain": [
       "   post_id    subreddit                                         post_title  \\\n",
       "1  145ycjf      ChatGPT               Maybe I got into coding too early...   \n",
       "3  1el4thx       OpenAI  Greg Brockman, John Schulman, and Peter Deng L...   \n",
       "5  1gh5mwb  singularity  Opinions: What AI product lived up to the hype...   \n",
       "6  1ar3f53       OpenAI  what is the best way to do sentiment analysis ...   \n",
       "7  1d21sl2       OpenAI                       Account banned or something?   \n",
       "\n",
       "                                           post_body  number_of_comments  \\\n",
       "1  Coding with gpt4 is so painless and awesome th...                  69   \n",
       "3  **OpenAI faces a leadership shakeup as three k...                 238   \n",
       "5  What AI product or service were you super hype...                  53   \n",
       "6  Im building an js app that allows you to creat...                   8   \n",
       "7  I have ChatGPT plus and use the new 4.o model ...                  12   \n",
       "\n",
       "     readable_datetime           post_author  number_of_upvotes  \\\n",
       "1  2023-06-10 15:54:27         FelipeReigosa                 45   \n",
       "3  2024-08-06 05:10:21  Altruistic_Gibbon907                135   \n",
       "5  2024-11-01 17:39:33             Gilldadab                 19   \n",
       "6  2024-02-15 05:12:54               sagotly                  1   \n",
       "7  2024-05-28 00:43:35      Hockeylockerpock                  1   \n",
       "\n",
       "                          query  \\\n",
       "1                          code   \n",
       "3  open-source OR closed-source   \n",
       "5                ChatGPT search   \n",
       "6                    embeddings   \n",
       "7                      Operator   \n",
       "\n",
       "                                                text comment_id  \\\n",
       "1  naw dude if anything that gives you a solid co...    jnnfvf9   \n",
       "3  OpenAI’s employees must be seriously regrettin...    lgpcdtu   \n",
       "5  Opinions: What AI product lived up to the hype...        NaN   \n",
       "6  You don’t need OpenAI to do this, in fact I’d ...    kqhxb1b   \n",
       "7  So for some reason I can't respond to any of t...    l72navg   \n",
       "\n",
       "                                        comment_body        comment_author  \\\n",
       "1  naw dude if anything that gives you a solid co...                   NaN   \n",
       "3  OpenAI’s employees must be seriously regrettin...     allthemoreforthat   \n",
       "5                                                NaN                   NaN   \n",
       "6  You don’t need OpenAI to do this, in fact I’d ...  lionhydrathedeparted   \n",
       "7  So for some reason I can't respond to any of t...           linkmaster6   \n",
       "\n",
       "   label  \n",
       "1      0  \n",
       "3     -1  \n",
       "5      0  \n",
       "6     -1  \n",
       "7     -1  "
      ]
     },
     "execution_count": 67,
     "metadata": {},
     "output_type": "execute_result"
    }
   ],
   "source": [
    "# See top few rows of the final labelled dataset\n",
    "final_df.head()"
   ]
  },
  {
   "cell_type": "code",
   "execution_count": 69,
   "metadata": {},
   "outputs": [
    {
     "name": "stdout",
     "output_type": "stream",
     "text": [
      "Number of records in the final labelled dataset:  5543\n"
     ]
    }
   ],
   "source": [
    "# Size the final labelled dataset\n",
    "print(\"Number of records in the final labelled dataset: \", final_df.shape[0])"
   ]
  },
  {
   "cell_type": "code",
   "execution_count": 71,
   "metadata": {},
   "outputs": [
    {
     "name": "stdout",
     "output_type": "stream",
     "text": [
      "Class distribution in the final dataset: label\n",
      " 0    3923\n",
      "-1    1170\n",
      " 1     450\n",
      "Name: count, dtype: int64\n"
     ]
    },
    {
     "data": {
      "text/plain": [
       "<Axes: title={'center': 'Class Distribution in the Final Dataset'}, xlabel='label'>"
      ]
     },
     "execution_count": 71,
     "metadata": {},
     "output_type": "execute_result"
    },
    {
     "data": {
      "image/png": "[encoded data removed]",
      "text/plain": [
       "<Figure size 640x480 with 1 Axes>"
      ]
     },
     "metadata": {},
     "output_type": "display_data"
    }
   ],
   "source": [
    "# Visualize the distribution of labels in the final dataset\n",
    "class_distribution = final_df['label'].value_counts()\n",
    "print(\"Class distribution in the final dataset:\", class_distribution)\n",
    "class_distribution.plot(kind='bar', title='Class Distribution in the Final Dataset')"
   ]
  },
  {
   "cell_type": "markdown",
   "metadata": {},
   "source": [
    "As observed in the above bar chart, the **majority class is 0 (neutral)**, followed by -1 (negative) and 1 (positive). The dataset is unbalanced. Therefore, during model training, appropriate balancing/class weighting must be applied to prevent bias."
   ]
  },
  {
   "cell_type": "code",
   "execution_count": 72,
   "metadata": {},
   "outputs": [
    {
     "data": {
      "text/plain": [
       "<Axes: title={'center': 'Subreddit Distribution in the Final Dataset'}, xlabel='subreddit'>"
      ]
     },
     "execution_count": 72,
     "metadata": {},
     "output_type": "execute_result"
    },
    {
     "data": {
      "image/png": "[encoded data removed]",
      "text/plain": [
       "<Figure size 640x480 with 1 Axes>"
      ]
     },
     "metadata": {},
     "output_type": "display_data"
    }
   ],
   "source": [
    "subreddit_distribution = final_df['subreddit'].value_counts()\n",
    "subreddit_distribution.plot(kind='bar', title='Subreddit Distribution in the Final Dataset')"
   ]
  },
  {
   "cell_type": "markdown",
   "metadata": {},
   "source": [
    "A large proportion of the data is from the **OpenAI subreddit**, indicating that it's data was considered the most relevant by the semantic retrieval model for our task of OpenAI's reputation analysis. However, the dataset also contains a significant proportion of data from 3 other subreddits: singularity, technology and ChatGPT. This ensures **data diversity**."
   ]
  },
  {
   "cell_type": "code",
   "execution_count": 78,
   "metadata": {},
   "outputs": [
    {
     "data": {
      "text/plain": [
       "<Axes: >"
      ]
     },
     "execution_count": 78,
     "metadata": {},
     "output_type": "execute_result"
    },
    {
     "data": {
      "image/png": "[encoded data removed]",
      "text/plain": [
       "<Figure size 640x480 with 1 Axes>"
      ]
     },
     "metadata": {},
     "output_type": "display_data"
    }
   ],
   "source": [
    "# Plot a histogram of the character count of the text field\n",
    "final_df['text'].str.len().hist(bins=30)"
   ]
  },
  {
   "cell_type": "markdown",
   "metadata": {},
   "source": [
    "As we can observe from the histogram, the comments/posts in the data tend to be short, with most of the raw text data being within 400 characters"
   ]
  },
  {
   "cell_type": "markdown",
   "metadata": {},
   "source": [
    "## 5. Evaluation of Data Selection and Labelling"
   ]
  }
 ],
 "metadata": {
  "kernelspec": {
   "display_name": ".venv",
   "language": "python",
   "name": "python3"
  },
  "language_info": {
   "codemirror_mode": {
    "name": "ipython",
    "version": 3
   },
   "file_extension": ".py",
   "mimetype": "text/x-python",
   "name": "python",
   "nbconvert_exporter": "python",
   "pygments_lexer": "ipython3",
   "version": "3.12.1"
  }
 },
 "nbformat": 4,
 "nbformat_minor": 2
}
