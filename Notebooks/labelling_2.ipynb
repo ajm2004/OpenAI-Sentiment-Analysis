{
 "cells": [
  {
   "cell_type": "markdown",
   "metadata": {},
   "source": [
    "## LABELLING THE DATASET - PART 2"
   ]
  },
  {
   "cell_type": "code",
   "execution_count": null,
   "metadata": {},
   "outputs": [],
   "source": [
    "import torch\n",
    "from transformers import pipeline\n",
    "from vaderSentiment.vaderSentiment import SentimentIntensityAnalyzer"
   ]
  },
  {
   "cell_type": "markdown",
   "metadata": {},
   "source": [
    "### Labelling with RoBERTa based sentiment analysis model"
   ]
  },
  {
   "cell_type": "code",
   "execution_count": null,
   "metadata": {},
   "outputs": [
    {
     "data": {
      "text/plain": [
       "True"
      ]
     },
     "metadata": {},
     "output_type": "display_data"
    }
   ],
   "source": [
    "torch.cuda.is_available()"
   ]
  },
  {
   "cell_type": "code",
   "execution_count": null,
   "metadata": {},
   "outputs": [
    {
     "name": "stderr",
     "output_type": "stream",
     "text": [
      "Some weights of the model checkpoint at cardiffnlp/twitter-roberta-base-sentiment-latest were not used when initializing RobertaForSequenceClassification: ['roberta.pooler.dense.bias', 'roberta.pooler.dense.weight']\n",
      "- This IS expected if you are initializing RobertaForSequenceClassification from the checkpoint of a model trained on another task or with another architecture (e.g. initializing a BertForSequenceClassification model from a BertForPreTraining model).\n",
      "- This IS NOT expected if you are initializing RobertaForSequenceClassification from the checkpoint of a model that you expect to be exactly identical (initializing a BertForSequenceClassification model from a BertForSequenceClassification model).\n",
      "Device set to use cuda:0\n"
     ]
    }
   ],
   "source": [
    "# Initialize the sentiment analysis pipeline\n",
    "sentiment_pipeline = pipeline(\"text-classification\", \n",
    "                              model=\"cardiffnlp/twitter-roberta-base-sentiment-latest\",\n",
    "                              device=0) "
   ]
  },
  {
   "cell_type": "code",
   "execution_count": null,
   "metadata": {},
   "outputs": [],
   "source": [
    "# Extract the text column of selected_data as a list\n",
    "reviews = selected_data[\"text\"].tolist()"
   ]
  },
  {
   "cell_type": "code",
   "execution_count": null,
   "metadata": {},
   "outputs": [],
   "source": [
    "# Calculate the sentiment of the each of the reviews\n",
    "kwargs = {'padding':True,'truncation':True,'max_length':512}\n",
    "results = sentiment_pipeline(reviews, **kwargs) "
   ]
  },
  {
   "cell_type": "code",
   "execution_count": null,
   "metadata": {},
   "outputs": [],
   "source": [
    "selected_data[\"roberta_label\"] = [res[\"label\"] for res in results]\n",
    "selected_data[\"roberta_score\"] = [res[\"score\"] for res in results]"
   ]
  },
  {
   "cell_type": "markdown",
   "metadata": {},
   "source": [
    "### Labelling with VADER (Lexicon and Rule-Based Model)"
   ]
  },
  {
   "cell_type": "markdown",
   "metadata": {},
   "source": [
    "VADER was selected as it is specialized for sentiment analysis on social media comments."
   ]
  },
  {
   "cell_type": "code",
   "execution_count": null,
   "metadata": {},
   "outputs": [],
   "source": [
    "sentimentAnalyzer = SentimentIntensityAnalyzer()"
   ]
  },
  {
   "cell_type": "code",
   "execution_count": null,
   "metadata": {},
   "outputs": [],
   "source": [
    "vader_label, vader_score = [], []\n",
    "\n",
    "for review in reviews:\n",
    "    # Calculate the sentiment of the review using VADER\n",
    "    sentiment = sentimentAnalyzer.polarity_scores(review)\n",
    "    vader_score.append(sentiment[\"compound\"])\n",
    "    \n",
    "    if sentiment[\"compound\"] >= 0.07:\n",
    "        vader_label.append(\"positive\")\n",
    "    elif sentiment[\"compound\"] <= -0.07:\n",
    "        vader_label.append(\"negative\")\n",
    "    else:\n",
    "        vader_label.append(\"neutral\")\n"
   ]
  },
  {
   "cell_type": "code",
   "execution_count": null,
   "metadata": {},
   "outputs": [],
   "source": [
    "# Add the VADER sentiment label and score to the selected_data DataFrame\n",
    "selected_data[\"vader_label\"] = vader_label\n",
    "selected_data[\"vader_score\"] = vader_score"
   ]
  },
  {
   "cell_type": "code",
   "execution_count": null,
   "metadata": {},
   "outputs": [
    {
     "data": {
      "application/vnd.microsoft.datawrangler.viewer.v0+json": {
       "columns": [
        {
         "name": "index",
         "rawType": "int64",
         "type": "integer"
        },
        {
         "name": "post_id",
         "rawType": "object",
         "type": "string"
        },
        {
         "name": "subreddit",
         "rawType": "category",
         "type": "unknown"
        },
        {
         "name": "post_title",
         "rawType": "object",
         "type": "string"
        },
        {
         "name": "post_body",
         "rawType": "object",
         "type": "string"
        },
        {
         "name": "number_of_comments",
         "rawType": "int32",
         "type": "integer"
        },
        {
         "name": "readable_datetime",
         "rawType": "datetime64[ns]",
         "type": "datetime"
        },
        {
         "name": "post_author",
         "rawType": "object",
         "type": "string"
        },
        {
         "name": "number_of_upvotes",
         "rawType": "int32",
         "type": "integer"
        },
        {
         "name": "query",
         "rawType": "category",
         "type": "unknown"
        },
        {
         "name": "text",
         "rawType": "object",
         "type": "string"
        },
        {
         "name": "comment_id",
         "rawType": "object",
         "type": "string"
        },
        {
         "name": "comment_body",
         "rawType": "object",
         "type": "string"
        },
        {
         "name": "comment_author",
         "rawType": "object",
         "type": "string"
        },
        {
         "name": "cosine_similarity",
         "rawType": "int64",
         "type": "integer"
        },
        {
         "name": "roberta_label",
         "rawType": "float64",
         "type": "float"
        },
        {
         "name": "roberta_score",
         "rawType": "float64",
         "type": "float"
        },
        {
         "name": "vader_label",
         "rawType": "float64",
         "type": "float"
        },
        {
         "name": "vader_score",
         "rawType": "float64",
         "type": "float"
        }
       ],
       "conversionMethod": "pd.DataFrame",
       "ref": "c9d30dcc-56dd-4577-a386-2c9d30b55d4e",
       "rows": [],
       "shape": {
        "columns": 18,
        "rows": 0
       }
      },
      "text/html": [
       "<div>\n",
       "<style scoped>\n",
       "    .dataframe tbody tr th:only-of-type {\n",
       "        vertical-align: middle;\n",
       "    }\n",
       "\n",
       "    .dataframe tbody tr th {\n",
       "        vertical-align: top;\n",
       "    }\n",
       "\n",
       "    .dataframe thead th {\n",
       "        text-align: right;\n",
       "    }\n",
       "</style>\n",
       "<table border=\"1\" class=\"dataframe\">\n",
       "  <thead>\n",
       "    <tr style=\"text-align: right;\">\n",
       "      <th></th>\n",
       "      <th>post_id</th>\n",
       "      <th>subreddit</th>\n",
       "      <th>post_title</th>\n",
       "      <th>post_body</th>\n",
       "      <th>number_of_comments</th>\n",
       "      <th>readable_datetime</th>\n",
       "      <th>post_author</th>\n",
       "      <th>number_of_upvotes</th>\n",
       "      <th>query</th>\n",
       "      <th>text</th>\n",
       "      <th>comment_id</th>\n",
       "      <th>comment_body</th>\n",
       "      <th>comment_author</th>\n",
       "      <th>cosine_similarity</th>\n",
       "      <th>roberta_label</th>\n",
       "      <th>roberta_score</th>\n",
       "      <th>vader_label</th>\n",
       "      <th>vader_score</th>\n",
       "    </tr>\n",
       "  </thead>\n",
       "  <tbody>\n",
       "  </tbody>\n",
       "</table>\n",
       "</div>"
      ],
      "text/plain": [
       "Empty DataFrame\n",
       "Columns: [post_id, subreddit, post_title, post_body, number_of_comments, readable_datetime, post_author, number_of_upvotes, query, text, comment_id, comment_body, comment_author, cosine_similarity, roberta_label, roberta_score, vader_label, vader_score]\n",
       "Index: []"
      ]
     },
     "metadata": {},
     "output_type": "display_data"
    }
   ],
   "source": [
    "# Display the first few rows of the selected_data DataFrame\n",
    "selected_data.head()"
   ]
  },
  {
   "cell_type": "code",
   "execution_count": null,
   "metadata": {},
   "outputs": [],
   "source": [
    "# Save the selected_data DataFrame to a new CSV file\n",
    "selected_data.to_csv('../Data/labelled_data.csv', index=False)"
   ]
  }
 ],
 "metadata": {
  "language_info": {
   "name": "python"
  }
 },
 "nbformat": 4,
 "nbformat_minor": 2
}
