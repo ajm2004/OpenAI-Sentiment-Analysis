{
 "cells": [
  {
   "cell_type": "markdown",
   "metadata": {},
   "source": [
    "# DATA SELECTION - SEMANTIC RETRIEVAL WITH SENTENCE TRANSFORMERS"
   ]
  },
  {
   "cell_type": "code",
   "execution_count": null,
   "metadata": {},
   "outputs": [],
   "source": [
    "%pip install sentence-transformers "
   ]
  },
  {
   "cell_type": "code",
   "execution_count": 50,
   "metadata": {},
   "outputs": [],
   "source": [
    "import pandas as pd\n",
    "from sentence_transformers import SentenceTransformer, util"
   ]
  },
  {
   "cell_type": "markdown",
   "metadata": {},
   "source": [
    "After filtering, there ~49k posts and comments in the dataset. Next, we will select the most relevant records that express sentiments about OpenAI, and filter out low quality data. This step will enable us to produce a high quality dataset for company reputation analysis."
   ]
  },
  {
   "cell_type": "markdown",
   "metadata": {},
   "source": [
    "Prior to using embedding-based semantic search, we experimented with TF-IDF-based retrieval, to find the most relevant records, i.e, the records with the highest cosine similarity to a given query (when using TF-IDF vectorization). However, upon manually labelling ~450 of the most relevant records selected using TF-IDF, we found that ~41% of the records were irrelevant, i.e, they express no positive/negative/neutral sentiment about OpenAI.\n",
    "\n",
    "This is primarily because term-based vectorization methods like TF-IDF do not represent the semantic meaning of the data. Therefore, we decided to experiment with using embedding models with the Sentence Transformers library, which are specialized for conducting semantic retrieval of the most relevant data points, using cosine similarity."
   ]
  },
  {
   "cell_type": "markdown",
   "metadata": {},
   "source": [
    "We are utilizing the msmarco-distilbert-cos-v5 model as the embedding model for the following reasons:\n",
    "1. As visualized during exploratory data analysis, our \"passages\" (comments and posts) are generally longer than the length of the queries we will be using for retrieval (see below). Therefore, we require a model for asymmetric semantic search (where the query is generally shorter in length than the passages to be retrieved). The [Sentence Transformer documentation](https://www.sbert.net/examples/applications/semantic-search/README.html#symmetric-vs-asymmetric-semantic-search) recommends models trained on the MS-MARCO information retrieval dataset, for asymmetric semantic search. \n",
    "\n",
    "2. DistilBERT is a smaller, lighter version of BERT that maintains most of the original performance. It is used as the backbone of this embedding model. Therefore, it will be efficient and quick to retrieve relevant examples from our dataset. \n",
    "\n",
    "3. The model performs relatively well compared to other Sentence Transformers on various [information retrieval benchmarks](https://www.sbert.net/docs/pretrained-models/msmarco-v5.html#performance)."
   ]
  },
  {
   "cell_type": "code",
   "execution_count": 51,
   "metadata": {},
   "outputs": [],
   "source": [
    "# Read the filtered data\n",
    "filtered_data = pd.read_csv(\"../Data/filtered_data.csv\")"
   ]
  },
  {
   "cell_type": "code",
   "execution_count": 52,
   "metadata": {},
   "outputs": [
    {
     "data": {
      "text/plain": [
       "0                                                                                                                                                                                                                                                                                                                                                                                                                                                                                                                            ChatGPT Caused 'Code Red' at Google, Report Says \n",
       "1                                                                                                                                                                                                                                                                                                                                   how could someone use ChatGPT or other \"AI\" services to make some side money? I'm just looking to make some extra cash on the side without having to get ANOTHER job and wondering what sorts of side hustles I could potentially work at.\n",
       "2                                                                                                                                                                                                                                                 Chat gpt won’t verify my phone number Hello guys when i try to log in to chat gpt it tells me to add a phone number to verify my account but when i do and i click on send code it says error   Tried it with multiple phone numbers and now i am stuck on you have sent many codes try again later  Anyone had this issue ?\n",
       "3    Is it possible to use Whisper function for zoom meetings Hello, I am a recent Mathematics undergraduate who has been playing recently with ChatGPT3. I came up with the idea of implementing the whisper function to zoom meetings to create an app that allows the user to store transcripts of their zoom meetings (which can be further transformed to summary of it generated by chatgpt3). I have some knowledge of coding but not in this type of settings, could anyone give me a vage ouline if this is possible and what coulde be the main lines to go through?\n",
       "4                                                                                                                                                                                                                                                                                                                                                                                                                                                                                                               How could ChatGPT replace Google Search for many casual users \n",
       "Name: text, dtype: object"
      ]
     },
     "execution_count": 52,
     "metadata": {},
     "output_type": "execute_result"
    }
   ],
   "source": [
    "# Display the first few rows of the text field\n",
    "pd.set_option('display.max_colwidth', None)\n",
    "filtered_data['text'].head()"
   ]
  },
  {
   "cell_type": "markdown",
   "metadata": {},
   "source": [
    "The top 5 records in the filtered data, shown above, do not express any sentiment regarding OpenAI or its products. Many times, these comments/posts simply ask questions about OpenAI/ChatGPT, without expressing their opinion on the company. During manual labelling, we recognized that these irrelevant records were also found to be retrieved by the cosine similarity search with the TF-IDF vectors, as they still contain the same keywords as the queries searched. \n",
    "\n",
    "Therefore, we employ embedding-based semantic retrieval, to retrieve the most relevant records that are relevant to sentiment analysis."
   ]
  },
  {
   "cell_type": "code",
   "execution_count": 53,
   "metadata": {},
   "outputs": [],
   "source": [
    "# Load the embedding model\n",
    "embedding_model = SentenceTransformer(\"msmarco-distilbert-cos-v5\")"
   ]
  },
  {
   "cell_type": "code",
   "execution_count": 54,
   "metadata": {},
   "outputs": [],
   "source": [
    "# Define multiple search queries, corresponding to each sentiment label, to help\n",
    "# retrieve a balanced dataset\n",
    "queries = [\"What do users think about OpenAI’s ChatGPT, DALL·E, and other AI tools?\",\n",
    "           \"How well do OpenAI’s models perform according to user reviews?\",\n",
    "           \"Comparison of OpenAI's products and other competitors based on user reviews\",\n",
    "           \"Criticism and complaints about OpenAI’s products in user reviews\",\n",
    "           \"Customer satisfaction and positive experiences with OpenAI products\"]"
   ]
  },
  {
   "cell_type": "code",
   "execution_count": 55,
   "metadata": {},
   "outputs": [],
   "source": [
    "# Extract the text column of filtered_data as a list \n",
    "reviews = filtered_data[\"text\"].values.tolist()"
   ]
  },
  {
   "cell_type": "code",
   "execution_count": 56,
   "metadata": {},
   "outputs": [],
   "source": [
    "# Generate embeddings for the queries\n",
    "query_embeddings = embedding_model.encode(queries, convert_to_tensor=True)"
   ]
  },
  {
   "cell_type": "code",
   "execution_count": 57,
   "metadata": {},
   "outputs": [],
   "source": [
    "# Generate embeddings for the reviews\n",
    "review_embeddings = embedding_model.encode(reviews, convert_to_tensor=True)"
   ]
  },
  {
   "cell_type": "code",
   "execution_count": 58,
   "metadata": {},
   "outputs": [],
   "source": [
    "# Perform cosine similarity search between the queries and reviews embeddings, and retrieve the top 3000 most similar reviews, for each query\n",
    "retrieved_reviews = util.semantic_search(query_embeddings, review_embeddings, top_k = 3000)"
   ]
  },
  {
   "cell_type": "code",
   "execution_count": 60,
   "metadata": {},
   "outputs": [],
   "source": [
    "# Create a dictionary to store the highest score for each unique id\n",
    "# from the results of all the queries\n",
    "unique_reviews = {}\n",
    "\n",
    "for review_list in retrieved_reviews:\n",
    "    for review in review_list:\n",
    "        corpus_id = review['corpus_id']\n",
    "        score = review['score']\n",
    "        if corpus_id not in unique_reviews or score > unique_reviews[corpus_id]:\n",
    "            unique_reviews[corpus_id] = score"
   ]
  },
  {
   "cell_type": "code",
   "execution_count": 61,
   "metadata": {},
   "outputs": [],
   "source": [
    "# Modify the filtered_data DataFrame to include a new column for the cosine similarity score\n",
    "# for each unique id\n",
    "filtered_data['cosine_similarity'] = filtered_data.index.map(unique_reviews.get)"
   ]
  },
  {
   "cell_type": "code",
   "execution_count": 62,
   "metadata": {},
   "outputs": [],
   "source": [
    "# Sort the data based on the cosine similarity, and drop rows with NaN values (which were not retrieved by the semantic search)\n",
    "filtered_data = filtered_data.dropna(subset=['cosine_similarity'])\n",
    "filtered_data = filtered_data.sort_values('cosine_similarity', ascending=False)"
   ]
  },
  {
   "cell_type": "code",
   "execution_count": 63,
   "metadata": {},
   "outputs": [
    {
     "data": {
      "text/plain": [
       "25711                                                                                                                                                                                                                                                                                                                                                              Good luck to the consumers/customers who are trusting the products from OpenAI.\n",
       "27162    OpenAI did a great job of showing the public the potential for AI. ChatGPT is a great tool for some people. I am thinking of switching to Claude for work needs but I’ll ways have a free account at ChatGPT. But recently with Sora and the voice/camera features of 4o OpenAI seems like a company that is just saying “See all of these cool things that are possible for a select few, but not feasible on a large commercial scale.”\n",
       "4674                                                                                                                                                                                                                                                                                                                                                     OpenAI's new model is equivalent to the 175th best human competitive coder on the planet \n",
       "2384                                                                                                                                                                                                                                                                                                                                                                                  OpenAI launches new AI model and desktop version of ChatGPT \n",
       "3909                                                                                                                                                                                                                                                                                                                                                                                               OpenAI brings a new web search tool to ChatGPT \n",
       "Name: text, dtype: object"
      ]
     },
     "execution_count": 63,
     "metadata": {},
     "output_type": "execute_result"
    }
   ],
   "source": [
    "# Display the first few rows of the text field to see the top retrieved reviews\n",
    "filtered_data['text'].head()"
   ]
  },
  {
   "cell_type": "code",
   "execution_count": 64,
   "metadata": {},
   "outputs": [
    {
     "data": {
      "application/vnd.microsoft.datawrangler.viewer.v0+json": {
       "columns": [
        {
         "name": "index",
         "rawType": "object",
         "type": "string"
        },
        {
         "name": "number_of_comments",
         "rawType": "float64",
         "type": "float"
        },
        {
         "name": "number_of_upvotes",
         "rawType": "float64",
         "type": "float"
        },
        {
         "name": "cosine_similarity",
         "rawType": "float64",
         "type": "float"
        }
       ],
       "conversionMethod": "pd.DataFrame",
       "ref": "6e1b9794-7637-4e8d-9147-1bbb9850ef27",
       "rows": [
        [
         "count",
         "5743.0",
         "5743.0",
         "5743.0"
        ],
        [
         "mean",
         "118.02542225317778",
         "110.35173254396656",
         "0.3984727769462194"
        ],
        [
         "std",
         "240.22453442519853",
         "541.789893466584",
         "0.08383662193244297"
        ],
        [
         "min",
         "0.0",
         "-20.0",
         "0.25380969047546387"
        ],
        [
         "25%",
         "11.0",
         "2.0",
         "0.3324483335018158"
        ],
        [
         "50%",
         "42.0",
         "7.0",
         "0.38682666420936584"
        ],
        [
         "75%",
         "133.5",
         "48.0",
         "0.45191897451877594"
        ],
        [
         "max",
         "3958.0",
         "17877.0",
         "0.7179464101791382"
        ]
       ],
       "shape": {
        "columns": 3,
        "rows": 8
       }
      },
      "text/html": [
       "<div>\n",
       "<style scoped>\n",
       "    .dataframe tbody tr th:only-of-type {\n",
       "        vertical-align: middle;\n",
       "    }\n",
       "\n",
       "    .dataframe tbody tr th {\n",
       "        vertical-align: top;\n",
       "    }\n",
       "\n",
       "    .dataframe thead th {\n",
       "        text-align: right;\n",
       "    }\n",
       "</style>\n",
       "<table border=\"1\" class=\"dataframe\">\n",
       "  <thead>\n",
       "    <tr style=\"text-align: right;\">\n",
       "      <th></th>\n",
       "      <th>number_of_comments</th>\n",
       "      <th>number_of_upvotes</th>\n",
       "      <th>cosine_similarity</th>\n",
       "    </tr>\n",
       "  </thead>\n",
       "  <tbody>\n",
       "    <tr>\n",
       "      <th>count</th>\n",
       "      <td>5743.000000</td>\n",
       "      <td>5743.000000</td>\n",
       "      <td>5743.000000</td>\n",
       "    </tr>\n",
       "    <tr>\n",
       "      <th>mean</th>\n",
       "      <td>118.025422</td>\n",
       "      <td>110.351733</td>\n",
       "      <td>0.398473</td>\n",
       "    </tr>\n",
       "    <tr>\n",
       "      <th>std</th>\n",
       "      <td>240.224534</td>\n",
       "      <td>541.789893</td>\n",
       "      <td>0.083837</td>\n",
       "    </tr>\n",
       "    <tr>\n",
       "      <th>min</th>\n",
       "      <td>0.000000</td>\n",
       "      <td>-20.000000</td>\n",
       "      <td>0.253810</td>\n",
       "    </tr>\n",
       "    <tr>\n",
       "      <th>25%</th>\n",
       "      <td>11.000000</td>\n",
       "      <td>2.000000</td>\n",
       "      <td>0.332448</td>\n",
       "    </tr>\n",
       "    <tr>\n",
       "      <th>50%</th>\n",
       "      <td>42.000000</td>\n",
       "      <td>7.000000</td>\n",
       "      <td>0.386827</td>\n",
       "    </tr>\n",
       "    <tr>\n",
       "      <th>75%</th>\n",
       "      <td>133.500000</td>\n",
       "      <td>48.000000</td>\n",
       "      <td>0.451919</td>\n",
       "    </tr>\n",
       "    <tr>\n",
       "      <th>max</th>\n",
       "      <td>3958.000000</td>\n",
       "      <td>17877.000000</td>\n",
       "      <td>0.717946</td>\n",
       "    </tr>\n",
       "  </tbody>\n",
       "</table>\n",
       "</div>"
      ],
      "text/plain": [
       "       number_of_comments  number_of_upvotes  cosine_similarity\n",
       "count         5743.000000        5743.000000        5743.000000\n",
       "mean           118.025422         110.351733           0.398473\n",
       "std            240.224534         541.789893           0.083837\n",
       "min              0.000000         -20.000000           0.253810\n",
       "25%             11.000000           2.000000           0.332448\n",
       "50%             42.000000           7.000000           0.386827\n",
       "75%            133.500000          48.000000           0.451919\n",
       "max           3958.000000       17877.000000           0.717946"
      ]
     },
     "execution_count": 64,
     "metadata": {},
     "output_type": "execute_result"
    }
   ],
   "source": [
    "filtered_data.describe()"
   ]
  },
  {
   "cell_type": "code",
   "execution_count": 65,
   "metadata": {},
   "outputs": [],
   "source": [
    "# Save the retrieved data to a new CSV file\n",
    "filtered_data.to_csv('../Data/selected_data.csv', index=False)"
   ]
  },
  {
   "cell_type": "markdown",
   "metadata": {},
   "source": [
    "As seen above, the top records retrieved by the semantic retrieval are relevant to OpenAI, and do express positive/negative/neutral sentiments about the company and its products. Therefore, we have successfully retrieved relevant records, ensuring high quality in our final OpenAI reputation analysis dataset. "
   ]
  }
 ],
 "metadata": {
  "kernelspec": {
   "display_name": ".venv",
   "language": "python",
   "name": "python3"
  },
  "language_info": {
   "codemirror_mode": {
    "name": "ipython",
    "version": 3
   },
   "file_extension": ".py",
   "mimetype": "text/x-python",
   "name": "python",
   "nbconvert_exporter": "python",
   "pygments_lexer": "ipython3",
   "version": "3.12.1"
  }
 },
 "nbformat": 4,
 "nbformat_minor": 2
}
