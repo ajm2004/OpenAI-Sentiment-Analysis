{
 "cells": [
  {
   "cell_type": "markdown",
   "metadata": {},
   "source": [
    "# Text Analytics Pipeline for Text Classification\n",
    "\n",
    "This notebook demonstrates how to build a text analytics pipeline that includes text processing, feature extraction, classification, and evaluation.\n"
   ]
  },
  {
   "cell_type": "code",
   "execution_count": null,
   "metadata": {},
   "outputs": [],
   "source": [
    "# %pip install pandas numpy nltk emoji scikit-learn"
   ]
  },
  {
   "cell_type": "code",
   "execution_count": null,
   "metadata": {},
   "outputs": [],
   "source": [
    "import pandas as pd\n",
    "import numpy as np\n",
    "import re\n",
    "import string\n",
    "import nltk\n",
    "from nltk.tokenize import word_tokenize\n",
    "from nltk.stem import PorterStemmer\n",
    "from nltk.corpus import stopwords\n",
    "import emoji\n",
    "\n",
    "from sklearn.base import BaseEstimator, TransformerMixin\n",
    "from sklearn.pipeline import Pipeline\n",
    "from sklearn.feature_extraction.text import CountVectorizer, TfidfVectorizer\n",
    "from sklearn.linear_model import LogisticRegression\n",
    "from sklearn.model_selection import train_test_split, GridSearchCV\n",
    "from sklearn.metrics import classification_report\n",
    "\n",
    "import warnings\n",
    "warnings.filterwarnings(\"ignore\")\n",
    "\n",
    "# Download required NLTK resources\n",
    "nltk.download('punkt')\n",
    "nltk.download('stopwords')"
   ]
  },
  {
   "cell_type": "markdown",
   "metadata": {},
   "source": [
    "# Custom Text Preprocessor\n",
    "\n",
    "The custom transformer below:\n",
    "\n",
    " - **Emoji Conversion:** Converts any emojis to their text descriptions.\n",
    " - **Normalization:** Lowercases the text.\n",
    " - **Punctuation Removal:** Removes punctuation using regex.\n",
    " - **Tokenization:** Uses NLTK’s `word_tokenize`.\n",
    " - **Stop-word Removal:** Filters out English stopwords.\n",
    " - **Stemming:** Applies Porter stemming.\n",
    " \n",
    " The transformer implements `fit` and `transform` so that it can be used inside a scikit-learn pipeline."
   ]
  },
  {
   "cell_type": "code",
   "execution_count": null,
   "metadata": {},
   "outputs": [],
   "source": [
    "class TextPreprocessor(BaseEstimator, TransformerMixin):\n",
    "    def __init__(self, do_stemming=True, remove_stopwords=True, do_emoji_conversion=True):\n",
    "        self.do_stemming = do_stemming\n",
    "        self.remove_stopwords = remove_stopwords\n",
    "        self.do_emoji_conversion = do_emoji_conversion\n",
    "        self.stemmer = PorterStemmer()\n",
    "        self.stop_words = set(stopwords.words('english'))\n",
    "    \n",
    "    def emoji_to_text(self, text):\n",
    "        \"\"\"Convert emojis to their text descriptions.\"\"\"\n",
    "        return emoji.demojize(text)\n",
    "    \n",
    "    def tokenize(self, text):\n",
    "        \"\"\"Tokenize text after removing punctuation.\"\"\"\n",
    "        # Remove punctuation\n",
    "        text = re.sub(r'[^\\w\\s]', '', text)\n",
    "        tokens = word_tokenize(text)\n",
    "        # Keep only alphabetic tokens\n",
    "        tokens = [token for token in tokens if token.isalpha()]\n",
    "        if self.remove_stopwords:\n",
    "            tokens = [token for token in tokens if token.lower() not in self.stop_words]\n",
    "        if self.do_stemming:\n",
    "            tokens = [self.stemmer.stem(token) for token in tokens]\n",
    "        return tokens\n",
    "\n",
    "    def normalize(self, text):\n",
    "        \"\"\"Lowercase the text.\"\"\"\n",
    "        return text.lower()\n",
    "    \n",
    "    def preprocess(self, text):\n",
    "        \"\"\"Perform full preprocessing on the text.\"\"\"\n",
    "        if self.do_emoji_conversion:\n",
    "            text = self.emoji_to_text(text)\n",
    "        text = self.normalize(text)\n",
    "        tokens = self.tokenize(text)\n",
    "        # Join tokens back to a single string (vectorizers expect string input)\n",
    "        return ' '.join(tokens)\n",
    "    \n",
    "    def fit(self, X, y=None):\n",
    "        return self\n",
    "    \n",
    "    def transform(self, X, y=None):\n",
    "        return X.apply(self.preprocess)"
   ]
  },
  {
   "cell_type": "markdown",
   "metadata": {},
   "source": [
    " ## Data Loading and Train/Test Split\n",
    " \n",
    " We load the dataset and split it into training and testing sets."
   ]
  },
  {
   "cell_type": "code",
   "execution_count": null,
   "metadata": {},
   "outputs": [],
   "source": [
    "# Read the dataset (make sure the file is in your working directory)\n",
    "df = pd.read_csv(\"labeled_data_1.csv\")\n",
    "\n",
    "# Check available columns\n",
    "print(\"Columns in dataset:\", df.columns.tolist())\n",
    "\n",
    "# Select the important columns and drop any missing values\n",
    "df = df[['Cleaned Text', 'labels_1']].dropna()\n",
    "X = df['Cleaned Text']\n",
    "y = df['labels_1']\n",
    "\n",
    "# Split data into training and testing sets\n",
    "X_train, X_test, y_train, y_test = train_test_split(X, y, test_size=0.2, random_state=42)"
   ]
  },
  {
   "cell_type": "markdown",
   "metadata": {},
   "source": [
    "## Building Various Pipelines\n",
    " \n",
    " We create several pipelines:\n",
    " \n",
    " 1. **CountVectorizer with Unigrams (Binary Representation):**  \n",
    "    Uses binary occurrence of words.\n",
    " \n",
    " 2. **CountVectorizer with N-grams (Frequency Count):**  \n",
    "    Uses unigrams and bigrams.\n",
    " \n",
    " 3. **TfidfVectorizer with Unigrams:**  \n",
    "    Uses TF-IDF weights for unigrams.\n",
    " \n",
    " 4. **TfidfVectorizer with N-grams:**  \n",
    "    Uses TF-IDF weights for unigrams and bigrams.\n",
    " \n",
    " In all pipelines, the `TextPreprocessor` is applied first, followed by feature extraction and finally classification using Logistic Regression.\n"
   ]
  },
  {
   "cell_type": "code",
   "execution_count": null,
   "metadata": {},
   "outputs": [],
   "source": [
    "# Pipeline: CountVectorizer with unigrams (binary representation)\n",
    "pipeline_count_unigram = Pipeline([\n",
    "    ('preprocessor', TextPreprocessor()),\n",
    "    ('vectorizer', CountVectorizer(binary=True, ngram_range=(1,1))),\n",
    "    ('classifier', LogisticRegression(max_iter=1000))\n",
    "])\n",
    "\n",
    "# Pipeline: CountVectorizer with n-grams (frequency count)\n",
    "pipeline_count_ngram = Pipeline([\n",
    "    ('preprocessor', TextPreprocessor()),\n",
    "    ('vectorizer', CountVectorizer(ngram_range=(1,2))),  # using unigrams and bigrams\n",
    "    ('classifier', LogisticRegression(max_iter=1000))\n",
    "])\n",
    "\n",
    "# Pipeline: TfidfVectorizer with unigrams\n",
    "pipeline_tfidf_unigram = Pipeline([\n",
    "    ('preprocessor', TextPreprocessor()),\n",
    "    ('vectorizer', TfidfVectorizer(ngram_range=(1,1))),\n",
    "    ('classifier', LogisticRegression(max_iter=1000))\n",
    "])\n",
    "\n",
    "# Pipeline: TfidfVectorizer with n-grams\n",
    "pipeline_tfidf_ngram = Pipeline([\n",
    "    ('preprocessor', TextPreprocessor()),\n",
    "    ('vectorizer', TfidfVectorizer(ngram_range=(1,2))),\n",
    "    ('classifier', LogisticRegression(max_iter=1000))\n",
    "])"
   ]
  },
  {
   "cell_type": "markdown",
   "metadata": {},
   "source": [
    "## Evaluating the Pipelines\n",
    " \n",
    " We define a helper function `evaluate_pipeline` that fits a given pipeline on the training data, predicts the test data labels, and prints out the classification report."
   ]
  },
  {
   "cell_type": "code",
   "execution_count": null,
   "metadata": {},
   "outputs": [],
   "source": [
    "def evaluate_pipeline(pipeline, X_train, X_test, y_train, y_test):\n",
    "    pipeline.fit(X_train, y_train)\n",
    "    predictions = pipeline.predict(X_test)\n",
    "    print(classification_report(y_test, predictions))\n",
    "    return predictions\n",
    "\n",
    "print(\"### Evaluation: CountVectorizer with Unigrams (Binary)\")\n",
    "predictions_count_uni = evaluate_pipeline(pipeline_count_unigram, X_train, X_test, y_train, y_test)\n",
    "\n",
    "print(\"### Evaluation: CountVectorizer with N-grams (Frequency Count)\")\n",
    "predictions_count_ngram = evaluate_pipeline(pipeline_count_ngram, X_train, X_test, y_train, y_test)\n",
    "\n",
    "print(\"### Evaluation: TfidfVectorizer with Unigrams\")\n",
    "predictions_tfidf_uni = evaluate_pipeline(pipeline_tfidf_unigram, X_train, X_test, y_train, y_test)\n",
    "\n",
    "print(\"### Evaluation: TfidfVectorizer with N-grams\")\n",
    "predictions_tfidf_ngram = evaluate_pipeline(pipeline_tfidf_ngram, X_train, X_test, y_train, y_test)"
   ]
  },
  {
   "cell_type": "markdown",
   "metadata": {},
   "source": [
    "## Parameter Tuning with GridSearchCV\n",
    " \n",
    " Here, we perform grid search on a pipeline using `TfidfVectorizer` to tune parameters such as:\n",
    " \n",
    " - **ngram_range:** Unigrams vs. unigrams+bigrams.\n",
    " - **use_idf:** Whether to use the inverse document frequency reweighting.\n",
    " - **C:** Regularization strength for Logistic Regression.\n",
    " \n",
    " The grid search uses 5-fold cross-validation and optimizes for macro F1 score.\n"
   ]
  },
  {
   "cell_type": "code",
   "execution_count": null,
   "metadata": {},
   "outputs": [],
   "source": [
    "# Define the pipeline for grid search\n",
    "pipeline_grid = Pipeline([\n",
    "    ('preprocessor', TextPreprocessor()),\n",
    "    ('vectorizer', TfidfVectorizer()),\n",
    "    ('classifier', LogisticRegression(max_iter=1000))\n",
    "])\n",
    "\n",
    "# Define parameter grid\n",
    "param_grid = {\n",
    "    'vectorizer__ngram_range': [(1,1), (1,2)],\n",
    "    'vectorizer__use_idf': [True, False],\n",
    "    'classifier__C': [0.1, 1, 10]\n",
    "}\n",
    "\n",
    "# Perform Grid Search\n",
    "grid_search = GridSearchCV(pipeline_grid, param_grid, cv=5, scoring='f1_macro', n_jobs=-1, verbose=1)\n",
    "grid_search.fit(X_train, y_train)\n",
    "\n",
    "print(\"Best Parameters from Grid Search:\", grid_search.best_params_)\n",
    "\n",
    "# Evaluate the best model on the test set\n",
    "best_model = grid_search.best_estimator_\n",
    "predictions_best = best_model.predict(X_test)\n",
    "print(\"### Evaluation of Best Model from Grid Search\")\n",
    "print(classification_report(y_test, predictions_best))"
   ]
  }
 ],
 "metadata": {
  "kernelspec": {
   "display_name": "Python 3",
   "language": "python",
   "name": "python3"
  },
  "language_info": {
   "name": "python",
   "version": "3.12.9"
  }
 },
 "nbformat": 4,
 "nbformat_minor": 2
}
