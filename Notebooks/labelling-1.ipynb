{
 "cells": [
  {
   "cell_type": "code",
   "execution_count": 5,
   "metadata": {},
   "outputs": [
    {
     "data": {
      "text/plain": [
       "True"
      ]
     },
     "execution_count": 5,
     "metadata": {},
     "output_type": "execute_result"
    }
   ],
   "source": [
    "import torch\n",
    "import pandas as pd\n",
    "from transformers import pipeline\n",
    "torch.cuda.is_available()"
   ]
  },
  {
   "cell_type": "code",
   "execution_count": 6,
   "metadata": {},
   "outputs": [
    {
     "name": "stderr",
     "output_type": "stream",
     "text": [
      "Some weights of the model checkpoint at cardiffnlp/twitter-roberta-base-sentiment-latest were not used when initializing RobertaForSequenceClassification: ['roberta.pooler.dense.bias', 'roberta.pooler.dense.weight']\n",
      "- This IS expected if you are initializing RobertaForSequenceClassification from the checkpoint of a model trained on another task or with another architecture (e.g. initializing a BertForSequenceClassification model from a BertForPreTraining model).\n",
      "- This IS NOT expected if you are initializing RobertaForSequenceClassification from the checkpoint of a model that you expect to be exactly identical (initializing a BertForSequenceClassification model from a BertForSequenceClassification model).\n",
      "Device set to use cuda:0\n"
     ]
    }
   ],
   "source": [
    "# Initialize the sentiment analysis pipeline\n",
    "sentiment_pipeline = pipeline(\"text-classification\", \n",
    "                              model=\"cardiffnlp/twitter-roberta-base-sentiment-latest\")"
   ]
  },
  {
   "cell_type": "code",
   "execution_count": 40,
   "metadata": {},
   "outputs": [],
   "source": [
    "# Read the data from the csv file\n",
    "df = pd.read_csv(r\"../Data/similarity_scores.csv\")"
   ]
  },
  {
   "cell_type": "code",
   "execution_count": 41,
   "metadata": {},
   "outputs": [],
   "source": [
    "# Extract a seperate dataframe containing only records where comment_id is empty\n",
    "df_posts = df[df[\"comment_id\"].isnull()]"
   ]
  },
  {
   "cell_type": "code",
   "execution_count": 42,
   "metadata": {},
   "outputs": [
    {
     "name": "stdout",
     "output_type": "stream",
     "text": [
      "Number of rows without a post_body: 22432\n"
     ]
    }
   ],
   "source": [
    "# Check if the post_body has any empty values (these rows correspond to comments)\n",
    "print(\"Number of rows without a post_body:\", df[\"post_body\"].isnull().sum())"
   ]
  },
  {
   "cell_type": "code",
   "execution_count": 44,
   "metadata": {},
   "outputs": [],
   "source": [
    "# For comment rows, extract the corresponding post_body from the posts_df and add it to the df\n",
    "for index, row in df.iterrows():\n",
    "    if pd.isnull(row[\"post_body\"]):\n",
    "        post = df_posts[df_posts[\"post_id\"] == row[\"post_id\"]][\"post_body\"]\n",
    "        df.at[index, \"post_body\"] = str(post)"
   ]
  },
  {
   "cell_type": "code",
   "execution_count": 45,
   "metadata": {},
   "outputs": [
    {
     "name": "stdout",
     "output_type": "stream",
     "text": [
      "Number of rows without a post_body: 0\n"
     ]
    }
   ],
   "source": [
    "# Check if the post_body has any empty values (these should all be filled now)\n",
    "print(\"Number of rows without a post_body:\", df[\"post_body\"].isnull().sum())"
   ]
  },
  {
   "cell_type": "code",
   "execution_count": 46,
   "metadata": {},
   "outputs": [],
   "source": [
    "# Combine the post and comment text into a single column\n",
    "df[\"combined_text\"] = \"Post:\" + df[\"post_body\"] + \"\\n Comment:\" + df[\"comment_body\"]"
   ]
  },
  {
   "cell_type": "code",
   "execution_count": 62,
   "metadata": {},
   "outputs": [],
   "source": [
    "df[\"combined_text\"] = df[\"combined_text\"].apply(lambda x: x.replace(\"None\", \"\"))"
   ]
  },
  {
   "cell_type": "code",
   "execution_count": 64,
   "metadata": {},
   "outputs": [
    {
     "data": {
      "text/plain": [
       "<Axes: >"
      ]
     },
     "execution_count": 64,
     "metadata": {},
     "output_type": "execute_result"
    },
    {
     "data": {
      "image/png": "[encoded data removed]",
      "text/plain": [
       "<Figure size 640x480 with 1 Axes>"
      ]
     },
     "metadata": {},
     "output_type": "display_data"
    }
   ],
   "source": [
    "# Plot a graph to see the siz of text in combined_text\n",
    "df[\"combined_text\"].str.len().hist(bins = 40)"
   ]
  },
  {
   "cell_type": "code",
   "execution_count": null,
   "metadata": {},
   "outputs": [],
   "source": [
    "# Since roberta has a context window of 512 tokens (approx 2048 chars), drop rows with text > 2048 chars\n",
    "df = df[df[\"combined_text\"].str.len() < 2048]"
   ]
  },
  {
   "cell_type": "code",
   "execution_count": null,
   "metadata": {},
   "outputs": [],
   "source": [
    "# Calculate the sentiment of the combined text\n",
    "kwargs = {'padding':True,'truncation':True,'max_length':512}\n",
    "sentiments = df[\"combined_text\"].apply(lambda x: sentiment_pipeline(x, **kwargs))[0]"
   ]
  },
  {
   "cell_type": "code",
   "execution_count": null,
   "metadata": {},
   "outputs": [],
   "source": [
    "# Add the sentiment and score to the dataframe\n",
    "label2id = {\"neutral\": 0, \"positive\": 1, \"negative\": -1}\n",
    "df[\"label_1\"] = sentiments.apply(lambda x: label2id[x['label']])\n",
    "df[\"score_1\"] = sentiments.apply(lambda x: x['score'])"
   ]
  },
  {
   "cell_type": "code",
   "execution_count": null,
   "metadata": {},
   "outputs": [],
   "source": [
    "# Save the dataframe to a csv file\n",
    "df.to_csv(r\"../Data/labelled_data_1.csv\", index=False)"
   ]
  }
 ],
 "metadata": {
  "kernelspec": {
   "display_name": ".venv",
   "language": "python",
   "name": "python3"
  },
  "language_info": {
   "codemirror_mode": {
    "name": "ipython",
    "version": 3
   },
   "file_extension": ".py",
   "mimetype": "text/x-python",
   "name": "python",
   "nbconvert_exporter": "python",
   "pygments_lexer": "ipython3",
   "version": "3.12.1"
  }
 },
 "nbformat": 4,
 "nbformat_minor": 2
}
