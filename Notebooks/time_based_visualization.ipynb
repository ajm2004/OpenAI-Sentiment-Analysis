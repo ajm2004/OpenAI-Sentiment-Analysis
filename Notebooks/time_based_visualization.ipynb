{
 "cells": [
  {
   "cell_type": "markdown",
   "metadata": {},
   "source": [
    "## Part C - Visualization and Insights based on Time Period of Comments/Posts"
   ]
  },
  {
   "cell_type": "code",
   "execution_count": 1,
   "metadata": {},
   "outputs": [],
   "source": [
    "import pandas as pd"
   ]
  },
  {
   "cell_type": "code",
   "execution_count": 17,
   "metadata": {},
   "outputs": [],
   "source": [
    "final_data = pd.read_csv('../Data/labelled_data.csv')"
   ]
  },
  {
   "cell_type": "code",
   "execution_count": 18,
   "metadata": {},
   "outputs": [
    {
     "data": {
      "text/html": [
       "<div>\n",
       "<style scoped>\n",
       "    .dataframe tbody tr th:only-of-type {\n",
       "        vertical-align: middle;\n",
       "    }\n",
       "\n",
       "    .dataframe tbody tr th {\n",
       "        vertical-align: top;\n",
       "    }\n",
       "\n",
       "    .dataframe thead th {\n",
       "        text-align: right;\n",
       "    }\n",
       "</style>\n",
       "<table border=\"1\" class=\"dataframe\">\n",
       "  <thead>\n",
       "    <tr style=\"text-align: right;\">\n",
       "      <th></th>\n",
       "      <th>post_id</th>\n",
       "      <th>subreddit</th>\n",
       "      <th>post_title</th>\n",
       "      <th>post_body</th>\n",
       "      <th>number_of_comments</th>\n",
       "      <th>readable_datetime</th>\n",
       "      <th>post_author</th>\n",
       "      <th>number_of_upvotes</th>\n",
       "      <th>query</th>\n",
       "      <th>text</th>\n",
       "      <th>comment_id</th>\n",
       "      <th>comment_body</th>\n",
       "      <th>comment_author</th>\n",
       "      <th>label</th>\n",
       "    </tr>\n",
       "  </thead>\n",
       "  <tbody>\n",
       "    <tr>\n",
       "      <th>0</th>\n",
       "      <td>145ycjf</td>\n",
       "      <td>ChatGPT</td>\n",
       "      <td>Maybe I got into coding too early...</td>\n",
       "      <td>Coding with gpt4 is so painless and awesome th...</td>\n",
       "      <td>69</td>\n",
       "      <td>2023-06-10 15:54:27</td>\n",
       "      <td>FelipeReigosa</td>\n",
       "      <td>45</td>\n",
       "      <td>code</td>\n",
       "      <td>naw dude if anything that gives you a solid co...</td>\n",
       "      <td>jnnfvf9</td>\n",
       "      <td>naw dude if anything that gives you a solid co...</td>\n",
       "      <td>NaN</td>\n",
       "      <td>0</td>\n",
       "    </tr>\n",
       "    <tr>\n",
       "      <th>1</th>\n",
       "      <td>1el4thx</td>\n",
       "      <td>OpenAI</td>\n",
       "      <td>Greg Brockman, John Schulman, and Peter Deng L...</td>\n",
       "      <td>**OpenAI faces a leadership shakeup as three k...</td>\n",
       "      <td>238</td>\n",
       "      <td>2024-08-06 05:10:21</td>\n",
       "      <td>Altruistic_Gibbon907</td>\n",
       "      <td>135</td>\n",
       "      <td>open-source OR closed-source</td>\n",
       "      <td>OpenAI’s employees must be seriously regrettin...</td>\n",
       "      <td>lgpcdtu</td>\n",
       "      <td>OpenAI’s employees must be seriously regrettin...</td>\n",
       "      <td>allthemoreforthat</td>\n",
       "      <td>-1</td>\n",
       "    </tr>\n",
       "    <tr>\n",
       "      <th>2</th>\n",
       "      <td>1gh5mwb</td>\n",
       "      <td>singularity</td>\n",
       "      <td>Opinions: What AI product lived up to the hype...</td>\n",
       "      <td>What AI product or service were you super hype...</td>\n",
       "      <td>53</td>\n",
       "      <td>2024-11-01 17:39:33</td>\n",
       "      <td>Gilldadab</td>\n",
       "      <td>19</td>\n",
       "      <td>ChatGPT search</td>\n",
       "      <td>Opinions: What AI product lived up to the hype...</td>\n",
       "      <td>NaN</td>\n",
       "      <td>NaN</td>\n",
       "      <td>NaN</td>\n",
       "      <td>0</td>\n",
       "    </tr>\n",
       "    <tr>\n",
       "      <th>3</th>\n",
       "      <td>1ar3f53</td>\n",
       "      <td>OpenAI</td>\n",
       "      <td>what is the best way to do sentiment analysis ...</td>\n",
       "      <td>Im building an js app that allows you to creat...</td>\n",
       "      <td>8</td>\n",
       "      <td>2024-02-15 05:12:54</td>\n",
       "      <td>sagotly</td>\n",
       "      <td>1</td>\n",
       "      <td>embeddings</td>\n",
       "      <td>You don’t need OpenAI to do this, in fact I’d ...</td>\n",
       "      <td>kqhxb1b</td>\n",
       "      <td>You don’t need OpenAI to do this, in fact I’d ...</td>\n",
       "      <td>lionhydrathedeparted</td>\n",
       "      <td>-1</td>\n",
       "    </tr>\n",
       "    <tr>\n",
       "      <th>4</th>\n",
       "      <td>1d21sl2</td>\n",
       "      <td>OpenAI</td>\n",
       "      <td>Account banned or something?</td>\n",
       "      <td>I have ChatGPT plus and use the new 4.o model ...</td>\n",
       "      <td>12</td>\n",
       "      <td>2024-05-28 00:43:35</td>\n",
       "      <td>Hockeylockerpock</td>\n",
       "      <td>1</td>\n",
       "      <td>Operator</td>\n",
       "      <td>So for some reason I can't respond to any of t...</td>\n",
       "      <td>l72navg</td>\n",
       "      <td>So for some reason I can't respond to any of t...</td>\n",
       "      <td>linkmaster6</td>\n",
       "      <td>-1</td>\n",
       "    </tr>\n",
       "  </tbody>\n",
       "</table>\n",
       "</div>"
      ],
      "text/plain": [
       "   post_id    subreddit                                         post_title  \\\n",
       "0  145ycjf      ChatGPT               Maybe I got into coding too early...   \n",
       "1  1el4thx       OpenAI  Greg Brockman, John Schulman, and Peter Deng L...   \n",
       "2  1gh5mwb  singularity  Opinions: What AI product lived up to the hype...   \n",
       "3  1ar3f53       OpenAI  what is the best way to do sentiment analysis ...   \n",
       "4  1d21sl2       OpenAI                       Account banned or something?   \n",
       "\n",
       "                                           post_body  number_of_comments  \\\n",
       "0  Coding with gpt4 is so painless and awesome th...                  69   \n",
       "1  **OpenAI faces a leadership shakeup as three k...                 238   \n",
       "2  What AI product or service were you super hype...                  53   \n",
       "3  Im building an js app that allows you to creat...                   8   \n",
       "4  I have ChatGPT plus and use the new 4.o model ...                  12   \n",
       "\n",
       "     readable_datetime           post_author  number_of_upvotes  \\\n",
       "0  2023-06-10 15:54:27         FelipeReigosa                 45   \n",
       "1  2024-08-06 05:10:21  Altruistic_Gibbon907                135   \n",
       "2  2024-11-01 17:39:33             Gilldadab                 19   \n",
       "3  2024-02-15 05:12:54               sagotly                  1   \n",
       "4  2024-05-28 00:43:35      Hockeylockerpock                  1   \n",
       "\n",
       "                          query  \\\n",
       "0                          code   \n",
       "1  open-source OR closed-source   \n",
       "2                ChatGPT search   \n",
       "3                    embeddings   \n",
       "4                      Operator   \n",
       "\n",
       "                                                text comment_id  \\\n",
       "0  naw dude if anything that gives you a solid co...    jnnfvf9   \n",
       "1  OpenAI’s employees must be seriously regrettin...    lgpcdtu   \n",
       "2  Opinions: What AI product lived up to the hype...        NaN   \n",
       "3  You don’t need OpenAI to do this, in fact I’d ...    kqhxb1b   \n",
       "4  So for some reason I can't respond to any of t...    l72navg   \n",
       "\n",
       "                                        comment_body        comment_author  \\\n",
       "0  naw dude if anything that gives you a solid co...                   NaN   \n",
       "1  OpenAI’s employees must be seriously regrettin...     allthemoreforthat   \n",
       "2                                                NaN                   NaN   \n",
       "3  You don’t need OpenAI to do this, in fact I’d ...  lionhydrathedeparted   \n",
       "4  So for some reason I can't respond to any of t...           linkmaster6   \n",
       "\n",
       "   label  \n",
       "0      0  \n",
       "1     -1  \n",
       "2      0  \n",
       "3     -1  \n",
       "4     -1  "
      ]
     },
     "execution_count": 18,
     "metadata": {},
     "output_type": "execute_result"
    }
   ],
   "source": [
    "final_data.head()"
   ]
  },
  {
   "cell_type": "code",
   "execution_count": 20,
   "metadata": {},
   "outputs": [],
   "source": [
    "final_data['readable_datetime'] = pd.to_datetime(final_data['readable_datetime'], format='mixed')"
   ]
  },
  {
   "cell_type": "code",
   "execution_count": 23,
   "metadata": {},
   "outputs": [
    {
     "name": "stdout",
     "output_type": "stream",
     "text": [
      "2020-07-03 00:02:30\n",
      "2025-07-01 03:04:00\n"
     ]
    }
   ],
   "source": [
    "print(final_data['readable_datetime'].min())\n",
    "print(final_data['readable_datetime'].max())"
   ]
  },
  {
   "cell_type": "code",
   "execution_count": 33,
   "metadata": {},
   "outputs": [
    {
     "data": {
      "text/plain": [
       "<Axes: title={'center': 'Number of Posts in Each Year'}, xlabel='Year', ylabel='Number of Posts'>"
      ]
     },
     "execution_count": 33,
     "metadata": {},
     "output_type": "execute_result"
    },
    {
     "data": {
      "image/png": "[encoded data removed]",
      "text/plain": [
       "<Figure size 640x480 with 1 Axes>"
      ]
     },
     "metadata": {},
     "output_type": "display_data"
    }
   ],
   "source": [
    "# Plot the number of posts in each day\n",
    "final_data['readable_datetime'].dt.year.value_counts().sort_index().plot.bar(xlabel=\"Year\",\n",
    "                                                                              ylabel=\"Number of Posts\",\n",
    "                                                                              title=\"Number of Posts in Each Year\")"
   ]
  },
  {
   "cell_type": "markdown",
   "metadata": {},
   "source": [
    "The number of posts about OpenAI in our dataset for each year correlates with the growth of OpenAI and the release of ChatGPT (OpenAI's most popular product):\n",
    "\n",
    "1. [Release of ChatGPT](https://openai.com/index/chatgpt/) - November 2022\n",
    "2. [ChatGPT hits 100 million weekly active users](https://www.theverge.com/2023/11/6/23948386/chatgpt-active-user-count-openai-developer-conference) - November 2023\n",
    "3. [ChatGPT hits 300 million weekly active users](https://www.theverge.com/2024/12/4/24313097/chatgpt-300-million-weekly-users) - December 2024\n",
    "\n",
    "*NOTE: While ChatGPT is only one of the many products of OpenAI, it is the largest and most popular one. Many of the advancements of the OpenAI's other products are also accompanied by advancements in ChatGPT. Therefore, the sentiments surrounding OpenAI broadly echo the sentiments of customers and users of ChatGPT.*"
   ]
  },
  {
   "cell_type": "code",
   "execution_count": null,
   "metadata": {},
   "outputs": [],
   "source": []
  }
 ],
 "metadata": {
  "kernelspec": {
   "display_name": ".venv",
   "language": "python",
   "name": "python3"
  },
  "language_info": {
   "codemirror_mode": {
    "name": "ipython",
    "version": 3
   },
   "file_extension": ".py",
   "mimetype": "text/x-python",
   "name": "python",
   "nbconvert_exporter": "python",
   "pygments_lexer": "ipython3",
   "version": "3.12.1"
  }
 },
 "nbformat": 4,
 "nbformat_minor": 2
}
