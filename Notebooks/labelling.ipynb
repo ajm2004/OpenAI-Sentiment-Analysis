{
 "cells": [
  {
   "cell_type": "code",
   "execution_count": 68,
   "metadata": {},
   "outputs": [
    {
     "data": {
      "text/plain": [
       "True"
      ]
     },
     "execution_count": 68,
     "metadata": {},
     "output_type": "execute_result"
    }
   ],
   "source": [
    "import torch\n",
    "import pandas as pd\n",
    "from transformers import pipeline\n",
    "torch.cuda.is_available()"
   ]
  },
  {
   "cell_type": "code",
   "execution_count": 69,
   "metadata": {},
   "outputs": [
    {
     "name": "stderr",
     "output_type": "stream",
     "text": [
      "Some weights of the model checkpoint at cardiffnlp/twitter-roberta-base-sentiment-latest were not used when initializing RobertaForSequenceClassification: ['roberta.pooler.dense.bias', 'roberta.pooler.dense.weight']\n",
      "- This IS expected if you are initializing RobertaForSequenceClassification from the checkpoint of a model trained on another task or with another architecture (e.g. initializing a BertForSequenceClassification model from a BertForPreTraining model).\n",
      "- This IS NOT expected if you are initializing RobertaForSequenceClassification from the checkpoint of a model that you expect to be exactly identical (initializing a BertForSequenceClassification model from a BertForSequenceClassification model).\n",
      "Device set to use cuda:0\n"
     ]
    },
    {
     "ename": "KeyboardInterrupt",
     "evalue": "",
     "output_type": "error",
     "traceback": [
      "\u001b[1;31m---------------------------------------------------------------------------\u001b[0m",
      "\u001b[1;31mKeyboardInterrupt\u001b[0m                         Traceback (most recent call last)",
      "Cell \u001b[1;32mIn[69], line 2\u001b[0m\n\u001b[0;32m      1\u001b[0m \u001b[38;5;66;03m# Initialize the sentiment analysis pipeline\u001b[39;00m\n\u001b[1;32m----> 2\u001b[0m sentiment_pipeline \u001b[38;5;241m=\u001b[39m \u001b[43mpipeline\u001b[49m\u001b[43m(\u001b[49m\u001b[38;5;124;43m\"\u001b[39;49m\u001b[38;5;124;43mtext-classification\u001b[39;49m\u001b[38;5;124;43m\"\u001b[39;49m\u001b[43m,\u001b[49m\u001b[43m \u001b[49m\n\u001b[0;32m      3\u001b[0m \u001b[43m                              \u001b[49m\u001b[43mmodel\u001b[49m\u001b[38;5;241;43m=\u001b[39;49m\u001b[38;5;124;43m\"\u001b[39;49m\u001b[38;5;124;43mcardiffnlp/twitter-roberta-base-sentiment-latest\u001b[39;49m\u001b[38;5;124;43m\"\u001b[39;49m\u001b[43m,\u001b[49m\n\u001b[0;32m      4\u001b[0m \u001b[43m                              \u001b[49m\u001b[43mdevice\u001b[49m\u001b[38;5;241;43m=\u001b[39;49m\u001b[38;5;241;43m0\u001b[39;49m\u001b[43m)\u001b[49m \n",
      "File \u001b[1;32mc:\\Users\\Jonathan\\Desktop\\F20AA - Applied Text Analytics\\CW1\\F20AA_Grp5\\.venv\\Lib\\site-packages\\transformers\\pipelines\\__init__.py:1178\u001b[0m, in \u001b[0;36mpipeline\u001b[1;34m(task, model, config, tokenizer, feature_extractor, image_processor, processor, framework, revision, use_fast, token, device, device_map, torch_dtype, trust_remote_code, model_kwargs, pipeline_class, **kwargs)\u001b[0m\n\u001b[0;32m   1175\u001b[0m \u001b[38;5;28;01mif\u001b[39;00m processor \u001b[38;5;129;01mis\u001b[39;00m \u001b[38;5;129;01mnot\u001b[39;00m \u001b[38;5;28;01mNone\u001b[39;00m:\n\u001b[0;32m   1176\u001b[0m     kwargs[\u001b[38;5;124m\"\u001b[39m\u001b[38;5;124mprocessor\u001b[39m\u001b[38;5;124m\"\u001b[39m] \u001b[38;5;241m=\u001b[39m processor\n\u001b[1;32m-> 1178\u001b[0m \u001b[38;5;28;01mreturn\u001b[39;00m \u001b[43mpipeline_class\u001b[49m\u001b[43m(\u001b[49m\u001b[43mmodel\u001b[49m\u001b[38;5;241;43m=\u001b[39;49m\u001b[43mmodel\u001b[49m\u001b[43m,\u001b[49m\u001b[43m \u001b[49m\u001b[43mframework\u001b[49m\u001b[38;5;241;43m=\u001b[39;49m\u001b[43mframework\u001b[49m\u001b[43m,\u001b[49m\u001b[43m \u001b[49m\u001b[43mtask\u001b[49m\u001b[38;5;241;43m=\u001b[39;49m\u001b[43mtask\u001b[49m\u001b[43m,\u001b[49m\u001b[43m \u001b[49m\u001b[38;5;241;43m*\u001b[39;49m\u001b[38;5;241;43m*\u001b[39;49m\u001b[43mkwargs\u001b[49m\u001b[43m)\u001b[49m\n",
      "File \u001b[1;32mc:\\Users\\Jonathan\\Desktop\\F20AA - Applied Text Analytics\\CW1\\F20AA_Grp5\\.venv\\Lib\\site-packages\\transformers\\pipelines\\text_classification.py:85\u001b[0m, in \u001b[0;36mTextClassificationPipeline.__init__\u001b[1;34m(self, **kwargs)\u001b[0m\n\u001b[0;32m     84\u001b[0m \u001b[38;5;28;01mdef\u001b[39;00m\u001b[38;5;250m \u001b[39m\u001b[38;5;21m__init__\u001b[39m(\u001b[38;5;28mself\u001b[39m, \u001b[38;5;241m*\u001b[39m\u001b[38;5;241m*\u001b[39mkwargs):\n\u001b[1;32m---> 85\u001b[0m     \u001b[38;5;28;43msuper\u001b[39;49m\u001b[43m(\u001b[49m\u001b[43m)\u001b[49m\u001b[38;5;241;43m.\u001b[39;49m\u001b[38;5;21;43m__init__\u001b[39;49m\u001b[43m(\u001b[49m\u001b[38;5;241;43m*\u001b[39;49m\u001b[38;5;241;43m*\u001b[39;49m\u001b[43mkwargs\u001b[49m\u001b[43m)\u001b[49m\n\u001b[0;32m     87\u001b[0m     \u001b[38;5;28mself\u001b[39m\u001b[38;5;241m.\u001b[39mcheck_model_type(\n\u001b[0;32m     88\u001b[0m         TF_MODEL_FOR_SEQUENCE_CLASSIFICATION_MAPPING_NAMES\n\u001b[0;32m     89\u001b[0m         \u001b[38;5;28;01mif\u001b[39;00m \u001b[38;5;28mself\u001b[39m\u001b[38;5;241m.\u001b[39mframework \u001b[38;5;241m==\u001b[39m \u001b[38;5;124m\"\u001b[39m\u001b[38;5;124mtf\u001b[39m\u001b[38;5;124m\"\u001b[39m\n\u001b[0;32m     90\u001b[0m         \u001b[38;5;28;01melse\u001b[39;00m MODEL_FOR_SEQUENCE_CLASSIFICATION_MAPPING_NAMES\n\u001b[0;32m     91\u001b[0m     )\n",
      "File \u001b[1;32mc:\\Users\\Jonathan\\Desktop\\F20AA - Applied Text Analytics\\CW1\\F20AA_Grp5\\.venv\\Lib\\site-packages\\transformers\\pipelines\\base.py:982\u001b[0m, in \u001b[0;36mPipeline.__init__\u001b[1;34m(self, model, tokenizer, feature_extractor, image_processor, processor, modelcard, framework, task, args_parser, device, torch_dtype, binary_output, **kwargs)\u001b[0m\n\u001b[0;32m    975\u001b[0m \u001b[38;5;66;03m# We shouldn't call `model.to()` for models loaded with accelerate as well as the case that model is already on device\u001b[39;00m\n\u001b[0;32m    976\u001b[0m \u001b[38;5;28;01mif\u001b[39;00m (\n\u001b[0;32m    977\u001b[0m     \u001b[38;5;28mself\u001b[39m\u001b[38;5;241m.\u001b[39mframework \u001b[38;5;241m==\u001b[39m \u001b[38;5;124m\"\u001b[39m\u001b[38;5;124mpt\u001b[39m\u001b[38;5;124m\"\u001b[39m\n\u001b[0;32m    978\u001b[0m     \u001b[38;5;129;01mand\u001b[39;00m \u001b[38;5;28mself\u001b[39m\u001b[38;5;241m.\u001b[39mmodel\u001b[38;5;241m.\u001b[39mdevice \u001b[38;5;241m!=\u001b[39m \u001b[38;5;28mself\u001b[39m\u001b[38;5;241m.\u001b[39mdevice\n\u001b[0;32m    979\u001b[0m     \u001b[38;5;129;01mand\u001b[39;00m \u001b[38;5;129;01mnot\u001b[39;00m (\u001b[38;5;28misinstance\u001b[39m(\u001b[38;5;28mself\u001b[39m\u001b[38;5;241m.\u001b[39mdevice, \u001b[38;5;28mint\u001b[39m) \u001b[38;5;129;01mand\u001b[39;00m \u001b[38;5;28mself\u001b[39m\u001b[38;5;241m.\u001b[39mdevice \u001b[38;5;241m<\u001b[39m \u001b[38;5;241m0\u001b[39m)\n\u001b[0;32m    980\u001b[0m     \u001b[38;5;129;01mand\u001b[39;00m hf_device_map \u001b[38;5;129;01mis\u001b[39;00m \u001b[38;5;28;01mNone\u001b[39;00m\n\u001b[0;32m    981\u001b[0m ):\n\u001b[1;32m--> 982\u001b[0m     \u001b[38;5;28;43mself\u001b[39;49m\u001b[38;5;241;43m.\u001b[39;49m\u001b[43mmodel\u001b[49m\u001b[38;5;241;43m.\u001b[39;49m\u001b[43mto\u001b[49m\u001b[43m(\u001b[49m\u001b[38;5;28;43mself\u001b[39;49m\u001b[38;5;241;43m.\u001b[39;49m\u001b[43mdevice\u001b[49m\u001b[43m)\u001b[49m\n\u001b[0;32m    984\u001b[0m \u001b[38;5;66;03m# If the model can generate:\u001b[39;00m\n\u001b[0;32m    985\u001b[0m \u001b[38;5;66;03m# 1 - create a local generation config. This is done to avoid side-effects on the model as we apply local\u001b[39;00m\n\u001b[0;32m    986\u001b[0m \u001b[38;5;66;03m# tweaks to the generation config.\u001b[39;00m\n\u001b[0;32m    987\u001b[0m \u001b[38;5;66;03m# 2 - load the assistant model if it is passed.\u001b[39;00m\n\u001b[0;32m    988\u001b[0m \u001b[38;5;28mself\u001b[39m\u001b[38;5;241m.\u001b[39massistant_model, \u001b[38;5;28mself\u001b[39m\u001b[38;5;241m.\u001b[39massistant_tokenizer \u001b[38;5;241m=\u001b[39m load_assistant_model(\n\u001b[0;32m    989\u001b[0m     \u001b[38;5;28mself\u001b[39m\u001b[38;5;241m.\u001b[39mmodel, kwargs\u001b[38;5;241m.\u001b[39mpop(\u001b[38;5;124m\"\u001b[39m\u001b[38;5;124massistant_model\u001b[39m\u001b[38;5;124m\"\u001b[39m, \u001b[38;5;28;01mNone\u001b[39;00m), kwargs\u001b[38;5;241m.\u001b[39mpop(\u001b[38;5;124m\"\u001b[39m\u001b[38;5;124massistant_tokenizer\u001b[39m\u001b[38;5;124m\"\u001b[39m, \u001b[38;5;28;01mNone\u001b[39;00m)\n\u001b[0;32m    990\u001b[0m )\n",
      "File \u001b[1;32mc:\\Users\\Jonathan\\Desktop\\F20AA - Applied Text Analytics\\CW1\\F20AA_Grp5\\.venv\\Lib\\site-packages\\transformers\\modeling_utils.py:3110\u001b[0m, in \u001b[0;36mPreTrainedModel.to\u001b[1;34m(self, *args, **kwargs)\u001b[0m\n\u001b[0;32m   3105\u001b[0m     \u001b[38;5;28;01mif\u001b[39;00m dtype_present_in_args:\n\u001b[0;32m   3106\u001b[0m         \u001b[38;5;28;01mraise\u001b[39;00m \u001b[38;5;167;01mValueError\u001b[39;00m(\n\u001b[0;32m   3107\u001b[0m             \u001b[38;5;124m\"\u001b[39m\u001b[38;5;124mYou cannot cast a GPTQ model in a new `dtype`. Make sure to load the model using `from_pretrained` using the desired\u001b[39m\u001b[38;5;124m\"\u001b[39m\n\u001b[0;32m   3108\u001b[0m             \u001b[38;5;124m\"\u001b[39m\u001b[38;5;124m `dtype` by passing the correct `torch_dtype` argument.\u001b[39m\u001b[38;5;124m\"\u001b[39m\n\u001b[0;32m   3109\u001b[0m         )\n\u001b[1;32m-> 3110\u001b[0m \u001b[38;5;28;01mreturn\u001b[39;00m \u001b[38;5;28;43msuper\u001b[39;49m\u001b[43m(\u001b[49m\u001b[43m)\u001b[49m\u001b[38;5;241;43m.\u001b[39;49m\u001b[43mto\u001b[49m\u001b[43m(\u001b[49m\u001b[38;5;241;43m*\u001b[39;49m\u001b[43margs\u001b[49m\u001b[43m,\u001b[49m\u001b[43m \u001b[49m\u001b[38;5;241;43m*\u001b[39;49m\u001b[38;5;241;43m*\u001b[39;49m\u001b[43mkwargs\u001b[49m\u001b[43m)\u001b[49m\n",
      "File \u001b[1;32mc:\\Users\\Jonathan\\Desktop\\F20AA - Applied Text Analytics\\CW1\\F20AA_Grp5\\.venv\\Lib\\site-packages\\torch\\nn\\modules\\module.py:1343\u001b[0m, in \u001b[0;36mModule.to\u001b[1;34m(self, *args, **kwargs)\u001b[0m\n\u001b[0;32m   1340\u001b[0m         \u001b[38;5;28;01melse\u001b[39;00m:\n\u001b[0;32m   1341\u001b[0m             \u001b[38;5;28;01mraise\u001b[39;00m\n\u001b[1;32m-> 1343\u001b[0m \u001b[38;5;28;01mreturn\u001b[39;00m \u001b[38;5;28;43mself\u001b[39;49m\u001b[38;5;241;43m.\u001b[39;49m\u001b[43m_apply\u001b[49m\u001b[43m(\u001b[49m\u001b[43mconvert\u001b[49m\u001b[43m)\u001b[49m\n",
      "File \u001b[1;32mc:\\Users\\Jonathan\\Desktop\\F20AA - Applied Text Analytics\\CW1\\F20AA_Grp5\\.venv\\Lib\\site-packages\\torch\\nn\\modules\\module.py:903\u001b[0m, in \u001b[0;36mModule._apply\u001b[1;34m(self, fn, recurse)\u001b[0m\n\u001b[0;32m    901\u001b[0m \u001b[38;5;28;01mif\u001b[39;00m recurse:\n\u001b[0;32m    902\u001b[0m     \u001b[38;5;28;01mfor\u001b[39;00m module \u001b[38;5;129;01min\u001b[39;00m \u001b[38;5;28mself\u001b[39m\u001b[38;5;241m.\u001b[39mchildren():\n\u001b[1;32m--> 903\u001b[0m         \u001b[43mmodule\u001b[49m\u001b[38;5;241;43m.\u001b[39;49m\u001b[43m_apply\u001b[49m\u001b[43m(\u001b[49m\u001b[43mfn\u001b[49m\u001b[43m)\u001b[49m\n\u001b[0;32m    905\u001b[0m \u001b[38;5;28;01mdef\u001b[39;00m\u001b[38;5;250m \u001b[39m\u001b[38;5;21mcompute_should_use_set_data\u001b[39m(tensor, tensor_applied):\n\u001b[0;32m    906\u001b[0m     \u001b[38;5;28;01mif\u001b[39;00m torch\u001b[38;5;241m.\u001b[39m_has_compatible_shallow_copy_type(tensor, tensor_applied):\n\u001b[0;32m    907\u001b[0m         \u001b[38;5;66;03m# If the new tensor has compatible tensor type as the existing tensor,\u001b[39;00m\n\u001b[0;32m    908\u001b[0m         \u001b[38;5;66;03m# the current behavior is to change the tensor in-place using `.data =`,\u001b[39;00m\n\u001b[1;32m   (...)\u001b[0m\n\u001b[0;32m    913\u001b[0m         \u001b[38;5;66;03m# global flag to let the user control whether they want the future\u001b[39;00m\n\u001b[0;32m    914\u001b[0m         \u001b[38;5;66;03m# behavior of overwriting the existing tensor or not.\u001b[39;00m\n",
      "File \u001b[1;32mc:\\Users\\Jonathan\\Desktop\\F20AA - Applied Text Analytics\\CW1\\F20AA_Grp5\\.venv\\Lib\\site-packages\\torch\\nn\\modules\\module.py:903\u001b[0m, in \u001b[0;36mModule._apply\u001b[1;34m(self, fn, recurse)\u001b[0m\n\u001b[0;32m    901\u001b[0m \u001b[38;5;28;01mif\u001b[39;00m recurse:\n\u001b[0;32m    902\u001b[0m     \u001b[38;5;28;01mfor\u001b[39;00m module \u001b[38;5;129;01min\u001b[39;00m \u001b[38;5;28mself\u001b[39m\u001b[38;5;241m.\u001b[39mchildren():\n\u001b[1;32m--> 903\u001b[0m         \u001b[43mmodule\u001b[49m\u001b[38;5;241;43m.\u001b[39;49m\u001b[43m_apply\u001b[49m\u001b[43m(\u001b[49m\u001b[43mfn\u001b[49m\u001b[43m)\u001b[49m\n\u001b[0;32m    905\u001b[0m \u001b[38;5;28;01mdef\u001b[39;00m\u001b[38;5;250m \u001b[39m\u001b[38;5;21mcompute_should_use_set_data\u001b[39m(tensor, tensor_applied):\n\u001b[0;32m    906\u001b[0m     \u001b[38;5;28;01mif\u001b[39;00m torch\u001b[38;5;241m.\u001b[39m_has_compatible_shallow_copy_type(tensor, tensor_applied):\n\u001b[0;32m    907\u001b[0m         \u001b[38;5;66;03m# If the new tensor has compatible tensor type as the existing tensor,\u001b[39;00m\n\u001b[0;32m    908\u001b[0m         \u001b[38;5;66;03m# the current behavior is to change the tensor in-place using `.data =`,\u001b[39;00m\n\u001b[1;32m   (...)\u001b[0m\n\u001b[0;32m    913\u001b[0m         \u001b[38;5;66;03m# global flag to let the user control whether they want the future\u001b[39;00m\n\u001b[0;32m    914\u001b[0m         \u001b[38;5;66;03m# behavior of overwriting the existing tensor or not.\u001b[39;00m\n",
      "    \u001b[1;31m[... skipping similar frames: Module._apply at line 903 (4 times)]\u001b[0m\n",
      "File \u001b[1;32mc:\\Users\\Jonathan\\Desktop\\F20AA - Applied Text Analytics\\CW1\\F20AA_Grp5\\.venv\\Lib\\site-packages\\torch\\nn\\modules\\module.py:903\u001b[0m, in \u001b[0;36mModule._apply\u001b[1;34m(self, fn, recurse)\u001b[0m\n\u001b[0;32m    901\u001b[0m \u001b[38;5;28;01mif\u001b[39;00m recurse:\n\u001b[0;32m    902\u001b[0m     \u001b[38;5;28;01mfor\u001b[39;00m module \u001b[38;5;129;01min\u001b[39;00m \u001b[38;5;28mself\u001b[39m\u001b[38;5;241m.\u001b[39mchildren():\n\u001b[1;32m--> 903\u001b[0m         \u001b[43mmodule\u001b[49m\u001b[38;5;241;43m.\u001b[39;49m\u001b[43m_apply\u001b[49m\u001b[43m(\u001b[49m\u001b[43mfn\u001b[49m\u001b[43m)\u001b[49m\n\u001b[0;32m    905\u001b[0m \u001b[38;5;28;01mdef\u001b[39;00m\u001b[38;5;250m \u001b[39m\u001b[38;5;21mcompute_should_use_set_data\u001b[39m(tensor, tensor_applied):\n\u001b[0;32m    906\u001b[0m     \u001b[38;5;28;01mif\u001b[39;00m torch\u001b[38;5;241m.\u001b[39m_has_compatible_shallow_copy_type(tensor, tensor_applied):\n\u001b[0;32m    907\u001b[0m         \u001b[38;5;66;03m# If the new tensor has compatible tensor type as the existing tensor,\u001b[39;00m\n\u001b[0;32m    908\u001b[0m         \u001b[38;5;66;03m# the current behavior is to change the tensor in-place using `.data =`,\u001b[39;00m\n\u001b[1;32m   (...)\u001b[0m\n\u001b[0;32m    913\u001b[0m         \u001b[38;5;66;03m# global flag to let the user control whether they want the future\u001b[39;00m\n\u001b[0;32m    914\u001b[0m         \u001b[38;5;66;03m# behavior of overwriting the existing tensor or not.\u001b[39;00m\n",
      "File \u001b[1;32mc:\\Users\\Jonathan\\Desktop\\F20AA - Applied Text Analytics\\CW1\\F20AA_Grp5\\.venv\\Lib\\site-packages\\torch\\nn\\modules\\module.py:930\u001b[0m, in \u001b[0;36mModule._apply\u001b[1;34m(self, fn, recurse)\u001b[0m\n\u001b[0;32m    926\u001b[0m \u001b[38;5;66;03m# Tensors stored in modules are graph leaves, and we don't want to\u001b[39;00m\n\u001b[0;32m    927\u001b[0m \u001b[38;5;66;03m# track autograd history of `param_applied`, so we have to use\u001b[39;00m\n\u001b[0;32m    928\u001b[0m \u001b[38;5;66;03m# `with torch.no_grad():`\u001b[39;00m\n\u001b[0;32m    929\u001b[0m \u001b[38;5;28;01mwith\u001b[39;00m torch\u001b[38;5;241m.\u001b[39mno_grad():\n\u001b[1;32m--> 930\u001b[0m     param_applied \u001b[38;5;241m=\u001b[39m \u001b[43mfn\u001b[49m\u001b[43m(\u001b[49m\u001b[43mparam\u001b[49m\u001b[43m)\u001b[49m\n\u001b[0;32m    931\u001b[0m p_should_use_set_data \u001b[38;5;241m=\u001b[39m compute_should_use_set_data(param, param_applied)\n\u001b[0;32m    933\u001b[0m \u001b[38;5;66;03m# subclasses may have multiple child tensors so we need to use swap_tensors\u001b[39;00m\n",
      "File \u001b[1;32mc:\\Users\\Jonathan\\Desktop\\F20AA - Applied Text Analytics\\CW1\\F20AA_Grp5\\.venv\\Lib\\site-packages\\torch\\nn\\modules\\module.py:1329\u001b[0m, in \u001b[0;36mModule.to.<locals>.convert\u001b[1;34m(t)\u001b[0m\n\u001b[0;32m   1322\u001b[0m     \u001b[38;5;28;01mif\u001b[39;00m convert_to_format \u001b[38;5;129;01mis\u001b[39;00m \u001b[38;5;129;01mnot\u001b[39;00m \u001b[38;5;28;01mNone\u001b[39;00m \u001b[38;5;129;01mand\u001b[39;00m t\u001b[38;5;241m.\u001b[39mdim() \u001b[38;5;129;01min\u001b[39;00m (\u001b[38;5;241m4\u001b[39m, \u001b[38;5;241m5\u001b[39m):\n\u001b[0;32m   1323\u001b[0m         \u001b[38;5;28;01mreturn\u001b[39;00m t\u001b[38;5;241m.\u001b[39mto(\n\u001b[0;32m   1324\u001b[0m             device,\n\u001b[0;32m   1325\u001b[0m             dtype \u001b[38;5;28;01mif\u001b[39;00m t\u001b[38;5;241m.\u001b[39mis_floating_point() \u001b[38;5;129;01mor\u001b[39;00m t\u001b[38;5;241m.\u001b[39mis_complex() \u001b[38;5;28;01melse\u001b[39;00m \u001b[38;5;28;01mNone\u001b[39;00m,\n\u001b[0;32m   1326\u001b[0m             non_blocking,\n\u001b[0;32m   1327\u001b[0m             memory_format\u001b[38;5;241m=\u001b[39mconvert_to_format,\n\u001b[0;32m   1328\u001b[0m         )\n\u001b[1;32m-> 1329\u001b[0m     \u001b[38;5;28;01mreturn\u001b[39;00m \u001b[43mt\u001b[49m\u001b[38;5;241;43m.\u001b[39;49m\u001b[43mto\u001b[49m\u001b[43m(\u001b[49m\n\u001b[0;32m   1330\u001b[0m \u001b[43m        \u001b[49m\u001b[43mdevice\u001b[49m\u001b[43m,\u001b[49m\n\u001b[0;32m   1331\u001b[0m \u001b[43m        \u001b[49m\u001b[43mdtype\u001b[49m\u001b[43m \u001b[49m\u001b[38;5;28;43;01mif\u001b[39;49;00m\u001b[43m \u001b[49m\u001b[43mt\u001b[49m\u001b[38;5;241;43m.\u001b[39;49m\u001b[43mis_floating_point\u001b[49m\u001b[43m(\u001b[49m\u001b[43m)\u001b[49m\u001b[43m \u001b[49m\u001b[38;5;129;43;01mor\u001b[39;49;00m\u001b[43m \u001b[49m\u001b[43mt\u001b[49m\u001b[38;5;241;43m.\u001b[39;49m\u001b[43mis_complex\u001b[49m\u001b[43m(\u001b[49m\u001b[43m)\u001b[49m\u001b[43m \u001b[49m\u001b[38;5;28;43;01melse\u001b[39;49;00m\u001b[43m \u001b[49m\u001b[38;5;28;43;01mNone\u001b[39;49;00m\u001b[43m,\u001b[49m\n\u001b[0;32m   1332\u001b[0m \u001b[43m        \u001b[49m\u001b[43mnon_blocking\u001b[49m\u001b[43m,\u001b[49m\n\u001b[0;32m   1333\u001b[0m \u001b[43m    \u001b[49m\u001b[43m)\u001b[49m\n\u001b[0;32m   1334\u001b[0m \u001b[38;5;28;01mexcept\u001b[39;00m \u001b[38;5;167;01mNotImplementedError\u001b[39;00m \u001b[38;5;28;01mas\u001b[39;00m e:\n\u001b[0;32m   1335\u001b[0m     \u001b[38;5;28;01mif\u001b[39;00m \u001b[38;5;28mstr\u001b[39m(e) \u001b[38;5;241m==\u001b[39m \u001b[38;5;124m\"\u001b[39m\u001b[38;5;124mCannot copy out of meta tensor; no data!\u001b[39m\u001b[38;5;124m\"\u001b[39m:\n",
      "\u001b[1;31mKeyboardInterrupt\u001b[0m: "
     ]
    }
   ],
   "source": [
    "# Initialize the sentiment analysis pipeline\n",
    "sentiment_pipeline = pipeline(\"text-classification\", \n",
    "                              model=\"cardiffnlp/twitter-roberta-base-sentiment-latest\",\n",
    "                              device=0) "
   ]
  },
  {
   "cell_type": "code",
   "execution_count": null,
   "metadata": {},
   "outputs": [],
   "source": [
    "# Read the data from the csv file\n",
    "df = pd.read_csv(r\"../Data/similarity_scores.csv\")"
   ]
  },
  {
   "cell_type": "code",
   "execution_count": null,
   "metadata": {},
   "outputs": [
    {
     "data": {
      "text/plain": [
       "<Axes: >"
      ]
     },
     "execution_count": 4,
     "metadata": {},
     "output_type": "execute_result"
    },
    {
     "data": {
      "image/png": "[encoded data removed]",
      "text/plain": [
       "<Figure size 640x480 with 1 Axes>"
      ]
     },
     "metadata": {},
     "output_type": "display_data"
    }
   ],
   "source": [
    "# Plot a graph to see the siz of text in Cleaned Text\n",
    "df[\"Cleaned Text\"].str.len().hist(bins = 40)\n",
    "\n",
    "# All the text in the Cleaned Text column is less than the context limit of the sentiment analysis model (512 tokens)"
   ]
  },
  {
   "cell_type": "code",
   "execution_count": null,
   "metadata": {},
   "outputs": [],
   "source": [
    "# Calculate the sentiment of the combined text\n",
    "df['Cleaned Text'] = df['Cleaned Text'].astype('str')\n",
    "kwargs = {'padding':True,'truncation':True,'max_length':512}\n",
    "results = sentiment_pipeline(df[\"Cleaned Text\"].tolist(), **kwargs) \n",
    "df[\"label_1\"] = [res[\"label\"] for res in results]\n",
    "df[\"score_1\"] = [res[\"score\"] for res in results]"
   ]
  },
  {
   "cell_type": "code",
   "execution_count": null,
   "metadata": {},
   "outputs": [],
   "source": [
    "# Save the dataframe to a csv file\n",
    "df.to_csv(r\"../Data/labelled_data_1.csv\", index=False)"
   ]
  },
  {
   "cell_type": "markdown",
   "metadata": {},
   "source": [
    "## CHECK THE CONFIDENCE OF THE MODEL FOR MISLABELLED SAMPLES"
   ]
  },
  {
   "cell_type": "code",
   "execution_count": null,
   "metadata": {},
   "outputs": [],
   "source": [
    "df = pd.read_csv(r\"../Data/manual_merged.csv\")"
   ]
  },
  {
   "cell_type": "code",
   "execution_count": null,
   "metadata": {},
   "outputs": [
    {
     "data": {
      "text/html": [
       "<div>\n",
       "<style scoped>\n",
       "    .dataframe tbody tr th:only-of-type {\n",
       "        vertical-align: middle;\n",
       "    }\n",
       "\n",
       "    .dataframe tbody tr th {\n",
       "        vertical-align: top;\n",
       "    }\n",
       "\n",
       "    .dataframe thead th {\n",
       "        text-align: right;\n",
       "    }\n",
       "</style>\n",
       "<table border=\"1\" class=\"dataframe\">\n",
       "  <thead>\n",
       "    <tr style=\"text-align: right;\">\n",
       "      <th></th>\n",
       "      <th>number_of_comments</th>\n",
       "      <th>number_of_upvotes</th>\n",
       "      <th>similarity</th>\n",
       "      <th>score_1</th>\n",
       "      <th>m_label_1</th>\n",
       "    </tr>\n",
       "  </thead>\n",
       "  <tbody>\n",
       "    <tr>\n",
       "      <th>count</th>\n",
       "      <td>450.000000</td>\n",
       "      <td>450.000000</td>\n",
       "      <td>450.000000</td>\n",
       "      <td>450.000000</td>\n",
       "      <td>450.000000</td>\n",
       "    </tr>\n",
       "    <tr>\n",
       "      <th>mean</th>\n",
       "      <td>135.755556</td>\n",
       "      <td>145.975556</td>\n",
       "      <td>0.295253</td>\n",
       "      <td>0.736288</td>\n",
       "      <td>1.597778</td>\n",
       "    </tr>\n",
       "    <tr>\n",
       "      <th>std</th>\n",
       "      <td>383.262577</td>\n",
       "      <td>731.295170</td>\n",
       "      <td>0.129705</td>\n",
       "      <td>0.148578</td>\n",
       "      <td>2.083020</td>\n",
       "    </tr>\n",
       "    <tr>\n",
       "      <th>min</th>\n",
       "      <td>0.000000</td>\n",
       "      <td>-19.000000</td>\n",
       "      <td>0.090536</td>\n",
       "      <td>0.385341</td>\n",
       "      <td>-1.000000</td>\n",
       "    </tr>\n",
       "    <tr>\n",
       "      <th>25%</th>\n",
       "      <td>10.000000</td>\n",
       "      <td>2.000000</td>\n",
       "      <td>0.192450</td>\n",
       "      <td>0.609952</td>\n",
       "      <td>0.000000</td>\n",
       "    </tr>\n",
       "    <tr>\n",
       "      <th>50%</th>\n",
       "      <td>40.500000</td>\n",
       "      <td>7.000000</td>\n",
       "      <td>0.267261</td>\n",
       "      <td>0.758231</td>\n",
       "      <td>1.000000</td>\n",
       "    </tr>\n",
       "    <tr>\n",
       "      <th>75%</th>\n",
       "      <td>122.750000</td>\n",
       "      <td>44.750000</td>\n",
       "      <td>0.377964</td>\n",
       "      <td>0.870074</td>\n",
       "      <td>4.000000</td>\n",
       "    </tr>\n",
       "    <tr>\n",
       "      <th>max</th>\n",
       "      <td>4713.000000</td>\n",
       "      <td>8057.000000</td>\n",
       "      <td>0.707107</td>\n",
       "      <td>0.981075</td>\n",
       "      <td>4.000000</td>\n",
       "    </tr>\n",
       "  </tbody>\n",
       "</table>\n",
       "</div>"
      ],
      "text/plain": [
       "       number_of_comments  number_of_upvotes  similarity     score_1  \\\n",
       "count          450.000000         450.000000  450.000000  450.000000   \n",
       "mean           135.755556         145.975556    0.295253    0.736288   \n",
       "std            383.262577         731.295170    0.129705    0.148578   \n",
       "min              0.000000         -19.000000    0.090536    0.385341   \n",
       "25%             10.000000           2.000000    0.192450    0.609952   \n",
       "50%             40.500000           7.000000    0.267261    0.758231   \n",
       "75%            122.750000          44.750000    0.377964    0.870074   \n",
       "max           4713.000000        8057.000000    0.707107    0.981075   \n",
       "\n",
       "        m_label_1  \n",
       "count  450.000000  \n",
       "mean     1.597778  \n",
       "std      2.083020  \n",
       "min     -1.000000  \n",
       "25%      0.000000  \n",
       "50%      1.000000  \n",
       "75%      4.000000  \n",
       "max      4.000000  "
      ]
     },
     "execution_count": 43,
     "metadata": {},
     "output_type": "execute_result"
    }
   ],
   "source": [
    "df.describe()"
   ]
  },
  {
   "cell_type": "code",
   "execution_count": null,
   "metadata": {},
   "outputs": [
    {
     "data": {
      "text/html": [
       "<div>\n",
       "<style scoped>\n",
       "    .dataframe tbody tr th:only-of-type {\n",
       "        vertical-align: middle;\n",
       "    }\n",
       "\n",
       "    .dataframe tbody tr th {\n",
       "        vertical-align: top;\n",
       "    }\n",
       "\n",
       "    .dataframe thead th {\n",
       "        text-align: right;\n",
       "    }\n",
       "</style>\n",
       "<table border=\"1\" class=\"dataframe\">\n",
       "  <thead>\n",
       "    <tr style=\"text-align: right;\">\n",
       "      <th></th>\n",
       "      <th>post_id</th>\n",
       "      <th>subreddit</th>\n",
       "      <th>post_title</th>\n",
       "      <th>post_body</th>\n",
       "      <th>number_of_comments</th>\n",
       "      <th>readable_datetime</th>\n",
       "      <th>post_author</th>\n",
       "      <th>number_of_upvotes</th>\n",
       "      <th>query</th>\n",
       "      <th>text</th>\n",
       "      <th>comment_id</th>\n",
       "      <th>comment_body</th>\n",
       "      <th>comment_author</th>\n",
       "      <th>Cleaned Text</th>\n",
       "      <th>similarity</th>\n",
       "      <th>label_1</th>\n",
       "      <th>score_1</th>\n",
       "      <th>m_label_1</th>\n",
       "    </tr>\n",
       "  </thead>\n",
       "  <tbody>\n",
       "    <tr>\n",
       "      <th>0</th>\n",
       "      <td>19b0b5a</td>\n",
       "      <td>OpenAI</td>\n",
       "      <td>Amazing use case: I'm a 40 year old recovering...</td>\n",
       "      <td>This list is by no means exhaustive; over the ...</td>\n",
       "      <td>92</td>\n",
       "      <td>2024-01-20 05:52:14</td>\n",
       "      <td>LifeIsMostValuable</td>\n",
       "      <td>2</td>\n",
       "      <td>coding with ChatGPT</td>\n",
       "      <td>Congrats on breaking free! I have to say I hav...</td>\n",
       "      <td>kippw31</td>\n",
       "      <td>Congrats on breaking free! I have to say I hav...</td>\n",
       "      <td>heavy-minium</td>\n",
       "      <td>congrats on breaking free i have to say i have...</td>\n",
       "      <td>0.258199</td>\n",
       "      <td>negative</td>\n",
       "      <td>0.467608</td>\n",
       "      <td>0.0</td>\n",
       "    </tr>\n",
       "    <tr>\n",
       "      <th>1</th>\n",
       "      <td>1icahc2</td>\n",
       "      <td>ChatGPT</td>\n",
       "      <td>Why does deepseek keep calling itself chatgpt</td>\n",
       "      <td>well I know identity doesn’t matter,</td>\n",
       "      <td>116</td>\n",
       "      <td>2025-01-28 23:50:33</td>\n",
       "      <td>baskerville_clan</td>\n",
       "      <td>166</td>\n",
       "      <td>NaN</td>\n",
       "      <td>Why does deepseek keep calling itself chatgpt ...</td>\n",
       "      <td>NaN</td>\n",
       "      <td>NaN</td>\n",
       "      <td>NaN</td>\n",
       "      <td>why does deepseek keep calling itself chatgpt ...</td>\n",
       "      <td>0.447214</td>\n",
       "      <td>negative</td>\n",
       "      <td>0.807592</td>\n",
       "      <td>0.0</td>\n",
       "    </tr>\n",
       "    <tr>\n",
       "      <th>2</th>\n",
       "      <td>1ib7xft</td>\n",
       "      <td>ChatGPT</td>\n",
       "      <td>Please bro stop using the free better alternat...</td>\n",
       "      <td>NaN</td>\n",
       "      <td>860</td>\n",
       "      <td>2025-01-27 16:40:08</td>\n",
       "      <td>analgerianabroad</td>\n",
       "      <td>124</td>\n",
       "      <td>NaN</td>\n",
       "      <td>\"Faking\" low cost is literally what ChatGPT wa...</td>\n",
       "      <td>m9h65nu</td>\n",
       "      <td>\"Faking\" low cost is literally what ChatGPT wa...</td>\n",
       "      <td>Efrayl</td>\n",
       "      <td>faking low cost is literally what chatgpt was ...</td>\n",
       "      <td>0.267261</td>\n",
       "      <td>negative</td>\n",
       "      <td>0.873706</td>\n",
       "      <td>-1.0</td>\n",
       "    </tr>\n",
       "    <tr>\n",
       "      <th>3</th>\n",
       "      <td>11r0qx0</td>\n",
       "      <td>OpenAI</td>\n",
       "      <td>API Throttling (not rate limit)</td>\n",
       "      <td>I swear to god this is happening. I've been re...</td>\n",
       "      <td>5</td>\n",
       "      <td>2023-03-14 12:33:17</td>\n",
       "      <td>DocmodApp</td>\n",
       "      <td>2</td>\n",
       "      <td>rate limit</td>\n",
       "      <td>API Throttling (not rate limit) I swear to god...</td>\n",
       "      <td>NaN</td>\n",
       "      <td>NaN</td>\n",
       "      <td>NaN</td>\n",
       "      <td>api throttling not rate limit i swear to god t...</td>\n",
       "      <td>0.152499</td>\n",
       "      <td>negative</td>\n",
       "      <td>0.820520</td>\n",
       "      <td>-1.0</td>\n",
       "    </tr>\n",
       "    <tr>\n",
       "      <th>4</th>\n",
       "      <td>1hgna9l</td>\n",
       "      <td>OpenAI</td>\n",
       "      <td>Google has overshadowed 12 days of open ai til...</td>\n",
       "      <td>The response open ai would have expected from ...</td>\n",
       "      <td>243</td>\n",
       "      <td>2024-12-18 02:55:27</td>\n",
       "      <td>No_Macaroon_7608</td>\n",
       "      <td>15</td>\n",
       "      <td>Sora</td>\n",
       "      <td>Google was so bad I thought did they get AI sc...</td>\n",
       "      <td>m2kzjk0</td>\n",
       "      <td>Google was so bad I thought did they get AI sc...</td>\n",
       "      <td>mike7seven</td>\n",
       "      <td>google was so bad i thought did they get ai sc...</td>\n",
       "      <td>0.134840</td>\n",
       "      <td>negative</td>\n",
       "      <td>0.880184</td>\n",
       "      <td>-1.0</td>\n",
       "    </tr>\n",
       "  </tbody>\n",
       "</table>\n",
       "</div>"
      ],
      "text/plain": [
       "   post_id subreddit                                         post_title  \\\n",
       "0  19b0b5a    OpenAI  Amazing use case: I'm a 40 year old recovering...   \n",
       "1  1icahc2   ChatGPT      Why does deepseek keep calling itself chatgpt   \n",
       "2  1ib7xft   ChatGPT  Please bro stop using the free better alternat...   \n",
       "3  11r0qx0    OpenAI                    API Throttling (not rate limit)   \n",
       "4  1hgna9l    OpenAI  Google has overshadowed 12 days of open ai til...   \n",
       "\n",
       "                                           post_body  number_of_comments  \\\n",
       "0  This list is by no means exhaustive; over the ...                  92   \n",
       "1            well I know identity doesn’t matter,                    116   \n",
       "2                                                NaN                 860   \n",
       "3  I swear to god this is happening. I've been re...                   5   \n",
       "4  The response open ai would have expected from ...                 243   \n",
       "\n",
       "     readable_datetime         post_author  number_of_upvotes  \\\n",
       "0  2024-01-20 05:52:14  LifeIsMostValuable                  2   \n",
       "1  2025-01-28 23:50:33    baskerville_clan                166   \n",
       "2  2025-01-27 16:40:08    analgerianabroad                124   \n",
       "3  2023-03-14 12:33:17           DocmodApp                  2   \n",
       "4  2024-12-18 02:55:27    No_Macaroon_7608                 15   \n",
       "\n",
       "                 query                                               text  \\\n",
       "0  coding with ChatGPT  Congrats on breaking free! I have to say I hav...   \n",
       "1                  NaN  Why does deepseek keep calling itself chatgpt ...   \n",
       "2                  NaN  \"Faking\" low cost is literally what ChatGPT wa...   \n",
       "3           rate limit  API Throttling (not rate limit) I swear to god...   \n",
       "4                 Sora  Google was so bad I thought did they get AI sc...   \n",
       "\n",
       "  comment_id                                       comment_body  \\\n",
       "0    kippw31  Congrats on breaking free! I have to say I hav...   \n",
       "1        NaN                                                NaN   \n",
       "2    m9h65nu  \"Faking\" low cost is literally what ChatGPT wa...   \n",
       "3        NaN                                                NaN   \n",
       "4    m2kzjk0  Google was so bad I thought did they get AI sc...   \n",
       "\n",
       "  comment_author                                       Cleaned Text  \\\n",
       "0   heavy-minium  congrats on breaking free i have to say i have...   \n",
       "1            NaN  why does deepseek keep calling itself chatgpt ...   \n",
       "2         Efrayl  faking low cost is literally what chatgpt was ...   \n",
       "3            NaN  api throttling not rate limit i swear to god t...   \n",
       "4     mike7seven  google was so bad i thought did they get ai sc...   \n",
       "\n",
       "   similarity   label_1   score_1  m_label_1  \n",
       "0    0.258199  negative  0.467608        0.0  \n",
       "1    0.447214  negative  0.807592        0.0  \n",
       "2    0.267261  negative  0.873706       -1.0  \n",
       "3    0.152499  negative  0.820520       -1.0  \n",
       "4    0.134840  negative  0.880184       -1.0  "
      ]
     },
     "execution_count": 44,
     "metadata": {},
     "output_type": "execute_result"
    }
   ],
   "source": [
    "df.head()"
   ]
  },
  {
   "cell_type": "code",
   "execution_count": null,
   "metadata": {},
   "outputs": [],
   "source": [
    "# Map m_label_1 to sentiment labels\n",
    "df[\"m_label_1\"] = df[\"m_label_1\"].map({-1: \"negative\", 1: \"positive\", 0: \"neutral\", 4:\"irrelevant\"})"
   ]
  },
  {
   "cell_type": "code",
   "execution_count": null,
   "metadata": {},
   "outputs": [
    {
     "data": {
      "text/html": [
       "<div>\n",
       "<style scoped>\n",
       "    .dataframe tbody tr th:only-of-type {\n",
       "        vertical-align: middle;\n",
       "    }\n",
       "\n",
       "    .dataframe tbody tr th {\n",
       "        vertical-align: top;\n",
       "    }\n",
       "\n",
       "    .dataframe thead th {\n",
       "        text-align: right;\n",
       "    }\n",
       "</style>\n",
       "<table border=\"1\" class=\"dataframe\">\n",
       "  <thead>\n",
       "    <tr style=\"text-align: right;\">\n",
       "      <th></th>\n",
       "      <th>post_id</th>\n",
       "      <th>subreddit</th>\n",
       "      <th>post_title</th>\n",
       "      <th>post_body</th>\n",
       "      <th>number_of_comments</th>\n",
       "      <th>readable_datetime</th>\n",
       "      <th>post_author</th>\n",
       "      <th>number_of_upvotes</th>\n",
       "      <th>query</th>\n",
       "      <th>text</th>\n",
       "      <th>comment_id</th>\n",
       "      <th>comment_body</th>\n",
       "      <th>comment_author</th>\n",
       "      <th>Cleaned Text</th>\n",
       "      <th>similarity</th>\n",
       "      <th>label_1</th>\n",
       "      <th>score_1</th>\n",
       "      <th>m_label_1</th>\n",
       "    </tr>\n",
       "  </thead>\n",
       "  <tbody>\n",
       "    <tr>\n",
       "      <th>0</th>\n",
       "      <td>19b0b5a</td>\n",
       "      <td>OpenAI</td>\n",
       "      <td>Amazing use case: I'm a 40 year old recovering...</td>\n",
       "      <td>This list is by no means exhaustive; over the ...</td>\n",
       "      <td>92</td>\n",
       "      <td>2024-01-20 05:52:14</td>\n",
       "      <td>LifeIsMostValuable</td>\n",
       "      <td>2</td>\n",
       "      <td>coding with ChatGPT</td>\n",
       "      <td>Congrats on breaking free! I have to say I hav...</td>\n",
       "      <td>kippw31</td>\n",
       "      <td>Congrats on breaking free! I have to say I hav...</td>\n",
       "      <td>heavy-minium</td>\n",
       "      <td>congrats on breaking free i have to say i have...</td>\n",
       "      <td>0.258199</td>\n",
       "      <td>negative</td>\n",
       "      <td>0.467608</td>\n",
       "      <td>neutral</td>\n",
       "    </tr>\n",
       "    <tr>\n",
       "      <th>1</th>\n",
       "      <td>1icahc2</td>\n",
       "      <td>ChatGPT</td>\n",
       "      <td>Why does deepseek keep calling itself chatgpt</td>\n",
       "      <td>well I know identity doesn’t matter,</td>\n",
       "      <td>116</td>\n",
       "      <td>2025-01-28 23:50:33</td>\n",
       "      <td>baskerville_clan</td>\n",
       "      <td>166</td>\n",
       "      <td>NaN</td>\n",
       "      <td>Why does deepseek keep calling itself chatgpt ...</td>\n",
       "      <td>NaN</td>\n",
       "      <td>NaN</td>\n",
       "      <td>NaN</td>\n",
       "      <td>why does deepseek keep calling itself chatgpt ...</td>\n",
       "      <td>0.447214</td>\n",
       "      <td>negative</td>\n",
       "      <td>0.807592</td>\n",
       "      <td>neutral</td>\n",
       "    </tr>\n",
       "    <tr>\n",
       "      <th>2</th>\n",
       "      <td>1ib7xft</td>\n",
       "      <td>ChatGPT</td>\n",
       "      <td>Please bro stop using the free better alternat...</td>\n",
       "      <td>NaN</td>\n",
       "      <td>860</td>\n",
       "      <td>2025-01-27 16:40:08</td>\n",
       "      <td>analgerianabroad</td>\n",
       "      <td>124</td>\n",
       "      <td>NaN</td>\n",
       "      <td>\"Faking\" low cost is literally what ChatGPT wa...</td>\n",
       "      <td>m9h65nu</td>\n",
       "      <td>\"Faking\" low cost is literally what ChatGPT wa...</td>\n",
       "      <td>Efrayl</td>\n",
       "      <td>faking low cost is literally what chatgpt was ...</td>\n",
       "      <td>0.267261</td>\n",
       "      <td>negative</td>\n",
       "      <td>0.873706</td>\n",
       "      <td>negative</td>\n",
       "    </tr>\n",
       "    <tr>\n",
       "      <th>3</th>\n",
       "      <td>11r0qx0</td>\n",
       "      <td>OpenAI</td>\n",
       "      <td>API Throttling (not rate limit)</td>\n",
       "      <td>I swear to god this is happening. I've been re...</td>\n",
       "      <td>5</td>\n",
       "      <td>2023-03-14 12:33:17</td>\n",
       "      <td>DocmodApp</td>\n",
       "      <td>2</td>\n",
       "      <td>rate limit</td>\n",
       "      <td>API Throttling (not rate limit) I swear to god...</td>\n",
       "      <td>NaN</td>\n",
       "      <td>NaN</td>\n",
       "      <td>NaN</td>\n",
       "      <td>api throttling not rate limit i swear to god t...</td>\n",
       "      <td>0.152499</td>\n",
       "      <td>negative</td>\n",
       "      <td>0.820520</td>\n",
       "      <td>negative</td>\n",
       "    </tr>\n",
       "    <tr>\n",
       "      <th>4</th>\n",
       "      <td>1hgna9l</td>\n",
       "      <td>OpenAI</td>\n",
       "      <td>Google has overshadowed 12 days of open ai til...</td>\n",
       "      <td>The response open ai would have expected from ...</td>\n",
       "      <td>243</td>\n",
       "      <td>2024-12-18 02:55:27</td>\n",
       "      <td>No_Macaroon_7608</td>\n",
       "      <td>15</td>\n",
       "      <td>Sora</td>\n",
       "      <td>Google was so bad I thought did they get AI sc...</td>\n",
       "      <td>m2kzjk0</td>\n",
       "      <td>Google was so bad I thought did they get AI sc...</td>\n",
       "      <td>mike7seven</td>\n",
       "      <td>google was so bad i thought did they get ai sc...</td>\n",
       "      <td>0.134840</td>\n",
       "      <td>negative</td>\n",
       "      <td>0.880184</td>\n",
       "      <td>negative</td>\n",
       "    </tr>\n",
       "  </tbody>\n",
       "</table>\n",
       "</div>"
      ],
      "text/plain": [
       "   post_id subreddit                                         post_title  \\\n",
       "0  19b0b5a    OpenAI  Amazing use case: I'm a 40 year old recovering...   \n",
       "1  1icahc2   ChatGPT      Why does deepseek keep calling itself chatgpt   \n",
       "2  1ib7xft   ChatGPT  Please bro stop using the free better alternat...   \n",
       "3  11r0qx0    OpenAI                    API Throttling (not rate limit)   \n",
       "4  1hgna9l    OpenAI  Google has overshadowed 12 days of open ai til...   \n",
       "\n",
       "                                           post_body  number_of_comments  \\\n",
       "0  This list is by no means exhaustive; over the ...                  92   \n",
       "1            well I know identity doesn’t matter,                    116   \n",
       "2                                                NaN                 860   \n",
       "3  I swear to god this is happening. I've been re...                   5   \n",
       "4  The response open ai would have expected from ...                 243   \n",
       "\n",
       "     readable_datetime         post_author  number_of_upvotes  \\\n",
       "0  2024-01-20 05:52:14  LifeIsMostValuable                  2   \n",
       "1  2025-01-28 23:50:33    baskerville_clan                166   \n",
       "2  2025-01-27 16:40:08    analgerianabroad                124   \n",
       "3  2023-03-14 12:33:17           DocmodApp                  2   \n",
       "4  2024-12-18 02:55:27    No_Macaroon_7608                 15   \n",
       "\n",
       "                 query                                               text  \\\n",
       "0  coding with ChatGPT  Congrats on breaking free! I have to say I hav...   \n",
       "1                  NaN  Why does deepseek keep calling itself chatgpt ...   \n",
       "2                  NaN  \"Faking\" low cost is literally what ChatGPT wa...   \n",
       "3           rate limit  API Throttling (not rate limit) I swear to god...   \n",
       "4                 Sora  Google was so bad I thought did they get AI sc...   \n",
       "\n",
       "  comment_id                                       comment_body  \\\n",
       "0    kippw31  Congrats on breaking free! I have to say I hav...   \n",
       "1        NaN                                                NaN   \n",
       "2    m9h65nu  \"Faking\" low cost is literally what ChatGPT wa...   \n",
       "3        NaN                                                NaN   \n",
       "4    m2kzjk0  Google was so bad I thought did they get AI sc...   \n",
       "\n",
       "  comment_author                                       Cleaned Text  \\\n",
       "0   heavy-minium  congrats on breaking free i have to say i have...   \n",
       "1            NaN  why does deepseek keep calling itself chatgpt ...   \n",
       "2         Efrayl  faking low cost is literally what chatgpt was ...   \n",
       "3            NaN  api throttling not rate limit i swear to god t...   \n",
       "4     mike7seven  google was so bad i thought did they get ai sc...   \n",
       "\n",
       "   similarity   label_1   score_1 m_label_1  \n",
       "0    0.258199  negative  0.467608   neutral  \n",
       "1    0.447214  negative  0.807592   neutral  \n",
       "2    0.267261  negative  0.873706  negative  \n",
       "3    0.152499  negative  0.820520  negative  \n",
       "4    0.134840  negative  0.880184  negative  "
      ]
     },
     "execution_count": 50,
     "metadata": {},
     "output_type": "execute_result"
    }
   ],
   "source": [
    "df[\"m_label_1\"] = df[\"m_label_1\"].astype(\"O\")\n",
    "df[\"label_1\"] = df[\"label_1\"].astype(\"O\")\n",
    "df.head()"
   ]
  },
  {
   "cell_type": "code",
   "execution_count": null,
   "metadata": {},
   "outputs": [],
   "source": [
    "# Drop the rows where the m_label_1 is 4 (marked irrelevant)\n",
    "df = df[df[\"m_label_1\"] != \"irrelevant\"]"
   ]
  },
  {
   "cell_type": "code",
   "execution_count": null,
   "metadata": {},
   "outputs": [
    {
     "data": {
      "text/html": [
       "<div>\n",
       "<style scoped>\n",
       "    .dataframe tbody tr th:only-of-type {\n",
       "        vertical-align: middle;\n",
       "    }\n",
       "\n",
       "    .dataframe tbody tr th {\n",
       "        vertical-align: top;\n",
       "    }\n",
       "\n",
       "    .dataframe thead th {\n",
       "        text-align: right;\n",
       "    }\n",
       "</style>\n",
       "<table border=\"1\" class=\"dataframe\">\n",
       "  <thead>\n",
       "    <tr style=\"text-align: right;\">\n",
       "      <th></th>\n",
       "      <th>number_of_comments</th>\n",
       "      <th>number_of_upvotes</th>\n",
       "      <th>similarity</th>\n",
       "      <th>score_1</th>\n",
       "    </tr>\n",
       "  </thead>\n",
       "  <tbody>\n",
       "    <tr>\n",
       "      <th>count</th>\n",
       "      <td>268.000000</td>\n",
       "      <td>268.000000</td>\n",
       "      <td>268.000000</td>\n",
       "      <td>268.000000</td>\n",
       "    </tr>\n",
       "    <tr>\n",
       "      <th>mean</th>\n",
       "      <td>150.951493</td>\n",
       "      <td>192.119403</td>\n",
       "      <td>0.287343</td>\n",
       "      <td>0.726031</td>\n",
       "    </tr>\n",
       "    <tr>\n",
       "      <th>std</th>\n",
       "      <td>386.466323</td>\n",
       "      <td>918.963661</td>\n",
       "      <td>0.121697</td>\n",
       "      <td>0.151392</td>\n",
       "    </tr>\n",
       "    <tr>\n",
       "      <th>min</th>\n",
       "      <td>0.000000</td>\n",
       "      <td>-19.000000</td>\n",
       "      <td>0.101015</td>\n",
       "      <td>0.385341</td>\n",
       "    </tr>\n",
       "    <tr>\n",
       "      <th>25%</th>\n",
       "      <td>11.000000</td>\n",
       "      <td>2.000000</td>\n",
       "      <td>0.191583</td>\n",
       "      <td>0.595328</td>\n",
       "    </tr>\n",
       "    <tr>\n",
       "      <th>50%</th>\n",
       "      <td>46.000000</td>\n",
       "      <td>7.000000</td>\n",
       "      <td>0.258199</td>\n",
       "      <td>0.747033</td>\n",
       "    </tr>\n",
       "    <tr>\n",
       "      <th>75%</th>\n",
       "      <td>140.500000</td>\n",
       "      <td>45.000000</td>\n",
       "      <td>0.353553</td>\n",
       "      <td>0.859085</td>\n",
       "    </tr>\n",
       "    <tr>\n",
       "      <th>max</th>\n",
       "      <td>3958.000000</td>\n",
       "      <td>8057.000000</td>\n",
       "      <td>0.707107</td>\n",
       "      <td>0.975497</td>\n",
       "    </tr>\n",
       "  </tbody>\n",
       "</table>\n",
       "</div>"
      ],
      "text/plain": [
       "       number_of_comments  number_of_upvotes  similarity     score_1\n",
       "count          268.000000         268.000000  268.000000  268.000000\n",
       "mean           150.951493         192.119403    0.287343    0.726031\n",
       "std            386.466323         918.963661    0.121697    0.151392\n",
       "min              0.000000         -19.000000    0.101015    0.385341\n",
       "25%             11.000000           2.000000    0.191583    0.595328\n",
       "50%             46.000000           7.000000    0.258199    0.747033\n",
       "75%            140.500000          45.000000    0.353553    0.859085\n",
       "max           3958.000000        8057.000000    0.707107    0.975497"
      ]
     },
     "execution_count": 52,
     "metadata": {},
     "output_type": "execute_result"
    }
   ],
   "source": [
    "df.describe()"
   ]
  },
  {
   "cell_type": "code",
   "execution_count": 67,
   "metadata": {},
   "outputs": [
    {
     "data": {
      "text/plain": [
       "<Axes: >"
      ]
     },
     "execution_count": 67,
     "metadata": {},
     "output_type": "execute_result"
    },
    {
     "data": {
      "image/png": "[encoded data removed]",
      "text/plain": [
       "<Figure size 640x480 with 1 Axes>"
      ]
     },
     "metadata": {},
     "output_type": "display_data"
    }
   ],
   "source": [
    "df[\"score_1\"].hist(bins=20)"
   ]
  },
  {
   "cell_type": "code",
   "execution_count": null,
   "metadata": {},
   "outputs": [
    {
     "data": {
      "text/plain": [
       "<Axes: >"
      ]
     },
     "execution_count": 56,
     "metadata": {},
     "output_type": "execute_result"
    },
    {
     "data": {
      "image/png": "[encoded data removed]",
      "text/plain": [
       "<Figure size 640x480 with 1 Axes>"
      ]
     },
     "metadata": {},
     "output_type": "display_data"
    }
   ],
   "source": [
    "# Plot a histogram of the score_1 column, for the records where the m_label_1 and label_1 are not the same\n",
    "df[df[\"m_label_1\"] != df[\"label_1\"]][\"score_1\"].hist(bins=20)"
   ]
  },
  {
   "cell_type": "code",
   "execution_count": null,
   "metadata": {},
   "outputs": [
    {
     "data": {
      "text/plain": [
       "<Axes: >"
      ]
     },
     "execution_count": 57,
     "metadata": {},
     "output_type": "execute_result"
    },
    {
     "data": {
      "image/png": "[encoded data removed]",
      "text/plain": [
       "<Figure size 640x480 with 1 Axes>"
      ]
     },
     "metadata": {},
     "output_type": "display_data"
    }
   ],
   "source": [
    "df[df[\"m_label_1\"] == df[\"label_1\"]][\"score_1\"].hist(bins=20)"
   ]
  },
  {
   "cell_type": "code",
   "execution_count": null,
   "metadata": {},
   "outputs": [
    {
     "data": {
      "text/plain": [
       "np.float64(0.6843650017914019)"
      ]
     },
     "execution_count": 58,
     "metadata": {},
     "output_type": "execute_result"
    }
   ],
   "source": [
    "# Average confidence score for the records where the m_label_1 and label_1 are not the same\n",
    "df[df[\"m_label_1\"] != df[\"label_1\"]][\"score_1\"].mean()"
   ]
  },
  {
   "cell_type": "code",
   "execution_count": null,
   "metadata": {},
   "outputs": [
    {
     "data": {
      "text/plain": [
       "np.float64(0.7489106150376315)"
      ]
     },
     "execution_count": 59,
     "metadata": {},
     "output_type": "execute_result"
    }
   ],
   "source": [
    "# Average confidence score for the records where the m_label_1 and label_1 are the same\n",
    "df[df[\"m_label_1\"] == df[\"label_1\"]][\"score_1\"].mean()"
   ]
  },
  {
   "cell_type": "code",
   "execution_count": 74,
   "metadata": {},
   "outputs": [],
   "source": [
    "df = pd.read_csv(r\"../Data/labelled_data_1.csv\")"
   ]
  },
  {
   "cell_type": "code",
   "execution_count": 80,
   "metadata": {},
   "outputs": [
    {
     "data": {
      "text/plain": [
       "2636"
      ]
     },
     "execution_count": 80,
     "metadata": {},
     "output_type": "execute_result"
    }
   ],
   "source": [
    "# Find the number of samples with confidence score less than \n",
    "df[df[\"score_1\"] < 0.5].shape[0]"
   ]
  },
  {
   "cell_type": "code",
   "execution_count": 81,
   "metadata": {},
   "outputs": [
    {
     "data": {
      "text/plain": [
       "<Axes: >"
      ]
     },
     "execution_count": 81,
     "metadata": {},
     "output_type": "execute_result"
    },
    {
     "data": {
      "image/png": "[encoded data removed]",
      "text/plain": [
       "<Figure size 640x480 with 1 Axes>"
      ]
     },
     "metadata": {},
     "output_type": "display_data"
    }
   ],
   "source": [
    "df[\"score_1\"].hist(bins=20)"
   ]
  },
  {
   "cell_type": "markdown",
   "metadata": {},
   "source": []
  }
 ],
 "metadata": {
  "kernelspec": {
   "display_name": "pytorch_env",
   "language": "python",
   "name": "python3"
  },
  "language_info": {
   "codemirror_mode": {
    "name": "ipython",
    "version": 3
   },
   "file_extension": ".py",
   "mimetype": "text/x-python",
   "name": "python",
   "nbconvert_exporter": "python",
   "pygments_lexer": "ipython3",
   "version": "3.11.11"
  }
 },
 "nbformat": 4,
 "nbformat_minor": 2
}
