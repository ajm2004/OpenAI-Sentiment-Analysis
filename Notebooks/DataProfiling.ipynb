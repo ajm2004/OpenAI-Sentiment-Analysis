{
 "cells": [
  {
   "cell_type": "markdown",
   "metadata": {},
   "source": [
    "# Data Profiling for Verified Data"
   ]
  },
  {
   "cell_type": "code",
   "execution_count": 1,
   "metadata": {},
   "outputs": [],
   "source": [
    "import pandas as pd"
   ]
  },
  {
   "cell_type": "code",
   "execution_count": null,
   "metadata": {},
   "outputs": [
    {
     "name": "stdout",
     "output_type": "stream",
     "text": [
      "% of Negative:  30.4\n",
      "% of Neutral:  28.8\n",
      "% of Positive:  26.8\n",
      "==================================================\n",
      "% of Mismatched labels:  25.0\n",
      "Mismatched:  125\n",
      "==================================================\n",
      "% of Irrelevant:  14.0\n",
      "No of Irrelevant:  70\n"
     ]
    }
   ],
   "source": [
    "data = pd.read_csv('../Data/verification_data.csv')\n",
    "\n",
    "print('% of Negative: ', round((len(data[data['verified_label'] == -1]) / len(data)) * 100, 2))\n",
    "print('% of Neutral: ', round((len(data[data['verified_label'] == 0]) / len(data)) * 100, 2))\n",
    "print('% of Positive: ', round((len(data[data['verified_label'] == 1]) / len(data)) * 100, 2))\n",
    "\n",
    "print(\"=\"*50)\n",
    "\n",
    "# Check mismatched labels\n",
    "mismatched = data[data['verified_label'] != data['manual_label']]\n",
    "\n",
    "print('% of Mismatched labels: ', round((len(mismatched) / len(data)) * 100, 2))\n",
    "print(\"Mismatched: \", len(mismatched))\n",
    "\n",
    "print(\"=\"*50)\n",
    "\n",
    "print('% of Irrelevant: ', round((len(data[data['verified_label'] == 2]) / len(data)) * 100, 2))\n",
    "print(\"No of Irrelevant: \", len(data[data['verified_label'] == 2]))\n",
    "\n"
   ]
  }
 ],
 "metadata": {
  "kernelspec": {
   "display_name": "Python 3",
   "language": "python",
   "name": "python3"
  },
  "language_info": {
   "codemirror_mode": {
    "name": "ipython",
    "version": 3
   },
   "file_extension": ".py",
   "mimetype": "text/x-python",
   "name": "python",
   "nbconvert_exporter": "python",
   "pygments_lexer": "ipython3",
   "version": "3.12.3"
  }
 },
 "nbformat": 4,
 "nbformat_minor": 2
}
