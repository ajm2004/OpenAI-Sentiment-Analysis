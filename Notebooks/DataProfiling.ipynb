{
 "cells": [
  {
   "cell_type": "markdown",
   "metadata": {},
   "source": [
    "# Data Profiling"
   ]
  },
  {
   "cell_type": "code",
   "execution_count": 1,
   "metadata": {},
   "outputs": [],
   "source": [
    "import pandas as pd"
   ]
  },
  {
   "cell_type": "markdown",
   "metadata": {},
   "source": [
    "# Before Active Learning - Data Profile"
   ]
  },
  {
   "cell_type": "code",
   "execution_count": 2,
   "metadata": {},
   "outputs": [
    {
     "name": "stdout",
     "output_type": "stream",
     "text": [
      "% of Negative:  21.56\n",
      "% of Neutral:  18.44\n",
      "% of Positive:  19.56\n",
      "==================================================\n",
      "% of Mismatched labels:  61.56\n",
      "Mismatched:  277\n",
      "==================================================\n",
      "% of Irrelevant:  40.44\n",
      "No of Irrelevant:  182\n"
     ]
    }
   ],
   "source": [
    "data = pd.read_csv('../Data/pre_training_labelled_data.csv')\n",
    "\n",
    "print('% of Negative: ', round((len(data[data['m_label_1'] == -1]) / len(data)) * 100, 2))\n",
    "print('% of Neutral: ', round((len(data[data['m_label_1'] == 0]) / len(data)) * 100, 2))\n",
    "print('% of Positive: ', round((len(data[data['m_label_1'] == 1]) / len(data)) * 100, 2))\n",
    "\n",
    "print(\"=\"*50)\n",
    "\n",
    "data['label_1'] = data['label_1'].map({'negative': -1, 'neutral': 0, 'positive': 1, 'irrelevant': 4})\n",
    "\n",
    "mismatched = data[data['label_1'] != data['m_label_1']]\n",
    "\n",
    "print('% of Mismatched labels: ', round((len(mismatched) / len(data)) * 100, 2))\n",
    "print(\"Mismatched: \", len(mismatched))\n",
    "\n",
    "print(\"=\"*50)\n",
    "\n",
    "print('% of Irrelevant: ', round((len(data[data['m_label_1'] == 4]) / len(data)) * 100, 2))\n",
    "print(\"No of Irrelevant: \", len(data[data['m_label_1'] == 4]))"
   ]
  },
  {
   "cell_type": "markdown",
   "metadata": {},
   "source": [
    "# After Active Learning - Data Profile"
   ]
  },
  {
   "cell_type": "code",
   "execution_count": 3,
   "metadata": {},
   "outputs": [
    {
     "name": "stdout",
     "output_type": "stream",
     "text": [
      "% of Negative:  30.4\n",
      "% of Neutral:  28.8\n",
      "% of Positive:  26.8\n",
      "==================================================\n",
      "% of Mismatched labels:  25.0\n",
      "Mismatched:  125\n",
      "==================================================\n",
      "% of Irrelevant:  14.0\n",
      "No of Irrelevant:  70\n"
     ]
    }
   ],
   "source": [
    "data = pd.read_csv('../Data/verification_data.csv')\n",
    "\n",
    "print('% of Negative: ', round((len(data[data['verified_label'] == -1]) / len(data)) * 100, 2))\n",
    "print('% of Neutral: ', round((len(data[data['verified_label'] == 0]) / len(data)) * 100, 2))\n",
    "print('% of Positive: ', round((len(data[data['verified_label'] == 1]) / len(data)) * 100, 2))\n",
    "\n",
    "print(\"=\"*50)\n",
    "\n",
    "# Check mismatched labels\n",
    "mismatched = data[data['verified_label'] != data['manual_label']]\n",
    "\n",
    "print('% of Mismatched labels: ', round((len(mismatched) / len(data)) * 100, 2))\n",
    "print(\"Mismatched: \", len(mismatched))\n",
    "\n",
    "print(\"=\"*50)\n",
    "\n",
    "print('% of Irrelevant: ', round((len(data[data['verified_label'] == 2]) / len(data)) * 100, 2))\n",
    "print(\"No of Irrelevant: \", len(data[data['verified_label'] == 2]))\n",
    "\n"
   ]
  }
 ],
 "metadata": {
  "kernelspec": {
   "display_name": "Python 3",
   "language": "python",
   "name": "python3"
  },
  "language_info": {
   "codemirror_mode": {
    "name": "ipython",
    "version": 3
   },
   "file_extension": ".py",
   "mimetype": "text/x-python",
   "name": "python",
   "nbconvert_exporter": "python",
   "pygments_lexer": "ipython3",
   "version": "3.12.3"
  }
 },
 "nbformat": 4,
 "nbformat_minor": 2
}
