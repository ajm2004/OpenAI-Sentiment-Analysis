{
 "cells": [
  {
   "cell_type": "markdown",
   "metadata": {},
   "source": [
    "# REDDIT API ACCESS USING PRAW"
   ]
  },
  {
   "cell_type": "markdown",
   "metadata": {},
   "source": [
    "### Install the praw library"
   ]
  },
  {
   "cell_type": "code",
   "execution_count": null,
   "metadata": {},
   "outputs": [],
   "source": [
    "%pip install praw"
   ]
  },
  {
   "cell_type": "markdown",
   "metadata": {},
   "source": [
    "### Client Details"
   ]
  },
  {
   "cell_type": "code",
   "execution_count": 2,
   "metadata": {},
   "outputs": [],
   "source": [
    "USERNAME=\"NTA2025\"\n",
    "PASSWORD=\"testingreddit\"\n",
    "CLIENT_ID=\"uTlcdB62JBZGWyS-6aIqaA\"\n",
    "CLIENT_SECRET=\"gF_3XRYUgwKOPAMN8RCVn9s0wAAWRg\""
   ]
  },
  {
   "cell_type": "markdown",
   "metadata": {},
   "source": [
    "### Authorization"
   ]
  },
  {
   "cell_type": "code",
   "execution_count": 3,
   "metadata": {},
   "outputs": [],
   "source": [
    "import praw\n",
    "\n",
    "reddit_instance = praw.Reddit(client_id=CLIENT_ID,\n",
    "                                client_secret=CLIENT_SECRET,\n",
    "                                user_agent=\"my user agent\",\n",
    "                                username=USERNAME,\n",
    "                                password=PASSWORD)"
   ]
  },
  {
   "cell_type": "markdown",
   "metadata": {},
   "source": [
    "### Get Details from Subreddit into CSV"
   ]
  },
  {
   "cell_type": "code",
   "execution_count": null,
   "metadata": {},
   "outputs": [],
   "source": [
    "# Get 50 submissions from the subreddit \"r/dubai\" [change as necessary] and save in csv format\n",
    "\n",
    "import csv\n",
    "\n",
    "subreddit = reddit_instance.subreddit(\"dubai\")\n",
    "submissions = subreddit.hot(limit=50)\n",
    "\n",
    "with open(\"submissions.csv\", \"w\", encoding='utf-8') as file:\n",
    "    writer = csv.writer(file)\n",
    "    writer.writerow([\"Title\", \"Score\", \"URL\", \"Body\"])\n",
    "    for submission in submissions:\n",
    "        writer.writerow([submission.title, submission.score, submission.url, submission.selftext])\n",
    "\n",
    "print(\"Saved 50 submissions from r/dubai in submissions.csv\")\n"
   ]
  },
  {
   "cell_type": "markdown",
   "metadata": {},
   "source": [
    "### Get Details from Subreddit into JSON"
   ]
  },
  {
   "cell_type": "code",
   "execution_count": null,
   "metadata": {},
   "outputs": [],
   "source": [
    "# Get 50 submissions from the subreddit \"r/dubai\" [change as necessary] and save in json format\n",
    "\n",
    "import json\n",
    "\n",
    "subreddit = reddit_instance.subreddit(\"dubai\")\n",
    "submissions = subreddit.hot(limit=50)\n",
    "\n",
    "data = []\n",
    "for submission in submissions:\n",
    "    data.append({\"Title\": submission.title, \"Score\": submission.score, \"URL\": submission.url, \"Body\": submission.selftext})\n",
    "\n",
    "with open(\"submissions.json\", \"w\") as file:\n",
    "    json.dump(data, file, indent=4)\n",
    "\n",
    "print(\"Saved 50 submissions from r/dubai in submissions.json\")\n"
   ]
  },
  {
   "cell_type": "markdown",
   "metadata": {},
   "source": [
    "### Getting New Content from Subreddit"
   ]
  },
  {
   "cell_type": "code",
   "execution_count": null,
   "metadata": {},
   "outputs": [],
   "source": [
    "from datetime import datetime, timezone\n",
    "\n",
    "# To get new submissions from a subreddit\n",
    "\n",
    "subreddit = reddit_instance.subreddit(\"dubai\")\n",
    "submissions = subreddit.new(limit=50) # changed To New\n",
    "\n",
    "# In CSV\n",
    "with open(\"new_submissions.csv\", \"w\", encoding='utf-8') as file:\n",
    "    writer = csv.writer(file)\n",
    "    writer.writerow([\"Title\", \"Score\", \"URL\", \"Body\", \"Date\"])\n",
    "    for submission in submissions:\n",
    "        date_time = datetime.fromtimestamp(submission.created_utc, timezone.utc).strftime('%Y-%m-%d %H:%M:%S')\n",
    "        writer.writerow([submission.title, submission.score, submission.url, submission.selftext, date_time])\n",
    "\n",
    "print(\"Saved 50 new submissions from r/dubai in new_submissions.csv\")\n",
    "\n",
    "# In json\n",
    "subreddit = reddit_instance.subreddit(\"dubai\")\n",
    "submissions = subreddit.new(limit=50) # changed To New\n",
    "\n",
    "data = []\n",
    "for submission in submissions:\n",
    "    date_time = datetime.fromtimestamp(submission.created_utc, timezone.utc).strftime('%Y-%m-%d %H:%M:%S')\n",
    "    data.append({\"Title\": submission.title, \"Score\": submission.score, \"URL\": submission.url, \"Body\": submission.selftext, \"Date\": date_time})\n",
    "\n",
    "with open(\"new_submissions.json\", \"w\") as file:\n",
    "    json.dump(data, file, indent=4)\n",
    "\n",
    "print(\"Saved 50 new submissions from r/dubai in new_submissions.json\")"
   ]
  },
  {
   "cell_type": "markdown",
   "metadata": {},
   "source": [
    "### Get Comments from a post in Subreddit"
   ]
  },
  {
   "cell_type": "code",
   "execution_count": null,
   "metadata": {},
   "outputs": [],
   "source": [
    "# To get comments from 10 posts in a subreddit\n",
    "\n",
    "subreddit = reddit_instance.subreddit(\"dubai\")\n",
    "submissions = subreddit.hot(limit=10)\n",
    "\n",
    "with open(\"comments.csv\", \"w\", encoding='utf-8') as file:\n",
    "    writer = csv.writer(file)\n",
    "    writer.writerow([\"Submission Title\", \"Comment\", \"Score\"])\n",
    "    for submission in submissions:\n",
    "        submission.comments.replace_more(limit=None)\n",
    "        for comment in submission.comments.list():\n",
    "            writer.writerow([submission.title, comment.body, comment.score])\n",
    "\n",
    "print(\"Saved comments from 10 posts in comments.csv\")\n",
    "\n",
    "# To get comments from 10 posts in a subreddit saved in json format\n",
    "\n",
    "subreddit = reddit_instance.subreddit(\"dubai\")\n",
    "submissions = subreddit.hot(limit=10)\n",
    "\n",
    "data = []\n",
    "for submission in submissions:\n",
    "    submission.comments.replace_more(limit=None)\n",
    "    for comment in submission.comments.list():\n",
    "        data.append({\"Submission Title\": submission.title, \"Comment\": comment.body, \"Score\": comment.score})\n",
    "\n",
    "with open(\"comments.json\", \"w\") as file:\n",
    "    json.dump(data, file, indent=4)\n",
    "\n",
    "print(\"Saved comments from 10 posts in comments.json\")"
   ]
  }
 ],
 "metadata": {
  "kernelspec": {
   "display_name": "Python 3",
   "language": "python",
   "name": "python3"
  },
  "language_info": {
   "codemirror_mode": {
    "name": "ipython",
    "version": 3
   },
   "file_extension": ".py",
   "mimetype": "text/x-python",
   "name": "python",
   "nbconvert_exporter": "python",
   "pygments_lexer": "ipython3",
   "version": "3.12.8"
  }
 },
 "nbformat": 4,
 "nbformat_minor": 2
}
