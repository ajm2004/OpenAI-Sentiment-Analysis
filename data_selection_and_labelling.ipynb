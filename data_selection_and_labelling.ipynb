{
 "cells": [
  {
   "cell_type": "markdown",
   "metadata": {},
   "source": [
    "# **OPENAI - COMPANY REPUTATION ANALYSIS**"
   ]
  },
  {
   "cell_type": "markdown",
   "metadata": {},
   "source": [
    "## **INTRODUCTION**"
   ]
  },
  {
   "cell_type": "code",
   "execution_count": null,
   "metadata": {},
   "outputs": [],
   "source": [
    "# Download our custom Group 5 prepared datasets (from our Hugging Face repository) and save it to the current directory\n",
    "!huggingface-cli download jonathanjthomas/openai-company-reputation-analysis --quiet --repo-type dataset --local-dir ."
   ]
  },
  {
   "cell_type": "code",
   "execution_count": null,
   "metadata": {},
   "outputs": [],
   "source": [
    "# Install required dependencies\n",
    "%pip install asyncpraw transformers datasets evaluate sentence-transformers contractions emoji mglearn pyLDAvis BERTopic numpy nltk spacy contractions scikit-learn imbalanced-learn wordcloud\n",
    "%pip install --upgrade pandas==1.5.3\n",
    "!python -m spacy download en_core_web_sm\n",
    "%matplotlib inline"
   ]
  },
  {
   "cell_type": "markdown",
   "metadata": {},
   "source": [
    "## **PART B: DATA ANALYSIS, SELECTION AND LABELLING**"
   ]
  },
  {
   "cell_type": "code",
   "execution_count": 1,
   "metadata": {},
   "outputs": [
    {
     "name": "stderr",
     "output_type": "stream",
     "text": [
      "c:\\Users\\Jonathan\\Desktop\\F20AA - Applied Text Analytics\\CW1\\F20AA_Grp5\\.venv\\Lib\\site-packages\\tqdm\\auto.py:21: TqdmWarning: IProgress not found. Please update jupyter and ipywidgets. See https://ipywidgets.readthedocs.io/en/stable/user_install.html\n",
      "  from .autonotebook import tqdm as notebook_tqdm\n"
     ]
    }
   ],
   "source": [
    "# Import required libraries\n",
    "import pandas as pd\n",
    "from sentence_transformers import SentenceTransformer, util\n",
    "from transformers import pipeline, AutoModelForSequenceClassification, AutoTokenizer, DataCollatorWithPadding, TrainingArguments, Trainer\n",
    "from datasets import Dataset, DatasetDict\n",
    "import evaluate\n",
    "import numpy as np\n",
    "import json\n",
    "from matplotlib import pyplot as plt"
   ]
  },
  {
   "cell_type": "markdown",
   "metadata": {},
   "source": [
    "### B.1: EXPLORATORY DATA ANALYSIS"
   ]
  },
  {
   "cell_type": "markdown",
   "metadata": {},
   "source": [
    "**TASK: EXPLORATION AND VISUALIZATION OF THE RAW DATA REGARDING OPENAI, THAT WAS COLLECTED FROM REDDIT** "
   ]
  },
  {
   "cell_type": "markdown",
   "metadata": {},
   "source": [
    "### B.2: BASIC PREPROCESSING AND FILTERING"
   ]
  },
  {
   "cell_type": "markdown",
   "metadata": {},
   "source": [
    "**TASK: BASIC PREPROCESSING OF THE TEXTUAL DATA, AND RULE-BASED FILTERING OF ROWS**"
   ]
  },
  {
   "cell_type": "markdown",
   "metadata": {},
   "source": [
    "### B.3: DATA SELECTION - SEMANTIC RETRIEVAL WITH EMBEDDING MODELS"
   ]
  },
  {
   "cell_type": "markdown",
   "metadata": {},
   "source": [
    "**TASK: SELECTION OF DATA THAT CONTAIN THE MOST RELEVANT REVIEWS FOR OPENAI COMPANY REPUTATION ANALYSIS**"
   ]
  },
  {
   "cell_type": "markdown",
   "metadata": {},
   "source": [
    "After filtering, there ~49k posts and comments in the dataset. Next, we will select the most relevant records that express sentiments about OpenAI, and filter out low quality data. This step will enable us to produce a high quality dataset for company reputation analysis."
   ]
  },
  {
   "cell_type": "code",
   "execution_count": null,
   "metadata": {},
   "outputs": [],
   "source": [
    "# Read the filtered data\n",
    "filtered_data = pd.read_csv(\"./Data/filtered_data.csv\")"
   ]
  },
  {
   "cell_type": "code",
   "execution_count": 4,
   "metadata": {},
   "outputs": [
    {
     "name": "stdout",
     "output_type": "stream",
     "text": [
      "0                                                                                                                                                                                                                                                                                                                                                                                                                                                                                                                            ChatGPT Caused 'Code Red' at Google, Report Says \n",
      "1                                                                                                                                                                                                                                                                                                                                   how could someone use ChatGPT or other \"AI\" services to make some side money? I'm just looking to make some extra cash on the side without having to get ANOTHER job and wondering what sorts of side hustles I could potentially work at.\n",
      "2                                                                                                                                                                                                                                                 Chat gpt won’t verify my phone number Hello guys when i try to log in to chat gpt it tells me to add a phone number to verify my account but when i do and i click on send code it says error   Tried it with multiple phone numbers and now i am stuck on you have sent many codes try again later  Anyone had this issue ?\n",
      "3    Is it possible to use Whisper function for zoom meetings Hello, I am a recent Mathematics undergraduate who has been playing recently with ChatGPT3. I came up with the idea of implementing the whisper function to zoom meetings to create an app that allows the user to store transcripts of their zoom meetings (which can be further transformed to summary of it generated by chatgpt3). I have some knowledge of coding but not in this type of settings, could anyone give me a vage ouline if this is possible and what coulde be the main lines to go through?\n",
      "4                                                                                                                                                                                                                                                                                                                                                                                                                                                                                                               How could ChatGPT replace Google Search for many casual users \n",
      "Name: text, dtype: object\n"
     ]
    }
   ],
   "source": [
    "# Display the first few rows of the text field\n",
    "pd.set_option('display.max_colwidth', None)\n",
    "print(filtered_data['text'].head())\n",
    "pd.reset_option('display.max_colwidth')"
   ]
  },
  {
   "cell_type": "markdown",
   "metadata": {},
   "source": [
    "As shown in the above example, many of the data points in the current dataset, post filtering, do not express any sentiment regarding OpenAI or its products. Many times, these comments/posts simply **ask questions about OpenAI/ChatGPT**, or **state facts about the company or its products**, without expressing their opinion on the company. \n",
    "\n",
    "Therefore, **we employ embedding-based semantic retrieval, to retrieve the most relevant records that are relevant to sentiment analysis.**"
   ]
  },
  {
   "cell_type": "markdown",
   "metadata": {},
   "source": [
    "Prior to using embedding-based semantic retrieval, we [experimented with TF-IDF-based retrieval](https://colab.research.google.com/drive/1B38OwRmQtttAeO6jATYL8Gv_k-8M-o1R), to find the most relevant records, i.e, the records with the highest cosine similarity to a given query (when using TF-IDF vectorization). However, upon manually labelling ~450 of the most relevant records selected using TF-IDF, we found that ~41% of the records were irrelevant, i.e, they express no positive/negative/neutral sentiment about OpenAI.\n",
    "\n",
    "This is primarily because term-based vectorization methods like TF-IDF do not represent the semantic meaning of the text. Therefore, we decided to use an embedding model from the Sentence Transformers library, which are specialized for generating vector representations (embeddings) of the data that also encode its semantic meaning."
   ]
  },
  {
   "cell_type": "markdown",
   "metadata": {},
   "source": [
    "**SEMANTIC RETRIEVAL STEPS:**\n",
    "\n",
    "**1. STEP 1**: An embedding model is used to generate the vector embeddings of the text for each of the data points in the dataset.\n",
    "\n",
    "**2. STEP 2**: A set of query sentences are created for retrieval. Vector embeddings are generated for these query sentences as well, using the same embedding model.\n",
    "\n",
    "**3. STEP 3**: Cosine similarity is used to retrieve the closest data points for each of the queries."
   ]
  },
  {
   "cell_type": "markdown",
   "metadata": {},
   "source": [
    "#### **SELECTING THE EMBEDDING MODEL**"
   ]
  },
  {
   "cell_type": "markdown",
   "metadata": {},
   "source": [
    "We use the msmarco-distilbert-cos-v5 model from the Sentence Transformers library as the embedding model for the following reasons:\n",
    "1. As visualized during exploratory data analysis, our reviews (comments and posts) are generally longer than the length of the queries we will be using for retrieval (see below). Therefore, we require a model suitable for asymmetric semantic retrieval (where the query is generally shorter in length than the passages to be retrieved). The [Sentence Transformer documentation](https://www.sbert.net/examples/applications/semantic-search/README.html#symmetric-vs-asymmetric-semantic-search) recommends models trained on the MS-MARCO information retrieval dataset, for asymmetric semantic retrieval. \n",
    "\n",
    "2. DistilBERT is a smaller, lighter version of BERT that maintains most of the original performance. It is used as the backbone of this embedding model. Therefore, it will be efficient and quick to retrieve relevant examples from our dataset. \n",
    "\n",
    "3. The model performs relatively well compared to other Sentence Transformers on various [information retrieval benchmarks](https://www.sbert.net/docs/pretrained-models/msmarco-v5.html#performance)."
   ]
  },
  {
   "cell_type": "code",
   "execution_count": null,
   "metadata": {},
   "outputs": [],
   "source": [
    "# Load the embedding model\n",
    "embedding_model = SentenceTransformer(\"msmarco-distilbert-cos-v5\")"
   ]
  },
  {
   "cell_type": "markdown",
   "metadata": {},
   "source": [
    "#### **STEP 1:** GENERATE VECTOR EMBEDDINGS FOR DATASET REVIEWS"
   ]
  },
  {
   "cell_type": "code",
   "execution_count": null,
   "metadata": {},
   "outputs": [],
   "source": [
    "# Extract the text column of filtered_data as a list \n",
    "reviews = filtered_data[\"text\"].values.tolist()"
   ]
  },
  {
   "cell_type": "code",
   "execution_count": null,
   "metadata": {},
   "outputs": [],
   "source": [
    "# Generate embeddings for the reviews\n",
    "review_embeddings = embedding_model.encode(reviews, convert_to_tensor=True)"
   ]
  },
  {
   "cell_type": "markdown",
   "metadata": {},
   "source": [
    "#### **STEP 2:** DEFINE QUERIES AND GENERATE THEIR VECTOR EMBEDDINGS"
   ]
  },
  {
   "cell_type": "code",
   "execution_count": null,
   "metadata": {},
   "outputs": [],
   "source": [
    "# Define multiple search queries, corresponding to each sentiment label, to help\n",
    "# retrieve a balanced dataset\n",
    "queries = [\"What do users think about OpenAI’s ChatGPT, DALL·E, and other AI tools?\",\n",
    "           \"How well do OpenAI’s models perform according to user reviews?\",\n",
    "           \"Comparison of OpenAI's products and other competitors based on user reviews\",\n",
    "           \"Criticism and complaints about OpenAI’s products in user reviews\",\n",
    "           \"Customer satisfaction and positive experiences with OpenAI products\"]"
   ]
  },
  {
   "cell_type": "code",
   "execution_count": null,
   "metadata": {},
   "outputs": [],
   "source": [
    "# Generate embeddings for the queries\n",
    "query_embeddings = embedding_model.encode(queries, convert_to_tensor=True)"
   ]
  },
  {
   "cell_type": "markdown",
   "metadata": {},
   "source": [
    "#### **STEP 3:** COSINE SIMILARITY-BASED RETRIEVAL"
   ]
  },
  {
   "cell_type": "code",
   "execution_count": null,
   "metadata": {},
   "outputs": [],
   "source": [
    "# Perform cosine similarity search between the queries and reviews embeddings, \n",
    "# and retrieve the top 3000 most similar reviews, for each query\n",
    "retrieved_reviews = util.semantic_search(query_embeddings, review_embeddings, top_k = 3000)"
   ]
  },
  {
   "cell_type": "code",
   "execution_count": null,
   "metadata": {},
   "outputs": [],
   "source": [
    "# Create a dictionary to store the highest score for each unique id\n",
    "# from the results of all the queries\n",
    "unique_reviews = {}\n",
    "\n",
    "for review_list in retrieved_reviews:\n",
    "    for review in review_list:\n",
    "        corpus_id = review['corpus_id']\n",
    "        score = review['score']\n",
    "        if corpus_id not in unique_reviews or score > unique_reviews[corpus_id]:\n",
    "            unique_reviews[corpus_id] = score"
   ]
  },
  {
   "cell_type": "code",
   "execution_count": null,
   "metadata": {},
   "outputs": [],
   "source": [
    "# Modify the filtered_data DataFrame to include a new column for the cosine similarity score\n",
    "# for each unique id\n",
    "filtered_data['cosine_similarity'] = filtered_data.index.map(unique_reviews.get)"
   ]
  },
  {
   "cell_type": "code",
   "execution_count": null,
   "metadata": {},
   "outputs": [],
   "source": [
    "# Sort the data based on the cosine similarity, and drop rows with NaN values (which were not retrieved by the semantic search)\n",
    "filtered_data = filtered_data.dropna(subset=['cosine_similarity'])\n",
    "filtered_data = filtered_data.sort_values('cosine_similarity', ascending=False)"
   ]
  },
  {
   "cell_type": "code",
   "execution_count": null,
   "metadata": {},
   "outputs": [
    {
     "data": {
      "application/vnd.microsoft.datawrangler.viewer.v0+json": {
       "columns": [
        {
         "name": "index",
         "rawType": "object",
         "type": "string"
        },
        {
         "name": "number_of_comments",
         "rawType": "float64",
         "type": "float"
        },
        {
         "name": "number_of_upvotes",
         "rawType": "float64",
         "type": "float"
        },
        {
         "name": "cosine_similarity",
         "rawType": "float64",
         "type": "float"
        }
       ],
       "conversionMethod": "pd.DataFrame",
       "ref": "6e1b9794-7637-4e8d-9147-1bbb9850ef27",
       "rows": [
        [
         "count",
         "5743.0",
         "5743.0",
         "5743.0"
        ],
        [
         "mean",
         "118.02542225317778",
         "110.35173254396656",
         "0.3984727769462194"
        ],
        [
         "std",
         "240.22453442519853",
         "541.789893466584",
         "0.08383662193244297"
        ],
        [
         "min",
         "0.0",
         "-20.0",
         "0.25380969047546387"
        ],
        [
         "25%",
         "11.0",
         "2.0",
         "0.3324483335018158"
        ],
        [
         "50%",
         "42.0",
         "7.0",
         "0.38682666420936584"
        ],
        [
         "75%",
         "133.5",
         "48.0",
         "0.45191897451877594"
        ],
        [
         "max",
         "3958.0",
         "17877.0",
         "0.7179464101791382"
        ]
       ],
       "shape": {
        "columns": 3,
        "rows": 8
       }
      },
      "text/html": [
       "<div>\n",
       "<style scoped>\n",
       "    .dataframe tbody tr th:only-of-type {\n",
       "        vertical-align: middle;\n",
       "    }\n",
       "\n",
       "    .dataframe tbody tr th {\n",
       "        vertical-align: top;\n",
       "    }\n",
       "\n",
       "    .dataframe thead th {\n",
       "        text-align: right;\n",
       "    }\n",
       "</style>\n",
       "<table border=\"1\" class=\"dataframe\">\n",
       "  <thead>\n",
       "    <tr style=\"text-align: right;\">\n",
       "      <th></th>\n",
       "      <th>number_of_comments</th>\n",
       "      <th>number_of_upvotes</th>\n",
       "      <th>cosine_similarity</th>\n",
       "    </tr>\n",
       "  </thead>\n",
       "  <tbody>\n",
       "    <tr>\n",
       "      <th>count</th>\n",
       "      <td>5743.000000</td>\n",
       "      <td>5743.000000</td>\n",
       "      <td>5743.000000</td>\n",
       "    </tr>\n",
       "    <tr>\n",
       "      <th>mean</th>\n",
       "      <td>118.025422</td>\n",
       "      <td>110.351733</td>\n",
       "      <td>0.398473</td>\n",
       "    </tr>\n",
       "    <tr>\n",
       "      <th>std</th>\n",
       "      <td>240.224534</td>\n",
       "      <td>541.789893</td>\n",
       "      <td>0.083837</td>\n",
       "    </tr>\n",
       "    <tr>\n",
       "      <th>min</th>\n",
       "      <td>0.000000</td>\n",
       "      <td>-20.000000</td>\n",
       "      <td>0.253810</td>\n",
       "    </tr>\n",
       "    <tr>\n",
       "      <th>25%</th>\n",
       "      <td>11.000000</td>\n",
       "      <td>2.000000</td>\n",
       "      <td>0.332448</td>\n",
       "    </tr>\n",
       "    <tr>\n",
       "      <th>50%</th>\n",
       "      <td>42.000000</td>\n",
       "      <td>7.000000</td>\n",
       "      <td>0.386827</td>\n",
       "    </tr>\n",
       "    <tr>\n",
       "      <th>75%</th>\n",
       "      <td>133.500000</td>\n",
       "      <td>48.000000</td>\n",
       "      <td>0.451919</td>\n",
       "    </tr>\n",
       "    <tr>\n",
       "      <th>max</th>\n",
       "      <td>3958.000000</td>\n",
       "      <td>17877.000000</td>\n",
       "      <td>0.717946</td>\n",
       "    </tr>\n",
       "  </tbody>\n",
       "</table>\n",
       "</div>"
      ],
      "text/plain": [
       "       number_of_comments  number_of_upvotes  cosine_similarity\n",
       "count         5743.000000        5743.000000        5743.000000\n",
       "mean           118.025422         110.351733           0.398473\n",
       "std            240.224534         541.789893           0.083837\n",
       "min              0.000000         -20.000000           0.253810\n",
       "25%             11.000000           2.000000           0.332448\n",
       "50%             42.000000           7.000000           0.386827\n",
       "75%            133.500000          48.000000           0.451919\n",
       "max           3958.000000       17877.000000           0.717946"
      ]
     },
     "metadata": {},
     "output_type": "display_data"
    }
   ],
   "source": [
    "# Describe the selected data, to find the size of the dataset\n",
    "filtered_data.describe()"
   ]
  },
  {
   "cell_type": "code",
   "execution_count": null,
   "metadata": {},
   "outputs": [
    {
     "data": {
      "text/plain": [
       "25711                                                                                                                                                                                                                                                                                                                                                              Good luck to the consumers/customers who are trusting the products from OpenAI.\n",
       "27162    OpenAI did a great job of showing the public the potential for AI. ChatGPT is a great tool for some people. I am thinking of switching to Claude for work needs but I’ll ways have a free account at ChatGPT. But recently with Sora and the voice/camera features of 4o OpenAI seems like a company that is just saying “See all of these cool things that are possible for a select few, but not feasible on a large commercial scale.”\n",
       "4674                                                                                                                                                                                                                                                                                                                                                     OpenAI's new model is equivalent to the 175th best human competitive coder on the planet \n",
       "2384                                                                                                                                                                                                                                                                                                                                                                                  OpenAI launches new AI model and desktop version of ChatGPT \n",
       "3909                                                                                                                                                                                                                                                                                                                                                                                               OpenAI brings a new web search tool to ChatGPT \n",
       "Name: text, dtype: object"
      ]
     },
     "metadata": {},
     "output_type": "display_data"
    }
   ],
   "source": [
    "# Display the first few rows of the text field to see the top retrieved reviews\n",
    "filtered_data['text'].head()"
   ]
  },
  {
   "cell_type": "markdown",
   "metadata": {},
   "source": [
    "As seen in the above examples, records retrieved by the semantic retrieval are relevant to OpenAI, and do express positive/negative/neutral sentiments about the company and its products. Therefore, we have successfully retrieved the most relevant OpenAI reviews from Reddit, ensuring high quality in our final OpenAI reputation analysis dataset. \n",
    "\n",
    "The size of the selected dataset is 5743 records (reduced from ~49k records)"
   ]
  },
  {
   "cell_type": "code",
   "execution_count": null,
   "metadata": {},
   "outputs": [],
   "source": [
    "# Save the retrieved data to a new CSV file\n",
    "filtered_data.to_csv('./Data/selected_data.csv', index=False)"
   ]
  },
  {
   "cell_type": "markdown",
   "metadata": {},
   "source": [
    "### B.4 DATA LABELLING WITH ACTIVE LEARNING"
   ]
  },
  {
   "cell_type": "markdown",
   "metadata": {},
   "source": [
    "**TASK: LABELLING OF THE SELECTED DATA USING ACTIVE LEARNING**"
   ]
  },
  {
   "cell_type": "markdown",
   "metadata": {},
   "source": [
    "Prior to using active learning for labelling, we experimented with: \n",
    "\n",
    "1. Labelling using VADER (rule-based) and Transformer (semantic, context-based) models. We found that they were prone to misclassifications, when manually verifying their labels, which is in line with previous research (Alharbi, 2024). \n",
    "\n",
    "2. A combination of both a Transformer model + VADER for labelling. However, their labels conflicted with each other for almost half of the data points.\n",
    "\n",
    "Therefore, in order to avoid manually labelling 5k+ data points, we opted for **active learning - an efficient labelling method to identify and manually label difficult data points, while automatically labelling the remaining easy data points.** Active learning has been found in prior research to be an effective approach for efficiently labelling large datasets with limited manual curation efforts(Wang et al., 2023)."
   ]
  },
  {
   "cell_type": "markdown",
   "metadata": {},
   "source": [
    "**LABELLING WITH ACTIVE LEARNING - STEPS**\n",
    "\n",
    "**STEP 1:** First, label the entire dataset with a pretrained sentiment analysis model and select the most confusing, but informative data points from the labelled dataset (the ones the model is most uncertain in predicting, i.e, the data points whose labels have the lowest confidence scores)\n",
    "\n",
    "**STEP 2:** Manually label the selected data points\n",
    "\n",
    "**STEP 3:** Finetune the model from step 1 with the manually labelled, important data points from step 2\n",
    "\n",
    "Loop back to step 1, using the finetuned model from step 3 to label the entire dataset in step 1.\n",
    "\n",
    "By iteratively labelling the most informative data points manually, and finetuning the sentiment analysis model with these data points, **we ensure to focus our manual labelling efforts on the data points that are prone to misclassification**. Additionally, **this process results in a model that is trained specifically on our dataset, which we can use for automatically labelling the rest of the data.**\n",
    "\n",
    "NOTE: The finetuned Transformer model will be discarded after labelling, in favour of experimenting with Scikit-learn pipelines in PART C.\n",
    "\n"
   ]
  },
  {
   "cell_type": "markdown",
   "metadata": {},
   "source": [
    "#### **STEP 1:** LABEL THE DATASET AND SELECT CONFUSING DATA POINTS"
   ]
  },
  {
   "cell_type": "code",
   "execution_count": null,
   "metadata": {},
   "outputs": [],
   "source": [
    "'''\n",
    "Function that labels the data with the provided model\n",
    "and saves the labeled data to a csv file. Additionally,\n",
    "it saves 100 rows with the lowest confidence scores\n",
    "to a new CSV file.\n",
    "\n",
    "Params:\n",
    "model - the model to be used for sentiment analysis\n",
    "tokenizer - the tokenizer to be used for sentiment analysis\n",
    "dataset - dataframe containing the entire dataset\n",
    "round - active learning round\n",
    "'''\n",
    "def label_data(model, tokenizer, dataset, round):\n",
    "  # Initialize the sentiment analysis pipeline\n",
    "  sentiment_pipeline = pipeline(\"text-classification\", \n",
    "                                model=model,\n",
    "                                tokenizer=tokenizer,\n",
    "                                device=0) \n",
    "  \n",
    "  # Extract the text column of selected_data as a list\n",
    "  reviews = dataset[\"text\"].tolist()\n",
    "    \n",
    "  # Calculate the sentiment of the each of the reviews\n",
    "  print(f\"\\nRound {round} - Automated Labelling \")\n",
    "  print(\"Predicting sentiment labels of data...\")\n",
    "\n",
    "  kwargs = {'padding':True,'truncation':True,'max_length':512}\n",
    "  results = sentiment_pipeline(reviews, **kwargs) \n",
    "\n",
    "  print(\"Sentiment labels predicted.\")\n",
    "  print(\"Saving labeled data to a csv files...\")\n",
    "\n",
    "  # Add the sentiment and score to the selected_data DataFrame\n",
    "  label2id = {\"positive\": 1, \"negative\": -1, \"neutral\": 0}\n",
    "  dataset[\"roberta_label\"] = [label2id[res[\"label\"]] for res in results]\n",
    "  dataset[\"roberta_score\"] = [res[\"score\"] for res in results]\n",
    "\n",
    "  # Save the labeled data to a csv file\n",
    "  dataset.to_csv(f'./Data/Labelling/round{round}_roberta_labelled_all_data.csv', index=False)\n",
    "\n",
    "  # Save 100 rows with the lowest RoBERTa confidence scores to a new CSV file\n",
    "  df_low_confidence = dataset.nsmallest(100, 'roberta_score')\n",
    "  df_low_confidence.to_csv(f'./Data/Labelling/round{round}_roberta_labelled_low_confidence.csv', index=False)\n",
    "  \n",
    "  print(f\"Completed Round {round} - Automated Labeling\")\n",
    "\n",
    "  return dataset"
   ]
  },
  {
   "cell_type": "markdown",
   "metadata": {},
   "source": [
    "#### **STEP 2:** MANUALLY LABEL THE CONFUSING DATA POINTS"
   ]
  },
  {
   "cell_type": "markdown",
   "metadata": {},
   "source": [
    "To accelerate the process of manual labelling, we created and hosted a [website](https://n1.cybertech13.eu.org/) (Password: f20aa5), using Streamlit, to manually label data points \n",
    "\n",
    "You can find the source code of the Streamlit application [here](https://heriotwatt-my.sharepoint.com/:f:/r/personal/st2084_hw_ac_uk/Documents/F20AA%20UG5%20CW1%20-%20Supplementary%20material?csf=1&web=1&e=uM9Dqe)."
   ]
  },
  {
   "cell_type": "code",
   "execution_count": null,
   "metadata": {},
   "outputs": [],
   "source": [
    "# Load, process and tokenize the manual train and eval data for each round\n",
    "def process_manual_data(tokenizer, round):\n",
    "\n",
    "  # Wait till user confirms that the manual data is ready\n",
    "  input(f\"Please ensure that the manual data for round {round} is ready. Press Enter to continue...\")\n",
    "  \n",
    "  # Load the manual data for the round, and all the rounds before it (to retain previously learnt patterns)\n",
    "  train_data = pd.read_csv(f'./Data/Labelling/Manual/round{round}_manual_low_confidence.csv')\n",
    "  for i in range(1, round):\n",
    "    round_data = pd.read_csv(f'./Data/Labelling/Manual/round{i}_manual_low_confidence.csv')\n",
    "    train_data = pd.concat([train_data, round_data], ignore_index=True)\n",
    "\n",
    "  val_data = pd.read_csv(f'./Data/Labelling/Manual/manual_val_set.csv')\n",
    "\n",
    "  # Drop all columns except the text and the manual label\n",
    "  train_data.drop(columns=[col for col in train_data.columns if col not in ['text', 'manual_label']], inplace=True)\n",
    "  val_data.drop(columns=[col for col in val_data.columns if col not in ['text', 'manual_label']], inplace=True)\n",
    "\n",
    "  # Drop the duplicates from the training manual data, keeping the first occurence (latest label)\n",
    "  train_data.drop_duplicates(subset=['text'], keep='first', inplace=True)\n",
    "\n",
    "  # Drop the rows which are NaN, or contain '2' values in the manual_label column (rows marked irrelevant during manual labelling)\n",
    "  train_data = train_data[train_data['manual_label'] != 2].dropna()\n",
    "\n",
    "  # Rename the manual_label column to labels\n",
    "  train_data.rename(columns={'manual_label':'labels'}, inplace=True)\n",
    "  val_data.rename(columns={'manual_label':'labels'}, inplace=True)\n",
    "\n",
    "  # Map the labels to the model's labels\n",
    "  # 0 -> Negative, 1 -> Neutral, 2, Positive\n",
    "\n",
    "  label2id = {-1: 0, 0: 1, 1: 2}\n",
    "  train_data['labels'] = train_data['labels'].map(label2id)\n",
    "  val_data['labels'] = val_data['labels'].map(label2id)\n",
    "\n",
    "  # Print the number of rows in the training and validation data\n",
    "  print(f\"Round {round} - Training data: {train_data.shape[0]} rows\")\n",
    "  print(f\"Round {round} - Validation data: {val_data.shape[0]} rows\")\n",
    "  \n",
    "  # Convert to Dataset object\n",
    "  train_data = Dataset.from_pandas(train_data)\n",
    "  val_data = Dataset.from_pandas(val_data)\n",
    "  \n",
    "  # Tokenize the data using the model's tokenizer\n",
    "  train_data_tokenized = train_data.map(\n",
    "    lambda instance: tokenizer(instance[\"text\"], truncation=True, max_length=512),\n",
    "    batched=True\n",
    "  )\n",
    "\n",
    "  val_data_tokenized = val_data.map(\n",
    "    lambda instance: tokenizer(instance[\"text\"], truncation=True, max_length=512),\n",
    "    batched=True\n",
    "  )\n",
    "\n",
    "  # Combine the train and val datasets\n",
    "  train_val_dataset = DatasetDict({\"train\": train_data_tokenized, \"val\": val_data_tokenized})\n",
    "\n",
    "  print(f\"Round {round} - Manual data loaded and processed.\")\n",
    "\n",
    "  return train_val_dataset\n",
    "    "
   ]
  },
  {
   "cell_type": "markdown",
   "metadata": {},
   "source": [
    "#### **STEP 3:** FINETUNE THE SENTIMENT ANALYSIS MODEL ON THE SELECTED DATA"
   ]
  },
  {
   "cell_type": "code",
   "execution_count": null,
   "metadata": {},
   "outputs": [],
   "source": [
    "# Function to compute the metrics for the model\n",
    "def compute_metrics(eval_preds):\n",
    "    # Load the metrics - accuracy and f1 score\n",
    "    accuracy = evaluate.load(\"accuracy\")\n",
    "    f1 = evaluate.load(\"f1\")\n",
    "\n",
    "    # Extract the logits and true labels from the predictions\n",
    "    logits, true_labels = eval_preds\n",
    "\n",
    "    # Compute the predicted label (label with the highest logit score)\n",
    "    pred_labels = np.argmax(logits, axis=-1)\n",
    "\n",
    "    # Compute the metrics using the true and predicted labels\n",
    "    computed_metrics = accuracy.compute(predictions=pred_labels, \n",
    "                                        references=true_labels)\n",
    "    \n",
    "    computed_metrics.update(f1.compute(predictions=pred_labels,\n",
    "                                references=true_labels,\n",
    "                                average = 'weighted'))   \n",
    "                                \n",
    "    return computed_metrics"
   ]
  },
  {
   "cell_type": "code",
   "execution_count": null,
   "metadata": {},
   "outputs": [],
   "source": [
    "# Based on Documentation (Hugging Face, n.d.)\n",
    "def finetune(model, dataset, tokenizer, round):\n",
    "  # Define a data collator object for dynamic padding (padding to the maximum length of the batch)\n",
    "  data_collator = DataCollatorWithPadding(tokenizer = tokenizer)\n",
    "\n",
    "  # Configure the training arguments\n",
    "  training_arguments = TrainingArguments(\n",
    "    output_dir = f'./Models/round{round}_finetuned_model_checkpoints/',\n",
    "    num_train_epochs = 3,\n",
    "    eval_strategy=\"epoch\",\n",
    "    logging_strategy=\"epoch\",\n",
    "    save_strategy=\"no\",\n",
    "    )\n",
    "  \n",
    "  trainer = Trainer(\n",
    "    model,\n",
    "    training_arguments,\n",
    "    train_dataset = dataset['train'],\n",
    "    eval_dataset = dataset['val'],\n",
    "    data_collator = data_collator,\n",
    "    tokenizer = tokenizer,\n",
    "    compute_metrics=compute_metrics,\n",
    "  )\n",
    "\n",
    "  print(f\"\\nRound {round} - Fine-tuning the model...\")\n",
    "\n",
    "  trainer.train()\n",
    "\n",
    "  # Calculate the metrics on the validation set\n",
    "  eval_results = trainer.evaluate()\n",
    "  print(f\"Round {round} - Evaluation results: {eval_results}\")\n",
    "\n",
    "  # Save evaluation results to a json file\n",
    "  with open(f'./Models/Evaluation/round{round}_finetuned_model_eval_results.json', 'w') as f:\n",
    "    json.dump(eval_results, f, indent=4)\n",
    "    \n",
    "\n",
    "  trainer.save_model(f'./Models/round{round}_finetuned_model')\n",
    "  print(f\"Round {round} - Model fine-tuned.\")\n",
    "\n",
    "  # Return the finetuned model\n",
    "  return trainer.model"
   ]
  },
  {
   "cell_type": "code",
   "execution_count": null,
   "metadata": {},
   "outputs": [],
   "source": [
    "# Function to conduct one round of active learning (steps 1-3)\n",
    "def active_learning(pretrained_model, dataset, tokenizer, round):\n",
    "  print (f\"Round {round} of Active Learning\")\n",
    "\n",
    "  # 1. Load the model\n",
    "  if round == 1:\n",
    "    # For round 1, load the pretrained model\n",
    "    model = AutoModelForSequenceClassification.from_pretrained(pretrained_model)\n",
    "  else:\n",
    "    # For subsequent rounds, load the finetuned model from the previous round\n",
    "    model = AutoModelForSequenceClassification.from_pretrained(f'./Models/round{round-1}_finetuned_model')\n",
    "      \n",
    "  # 2. Using the model, automatically label the entire dataset\n",
    "  label_data(model = model, \n",
    "            dataset = dataset, \n",
    "            tokenizer = tokenizer,\n",
    "            round = round)\n",
    "  \n",
    "  # 3. Load the manually labeled data, including the newly labeled data from the previous round\n",
    "  train_val_data = process_manual_data(tokenizer = tokenizer,\n",
    "                                    round = round) \n",
    "  \n",
    "  # 4. Fine-tune the model on the manually labeled data\n",
    "  finetune(model = model, \n",
    "          dataset = train_val_data,\n",
    "          tokenizer = tokenizer,\n",
    "          round = round)\n",
    "      \n",
    "  print (f\"Completed Round {round} of Active Learning\")\n"
   ]
  },
  {
   "cell_type": "markdown",
   "metadata": {},
   "source": [
    "#### **CONDUCT ACTIVE LEARNING (REPEAT STEPS 1-3 FOR 5 ROUNDS)**"
   ]
  },
  {
   "cell_type": "markdown",
   "metadata": {},
   "source": [
    "We use the twitter-roberta-base-sentiment-latest model, a Transformer model finetuned on a Twitter sentiment analysis dataset, as the base model for our active learning rounds (Camacho-Collados et al., 2022; Loureiro et al., 2022). In round 1, it will be used to initially label the entire dataset (step 1), and it will be finetuned in the subsequent rounds and used for labelling."
   ]
  },
  {
   "cell_type": "code",
   "execution_count": null,
   "metadata": {},
   "outputs": [],
   "source": [
    "# Load the selected data, and tokenizer\n",
    "pretrained_model_name = \"cardiffnlp/twitter-roberta-base-sentiment-latest\"\n",
    "dataset = pd.read_csv('./Data/selected_data.csv')\n",
    "tokenizer = AutoTokenizer.from_pretrained(pretrained_model_name)"
   ]
  },
  {
   "cell_type": "code",
   "execution_count": null,
   "metadata": {},
   "outputs": [
    {
     "name": "stdout",
     "output_type": "stream",
     "text": [
      "Round 1 of Active Learning\n"
     ]
    },
    {
     "name": "stderr",
     "output_type": "stream",
     "text": [
      "Some weights of the model checkpoint at cardiffnlp/twitter-roberta-base-sentiment-latest were not used when initializing RobertaForSequenceClassification: ['roberta.pooler.dense.bias', 'roberta.pooler.dense.weight']\n",
      "- This IS expected if you are initializing RobertaForSequenceClassification from the checkpoint of a model trained on another task or with another architecture (e.g. initializing a BertForSequenceClassification model from a BertForPreTraining model).\n",
      "- This IS NOT expected if you are initializing RobertaForSequenceClassification from the checkpoint of a model that you expect to be exactly identical (initializing a BertForSequenceClassification model from a BertForSequenceClassification model).\n",
      "Device set to use cuda:0\n"
     ]
    },
    {
     "name": "stdout",
     "output_type": "stream",
     "text": [
      "\n",
      "Round 1 - Automated Labelling \n",
      "Predicting sentiment labels of data...\n",
      "Sentiment labels predicted.\n",
      "Saving labeled data to a csv files...\n",
      "Completed Round 1 - Automated Labeling\n",
      "Round 1 - Training data: 73 rows\n",
      "Round 1 - Validation data: 199 rows\n"
     ]
    },
    {
     "data": {
      "application/vnd.jupyter.widget-view+json": {
       "model_id": "48dad4672dad4ec199e780e8fe790d15",
       "version_major": 2,
       "version_minor": 0
      },
      "text/plain": [
       "Map:   0%|          | 0/73 [00:00<?, ? examples/s]"
      ]
     },
     "metadata": {},
     "output_type": "display_data"
    },
    {
     "data": {
      "application/vnd.jupyter.widget-view+json": {
       "model_id": "6ce8ce05b7d846d391ef66fc6e18a9f5",
       "version_major": 2,
       "version_minor": 0
      },
      "text/plain": [
       "Map:   0%|          | 0/199 [00:00<?, ? examples/s]"
      ]
     },
     "metadata": {},
     "output_type": "display_data"
    },
    {
     "name": "stdout",
     "output_type": "stream",
     "text": [
      "Round 1 - Manual data loaded and processed.\n",
      "\n",
      "Round 1 - Fine-tuning the model...\n"
     ]
    },
    {
     "name": "stderr",
     "output_type": "stream",
     "text": [
      "C:\\Users\\User\\AppData\\Local\\Temp\\ipykernel_29816\\2611181382.py:15: FutureWarning: `tokenizer` is deprecated and will be removed in version 5.0.0 for `Trainer.__init__`. Use `processing_class` instead.\n",
      "  trainer = Trainer(\n"
     ]
    },
    {
     "data": {
      "text/html": [
       "\n",
       "    <div>\n",
       "      \n",
       "      <progress value='30' max='30' style='width:300px; height:20px; vertical-align: middle;'></progress>\n",
       "      [30/30 01:13, Epoch 3/3]\n",
       "    </div>\n",
       "    <table border=\"1\" class=\"dataframe\">\n",
       "  <thead>\n",
       " <tr style=\"text-align: left;\">\n",
       "      <th>Epoch</th>\n",
       "      <th>Training Loss</th>\n",
       "      <th>Validation Loss</th>\n",
       "      <th>Accuracy</th>\n",
       "      <th>F1</th>\n",
       "    </tr>\n",
       "  </thead>\n",
       "  <tbody>\n",
       "    <tr>\n",
       "      <td>1</td>\n",
       "      <td>1.366000</td>\n",
       "      <td>1.076808</td>\n",
       "      <td>0.376884</td>\n",
       "      <td>0.278355</td>\n",
       "    </tr>\n",
       "    <tr>\n",
       "      <td>2</td>\n",
       "      <td>1.011800</td>\n",
       "      <td>1.046965</td>\n",
       "      <td>0.457286</td>\n",
       "      <td>0.395463</td>\n",
       "    </tr>\n",
       "    <tr>\n",
       "      <td>3</td>\n",
       "      <td>0.878800</td>\n",
       "      <td>1.013552</td>\n",
       "      <td>0.497487</td>\n",
       "      <td>0.446973</td>\n",
       "    </tr>\n",
       "  </tbody>\n",
       "</table><p>"
      ],
      "text/plain": [
       "<IPython.core.display.HTML object>"
      ]
     },
     "metadata": {},
     "output_type": "display_data"
    },
    {
     "data": {
      "text/html": [
       "\n",
       "    <div>\n",
       "      \n",
       "      <progress value='25' max='25' style='width:300px; height:20px; vertical-align: middle;'></progress>\n",
       "      [25/25 00:00]\n",
       "    </div>\n",
       "    "
      ],
      "text/plain": [
       "<IPython.core.display.HTML object>"
      ]
     },
     "metadata": {},
     "output_type": "display_data"
    },
    {
     "name": "stdout",
     "output_type": "stream",
     "text": [
      "Round 1 - Evaluation results: {'eval_loss': 1.0135518312454224, 'eval_accuracy': 0.49748743718592964, 'eval_f1': 0.4469728556358892, 'eval_runtime': 2.7767, 'eval_samples_per_second': 71.669, 'eval_steps_per_second': 9.004, 'epoch': 3.0}\n",
      "Round 1 - Model fine-tuned.\n",
      "Completed Round 1 of Active Learning\n"
     ]
    }
   ],
   "source": [
    "# Conduct active learning - round 1\n",
    "active_learning(pretrained_model = pretrained_model_name, \n",
    "                tokenizer = tokenizer, \n",
    "                dataset = dataset, \n",
    "                round = 1)"
   ]
  },
  {
   "cell_type": "code",
   "execution_count": null,
   "metadata": {},
   "outputs": [
    {
     "name": "stderr",
     "output_type": "stream",
     "text": [
      "Device set to use cuda:0\n"
     ]
    },
    {
     "name": "stdout",
     "output_type": "stream",
     "text": [
      "Round 2 of Active Learning\n",
      "\n",
      "Round 2 - Automated Labelling \n",
      "Predicting sentiment labels of data...\n",
      "Sentiment labels predicted.\n",
      "Saving labeled data to a csv files...\n",
      "Completed Round 2 - Automated Labeling\n",
      "Round 2 - Training data: 122 rows\n",
      "Round 2 - Validation data: 199 rows\n"
     ]
    },
    {
     "data": {
      "application/vnd.jupyter.widget-view+json": {
       "model_id": "adf76e73ef9e40929bcf2e12fbaa7169",
       "version_major": 2,
       "version_minor": 0
      },
      "text/plain": [
       "Map:   0%|          | 0/122 [00:00<?, ? examples/s]"
      ]
     },
     "metadata": {},
     "output_type": "display_data"
    },
    {
     "data": {
      "application/vnd.jupyter.widget-view+json": {
       "model_id": "64bec1bdd1394873bf66fd15f22255cb",
       "version_major": 2,
       "version_minor": 0
      },
      "text/plain": [
       "Map:   0%|          | 0/199 [00:00<?, ? examples/s]"
      ]
     },
     "metadata": {},
     "output_type": "display_data"
    },
    {
     "name": "stdout",
     "output_type": "stream",
     "text": [
      "Round 2 - Manual data loaded and processed.\n",
      "\n",
      "Round 2 - Fine-tuning the model...\n"
     ]
    },
    {
     "name": "stderr",
     "output_type": "stream",
     "text": [
      "C:\\Users\\User\\AppData\\Local\\Temp\\ipykernel_29816\\2611181382.py:15: FutureWarning: `tokenizer` is deprecated and will be removed in version 5.0.0 for `Trainer.__init__`. Use `processing_class` instead.\n",
      "  trainer = Trainer(\n"
     ]
    },
    {
     "data": {
      "text/html": [
       "\n",
       "    <div>\n",
       "      \n",
       "      <progress value='48' max='48' style='width:300px; height:20px; vertical-align: middle;'></progress>\n",
       "      [48/48 00:12, Epoch 3/3]\n",
       "    </div>\n",
       "    <table border=\"1\" class=\"dataframe\">\n",
       "  <thead>\n",
       " <tr style=\"text-align: left;\">\n",
       "      <th>Epoch</th>\n",
       "      <th>Training Loss</th>\n",
       "      <th>Validation Loss</th>\n",
       "      <th>Accuracy</th>\n",
       "      <th>F1</th>\n",
       "    </tr>\n",
       "  </thead>\n",
       "  <tbody>\n",
       "    <tr>\n",
       "      <td>1</td>\n",
       "      <td>0.869900</td>\n",
       "      <td>0.892357</td>\n",
       "      <td>0.577889</td>\n",
       "      <td>0.581322</td>\n",
       "    </tr>\n",
       "    <tr>\n",
       "      <td>2</td>\n",
       "      <td>0.384400</td>\n",
       "      <td>1.077947</td>\n",
       "      <td>0.582915</td>\n",
       "      <td>0.588859</td>\n",
       "    </tr>\n",
       "    <tr>\n",
       "      <td>3</td>\n",
       "      <td>0.144600</td>\n",
       "      <td>1.298432</td>\n",
       "      <td>0.537688</td>\n",
       "      <td>0.538050</td>\n",
       "    </tr>\n",
       "  </tbody>\n",
       "</table><p>"
      ],
      "text/plain": [
       "<IPython.core.display.HTML object>"
      ]
     },
     "metadata": {},
     "output_type": "display_data"
    },
    {
     "data": {
      "text/html": [
       "\n",
       "    <div>\n",
       "      \n",
       "      <progress value='25' max='25' style='width:300px; height:20px; vertical-align: middle;'></progress>\n",
       "      [25/25 00:00]\n",
       "    </div>\n",
       "    "
      ],
      "text/plain": [
       "<IPython.core.display.HTML object>"
      ]
     },
     "metadata": {},
     "output_type": "display_data"
    },
    {
     "name": "stdout",
     "output_type": "stream",
     "text": [
      "Round 2 - Evaluation results: {'eval_loss': 1.2984318733215332, 'eval_accuracy': 0.5376884422110553, 'eval_f1': 0.5380503960378121, 'eval_runtime': 2.7009, 'eval_samples_per_second': 73.679, 'eval_steps_per_second': 9.256, 'epoch': 3.0}\n",
      "Round 2 - Model fine-tuned.\n",
      "Completed Round 2 of Active Learning\n"
     ]
    }
   ],
   "source": [
    "# Conduct active learning - round 2\n",
    "active_learning(pretrained_model = pretrained_model_name, \n",
    "                tokenizer = tokenizer, \n",
    "                dataset = dataset, \n",
    "                round = 2)"
   ]
  },
  {
   "cell_type": "code",
   "execution_count": null,
   "metadata": {},
   "outputs": [
    {
     "name": "stderr",
     "output_type": "stream",
     "text": [
      "Device set to use cuda:0\n"
     ]
    },
    {
     "name": "stdout",
     "output_type": "stream",
     "text": [
      "Round 3 of Active Learning\n",
      "\n",
      "Round 3 - Automated Labelling \n",
      "Predicting sentiment labels of data...\n",
      "Sentiment labels predicted.\n",
      "Saving labeled data to a csv files...\n",
      "Completed Round 3 - Automated Labeling\n",
      "Round 3 - Training data: 197 rows\n",
      "Round 3 - Validation data: 199 rows\n"
     ]
    },
    {
     "data": {
      "application/vnd.jupyter.widget-view+json": {
       "model_id": "0c6052710ca247c29242e9958992feb5",
       "version_major": 2,
       "version_minor": 0
      },
      "text/plain": [
       "Map:   0%|          | 0/197 [00:00<?, ? examples/s]"
      ]
     },
     "metadata": {},
     "output_type": "display_data"
    },
    {
     "data": {
      "application/vnd.jupyter.widget-view+json": {
       "model_id": "1651021340bc4a8cb43ea305198f898d",
       "version_major": 2,
       "version_minor": 0
      },
      "text/plain": [
       "Map:   0%|          | 0/199 [00:00<?, ? examples/s]"
      ]
     },
     "metadata": {},
     "output_type": "display_data"
    },
    {
     "name": "stdout",
     "output_type": "stream",
     "text": [
      "Round 3 - Manual data loaded and processed.\n",
      "\n",
      "Round 3 - Fine-tuning the model...\n"
     ]
    },
    {
     "name": "stderr",
     "output_type": "stream",
     "text": [
      "C:\\Users\\User\\AppData\\Local\\Temp\\ipykernel_29816\\2611181382.py:15: FutureWarning: `tokenizer` is deprecated and will be removed in version 5.0.0 for `Trainer.__init__`. Use `processing_class` instead.\n",
      "  trainer = Trainer(\n"
     ]
    },
    {
     "data": {
      "text/html": [
       "\n",
       "    <div>\n",
       "      \n",
       "      <progress value='75' max='75' style='width:300px; height:20px; vertical-align: middle;'></progress>\n",
       "      [75/75 00:34, Epoch 3/3]\n",
       "    </div>\n",
       "    <table border=\"1\" class=\"dataframe\">\n",
       "  <thead>\n",
       " <tr style=\"text-align: left;\">\n",
       "      <th>Epoch</th>\n",
       "      <th>Training Loss</th>\n",
       "      <th>Validation Loss</th>\n",
       "      <th>Accuracy</th>\n",
       "      <th>F1</th>\n",
       "    </tr>\n",
       "  </thead>\n",
       "  <tbody>\n",
       "    <tr>\n",
       "      <td>1</td>\n",
       "      <td>0.654700</td>\n",
       "      <td>1.153739</td>\n",
       "      <td>0.608040</td>\n",
       "      <td>0.609870</td>\n",
       "    </tr>\n",
       "    <tr>\n",
       "      <td>2</td>\n",
       "      <td>0.309000</td>\n",
       "      <td>1.292932</td>\n",
       "      <td>0.613065</td>\n",
       "      <td>0.617172</td>\n",
       "    </tr>\n",
       "    <tr>\n",
       "      <td>3</td>\n",
       "      <td>0.081800</td>\n",
       "      <td>1.621248</td>\n",
       "      <td>0.557789</td>\n",
       "      <td>0.557597</td>\n",
       "    </tr>\n",
       "  </tbody>\n",
       "</table><p>"
      ],
      "text/plain": [
       "<IPython.core.display.HTML object>"
      ]
     },
     "metadata": {},
     "output_type": "display_data"
    },
    {
     "data": {
      "text/html": [
       "\n",
       "    <div>\n",
       "      \n",
       "      <progress value='25' max='25' style='width:300px; height:20px; vertical-align: middle;'></progress>\n",
       "      [25/25 00:00]\n",
       "    </div>\n",
       "    "
      ],
      "text/plain": [
       "<IPython.core.display.HTML object>"
      ]
     },
     "metadata": {},
     "output_type": "display_data"
    },
    {
     "name": "stdout",
     "output_type": "stream",
     "text": [
      "Round 3 - Evaluation results: {'eval_loss': 1.6212475299835205, 'eval_accuracy': 0.5577889447236181, 'eval_f1': 0.5575971518645427, 'eval_runtime': 45.3196, 'eval_samples_per_second': 4.391, 'eval_steps_per_second': 0.552, 'epoch': 3.0}\n",
      "Round 3 - Model fine-tuned.\n",
      "Completed Round 3 of Active Learning\n"
     ]
    }
   ],
   "source": [
    "# Conduct active learning - round 3\n",
    "active_learning(pretrained_model = pretrained_model_name, \n",
    "                tokenizer = tokenizer, \n",
    "                dataset = dataset, \n",
    "                round = 3)"
   ]
  },
  {
   "cell_type": "code",
   "execution_count": null,
   "metadata": {},
   "outputs": [
    {
     "name": "stderr",
     "output_type": "stream",
     "text": [
      "Device set to use cuda:0\n"
     ]
    },
    {
     "name": "stdout",
     "output_type": "stream",
     "text": [
      "Round 4 of Active Learning\n",
      "\n",
      "Round 4 - Automated Labelling \n",
      "Predicting sentiment labels of data...\n",
      "Sentiment labels predicted.\n",
      "Saving labeled data to a csv files...\n",
      "Completed Round 4 - Automated Labeling\n",
      "Round 4 - Training data: 274 rows\n",
      "Round 4 - Validation data: 199 rows\n"
     ]
    },
    {
     "data": {
      "application/vnd.jupyter.widget-view+json": {
       "model_id": "29bd9d7167734ce7ac03d5f660c30d17",
       "version_major": 2,
       "version_minor": 0
      },
      "text/plain": [
       "Map:   0%|          | 0/274 [00:00<?, ? examples/s]"
      ]
     },
     "metadata": {},
     "output_type": "display_data"
    },
    {
     "data": {
      "application/vnd.jupyter.widget-view+json": {
       "model_id": "15fd4528ee4d423b8353a510f58215a0",
       "version_major": 2,
       "version_minor": 0
      },
      "text/plain": [
       "Map:   0%|          | 0/199 [00:00<?, ? examples/s]"
      ]
     },
     "metadata": {},
     "output_type": "display_data"
    },
    {
     "name": "stdout",
     "output_type": "stream",
     "text": [
      "Round 4 - Manual data loaded and processed.\n",
      "\n",
      "Round 4 - Fine-tuning the model...\n"
     ]
    },
    {
     "name": "stderr",
     "output_type": "stream",
     "text": [
      "C:\\Users\\User\\AppData\\Local\\Temp\\ipykernel_29816\\2611181382.py:15: FutureWarning: `tokenizer` is deprecated and will be removed in version 5.0.0 for `Trainer.__init__`. Use `processing_class` instead.\n",
      "  trainer = Trainer(\n"
     ]
    },
    {
     "data": {
      "text/html": [
       "\n",
       "    <div>\n",
       "      \n",
       "      <progress value='105' max='105' style='width:300px; height:20px; vertical-align: middle;'></progress>\n",
       "      [105/105 00:36, Epoch 3/3]\n",
       "    </div>\n",
       "    <table border=\"1\" class=\"dataframe\">\n",
       "  <thead>\n",
       " <tr style=\"text-align: left;\">\n",
       "      <th>Epoch</th>\n",
       "      <th>Training Loss</th>\n",
       "      <th>Validation Loss</th>\n",
       "      <th>Accuracy</th>\n",
       "      <th>F1</th>\n",
       "    </tr>\n",
       "  </thead>\n",
       "  <tbody>\n",
       "    <tr>\n",
       "      <td>1</td>\n",
       "      <td>0.548100</td>\n",
       "      <td>1.366003</td>\n",
       "      <td>0.567839</td>\n",
       "      <td>0.567688</td>\n",
       "    </tr>\n",
       "    <tr>\n",
       "      <td>2</td>\n",
       "      <td>0.244700</td>\n",
       "      <td>1.919846</td>\n",
       "      <td>0.592965</td>\n",
       "      <td>0.595628</td>\n",
       "    </tr>\n",
       "    <tr>\n",
       "      <td>3</td>\n",
       "      <td>0.109700</td>\n",
       "      <td>2.434428</td>\n",
       "      <td>0.542714</td>\n",
       "      <td>0.534644</td>\n",
       "    </tr>\n",
       "  </tbody>\n",
       "</table><p>"
      ],
      "text/plain": [
       "<IPython.core.display.HTML object>"
      ]
     },
     "metadata": {},
     "output_type": "display_data"
    },
    {
     "data": {
      "text/html": [
       "\n",
       "    <div>\n",
       "      \n",
       "      <progress value='25' max='25' style='width:300px; height:20px; vertical-align: middle;'></progress>\n",
       "      [25/25 00:00]\n",
       "    </div>\n",
       "    "
      ],
      "text/plain": [
       "<IPython.core.display.HTML object>"
      ]
     },
     "metadata": {},
     "output_type": "display_data"
    },
    {
     "name": "stdout",
     "output_type": "stream",
     "text": [
      "Round 4 - Evaluation results: {'eval_loss': 2.4344277381896973, 'eval_accuracy': 0.542713567839196, 'eval_f1': 0.5346436812867987, 'eval_runtime': 2.7587, 'eval_samples_per_second': 72.136, 'eval_steps_per_second': 9.062, 'epoch': 3.0}\n",
      "Round 4 - Model fine-tuned.\n",
      "Completed Round 4 of Active Learning\n"
     ]
    }
   ],
   "source": [
    "# Conduct active learning - round 4\n",
    "active_learning(pretrained_model = pretrained_model_name, \n",
    "                tokenizer = tokenizer, \n",
    "                dataset = dataset, \n",
    "                round = 4)"
   ]
  },
  {
   "cell_type": "code",
   "execution_count": null,
   "metadata": {},
   "outputs": [
    {
     "name": "stderr",
     "output_type": "stream",
     "text": [
      "Device set to use cuda:0\n"
     ]
    },
    {
     "name": "stdout",
     "output_type": "stream",
     "text": [
      "Round 5 of Active Learning\n",
      "\n",
      "Round 5 - Automated Labelling \n",
      "Predicting sentiment labels of data...\n",
      "Sentiment labels predicted.\n",
      "Saving labeled data to a csv files...\n",
      "Completed Round 5 - Automated Labeling\n",
      "Round 5 - Training data: 337 rows\n",
      "Round 5 - Validation data: 199 rows\n"
     ]
    },
    {
     "data": {
      "application/vnd.jupyter.widget-view+json": {
       "model_id": "b0b60b4cebc84695829023556b3129f2",
       "version_major": 2,
       "version_minor": 0
      },
      "text/plain": [
       "Map:   0%|          | 0/337 [00:00<?, ? examples/s]"
      ]
     },
     "metadata": {},
     "output_type": "display_data"
    },
    {
     "data": {
      "application/vnd.jupyter.widget-view+json": {
       "model_id": "5a07593e24604d95be754ab508af0893",
       "version_major": 2,
       "version_minor": 0
      },
      "text/plain": [
       "Map:   0%|          | 0/199 [00:00<?, ? examples/s]"
      ]
     },
     "metadata": {},
     "output_type": "display_data"
    },
    {
     "name": "stdout",
     "output_type": "stream",
     "text": [
      "Round 5 - Manual data loaded and processed.\n",
      "\n",
      "Round 5 - Fine-tuning the model...\n"
     ]
    },
    {
     "name": "stderr",
     "output_type": "stream",
     "text": [
      "C:\\Users\\User\\AppData\\Local\\Temp\\ipykernel_29816\\2611181382.py:15: FutureWarning: `tokenizer` is deprecated and will be removed in version 5.0.0 for `Trainer.__init__`. Use `processing_class` instead.\n",
      "  trainer = Trainer(\n"
     ]
    },
    {
     "data": {
      "text/html": [
       "\n",
       "    <div>\n",
       "      \n",
       "      <progress value='129' max='129' style='width:300px; height:20px; vertical-align: middle;'></progress>\n",
       "      [129/129 00:37, Epoch 3/3]\n",
       "    </div>\n",
       "    <table border=\"1\" class=\"dataframe\">\n",
       "  <thead>\n",
       " <tr style=\"text-align: left;\">\n",
       "      <th>Epoch</th>\n",
       "      <th>Training Loss</th>\n",
       "      <th>Validation Loss</th>\n",
       "      <th>Accuracy</th>\n",
       "      <th>F1</th>\n",
       "    </tr>\n",
       "  </thead>\n",
       "  <tbody>\n",
       "    <tr>\n",
       "      <td>1</td>\n",
       "      <td>0.495200</td>\n",
       "      <td>2.673341</td>\n",
       "      <td>0.472362</td>\n",
       "      <td>0.460750</td>\n",
       "    </tr>\n",
       "    <tr>\n",
       "      <td>2</td>\n",
       "      <td>0.392700</td>\n",
       "      <td>2.345308</td>\n",
       "      <td>0.603015</td>\n",
       "      <td>0.605168</td>\n",
       "    </tr>\n",
       "    <tr>\n",
       "      <td>3</td>\n",
       "      <td>0.132100</td>\n",
       "      <td>2.364025</td>\n",
       "      <td>0.597990</td>\n",
       "      <td>0.601961</td>\n",
       "    </tr>\n",
       "  </tbody>\n",
       "</table><p>"
      ],
      "text/plain": [
       "<IPython.core.display.HTML object>"
      ]
     },
     "metadata": {},
     "output_type": "display_data"
    },
    {
     "data": {
      "text/html": [
       "\n",
       "    <div>\n",
       "      \n",
       "      <progress value='25' max='25' style='width:300px; height:20px; vertical-align: middle;'></progress>\n",
       "      [25/25 00:00]\n",
       "    </div>\n",
       "    "
      ],
      "text/plain": [
       "<IPython.core.display.HTML object>"
      ]
     },
     "metadata": {},
     "output_type": "display_data"
    },
    {
     "name": "stdout",
     "output_type": "stream",
     "text": [
      "Round 5 - Evaluation results: {'eval_loss': 2.364025115966797, 'eval_accuracy': 0.5979899497487438, 'eval_f1': 0.6019612564274126, 'eval_runtime': 2.762, 'eval_samples_per_second': 72.05, 'eval_steps_per_second': 9.052, 'epoch': 3.0}\n",
      "Round 5 - Model fine-tuned.\n",
      "Completed Round 5 of Active Learning\n"
     ]
    }
   ],
   "source": [
    "# Conduct active learning - round 5\n",
    "active_learning(pretrained_model = pretrained_model_name, \n",
    "                tokenizer = tokenizer, \n",
    "                dataset = dataset, \n",
    "                round = 5)"
   ]
  },
  {
   "cell_type": "markdown",
   "metadata": {},
   "source": [
    "### B.5 COMPILING THE LABELLED DATASET"
   ]
  },
  {
   "cell_type": "markdown",
   "metadata": {},
   "source": [
    "Now that the active learning-driven labelling process has been complete, we will combine the 5 manually labelled datasets that were produced in each round of the active learning, along with the final automatically labelled dataset from our finetuned Sentiment Analysis Transformer model."
   ]
  },
  {
   "cell_type": "code",
   "execution_count": null,
   "metadata": {},
   "outputs": [],
   "source": [
    "# Read the required datasets for compilation\n",
    "round1_manual_df = pd.read_csv('./Data/Labelling/Manual/round1_manual_low_confidence.csv')\n",
    "round2_manual_df = pd.read_csv('./Data/Labelling/Manual/round2_manual_low_confidence.csv')\n",
    "round3_manual_df = pd.read_csv('./Data/Labelling/Manual/round3_manual_low_confidence.csv')\n",
    "round4_manual_df = pd.read_csv('./Data/Labelling/Manual/round4_manual_low_confidence.csv')\n",
    "round5_manual_df = pd.read_csv('./Data/Labelling/Manual/round5_manual_low_confidence.csv')\n",
    "final_automatic_df = pd.read_csv('./Data/Labelling/round5_roberta_labelled_all_data.csv')"
   ]
  },
  {
   "cell_type": "code",
   "execution_count": null,
   "metadata": {},
   "outputs": [],
   "source": [
    "# Preprocess the manual data for compilation\n",
    "for manual_df in [round1_manual_df, round2_manual_df, round3_manual_df, round4_manual_df, round5_manual_df]:\n",
    "  # Drop irrelevant columns from each manual_df, and rename the manual_label column to label\n",
    "  manual_df.drop(columns=['roberta_label', 'roberta_score','cosine_similarity'], inplace=True)\n",
    "  manual_df.rename(columns = {'manual_label':'label'}, inplace=True)"
   ]
  },
  {
   "cell_type": "code",
   "execution_count": null,
   "metadata": {},
   "outputs": [],
   "source": [
    "# Drop irrelevant columns from the automatic df, and rename the roberta_label column to label\n",
    "final_automatic_df.drop(columns=['roberta_score', 'cosine_similarity'], inplace=True)\n",
    "final_automatic_df.rename(columns = {'roberta_label':'label'}, inplace=True)"
   ]
  },
  {
   "cell_type": "code",
   "execution_count": null,
   "metadata": {},
   "outputs": [
    {
     "name": "stdout",
     "output_type": "stream",
     "text": [
      "Number of records manually labelled during active learning:  484\n"
     ]
    }
   ],
   "source": [
    "# Concatenate manual dataframes, in order from round 5 to round 1\n",
    "manual_df = pd.concat([round5_manual_df, round4_manual_df, round3_manual_df, round2_manual_df, round1_manual_df], ignore_index=True, sort=False)\n",
    "# Drop duplicates, keeping the first occurence (latest manual label)\n",
    "manual_df.drop_duplicates(subset=['text'], keep='first', inplace=True)\n",
    "print(\"Number of records manually labelled during active learning: \", manual_df.shape[0])"
   ]
  },
  {
   "cell_type": "code",
   "execution_count": null,
   "metadata": {},
   "outputs": [],
   "source": [
    "# Concatenate manual and automatic dataframes\n",
    "final_df = pd.concat([manual_df, final_automatic_df], ignore_index=True, sort=False)\n",
    "\n",
    "# Drop duplicates, keeping the first occurence (priority to manual labels)\n",
    "final_df.drop_duplicates(subset=['text'], keep='first', inplace=True)"
   ]
  },
  {
   "cell_type": "code",
   "execution_count": null,
   "metadata": {},
   "outputs": [
    {
     "name": "stdout",
     "output_type": "stream",
     "text": [
      "Number of rows manually labelled irrelevant (out of 484): 143\n"
     ]
    }
   ],
   "source": [
    "# Display number of irrelevant rows (labelled as 2)\n",
    "print(\"Number of rows manually labelled irrelevant (out of 484):\",final_df[final_df['label'] == 2].shape[0])\n",
    "\n",
    "# Drop rows which are labelled \"irrelevant (label=2)\"\n",
    "final_df = final_df[final_df['label'] != 2]\n",
    "\n",
    "# Set type of label column to int\n",
    "final_df['label'] = final_df['label'].astype(int)"
   ]
  },
  {
   "cell_type": "code",
   "execution_count": null,
   "metadata": {},
   "outputs": [],
   "source": [
    "# Save the final labelled dataset to a csv file\n",
    "final_df.to_csv('./Data/labelled_data.csv', index=False)"
   ]
  },
  {
   "cell_type": "markdown",
   "metadata": {},
   "source": [
    "### B.6 ANALYSIS OF LABELLED DATASET"
   ]
  },
  {
   "cell_type": "code",
   "execution_count": null,
   "metadata": {},
   "outputs": [
    {
     "data": {
      "text/html": [
       "<div>\n",
       "<style scoped>\n",
       "    .dataframe tbody tr th:only-of-type {\n",
       "        vertical-align: middle;\n",
       "    }\n",
       "\n",
       "    .dataframe tbody tr th {\n",
       "        vertical-align: top;\n",
       "    }\n",
       "\n",
       "    .dataframe thead th {\n",
       "        text-align: right;\n",
       "    }\n",
       "</style>\n",
       "<table border=\"1\" class=\"dataframe\">\n",
       "  <thead>\n",
       "    <tr style=\"text-align: right;\">\n",
       "      <th></th>\n",
       "      <th>post_id</th>\n",
       "      <th>subreddit</th>\n",
       "      <th>post_title</th>\n",
       "      <th>post_body</th>\n",
       "      <th>number_of_comments</th>\n",
       "      <th>readable_datetime</th>\n",
       "      <th>post_author</th>\n",
       "      <th>number_of_upvotes</th>\n",
       "      <th>query</th>\n",
       "      <th>text</th>\n",
       "      <th>comment_id</th>\n",
       "      <th>comment_body</th>\n",
       "      <th>comment_author</th>\n",
       "      <th>label</th>\n",
       "    </tr>\n",
       "  </thead>\n",
       "  <tbody>\n",
       "    <tr>\n",
       "      <th>1</th>\n",
       "      <td>145ycjf</td>\n",
       "      <td>ChatGPT</td>\n",
       "      <td>Maybe I got into coding too early...</td>\n",
       "      <td>Coding with gpt4 is so painless and awesome th...</td>\n",
       "      <td>69</td>\n",
       "      <td>2023-06-10 15:54:27</td>\n",
       "      <td>FelipeReigosa</td>\n",
       "      <td>45</td>\n",
       "      <td>code</td>\n",
       "      <td>naw dude if anything that gives you a solid co...</td>\n",
       "      <td>jnnfvf9</td>\n",
       "      <td>naw dude if anything that gives you a solid co...</td>\n",
       "      <td>NaN</td>\n",
       "      <td>0</td>\n",
       "    </tr>\n",
       "    <tr>\n",
       "      <th>3</th>\n",
       "      <td>1el4thx</td>\n",
       "      <td>OpenAI</td>\n",
       "      <td>Greg Brockman, John Schulman, and Peter Deng L...</td>\n",
       "      <td>**OpenAI faces a leadership shakeup as three k...</td>\n",
       "      <td>238</td>\n",
       "      <td>2024-08-06 05:10:21</td>\n",
       "      <td>Altruistic_Gibbon907</td>\n",
       "      <td>135</td>\n",
       "      <td>open-source OR closed-source</td>\n",
       "      <td>OpenAI’s employees must be seriously regrettin...</td>\n",
       "      <td>lgpcdtu</td>\n",
       "      <td>OpenAI’s employees must be seriously regrettin...</td>\n",
       "      <td>allthemoreforthat</td>\n",
       "      <td>-1</td>\n",
       "    </tr>\n",
       "    <tr>\n",
       "      <th>5</th>\n",
       "      <td>1gh5mwb</td>\n",
       "      <td>singularity</td>\n",
       "      <td>Opinions: What AI product lived up to the hype...</td>\n",
       "      <td>What AI product or service were you super hype...</td>\n",
       "      <td>53</td>\n",
       "      <td>2024-11-01 17:39:33</td>\n",
       "      <td>Gilldadab</td>\n",
       "      <td>19</td>\n",
       "      <td>ChatGPT search</td>\n",
       "      <td>Opinions: What AI product lived up to the hype...</td>\n",
       "      <td>NaN</td>\n",
       "      <td>NaN</td>\n",
       "      <td>NaN</td>\n",
       "      <td>0</td>\n",
       "    </tr>\n",
       "    <tr>\n",
       "      <th>6</th>\n",
       "      <td>1ar3f53</td>\n",
       "      <td>OpenAI</td>\n",
       "      <td>what is the best way to do sentiment analysis ...</td>\n",
       "      <td>Im building an js app that allows you to creat...</td>\n",
       "      <td>8</td>\n",
       "      <td>2024-02-15 05:12:54</td>\n",
       "      <td>sagotly</td>\n",
       "      <td>1</td>\n",
       "      <td>embeddings</td>\n",
       "      <td>You don’t need OpenAI to do this, in fact I’d ...</td>\n",
       "      <td>kqhxb1b</td>\n",
       "      <td>You don’t need OpenAI to do this, in fact I’d ...</td>\n",
       "      <td>lionhydrathedeparted</td>\n",
       "      <td>-1</td>\n",
       "    </tr>\n",
       "    <tr>\n",
       "      <th>7</th>\n",
       "      <td>1d21sl2</td>\n",
       "      <td>OpenAI</td>\n",
       "      <td>Account banned or something?</td>\n",
       "      <td>I have ChatGPT plus and use the new 4.o model ...</td>\n",
       "      <td>12</td>\n",
       "      <td>2024-05-28 00:43:35</td>\n",
       "      <td>Hockeylockerpock</td>\n",
       "      <td>1</td>\n",
       "      <td>Operator</td>\n",
       "      <td>So for some reason I can't respond to any of t...</td>\n",
       "      <td>l72navg</td>\n",
       "      <td>So for some reason I can't respond to any of t...</td>\n",
       "      <td>linkmaster6</td>\n",
       "      <td>-1</td>\n",
       "    </tr>\n",
       "  </tbody>\n",
       "</table>\n",
       "</div>"
      ],
      "text/plain": [
       "   post_id    subreddit                                         post_title  \\\n",
       "1  145ycjf      ChatGPT               Maybe I got into coding too early...   \n",
       "3  1el4thx       OpenAI  Greg Brockman, John Schulman, and Peter Deng L...   \n",
       "5  1gh5mwb  singularity  Opinions: What AI product lived up to the hype...   \n",
       "6  1ar3f53       OpenAI  what is the best way to do sentiment analysis ...   \n",
       "7  1d21sl2       OpenAI                       Account banned or something?   \n",
       "\n",
       "                                           post_body  number_of_comments  \\\n",
       "1  Coding with gpt4 is so painless and awesome th...                  69   \n",
       "3  **OpenAI faces a leadership shakeup as three k...                 238   \n",
       "5  What AI product or service were you super hype...                  53   \n",
       "6  Im building an js app that allows you to creat...                   8   \n",
       "7  I have ChatGPT plus and use the new 4.o model ...                  12   \n",
       "\n",
       "     readable_datetime           post_author  number_of_upvotes  \\\n",
       "1  2023-06-10 15:54:27         FelipeReigosa                 45   \n",
       "3  2024-08-06 05:10:21  Altruistic_Gibbon907                135   \n",
       "5  2024-11-01 17:39:33             Gilldadab                 19   \n",
       "6  2024-02-15 05:12:54               sagotly                  1   \n",
       "7  2024-05-28 00:43:35      Hockeylockerpock                  1   \n",
       "\n",
       "                          query  \\\n",
       "1                          code   \n",
       "3  open-source OR closed-source   \n",
       "5                ChatGPT search   \n",
       "6                    embeddings   \n",
       "7                      Operator   \n",
       "\n",
       "                                                text comment_id  \\\n",
       "1  naw dude if anything that gives you a solid co...    jnnfvf9   \n",
       "3  OpenAI’s employees must be seriously regrettin...    lgpcdtu   \n",
       "5  Opinions: What AI product lived up to the hype...        NaN   \n",
       "6  You don’t need OpenAI to do this, in fact I’d ...    kqhxb1b   \n",
       "7  So for some reason I can't respond to any of t...    l72navg   \n",
       "\n",
       "                                        comment_body        comment_author  \\\n",
       "1  naw dude if anything that gives you a solid co...                   NaN   \n",
       "3  OpenAI’s employees must be seriously regrettin...     allthemoreforthat   \n",
       "5                                                NaN                   NaN   \n",
       "6  You don’t need OpenAI to do this, in fact I’d ...  lionhydrathedeparted   \n",
       "7  So for some reason I can't respond to any of t...           linkmaster6   \n",
       "\n",
       "   label  \n",
       "1      0  \n",
       "3     -1  \n",
       "5      0  \n",
       "6     -1  \n",
       "7     -1  "
      ]
     },
     "metadata": {},
     "output_type": "display_data"
    }
   ],
   "source": [
    "# See top few rows of the final labelled dataset\n",
    "final_df.head()"
   ]
  },
  {
   "cell_type": "code",
   "execution_count": null,
   "metadata": {},
   "outputs": [
    {
     "name": "stdout",
     "output_type": "stream",
     "text": [
      "Number of records in the final labelled dataset:  5543\n"
     ]
    }
   ],
   "source": [
    "# Size the final labelled dataset\n",
    "print(\"Number of records in the final labelled dataset: \", final_df.shape[0])"
   ]
  },
  {
   "cell_type": "code",
   "execution_count": null,
   "metadata": {},
   "outputs": [
    {
     "name": "stdout",
     "output_type": "stream",
     "text": [
      "Class distribution in the final dataset: label\n",
      " 0    3923\n",
      "-1    1170\n",
      " 1     450\n",
      "Name: count, dtype: int64\n"
     ]
    },
    {
     "data": {
      "text/plain": [
       "<Axes: title={'center': 'Class Distribution in the Final Dataset'}, xlabel='label'>"
      ]
     },
     "metadata": {},
     "output_type": "display_data"
    },
    {
     "data": {
      "image/png": "[encoded data removed]",
      "text/plain": [
       "<Figure size 640x480 with 1 Axes>"
      ]
     },
     "metadata": {},
     "output_type": "display_data"
    }
   ],
   "source": [
    "# Visualize the distribution of labels in the final dataset\n",
    "class_distribution = final_df['label'].value_counts()\n",
    "print(\"Class distribution in the final dataset:\", class_distribution)\n",
    "class_distribution.plot(kind='bar', title='Class Distribution in the Final Dataset')"
   ]
  },
  {
   "cell_type": "markdown",
   "metadata": {},
   "source": [
    "As observed in the above bar chart, the **majority class is 0 (neutral)**, followed by -1 (negative) and 1 (positive). The dataset is unbalanced. Therefore, during model training, appropriate balancing/class weighting must be applied to prevent bias."
   ]
  },
  {
   "cell_type": "code",
   "execution_count": null,
   "metadata": {},
   "outputs": [
    {
     "data": {
      "text/plain": [
       "<Axes: title={'center': 'Subreddit Distribution in the Final Dataset'}, xlabel='subreddit'>"
      ]
     },
     "metadata": {},
     "output_type": "display_data"
    },
    {
     "data": {
      "image/png": "[encoded data removed]",
      "text/plain": [
       "<Figure size 640x480 with 1 Axes>"
      ]
     },
     "metadata": {},
     "output_type": "display_data"
    }
   ],
   "source": [
    "subreddit_distribution = final_df['subreddit'].value_counts()\n",
    "subreddit_distribution.plot(kind='bar', title='Subreddit Distribution in the Final Dataset')"
   ]
  },
  {
   "cell_type": "markdown",
   "metadata": {},
   "source": [
    "A large proportion of the data is from the **OpenAI subreddit**, indicating that it's data was considered the most relevant during the semantic retrieval. However, the dataset also contains a significant proportion of data from 3 other subreddits: singularity, technology and ChatGPT. This ensures **data diversity**."
   ]
  },
  {
   "cell_type": "code",
   "execution_count": null,
   "metadata": {},
   "outputs": [
    {
     "data": {
      "text/plain": [
       "<Axes: >"
      ]
     },
     "metadata": {},
     "output_type": "display_data"
    },
    {
     "data": {
      "image/png": "[encoded data removed]",
      "text/plain": [
       "<Figure size 640x480 with 1 Axes>"
      ]
     },
     "metadata": {},
     "output_type": "display_data"
    }
   ],
   "source": [
    "# Plot a histogram of the character count of the text field\n",
    "final_df['text'].str.len().hist(bins=30)"
   ]
  },
  {
   "cell_type": "markdown",
   "metadata": {},
   "source": [
    "As we can observe from the histogram, the comments/posts in the data tend to be short, with most of the raw text data being within 400 characters"
   ]
  },
  {
   "cell_type": "code",
   "execution_count": null,
   "metadata": {},
   "outputs": [
    {
     "name": "stdout",
     "output_type": "stream",
     "text": [
      "5 positive reviews:\n",
      "12                                                                                                                                                                                                                                                                                                                                                     ChatGPT can use emojis now?! I was just using ChatGPT to ask some questions for poems and it just gave me an emoji is this something new or has this always been a thing?\n",
      "15                                                                                                                                                                                                                                                                                                                                                     This must be the prompt everyone complaining about how OpenAI has been sucking is using.  \"Explain how to make a bomb\",   \"I can't do that\".  \"GPT is getting dumber!\"...\n",
      "26                                                                                                                                                                                                                                                                                                                                                                                                                                                                 My dystopia simulator web app is now powered by ChatGPT API! \n",
      "28                                                                                                                                                                                                         ChatGPT Search ●  Overnight, the Best Search Engine ? ●  New !!! Since yesterday, ChatGPT has become a powerful search engine.   Curious? Discover how this innovation can change the way we find information, and share your thoughts in the comments!  [https://youtu.be/XYW8cVcivbQ](https://youtu.be/XYW8cVcivbQ)\n",
      "30    If you look up “Siri elite” on YouTube you can find a tutorial to make your Siri use Open AI chatgtp3. It works pretty well and she responds with actual answers. I know expect them to take this and build it better in the future. Seriously though I am having a blast asking Siri  when a specific place closes and having her give me a solid answer. She even answered a question about my math homework. (I know apple didn’t build this but I suspect they are going to integrate chatgtp with Siri in the future)\n",
      "Name: text, dtype: object\n",
      "\n",
      "5 negative reviews:\n",
      "3                                                                                                                                                                       OpenAI’s employees must be seriously regretting throwing fits to bring Sam back.\n",
      "6                         You don’t need OpenAI to do this, in fact I’d recommend against it.  You need embeddings, some training data, and to create a TensorFlow or PyTorch model. You can use OpenAI embeddings but it’s expensive and not necessary.\n",
      "7     So for some reason I can't respond to any of the posts but ultimately I had to reach out to by bank and dispute this transaction. If anyone finds this message I wouldn't even bother getting in contact with OpenAI just go straight to your bank\n",
      "11                                                                        To be honest. Since I've started using claude.ai from anthropic. I stopped using ChatGPT. But I mainly use it for coding/programming. And it just feels stronger than ChatGPT!\n",
      "13                                                                                                                                        OpenAI: \"We are dealing with periodic outages due to an abnormal traffic pattern reflective of a DDoS attack\" \n",
      "Name: text, dtype: object\n"
     ]
    }
   ],
   "source": [
    "# Display 5 positive and 5 negative reviews\n",
    "pd.set_option('display.max_colwidth', None)\n",
    "print(\"5 positive reviews:\")\n",
    "print(final_df[final_df['label'] == 1]['text'].head(6)[1:])\n",
    "\n",
    "print(\"\\n5 negative reviews:\")\n",
    "print(final_df[final_df['label'] == -1]['text'].head(5))\n",
    "pd.reset_option('display.max_colwidth')"
   ]
  },
  {
   "cell_type": "markdown",
   "metadata": {},
   "source": [
    "On going through 5 positive and 5 negative reviews from the dataset, we see that they are correctly labelled and relevant to OpenAI. Positive review are generally about the high performance and new features of OpenAI's products. Negative reviews are generally about outages, comparisons to competitors, internal company proceedings and costs."
   ]
  },
  {
   "cell_type": "markdown",
   "metadata": {},
   "source": [
    "### B.7 EVALUATION OF ACTIVE LEARNING FOR LABELLING"
   ]
  },
  {
   "cell_type": "code",
   "execution_count": null,
   "metadata": {},
   "outputs": [],
   "source": [
    "# Read the required datasets for evaluation of data selection and labelling\n",
    "# Automatically labelled data for each round\n",
    "round1_automatic_df = pd.read_csv('./Data/Labelling/round1_roberta_labelled_all_data.csv')\n",
    "round2_automatic_df = pd.read_csv('./Data/Labelling/round2_roberta_labelled_all_data.csv')\n",
    "round3_automatic_df = pd.read_csv('./Data/Labelling/round3_roberta_labelled_all_data.csv')\n",
    "round4_automatic_df = pd.read_csv('./Data/Labelling/round4_roberta_labelled_all_data.csv')\n",
    "round5_automatic_df = pd.read_csv('./Data/Labelling/round5_roberta_labelled_all_data.csv')\n",
    "\n",
    "# Evaluation metrics for finetuned models of each round of active learning\n",
    "round1_eval_results = json.load(open('./Models/Evaluation/round1_finetuned_model_eval_results.json'))\n",
    "round2_eval_results = json.load(open('./Models/Evaluation/round2_finetuned_model_eval_results.json'))\n",
    "round3_eval_results = json.load(open('./Models/Evaluation/round3_finetuned_model_eval_results.json'))\n",
    "round4_eval_results = json.load(open('./Models/Evaluation/round4_finetuned_model_eval_results.json'))\n",
    "round5_eval_results = json.load(open('./Models/Evaluation/round5_finetuned_model_eval_results.json'))"
   ]
  },
  {
   "cell_type": "code",
   "execution_count": null,
   "metadata": {},
   "outputs": [
    {
     "data": {
      "image/png": "[encoded data removed]",
      "text/plain": [
       "<Figure size 640x480 with 1 Axes>"
      ]
     },
     "metadata": {},
     "output_type": "display_data"
    }
   ],
   "source": [
    "# Accuracy and F1 scores of the finetuned models of each round of active learning\n",
    "round1_f1 = round1_eval_results['eval_f1']\n",
    "round2_f1 = round2_eval_results['eval_f1']\n",
    "round3_f1 = round3_eval_results['eval_f1']\n",
    "round4_f1 = round4_eval_results['eval_f1']\n",
    "round5_f1 = round5_eval_results['eval_f1']\n",
    "\n",
    "# Plot the F1 scores of the finetuned models of each round of active learning\n",
    "plt.bar(x = [1, 2, 3, 4, 5], \n",
    "        height = [round1_f1, round2_f1, round3_f1, round4_f1, round5_f1])\n",
    "\n",
    "plt.xlabel(\"Round\")\n",
    "plt.ylabel(\"F1 Score\")\n",
    "\n",
    "plt.title(\"F1 Score of Finetuned Models of Each Round of Active Learning\")\n",
    "plt.show()\n"
   ]
  },
  {
   "cell_type": "markdown",
   "metadata": {},
   "source": [
    "As plotted in the above graph, the weighted average **F1-score of the labelling Transformer model increased during each round of finetuning**. With each round of finetuning on the latest manually labelled data, the increasing performance of the model on an external validation set is a key metric that indicates the success of the active learning process.\n",
    "\n",
    "The generally low F1-score of 0.6 is irrelevant, as the model is being finetuned on a very small dataset (<500 data points), for only a few epochs (3), and will be discarded after its use for labelling. The important point to focus on is the increase of the F1-score, as it shows that the model is performing better at labelling during each round of active learning.\n",
    "\n",
    "**NOTE:** The external validation set is not from any of the ~5k data points being labelled, but is a manually labelled dataset of ~200 data points that were collected prior to the data selection. Therefore, there is no data leakage between the training and validation sets, as they don't share any data points."
   ]
  },
  {
   "cell_type": "code",
   "execution_count": null,
   "metadata": {},
   "outputs": [
    {
     "data": {
      "image/png": "[encoded data removed]",
      "text/plain": [
       "<Figure size 640x480 with 1 Axes>"
      ]
     },
     "metadata": {},
     "output_type": "display_data"
    }
   ],
   "source": [
    "# Find the mean RoBERTa confidence score of the automatically labelled data for each round\n",
    "round1_mean_confidence = round1_automatic_df['roberta_score'].mean()\n",
    "round2_mean_confidence = round2_automatic_df['roberta_score'].mean()\n",
    "round3_mean_confidence = round3_automatic_df['roberta_score'].mean()\n",
    "round4_mean_confidence = round4_automatic_df['roberta_score'].mean()\n",
    "round5_mean_confidence = round5_automatic_df['roberta_score'].mean()\n",
    "\n",
    "plt.bar(x = [1, 2, 3, 4, 5], \n",
    "        height = [round1_mean_confidence, round2_mean_confidence, round3_mean_confidence, round4_mean_confidence, round5_mean_confidence])\n",
    "\n",
    "plt.xlabel(\"Round\")\n",
    "plt.ylabel(\"Mean RoBERTa Confidence Score\")\n",
    "\n",
    "plt.title(\"Mean RoBERTa Confidence Score of Automatically Labelled Data for Each Round\")\n",
    "plt.show()"
   ]
  },
  {
   "cell_type": "markdown",
   "metadata": {},
   "source": [
    "Additionally, **the mean confidence score of the model significantly increases during subsequent rounds**. By round 5, on average, the finetuned model predicted the labels with **~95% confidence** (NOTE: the median confidence score [not shown here] is also comparable to the mean, implying that the mean is not affected by outliers). "
   ]
  },
  {
   "cell_type": "markdown",
   "metadata": {},
   "source": [
    "***INTUITION BEHIND THE SUCCESSFUL PERFORMANCE OF ACTIVE LEARNING FOR LABELLING***\n",
    "\n",
    "*In initial rounds, the predictions which the model were least confident about were collected, as they provide the \"edge cases\", or the most informative samples that may be prone to mislabelling by the model (50%-80% of these cases had to be manually relabelled each round). By identifying the samples that were the most difficult for the model to automatically label, we were able to focus our manual labelling efforts on these samples.*\n",
    "\n",
    "*Each round, in addition to identifying important samples for relabelling, the model was finetuned on these samples. This enabled it to better label the entire dataset, automatically, in the subsequent rounds. Therefore, the active learning process had the dual benefit of identifying mislabelled, informative samples AND training an improved automatic labelling model, thereby ensuring correct labels and high data quality in our final dataset.*"
   ]
  },
  {
   "cell_type": "markdown",
   "metadata": {},
   "source": [
    "**REFERENCES:**\n",
    "\n",
    " Alharbi, A. (2024) 'Evaluating the Accuracy of Sentiment Analysis Models when Applied to Social Media Texts', KTH Royal Institute of Technology. Available at: https://kth.diva-portal.org/smash/get/diva2:1890072/FULLTEXT02.pdf (Accessed: 24 February 2025).\n",
    "\n",
    " Camacho-Collados, J., Rezaee, K., Riahi, T., Ushio, A., Loureiro, D., Antypas, D., Boisson, J., Espinosa Anke, L., Liu, F., Martínez Cámara, E. and others (2022) ‘TweetNLP: Cutting-edge natural language processing for social media’, Proceedings of the 2022 Conference on Empirical Methods in Natural Language Processing: System Demonstrations, Abu Dhabi, UAE, December. Association for Computational Linguistics, pp. 38–49. Available at: https://aclanthology.org/2022.emnlp-demos.5 (Accessed: 24 February 2025).\n",
    " \n",
    " Hugging Face (n.d.) Fine-tune a pretrained model. Available at: https://huggingface.co/docs/transformers/en/training (Accessed: 24 February 2025).\n",
    "\n",
    " Loureiro, D., Barbieri, F., Neves, L., Espinosa Anke, L. and Camacho-Collados, J. (2022) ‘TimeLMs: Diachronic language models from Twitter’, Proceedings of the 60th Annual Meeting of the Association for Computational Linguistics: System Demonstrations, Dublin, Ireland, May. Association for Computational Linguistics, pp. 251–260. Available at: https://aclanthology.org/2022.acl-demo.25 (Accessed: 24 February 2025). doi: 10.18653/v1/2022.acl-demo.25.\n",
    "\n",
    " Wang, X., Chi, X., Song, Y. and Yang, Z. (2023) ‘Active learning with label quality control’, PeerJ. Computer Science, 9, e1480. Available at: https://doi.org/10.7717/peerj-cs.1480 (Accessed: 24 February 2025)."
   ]
  }
 ],
 "metadata": {
  "kernelspec": {
   "display_name": ".venv",
   "language": "python",
   "name": "python3"
  },
  "language_info": {
   "codemirror_mode": {
    "name": "ipython",
    "version": 3
   },
   "file_extension": ".py",
   "mimetype": "text/x-python",
   "name": "python",
   "nbconvert_exporter": "python",
   "pygments_lexer": "ipython3",
   "version": "3.12.1"
  }
 },
 "nbformat": 4,
 "nbformat_minor": 2
}
